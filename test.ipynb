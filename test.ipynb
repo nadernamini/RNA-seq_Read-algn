{
 "cells": [
  {
   "cell_type": "heading",
   "metadata": {
    "collapsed": true
   },
   "level": 1,
   "source": [
    "Testing"
   ]
  },
  {
   "cell_type": "code",
   "execution_count": 1,
   "metadata": {},
   "outputs": [],
   "source": [
    "from project_tiffany import *\n",
    "from data import *\n",
    "from time import time"
   ]
  },
  {
   "cell_type": "code",
   "execution_count": 2,
   "metadata": {},
   "outputs": [],
   "source": [
    "reads = read_reads()\n",
    "genome_sequence = read_genome()\n",
    "known_genes = read_known_genes()"
   ]
  },
  {
   "cell_type": "code",
   "execution_count": 3,
   "metadata": {},
   "outputs": [
    {
     "name": "stdout",
     "output_type": "stream",
     "text": [
      "time to run Aligner.__init__: 220.53094673156738\n"
     ]
    }
   ],
   "source": [
    "t = -time()\n",
    "aligner = Aligner(genome_sequence, known_genes)\n",
    "t += time()\n",
    "\n",
    "print(\"time to run Aligner.__init__: \" + str(t))"
   ]
  },
  {
   "cell_type": "code",
   "execution_count": 5,
   "metadata": {
    "collapsed": false
   },
   "outputs": [
    {
     "name": "stdout",
     "output_type": "stream",
     "text": [
      "\nAligned to transcriptome\nATTACTCTTGGGAATGAAATCCTATCTATATAAGCTGTGGTTTGAAATCC\nATTACTCTTGGGAAGGAAATCCTATCAATATAAGTTGTGATGTGAAATCG\n[(0, 10359306, 50)]\ntime to align read: 1.5048072338104248\n"
     ]
    },
    {
     "name": "stdout",
     "output_type": "stream",
     "text": [
      "\nAligned to transcriptome\nATGGAGAGAGCTCAATGCTTGAGAAAAGGAATTCTGTCCTTTGAAAGGTC\nATGGAGAGAGCTCAATGCTTGAGAAAAGGAATTCTGTCCTTTGAAAGGTC\n[(0, 6390780, 50)]\ntime to align read: 1.1409227848052979\n"
     ]
    },
    {
     "name": "stdout",
     "output_type": "stream",
     "text": [
      "\nUnaligned\nGTGACTTAGCTGCAAAACCTACTGCGAGTGATGCCGTGGCTCCGATAGGT\n[]\ntime to align read: 1.2237517833709717\n"
     ]
    },
    {
     "name": "stdout",
     "output_type": "stream",
     "text": [
      "\nUnaligned\nTCTCGGGGTGAATACCTCTTATCGCGATACCTCCGGGGACTAGTGCGCCA\n[]\ntime to align read: 2.374039888381958\n"
     ]
    },
    {
     "name": "stdout",
     "output_type": "stream",
     "text": [
      "\nAligned to transcriptome\nTGGAAAAGAGTCGAATGGAGCAGGAAATGATAGGATCTAAGATTAGAAAA\nTGGAAAAGAGTAGAATGGTGCAAGAAATTATAGGAACTAAGATTAGAAAA\n[(0, 8250636, 50)]\ntime to align read: 1.6065700054168701\n"
     ]
    },
    {
     "name": "stdout",
     "output_type": "stream",
     "text": [
      "\nUnaligned\nCGGACATCTTCCTGACCTGGTAATATTTAGGTGAGAACGATGGTTGGGGG\n[]\ntime to align read: 1.3472650051116943\n"
     ]
    },
    {
     "name": "stdout",
     "output_type": "stream",
     "text": [
      "\nAligned to transcriptome\nGGTTCCCGCACAATGATGACATAGAAATCTGTAAGGTGTTGCATATTTCT\nGGTCCCCGCACAAGGATGACATAGAAATCTGTAAGGTGTTGCATATTTCT\n[(0, 1996639, 50)]\ntime to align read: 1.1275651454925537\n"
     ]
    },
    {
     "name": "stdout",
     "output_type": "stream",
     "text": [
      "\nUnaligned\nACGAGATTCTCTTATGCACACTCATTACCAAACTGCGACCGGGCTCAGTA\n[]\ntime to align read: 1.0886263847351074\n"
     ]
    },
    {
     "name": "stdout",
     "output_type": "stream",
     "text": [
      "\nUnaligned\nTAATCAGAAGGTGGATCAACTGGAAGATGTGCCTCCTCCAAAGAGCCGTA\n[]\ntime to align read: 1.098876953125\n"
     ]
    },
    {
     "name": "stdout",
     "output_type": "stream",
     "text": [
      "\nAligned to transcriptome\nTGTCAGTTTATGACAAGTATTGCAGCAGGAAAAACCCTAGATGAACAGTT\nTGTCAGTTTTTGACAAGAATTGCAGCAGGAAAAACCCTTGATGCACAGTT\n[(0, 2725406, 50)]\ntime to align read: 1.182675838470459\n"
     ]
    },
    {
     "name": "stdout",
     "output_type": "stream",
     "text": [
      "\nUnaligned\nATAGATACATTTGATCTATGTATACACTGTCGTCTATGCATCCTGTTATT\n[]\ntime to align read: 1.0275459289550781\n"
     ]
    },
    {
     "name": "stdout",
     "output_type": "stream",
     "text": [
      "\nAligned to transcriptome\nGTCTGTCACCTGAGTGTGACTTGCAACCAAGCACATGAAGGAATTCAGTG\nGTCTGTCACCTGAGTGTGACTTGCAACCAAGCACATGTGGGAATTCAGTG\n[(0, 2720598, 50)]\ntime to align read: 1.0154860019683838\n"
     ]
    },
    {
     "name": "stdout",
     "output_type": "stream",
     "text": [
      "\nAligned to transcriptome\nGACTGTGGCGATCATGTTATACCTGTACCTCAGGATCACTAGCACCGTGC\nGACTGTGGCCATCATACTATACCTGTACCTCAGGATCACTAGCACCGTGC\n[(0, 6245504, 50)]\ntime to align read: 1.0027539730072021\n"
     ]
    },
    {
     "name": "stdout",
     "output_type": "stream",
     "text": [
      "\nUnaligned\nGGAAGTCACTGGGAGAAACAGAGAAAGAGTGTGGCTGTCTCCCCATATCT\n[]\ntime to align read: 1.2200751304626465\n"
     ]
    },
    {
     "name": "stdout",
     "output_type": "stream",
     "text": [
      "\nAligned to transcriptome\nATTAGCGTGGCTCCTGTGCAAGGAAGACACACAAATTTGTGATGTGTTCC\nATTAGCGTGGCTCCTGTGCAAGGATGACACACAAATTTGTGATGTGTTCC\n[(0, 6380589, 50)]\ntime to align read: 1.2934319972991943\n"
     ]
    },
    {
     "name": "stdout",
     "output_type": "stream",
     "text": [
      "\nUnaligned\nCCTGGTTTGTAGTGTTGCAATACCACTCGCTGTTGGGCCACCACTGTGGT\n[]\ntime to align read: 1.1852810382843018\n"
     ]
    },
    {
     "name": "stdout",
     "output_type": "stream",
     "text": [
      "\nAligned to transcriptome\nGTAAAGTGTGAGCTTCTCCTCACACCTTTATAGAAGACATCTGAGAACCT\nGTAAAGTGTCAGCTTCTCCTCACACCTTTATAGTAGACATCTGAGAACCT\n[(0, 3093018, 50)]\ntime to align read: 1.1205527782440186\n"
     ]
    },
    {
     "name": "stdout",
     "output_type": "stream",
     "text": [
      "\nUnaligned\nAGAGCATATTAGTAGTGGTAGCAGTAGCATTTACCTACAGCTAATGCAAA\n[]\ntime to align read: 1.0651216506958008\n"
     ]
    },
    {
     "name": "stdout",
     "output_type": "stream",
     "text": [
      "\nAligned to transcriptome\nAAGCATGTACACTAAAAAGGGAGTGACACAGAGAAAATTAGAAGGGCCTT\nAAGCATGTACACTAAAATGGGAGTGACACAGAGAAAATTAGCAGGGCCTT\n[(0, 4563295, 50)]\ntime to align read: 0.9917807579040527\n"
     ]
    },
    {
     "name": "stdout",
     "output_type": "stream",
     "text": [
      "\nAligned to transcriptome\nGAAAACTTCCATCTGATAGATAAAGCCAGATGATAGGGAACACAAGGTTA\nGAAAACTTCCATGTGATAGAGAAAGCCAGATGATAGGGAACACAAGGTTA\n[(0, 5593022, 50)]\ntime to align read: 1.0412280559539795\n"
     ]
    },
    {
     "name": "stdout",
     "output_type": "stream",
     "text": [
      "\nAligned to transcriptome\nCAGTGGTTCCAGCTCTGTTTGCTGACATAAAATAATCCATTCTGGGGAAA\nCAGTGGTTCCAGCTCTGTTTGATGACATAAAATAATCCATTCTGGAGAAA\n[(0, 9547014, 50)]\ntime to align read: 1.0158069133758545\n"
     ]
    },
    {
     "name": "stdout",
     "output_type": "stream",
     "text": [
      "\nAligned to transcriptome\nGTTGAGGTAGTAGGTTGTTTGGTTTAGAGTTACACCCTGGGAGTTAAGTG\nGTTGAGGTAGTAGGTTGTATGGTTTAGAGTTACACCCTGGGAGTTAACTG\n[(0, 5488835, 50)]\ntime to align read: 0.9793558120727539\n"
     ]
    },
    {
     "name": "stdout",
     "output_type": "stream",
     "text": [
      "\nAligned to transcriptome\nAATTGAGTACAGCAGGTTCAGGCATAGCTTCCACGAAGAAACAACACCTA\nAATTGTGTACAGCAGGTTCAGGCATGGATTCCACGAAGAAACAACACCTA\n[(0, 8543038, 50)]\ntime to align read: 1.1937780380249023\n"
     ]
    },
    {
     "name": "stdout",
     "output_type": "stream",
     "text": [
      "\nAligned to transcriptome\nTCTGCCCATGTTACTCAAAACGTGATTCACTACAATTATTCATTCAACAT\nTCTGCCCATGTTACTCAAAATGTGATTCAATTCAGTTATTCATTCAACAT\n[(0, 4295669, 50)]\ntime to align read: 1.3892672061920166\n"
     ]
    },
    {
     "name": "stdout",
     "output_type": "stream",
     "text": [
      "\nUnaligned\nAATTCAGATTAGGGAAGAAATTATTCAAGATAGACTCCTAGAAATACAAG\n[]\ntime to align read: 2.7646632194519043\n"
     ]
    },
    {
     "name": "stdout",
     "output_type": "stream",
     "text": [
      "\nAligned to transcriptome\nAGATCAGCATGGTCCCCGCATAAGGATGACATAGAAATCTGAAAGGTGTT\nAGATCAGCATGGTCCCCGCACAAGGATGACATAGAAATCTGTAAGGTGTT\n[(0, 1996629, 50)]\ntime to align read: 1.5329692363739014\n"
     ]
    },
    {
     "name": "stdout",
     "output_type": "stream",
     "text": [
      "\nUnaligned\nATAATTTGCGTGCCTACAATCTTGTGGGAAAAAATATCTGTAATATTTTT\n[]\ntime to align read: 1.1398818492889404\n"
     ]
    },
    {
     "name": "stdout",
     "output_type": "stream",
     "text": [
      "\nAligned to transcriptome\nAACCTTACCTCCCCTGTCACCAAGTTCTAGGGGCGCATCGTGCTGAGCTT\nAACCTTACCTCCCCTGTCACTGAGTTCTAGGGGCGCAACGTGCTGAGCTT\n[(0, 8194102, 50)]\ntime to align read: 1.073498010635376\n"
     ]
    },
    {
     "name": "stdout",
     "output_type": "stream",
     "text": [
      "\nAligned to transcriptome\nGAGAAAGGATTTGGTTAGAAGGGTTCCTGCTTTCACAGAATTACTCCAGG\nGAGAAAGGATTTGGTTATAAGGGTTCCTGCTTTCACAGAATTATTCCAGG\n[(0, 7806904, 50)]\ntime to align read: 1.0104126930236816\n"
     ]
    },
    {
     "name": "stdout",
     "output_type": "stream",
     "text": [
      "\nUnaligned\nAGCTTTGAAGAGACTACTGTCGATTTCTCCTGTCGCTGTCCGTGCGGACT\n[]\ntime to align read: 1.0917091369628906\n"
     ]
    },
    {
     "name": "stdout",
     "output_type": "stream",
     "text": [
      "\nAligned to transcriptome\nACCCGTAGATCCGATCTTGTGGTGAAGTGGACCGCACAAGCTCGCTTCAC\nACCCGTAGATCCGATCTTGTGGTGAAGTGGACCGCACAAGCTCGCTTCTA\n[(0, 5488101, 50)]\ntime to align read: 1.1084280014038086\n"
     ]
    },
    {
     "name": "stdout",
     "output_type": "stream",
     "text": [
      "\nAligned to transcriptome\nTGTGAGGTATTTTAGTAACATCACAAGTCAGGCTCTTGGGATCGTGGCGG\nTGTGAGGTATTTTAGTAACATCACAAGTCAGGCTCTTGGGACCTAGGCGG\n[(0, 5539269, 50)]\ntime to align read: 1.0743849277496338\n"
     ]
    },
    {
     "name": "stdout",
     "output_type": "stream",
     "text": [
      "\nAligned to transcriptome\nATAACGGAGGAAGAACTTTCTGTGCTGGAAAGTTGTTTAAAACGCTGGAG\nATAACGGAGGAAGAACTTTCTGTGCTGGAAAGTTGTTTACATCGCTGGAG\n[(0, 4776127, 50)]\ntime to align read: 1.112565040588379\n"
     ]
    },
    {
     "name": "stdout",
     "output_type": "stream",
     "text": [
      "\nAligned to transcriptome\nTAAGGGAGAACCCTTGTATCATCCCAGATTATATCAAAACTATGGCTCTA\nTAAGGGAGAACTCTTGTATTATCACAGATTATATCAAAACTATGGCTCTA\n[(0, 2496042, 50)]\ntime to align read: 0.9898159503936768\n"
     ]
    },
    {
     "name": "stdout",
     "output_type": "stream",
     "text": [
      "\nAligned to transcriptome\nCTGAACCAGCTAAACAAAGTTTTGAGAGCTGTGTTAAGATAAATTCACAC\nCTGAACCAGCTAACCAAAGTTTTGAGAGCTGTGTTAAGATAAATTCACAC\n[(0, 3170111, 50)]\ntime to align read: 1.1658670902252197\n"
     ]
    },
    {
     "name": "stdout",
     "output_type": "stream",
     "text": [
      "\nAligned to transcriptome\nATGCTTTCTGAGGCAGACAATAGAAGAGTTGTTCAAGAGAAGAAGAATTA\nATGCTTTCTGAGGCAGACAAAAGAAGAGTTGTTCAAGAGAAGAAGACTTA\n[(0, 10735354, 37), (37, 10746179, 13)]\ntime to align read: 0.9871337413787842\n"
     ]
    },
    {
     "name": "stdout",
     "output_type": "stream",
     "text": [
      "\nUnaligned\nACATAGAGATGAAGCGATTGAAGAACTGACTAAAGTGCAGGCATTACAGG\n[]\ntime to align read: 0.9941308498382568\n"
     ]
    },
    {
     "name": "stdout",
     "output_type": "stream",
     "text": [
      "\nAligned to transcriptome\nCTCCGTGCTGCATCTTCTCCCCTGAGGTTCTGAACGGGGAATCTTACCAA\nCTCCGTGCTGCATCTTCTCCCCTGAGGTACTGAACGGGGAATCTTACCAA\n[(0, 2712133, 50)]\ntime to align read: 1.0495386123657227\n"
     ]
    },
    {
     "name": "stdout",
     "output_type": "stream",
     "text": [
      "\nAligned to transcriptome\nATATCTAGAATTGCACATTCTGGGATTTCAGTTACCTGCATTTAACGGAG\nATATCTACAGTTTCACATTCTGGGATTTCAGTTACCTGCATTTAACGGAG\n[(0, 10564345, 50)]\ntime to align read: 0.9725608825683594\n"
     ]
    },
    {
     "name": "stdout",
     "output_type": "stream",
     "text": [
      "\nAligned to transcriptome\nACTGCACTCTGGATGTGCCCACCCCTACCATTTCCGCCCAATGGGGAAGC\nACTGCACTCTGGATGTGCTGACCCCTACGATTTCCGCCCAATGGGGAAGC\n[(0, 5668057, 50)]\ntime to align read: 1.0426979064941406\n"
     ]
    },
    {
     "name": "stdout",
     "output_type": "stream",
     "text": [
      "\nUnaligned\nAAACATCAACCGCTTCAGTGTAGAACGGGTACCCGCTAGACAGCCCCTCC\n[]\ntime to align read: 1.0609209537506104\n"
     ]
    },
    {
     "name": "stdout",
     "output_type": "stream",
     "text": [
      "\nUnaligned\nATGGGTATTATATACCAGGGAAATGGAATTTTGTATAAATGATTTTCCCC\n[]\ntime to align read: 1.0342001914978027\n"
     ]
    },
    {
     "name": "stdout",
     "output_type": "stream",
     "text": [
      "\nUnaligned\nTTCTAATTAATAATACTTCTTTACCTCAAGAATATTTTCTCTTACAGAAC\n[]\ntime to align read: 0.988490104675293\n"
     ]
    },
    {
     "name": "stdout",
     "output_type": "stream",
     "text": [
      "\nAligned to transcriptome\nCATATGCCTCAGGTGTGTGGACACACAATGGAGGGGAAATGTTTGTTGCC\nCATATGCCTCAGCTAAATGGACACACAATGGAGGGGAAATGTTTGTTGCC\n[(0, 2299514, 50)]\ntime to align read: 0.9980099201202393\n"
     ]
    },
    {
     "name": "stdout",
     "output_type": "stream",
     "text": [
      "\nAligned to transcriptome\nTTAAATGTTCACAGTTACAGGTCAAGCTCTTTGTTCTACTCTTTTGCCCC\nTTAAATGTTCACAGTTACAGGTCAAGCTCTTTGTTCTACTCTTTTGCCCC\n[(0, 6525827, 50)]\ntime to align read: 1.3445959091186523\n"
     ]
    },
    {
     "name": "stdout",
     "output_type": "stream",
     "text": [
      "\nAligned to transcriptome\nACCTGTTCCAGTCCTTCCAGAAGGAGCTGCCCAAGCCACAGTGCAACCAC\nACCTGTTCCAGTCCTTCCAGAAGGAGCTGCCCAGGGCACACTGCAACCAC\n[(0, 8193977, 50)]\ntime to align read: 1.1376638412475586\n"
     ]
    },
    {
     "name": "stdout",
     "output_type": "stream",
     "text": [
      "\nAligned to transcriptome\nTGTAGCGTAAAAATCCGTGCTTTGACATTCGAGGAACTTTTGGACAGCAC\nTGTAGCATAAAAATCCGTGCTTTGAGATTCGAGGAACTTTTGGAAAGCAC\n[(0, 5475169, 50)]\ntime to align read: 1.2045612335205078\n"
     ]
    },
    {
     "name": "stdout",
     "output_type": "stream",
     "text": [
      "\nUnaligned\nTTTGAAGTTTGTTGTCACCTTTGTGGTCACGATGACTTTGATAATCTTTG\n[]\ntime to align read: 1.145493984222412\n"
     ]
    },
    {
     "name": "stdout",
     "output_type": "stream",
     "text": [
      "\nAligned to transcriptome\nAGTCCCTGAGACCCTAACTTGTTAGGTATTTTAGTAACATCACAAGTCAG\nAGTCCCTGAGACCCTAACTTGTGAGGTATTTTAGTAACATCACAAGTCAG\n[(0, 5539250, 50)]\ntime to align read: 1.1765923500061035\n"
     ]
    },
    {
     "name": "stdout",
     "output_type": "stream",
     "text": [
      "\nUnaligned\nGATAGAGGATCTACACTGGAACACATCAGGCAACCTTCGCCAGCACTTTT\n[]\ntime to align read: 1.0745537281036377\n"
     ]
    },
    {
     "name": "stdout",
     "output_type": "stream",
     "text": [
      "\nUnaligned\nATACTTTTGGATGTCGGCAGTACAAGTAGTGAGGATAGATCGGAAGAGAA\n[]\ntime to align read: 1.0353939533233643\n"
     ]
    },
    {
     "name": "stdout",
     "output_type": "stream",
     "text": [
      "\nAligned to transcriptome\nGTTGGTGGCTTCAGACTGCATTGTGGTGCTGCTGTCCTGTGCATTCTTTG\nGTTGGTGCCTTCAGAGTGCATTGTGGTGCTGCTGTCCTGTGCATTCTTTG\n[(0, 6245244, 50)]\ntime to align read: 0.9971380233764648\n"
     ]
    },
    {
     "name": "stdout",
     "output_type": "stream",
     "text": [
      "\nAligned to transcriptome\nAGCCTTCCAGATGACTCAGAAGCATGCTCCAAGCTGACAACTAATGAAAT\nAGCCTTCCAGATGACTCTGAAGCATGCTCCATACTGACAACTAATGCAAT\n[(0, 2719155, 50)]\ntime to align read: 0.999678373336792\n"
     ]
    },
    {
     "name": "stdout",
     "output_type": "stream",
     "text": [
      "\nUnaligned\nTTCACGGCTCTGCGTTGCAAGCTCAAGGGGGATTAGCATGATGTGTTCAT\n[]\ntime to align read: 1.138230800628662\n"
     ]
    },
    {
     "name": "stdout",
     "output_type": "stream",
     "text": [
      "\nUnaligned\nAGATTGGAACAATACAGAGAAAGTTAGCATGGCTTCTGCATAAGGAGGCA\n[]\ntime to align read: 1.1030619144439697\n"
     ]
    },
    {
     "name": "stdout",
     "output_type": "stream",
     "text": [
      "\nUnaligned\nAATGAAGAACTGTATAAATTGCAGGCACTACTGGAAAAAAGTATAAATGA\n[]\ntime to align read: 1.0729179382324219\n"
     ]
    },
    {
     "name": "stdout",
     "output_type": "stream",
     "text": [
      "\nAligned to transcriptome\nGGAATTGCTTTGGAGCTTCTTCTCTGTCCAACCCCGAGCTGGTCATCACA\nGGAATTGCTTTGGAGCTTCTTCTCAGTCCAACCCTGAGCTGGTCATCACA\n[(0, 5475594, 50)]\ntime to align read: 1.178009033203125\n"
     ]
    },
    {
     "name": "stdout",
     "output_type": "stream",
     "text": [
      "\nAligned to transcriptome\nAAAGCCTGTTCTTCTGTTTAAGGTATAAATGATTCATTACTAAAATGTAT\nAAAGACTGTTCTTCTGTTTAGGGTATAAATGATTCATTACTAAAATGTAT\n[(0, 9305800, 50)]\ntime to align read: 1.2355008125305176\n"
     ]
    },
    {
     "name": "stdout",
     "output_type": "stream",
     "text": [
      "\nAligned to transcriptome\nGACAGATAAATATTATCTGAAATGCAAGTTTCTGTGTCCATAAATAATGT\nGACAGATAAAAATTATCTGAAATGCAAGTTTCTGTGTCCATAAATAATGT\n[(0, 7598823, 50)]\ntime to align read: 1.5451550483703613\n"
     ]
    },
    {
     "name": "stdout",
     "output_type": "stream",
     "text": [
      "\nAligned to transcriptome\nAGTTGTTAAGATGCTTGAAGAACTGGTCGTCGATTAGTGAGAGGTCAGGT\nAGTTGTCAAGATGCTTGAAGAAGTGGTAGTCGGTTGGTGAGAGGTCAGGT\n[(0, 5475261, 50)]\ntime to align read: 1.0742168426513672\n"
     ]
    },
    {
     "name": "stdout",
     "output_type": "stream",
     "text": [
      "\nAligned to transcriptome\nTTCTTTGTGAAGTTATCTTCTAAATCAGATTAGGAAAGAAATTATTCAAG\nTTCTTTGTGAAGTTATCTTCTAAATCAGATTAGGGAAGAAATTATTCAAG\n[(0, 2505483, 28), (28, 2507317, 22)]\ntime to align read: 1.2848141193389893\n"
     ]
    },
    {
     "name": "stdout",
     "output_type": "stream",
     "text": [
      "\nUnaligned\nGTAAGTTGATATTTGGAGCCAATCTACTTAAGAACAAAATTGCCATTGCA\n[]\ntime to align read: 1.1591718196868896\n"
     ]
    },
    {
     "name": "stdout",
     "output_type": "stream",
     "text": [
      "\nAligned to transcriptome\nCCAAATGCAAAGATGCACAGGTTTATAGAAATATATATTGAAAAGGATCA\nCCAAATGCACAGATGCACAGGTTTAAAGAAATATATATTGAAAAGGATCA\n[(0, 3910700, 21), (21, 3913085, 29)]\ntime to align read: 1.1191558837890625\n"
     ]
    },
    {
     "name": "stdout",
     "output_type": "stream",
     "text": [
      "\nUnaligned\nTATAAACACGTACCGCGGGAAGACTTTTAACGCACTCCTCCGAGTCCAAC\n[]\ntime to align read: 1.1275157928466797\n"
     ]
    },
    {
     "name": "stdout",
     "output_type": "stream",
     "text": [
      "\nAligned to transcriptome\nGAAAACAGTAGAATGGTGCAAGAAATTATAGGAACTAAGATCAGAAAAAG\nGAAAAGAGTAGAATGGTGCAAGAAATTATAGGAACTAAGATTAGAAAAAG\n[(0, 8250638, 50)]\ntime to align read: 1.180919885635376\n"
     ]
    },
    {
     "name": "stdout",
     "output_type": "stream",
     "text": [
      "\nUnaligned\nACTTAGAGTGCTGAGTGCTGAACATAGAACCTCAAGGCAACAGTTGCAAA\n[]\ntime to align read: 1.049753189086914\n"
     ]
    },
    {
     "name": "stdout",
     "output_type": "stream",
     "text": [
      "\nAligned to transcriptome\nCAGGGATTAGACTGGCTCCTGTGCAAGGATGACACACAAATTTGTGATGA\nCAGAGATTAGCGTGGCTCCTGTGCAAGGATGACACACAAATTTGTGATGT\n[(0, 6380584, 50)]\ntime to align read: 1.27518892288208\n"
     ]
    },
    {
     "name": "stdout",
     "output_type": "stream",
     "text": [
      "\nAligned to transcriptome\nACAACACATATGCCTCAGCTAAATGGTCACACAATGGAGGGGAAATGTTT\nACAACACATATGCCTCAGCTAAATGGACACACAATGGAGGGGAAATGTTT\n[(0, 2299508, 50)]\ntime to align read: 1.0948379039764404\n"
     ]
    },
    {
     "name": "stdout",
     "output_type": "stream",
     "text": [
      "\nAligned to genome\nTAACTACAACCTCTGCCCATCTTACTCAAAATATCATTCAATGCAATTAT\nTAACTACAACCTCTGCCCATGTTACTCAAAATGTGATTCAATTCAGTTAT\n[(0, 4295658, 50)]\ntime to align read: 1.0567080974578857\n"
     ]
    },
    {
     "name": "stdout",
     "output_type": "stream",
     "text": [
      "\nUnaligned\nCCAGCTTCTCGATTGGTCATTGTTAACACCCAATGGCCAGCCAATATGCT\n[]\ntime to align read: 1.1028501987457275\n"
     ]
    },
    {
     "name": "stdout",
     "output_type": "stream",
     "text": [
      "\nAligned to transcriptome\nTCTTTTAATGCCACAGCAGAGAGAGGAGAAGAAATGACATTTTCCTGCAG\nTCTTTTAATGCCACAGCAGAGAGAGGAGAAGAAATGACATTTTCCTGCAG\n[(0, 10273411, 50)]\ntime to align read: 1.0323500633239746\n"
     ]
    },
    {
     "name": "stdout",
     "output_type": "stream",
     "text": [
      "\nAligned to transcriptome\nAGAAACAGCCTCACAGCTACACCCAGACATCTGGTAGATGGTAAAACAGT\nAGAAACAGCCTCACAGACACACCCAGACATCTGGTAGATGGTAAAACATT\n[(0, 3238143, 50)]\ntime to align read: 1.0052521228790283\n"
     ]
    },
    {
     "name": "stdout",
     "output_type": "stream",
     "text": [
      "\nUnaligned\nTGAAAAAACGTATGGAAATTACACATTGGTGAAGACACATTGGTGAAGTA\n[]\ntime to align read: 1.0754821300506592\n"
     ]
    },
    {
     "name": "stdout",
     "output_type": "stream",
     "text": [
      "\nAligned to transcriptome\nTCATCCAGGATAACTTTGGCATCATGAAGGGAGCAGAGTTCTGATGATTA\nTCATCCAGGATAACTTTGGCATCATGAAGGGAGCAAAGTTCTTATGATCA\n[(0, 3723782, 50)]\ntime to align read: 1.2020349502563477\n"
     ]
    },
    {
     "name": "stdout",
     "output_type": "stream",
     "text": [
      "\nUnaligned\nCAATGGTAATGTGCCTATATTCCAGTATTGCTAGTCCAGGGATACTCATG\n[]\ntime to align read: 1.3869600296020508\n"
     ]
    },
    {
     "name": "stdout",
     "output_type": "stream",
     "text": [
      "\nAligned to transcriptome\nTTTGCCTTTGTGCAAGCCTATACATAGATTTGATCTATGTATACACTTTG\nTTTGCCTTTGTGCAAGGCAATACATACATTTGATCTATGTATACACTTTG\n[(0, 2263550, 50)]\ntime to align read: 1.49434494972229\n"
     ]
    },
    {
     "name": "stdout",
     "output_type": "stream",
     "text": [
      "\nAligned to transcriptome\nTTCTTAATGATTTCACAGGGTGTTGTCAATGGAAATATGCACACTTCTAC\nTTCTTAATGATTTCACAGGGTGTTGTCAATGGAAATATGGATTCTTCTAC\n[(0, 3092738, 50)]\ntime to align read: 1.156606912612915\n"
     ]
    },
    {
     "name": "stdout",
     "output_type": "stream",
     "text": [
      "\nAligned to genome\nGGCCCGCGCGAACGGCCACTGTTCACGGGGAAGCCGGGCGCCGAGCTTGA\nGGCCCGCGCGAACGGCCACTGTTCACGGGGAAGCCGGGCGGCGAGCTTGA\n[(0, 2654049, 9), (9, 2654179, 41)]\ntime to align read: 1.3618998527526855\n"
     ]
    },
    {
     "name": "stdout",
     "output_type": "stream",
     "text": [
      "\nUnaligned\nTACCCAAATCCAACATAGACAAAAAACAAAGACTAAGAAAAATTGAACAA\n[]\ntime to align read: 1.2319862842559814\n"
     ]
    },
    {
     "name": "stdout",
     "output_type": "stream",
     "text": [
      "\nAligned to transcriptome\nAAGACTGTTCCTCTTTTTAGGGTATAAATGTTTCATTACTAAAATGTATG\nAAGACTGTTCTTCTGTTTAGGGTATAAATGATTCATTACTAAAATGTATG\n[(0, 9305801, 50)]\ntime to align read: 1.5181739330291748\n"
     ]
    },
    {
     "name": "stdout",
     "output_type": "stream",
     "text": [
      "\nAligned to transcriptome\nATTGAAAATGATCAGGGTGGGACAGACACATTGGGAACAACAAAACCTCT\nATTGAAAAGGATCAGGGTGGGACAGACACATTGGGAACCACAAAACCTCT\n[(0, 3913100, 50)]\ntime to align read: 1.2511992454528809\n"
     ]
    },
    {
     "name": "stdout",
     "output_type": "stream",
     "text": [
      "\nAligned to transcriptome\nTGGAGCGCTTTCGGTCCAGGAATAGCAAGACCAGCAAGATGTTCACCATT\nTGGAGCGCTTTGGGTCCAGGAATGGCAAGACCAGCAAGAAGATCACCATT\n[(0, 7807202, 50)]\ntime to align read: 1.4499990940093994\n"
     ]
    },
    {
     "name": "stdout",
     "output_type": "stream",
     "text": [
      "\nUnaligned\nAACCACATAACCTGTTCCAAAAATTAAAAATAAACACCCTTTTTTTTTCT\n[]\ntime to align read: 1.0603208541870117\n"
     ]
    },
    {
     "name": "stdout",
     "output_type": "stream",
     "text": [
      "\nAligned to genome\nGCTTGTTTCAGTTTGAAGGAGAAAGCGCGGGACTACCGGACGCTGTGGGC\nGCTTGTTTCAGTTTGAGGGAGACCGCGTGGGACTACTGGACGCTGTGGGC\n[(0, 3019935, 50)]\ntime to align read: 1.1850910186767578\n"
     ]
    },
    {
     "name": "stdout",
     "output_type": "stream",
     "text": [
      "\nUnaligned\nATAAGAACATTCATCTGGTAGTTCTTGGAAGATGTCCCACCTCGAAAGAG\n[]\ntime to align read: 3.1275477409362793\n"
     ]
    },
    {
     "name": "stdout",
     "output_type": "stream",
     "text": [
      "\nAligned to transcriptome\nTTGGATGTCAGCAGTACAAGTAGTGAAGATAGAGATGAAGAGAATGCAGA\nTTGGATGTCAGCAGTACAAGTAGTGAAGATAGAGATGAAGAGAATGAAGA\n[(0, 8688831, 50)]\ntime to align read: 2.6359870433807373\n"
     ]
    },
    {
     "name": "stdout",
     "output_type": "stream",
     "text": [
      "\nAligned to transcriptome\nTGCTCCATACTGACAACTAATGCAATGCATTATGCGTCATGTGACCAGGA\nTGCTCCATACTGACAACTAATGCAATGCATTATGCTTCATGTGACCAGCA\n[(0, 2719179, 34), (34, 2720565, 16)]\ntime to align read: 3.2398149967193604\n"
     ]
    },
    {
     "name": "stdout",
     "output_type": "stream",
     "text": [
      "\nAligned to transcriptome\nGCAGAGGATCCTGGAGGCCTGGGAAGCCATTGACCACACACAGCGACGGG\nGCAGAGGATCCTGGAGGCCTGGGAAGCCAATGACCACACACAGCGACGGG\n[(0, 2956156, 42), (42, 2957187, 8)]\ntime to align read: 1.7475380897521973\n"
     ]
    },
    {
     "name": "stdout",
     "output_type": "stream",
     "text": [
      "\nAligned to transcriptome\nATAGTGGGAAAACCTCTGATTGTGAGGACGTAGAACTGAGAAGAGCATAA\nATAGTGGGAAAACCTCTGATTGTGAGGACGTAGAACTGAGAAGAGCATAT\n[(0, 3092823, 50)]\ntime to align read: 1.514962911605835\n"
     ]
    },
    {
     "name": "stdout",
     "output_type": "stream",
     "text": [
      "\nAligned to transcriptome\nAATGGGAGTGACTCAGAGAAAATTAGCAGGGCCGTTGCACAAGGATGACA\nAATGGGAGTGACACAGAGAAAATTAGCAGGGCCTTTGCACAAGGATGACA\n[(0, 4563310, 50)]\ntime to align read: 1.283785104751587\n"
     ]
    },
    {
     "name": "stdout",
     "output_type": "stream",
     "text": [
      "\nAligned to transcriptome\nTCAGAGTGCATTTTACTACTGAGCTGCAAAGGAAGATCTTAAAATGGATA\nTCAGAGAGCATTTTACTACTGAGCTGCAAAGGAAAAACTTAAAATGGATA\n[(0, 5436507, 31), (31, 5486379, 19)]\ntime to align read: 1.2066221237182617\n"
     ]
    },
    {
     "name": "stdout",
     "output_type": "stream",
     "text": [
      "\nAligned to genome\nAGGAAATTGAAAGTGTGAAAGAAAACACTGATAAACTTCTAACGGCTATC\nAGGAAATTGAAAGTGTGAAAGAAAAGACTGATAAACTTCTAAGGGCTATG\n[(0, 2590477, 50)]\ntime to align read: 1.1667509078979492\n"
     ]
    },
    {
     "name": "stdout",
     "output_type": "stream",
     "text": [
      "\nAligned to transcriptome\nGTGTAAGCACACAGATTAATTCTGTATTACGGTCCTGGATAGACGCAATG\nGTGTAAGCACACAGATTAATTCTCTATTACGGCCCTGGATATATGCAATG\n[(0, 8570155, 50)]\ntime to align read: 2.6586389541625977\n"
     ]
    },
    {
     "name": "stdout",
     "output_type": "stream",
     "text": [
      "\nAligned to transcriptome\nAATCTACGGGAGGTGCAAAGAATAAGGAAATATTGTGTCTGCCTGTGATG\nAATCTACGGGAGGTGCAAAGAAGAATGAAATATTGTGTCTGCCTGTGATG\n[(0, 3540350, 50)]\ntime to align read: 2.467066764831543\n"
     ]
    },
    {
     "name": "stdout",
     "output_type": "stream",
     "text": [
      "\nAligned to transcriptome\nATTCATGGACTATACAGTTTAACAGCTTCCCAGTTGAGAACGATATACGT\nATTCATGGACTATCCAGTCTAACAGCTTACCAGTTGAGAACGATATACAT\n[(0, 2725355, 50)]\ntime to align read: 3.244631052017212\n"
     ]
    },
    {
     "name": "stdout",
     "output_type": "stream",
     "text": [
      "\nAligned to transcriptome\nCTCTAATAATCATGCAATTCTTAATAATAATGAAGTAAATTTAACCAAGG\nCTCTAATAAGCATGCAATTCTTAATAATAATGAAGAAAATTTAACCCAGG\n[(0, 8570439, 50)]\ntime to align read: 1.802293062210083\n"
     ]
    },
    {
     "name": "stdout",
     "output_type": "stream",
     "text": [
      "\nAligned to transcriptome\nTCAATAAATTTAAGAAAAACCCCCTCTCAGACCATAGTGGAATAAAAATA\nTCAATAAATTTAAGAAAAACACTCTCTCAGACCATAGTGGAATAAAACTA\n[(0, 6656371, 50)]\ntime to align read: 2.0876128673553467\n"
     ]
    },
    {
     "name": "stdout",
     "output_type": "stream",
     "text": [
      "\nAligned to transcriptome\nCTGTGAAGGCAGGCACAGTGCCTGGTGCTCTTCCTGTCACTGGCCAACCT\nCTGTGAAGCCAGGCACAGTGCCTGCTGCTCTTCCTGTCACTGGCCAACCT\n[(0, 6245341, 50)]\ntime to align read: 1.1956069469451904\n"
     ]
    },
    {
     "name": "stdout",
     "output_type": "stream",
     "text": [
      "\nAligned to transcriptome\nGGTGCAGCTCTCTGATGGACACAAAACACAGCCAGGCTAAGACAACCAAA\nGGTGCAGCTCTCTGATGGACACAAAACACAGCCAGGCTGAGGCAGCCAGA\n[(0, 2962777, 50)]\ntime to align read: 1.269881010055542\n"
     ]
    },
    {
     "name": "stdout",
     "output_type": "stream",
     "text": [
      "\nAligned to transcriptome\nCCTGCCTCCTTCATGGCTCTGCGTGGCAAGCTCATGGTGGCTGAGGATGT\nCCTGCCTCCTTCATGGCTCTGCGTTGCAAGCTCATGGAGGATGAGGATGA\n[(0, 9305739, 50)]\ntime to align read: 1.2012131214141846\n"
     ]
    },
    {
     "name": "stdout",
     "output_type": "stream",
     "text": [
      "\nAligned to transcriptome\nGGTCAAGCTATTTGTGCTACTCTTTTCCCCCTTCTCACTTTTGCACTTGA\nGGTCAAGCTCTTTGTTCTACTCTTTTGCCCCTTCTCACTTTTGCACTTGA\n[(0, 6525846, 50)]\ntime to align read: 1.1603820323944092\n"
     ]
    },
    {
     "name": "stdout",
     "output_type": "stream",
     "text": [
      "\nAligned to transcriptome\nTAGAGTTAGACCCTGGGAGTTAACTGTACAACCTTCTAGCTTTCCTTGGA\nTAGAGTTACACCCTGGGAGTTAACTGTACAACCTTCTAGCTTTCCTTGGA\n[(0, 5488859, 50)]\ntime to align read: 1.0930979251861572\n"
     ]
    },
    {
     "name": "stdout",
     "output_type": "stream",
     "text": [
      "\nUnaligned\nAGTGGTGAAGTACAACAATATAAATTGGTTCTAGAAGAAAAGGCAATGCA\n[]\ntime to align read: 1.1187570095062256\n"
     ]
    },
    {
     "name": "stdout",
     "output_type": "stream",
     "text": [
      "\nUnaligned\nAGCATGTTTCAGTTTGAGGGAGACCGCGTGGGACTACTGGACGCTGTGGG\n[]\ntime to align read: 1.1044306755065918\n"
     ]
    },
    {
     "name": "stdout",
     "output_type": "stream",
     "text": [
      "\nAligned to genome\nATGGGCAAGTGGTGCTGTCACTGCTTCCACTGCTGCAGGGGTAGCGGCAA\nATGGGCAAGTGGTGCTGTCACTGCTTCCCCTGCTGCAGGGGGAGCGGCAA\n[(0, 2559519, 50)]\ntime to align read: 1.0419878959655762\n"
     ]
    },
    {
     "name": "stdout",
     "output_type": "stream",
     "text": [
      "\nAligned to transcriptome\nCTGCAAAGGATAAACTTAAAATTGATATGAAAAGTGAAGAAAGTGATCAT\nCTGCAAAGGAAAAACTTAAAATGGATATGAAAAGTGAAGAAAGTGATCAT\n[(0, 5436530, 8), (8, 5486379, 42)]\ntime to align read: 1.1762030124664307\n"
     ]
    },
    {
     "name": "stdout",
     "output_type": "stream",
     "text": [
      "\nUnaligned\nGGAGGTTGTATGGTTTAGAGTAACACCCTGGGAGTTAACTGTACGACCTT\n[]\ntime to align read: 1.1248540878295898\n"
     ]
    },
    {
     "name": "stdout",
     "output_type": "stream",
     "text": [
      "\nAligned to transcriptome\nCTGTTTTCTCACCCCCACAAAAATCCAATCACTGAAATCCTGAACTCTTT\nCTGTTTTCTCAACCCCACAAAAATCCAATCACTGAAATCCTGAACTCTTT\n[(0, 4016656, 50)]\ntime to align read: 1.032884120941162\n"
     ]
    },
    {
     "name": "stdout",
     "output_type": "stream",
     "text": [
      "\nAligned to transcriptome\nAAAATATGCTTGACAATGATCCTTGTAAATCATTCTTATTCTGCCTTGTG\nAAAATATGCTTGACAATGATCCTTGTAAATCATTATTATTCTGCCTTCTG\n[(0, 2263646, 50)]\ntime to align read: 1.0335569381713867\n"
     ]
    },
    {
     "name": "stdout",
     "output_type": "stream",
     "text": [
      "\nAligned to transcriptome\nGGCCAAAGAGTGAGCACTTGGAAATGGATGAGGATGAGTCACAGGTGCCC\nGGCCAAAGAGTGAGCACTTGGAGCTGGATGAGGATGAGTCACAGGTGCCC\n[(0, 3707132, 50)]\ntime to align read: 1.0154097080230713\n"
     ]
    },
    {
     "name": "stdout",
     "output_type": "stream",
     "text": [
      "\nUnaligned\nGTCCCCTCAATAACCTGTTGAGTATGCGGAAGGTGAGGGCTGTGGGGCTT\n[]\ntime to align read: 1.9181249141693115\n"
     ]
    },
    {
     "name": "stdout",
     "output_type": "stream",
     "text": [
      "\nAligned to transcriptome\nTGATGATAGTTTGAGTGTCTACAATTTTGTGGGAAAAAATATCTGTAATA\nTGATGATAGTTTGAGTGTCTACAATTTTGTGGGAAAAAATATCTGTAATA\n[(0, 8570303, 50)]\ntime to align read: 1.0873751640319824\n"
     ]
    },
    {
     "name": "stdout",
     "output_type": "stream",
     "text": [
      "\nAligned to transcriptome\nAGTACTCTCCATTAAATGTGCACAGTTACAGGTCAAGCTCTTTGTTCTAC\nAGTTATCTCCATTAAATGTTCACAGTTACAGGTCAAGCTCTTTGTTCTAC\n[(0, 6525816, 50)]\ntime to align read: 1.0840740203857422\n"
     ]
    },
    {
     "name": "stdout",
     "output_type": "stream",
     "text": [
      "\nUnaligned\nGTTTGCGTGCAGGGAGTACTTTTCTTTAATTACCCAGAAGTGGTTTTTGC\n[]\ntime to align read: 1.432908058166504\n"
     ]
    },
    {
     "name": "stdout",
     "output_type": "stream",
     "text": [
      "\nAligned to transcriptome\nAACTCGGCCCTTTCTGTTTACTAATGCCATCTGCAGGGATTATAGTTTTC\nAACTCGGCCCTTTCTGTTGACTAATGCCAGCTGCAGGGATTACAGTTTTC\n[(0, 5475406, 50)]\ntime to align read: 1.0071539878845215\n"
     ]
    },
    {
     "name": "stdout",
     "output_type": "stream",
     "text": [
      "\nUnaligned\nGACCTTGCGGGCGGCCTGGTGTGCCCCGGCCTGCGCGAACGGCCACTGTT\n[]\ntime to align read: 1.0321290493011475\n"
     ]
    },
    {
     "name": "stdout",
     "output_type": "stream",
     "text": [
      "\nUnaligned\nCGTGGGGGCCCCCGAGGAGTAGGAGGAGGTCGCGGGCCTGGTGGCCAAGG\n[]\ntime to align read: 1.0213279724121094\n"
     ]
    },
    {
     "name": "stdout",
     "output_type": "stream",
     "text": [
      "\nAligned to transcriptome\nATGGCTTCTGCATGAGGAGGCAGCACAACTCTTTGAGGCTTTCCGTATTT\nATGGCTTCTGCATAAGGAGGCAGCACAACTCTTTGAGGCATTCCATATTT\n[(0, 2570631, 50)]\ntime to align read: 1.0724658966064453\n"
     ]
    },
    {
     "name": "stdout",
     "output_type": "stream",
     "text": [
      "\nAligned to transcriptome\nCTCCTAGTTGGGCCCTTCCCTGGCCCCTCATAGCGGGGCCTGCCCCCTCT\nCTCCTAGTTGGGCCCTTCCCTGGCCCCTCACAGCAGGGCCTGCCTCCTGT\n[(0, 6562488, 50)]\ntime to align read: 1.0223021507263184\n"
     ]
    },
    {
     "name": "stdout",
     "output_type": "stream",
     "text": [
      "\nAligned to transcriptome\nCTCAATGCTTGAGGAAAGGAATTCTGTCCTTTGAAAGGTCTCTCGAACAA\nCTCAATGCTTGAGAAAAGGAATTCTGTCCTTTGAAAGGTCTCTAGAACAA\n[(0, 6390790, 50)]\ntime to align read: 1.120100736618042\n"
     ]
    },
    {
     "name": "stdout",
     "output_type": "stream",
     "text": [
      "\nUnaligned\nCGACTTTACAGCTGTCAGATATTGGCACAGAGCAGTGCACAGTGAAAAAA\n[]\ntime to align read: 1.1131558418273926\n"
     ]
    },
    {
     "name": "stdout",
     "output_type": "stream",
     "text": [
      "\nUnaligned\nTGAACGTAAAGAACGGAAGGAAGTGTCTGATACAGAGAAGAGAGAAAGTA\n[]\ntime to align read: 1.0144860744476318\n"
     ]
    },
    {
     "name": "stdout",
     "output_type": "stream",
     "text": [
      "\nAligned to transcriptome\nCGCTATTGGCGGGAGCAGCCCTGTTACCTGAACCTGATGAAGCTCTTCCT\nCGCTATTGCCGGGAGCAGCCCTGTTACCTGAACCTGATGAAGCTCTTCCT\n[(0, 9337761, 50)]\ntime to align read: 1.014404058456421\n"
     ]
    },
    {
     "name": "stdout",
     "output_type": "stream",
     "text": [
      "\nAligned to transcriptome\nAAGCTGAGACTTCAGACTTATCATCATAAGGAATTGAATTCTATCAACAG\nAAGCTGAGACTTCAGTCTTATCATCATAAGGAATTGAATTCTGTCAACAG\n[(0, 5593096, 50)]\ntime to align read: 1.001260757446289\n"
     ]
    },
    {
     "name": "stdout",
     "output_type": "stream",
     "text": [
      "\nAligned to transcriptome\nACCAGGGACCGCTGGACATCGAGTGGCTGATATCATCAGCTGATAATCAG\nACCAGGGACCACTGGACATTGAGTGGCTGATATCACCAGCTGATAATCAG\n[(0, 2625165, 50)]\ntime to align read: 1.0200340747833252\n"
     ]
    },
    {
     "name": "stdout",
     "output_type": "stream",
     "text": [
      "\nAligned to transcriptome\nTGGCTTAAACCCGTAGATCCGATCTTGTGGTGAAGTGGACCGCACAAGCT\nTGGCATAAACCCGTAGATCCGATCTTGTGGTGAAGTGGACCGCACAAGCT\n[(0, 5488093, 50)]\ntime to align read: 1.0378029346466064\n"
     ]
    },
    {
     "name": "stdout",
     "output_type": "stream",
     "text": [
      "\nUnaligned\nGCGATGCTTCAATAAATGTAACGAATTTACAGTTGTCAGATATTGGCACA\n[]\ntime to align read: 1.0365889072418213\n"
     ]
    },
    {
     "name": "stdout",
     "output_type": "stream",
     "text": [
      "\nAligned to transcriptome\nATTATTTCCTCTAGAAAGCCCGACTGCCTCTCAGATTAGTTAGGTGCTTT\nATTATTTCCTCTAGAAAGCCCGACTGCCTCTCAGATTTGTTAGGTGCTTT\n[(0, 3895950, 50)]\ntime to align read: 1.1021778583526611\n"
     ]
    },
    {
     "name": "stdout",
     "output_type": "stream",
     "text": [
      "\nAligned to transcriptome\nTGGCATAATCCCGTAGATGCGATCTTGTGGTGAAGTGGACCGCATAAGCT\nTGGCATAAACCCGTAGATCCGATCTTGTGGTGAAGTGGACCGCACAAGCT\n[(0, 5488093, 50)]\ntime to align read: 1.0642359256744385\n"
     ]
    },
    {
     "name": "stdout",
     "output_type": "stream",
     "text": [
      "\nUnaligned\nATAGTCCCCGCACAAGGATGACATAGAAAACTGTAAGGTTTTGCATATTT\n[]\ntime to align read: 1.235022783279419\n"
     ]
    },
    {
     "name": "stdout",
     "output_type": "stream",
     "text": [
      "\nAligned to transcriptome\nCTTTTGGTGCTTATAAAAATGCCAGTGCATTGTGTTTAATGTACATATAT\nCTTTTGGTGGTTATAGAAATGCCAGTGCATACTGTTTAATGTACATAAAT\n[(0, 4780554, 50)]\ntime to align read: 1.112945318222046\n"
     ]
    },
    {
     "name": "stdout",
     "output_type": "stream",
     "text": [
      "\nAligned to transcriptome\nTGCTGAATATGTTCTGGATTCCATTGGTCCAGGGGCTAACTTAAATGGTG\nTGCTGAATATGTTGTGGAGTCCATTGGTCCTGGGGCTCACTTAAATGGTG\n[(0, 3723558, 50)]\ntime to align read: 1.0108778476715088\n"
     ]
    },
    {
     "name": "stdout",
     "output_type": "stream",
     "text": [
      "\nAligned to transcriptome\nATGTATAAATTCTTCCCCAGTCTCTGTTCCATGTAATTAGAACTAAGTTA\nATGTATAAATTCTTCCCCAATCTCTGTTCCATGTAATAAGAACTAAGTTA\n[(0, 5556252, 50)]\ntime to align read: 0.9972710609436035\n"
     ]
    },
    {
     "name": "stdout",
     "output_type": "stream",
     "text": [
      "\nAligned to transcriptome\nTTTTTTTTTATTTTTAGCAAAAGTGAAAAATGTAAGCATATATTTTTCTA\nTTTTTTTTTCTTTTTAGCAAAAGTGAAAAATGTAAGCATATATTTTTCTA\n[(0, 3913174, 50)]\ntime to align read: 1.1085102558135986\n"
     ]
    },
    {
     "name": "stdout",
     "output_type": "stream",
     "text": [
      "\nUnaligned\nCATCCTCTCTCAATGGAGCATGAAATAAGGCATGTCATCATGTCAGCGTC\n[]\ntime to align read: 2.798245906829834\n"
     ]
    },
    {
     "name": "stdout",
     "output_type": "stream",
     "text": [
      "\nUnaligned\nGCCGAACGCAATTACCTCACGCCCTGCCTCATTCGTTGGCACGGGGAACC\n[]\ntime to align read: 1.5478739738464355\n"
     ]
    },
    {
     "name": "stdout",
     "output_type": "stream",
     "text": [
      "\nAligned to transcriptome\nAGACCCTCAATTGTGAGGTATTTTAGTAACATCACAAGTCAGGCTCTTGG\nAGACCCTAACTTGTGAGGTATTTTAGTAACATCACAAGTCAGGCTCTTGG\n[(0, 5539258, 50)]\ntime to align read: 1.1323680877685547\n"
     ]
    },
    {
     "name": "stdout",
     "output_type": "stream",
     "text": [
      "\nUnaligned\nAAAAGCGATGAAGATATATACGGATGTGAAGGAAGAGTGGAGGCCACGGG\n[]\ntime to align read: 1.1798360347747803\n"
     ]
    },
    {
     "name": "stdout",
     "output_type": "stream",
     "text": [
      "\nAligned to transcriptome\nCGCCTGCCCCGCGGATCCGCTGTCCCCGGCGGGAGGCCCTGGGTTCGAGG\nCGCCTGCCCCGCGGGTCCGCTGTCCCCGGCGGGCGGCCCTGGGTTCGAGG\n[(0, 6561239, 50)]\ntime to align read: 1.1484720706939697\n"
     ]
    },
    {
     "name": "stdout",
     "output_type": "stream",
     "text": [
      "\nAligned to transcriptome\nTACCAGGGAGGAGGTGTGGTTTTTACTGGAATTTTCTCGCAGGCAAAAAT\nTACCAGGGAGGAGGTGTGGTTTTTACTGGAATATTCTGGCAGGCAAAAAT\n[(0, 10734005, 48), (48, 10735299, 2)]\ntime to align read: 1.1211216449737549\n"
     ]
    },
    {
     "name": "stdout",
     "output_type": "stream",
     "text": [
      "\nAligned to transcriptome\nTGGCACACGTATATGGACATCGGGACAGTGCAGAGATTAGCGTGGCTCCT\nTGGCACACATATATGGAAATTGGAACAGTGCAGAGATTAGCGTGGCTCCT\n[(0, 6380554, 50)]\ntime to align read: 1.0388658046722412\n"
     ]
    },
    {
     "name": "stdout",
     "output_type": "stream",
     "text": [
      "\nAligned to transcriptome\nCGTCTAGCAAGATCTACTTTGTGATCTCCGTGGCTGGCGGCTTCGTGGGC\nCGTCTAGCAAGATCGACTTGGTGATCTCCGTGGCTGGCGGCTTCGTGGGC\n[(0, 8193677, 50)]\ntime to align read: 1.0148670673370361\n"
     ]
    },
    {
     "name": "stdout",
     "output_type": "stream",
     "text": [
      "\nAligned to transcriptome\nGGCCAAATCCTGTGTTGGCCTATCTCACTTATAATAAGGCGGGGACTGCT\nGGCCAAATCCTGTGTTGGCCTATCTCACTTATAATAAGACGGGGACTGCT\n[(0, 10697545, 50)]\ntime to align read: 1.0047390460968018\n"
     ]
    },
    {
     "name": "stdout",
     "output_type": "stream",
     "text": [
      "\nAligned to transcriptome\nAAAAAAGAAAAAAACAAGTTGACAAAAAAGAAAAAGGTCTTATCCAGTTC\nAAAAAAGAAAAAATCAAATTGAAAAAAAAGAAAAAGGTCTTATCCAGTTC\n[(0, 8688936, 50)]\ntime to align read: 1.295231819152832\n"
     ]
    },
    {
     "name": "stdout",
     "output_type": "stream",
     "text": [
      "\nUnaligned\nTTTCCATGTGAAGAGTTCTGCTGAGAGCTTGGTGGAGTTCAGCCTCCATG\n[]\ntime to align read: 2.7989728450775146\n"
     ]
    },
    {
     "name": "stdout",
     "output_type": "stream",
     "text": [
      "\nUnaligned\nTGCTTGGTAACTTGAGCACAGACCTGGCAGATTGTTGACACTCAACAAAT\n[]\ntime to align read: 1.4375767707824707\n"
     ]
    },
    {
     "name": "stdout",
     "output_type": "stream",
     "text": [
      "\nAligned to transcriptome\nAACAGTGCAGAGATTAGCGTGGCTCCTGTGCAAGGATGACACACAAATTT\nAACAGTGCAGAGATTAGCGTGGCTCCTGTGCAAGGATGACACACAAATTT\n[(0, 6380577, 50)]\ntime to align read: 1.1244087219238281\n"
     ]
    },
    {
     "name": "stdout",
     "output_type": "stream",
     "text": [
      "\nAligned to transcriptome\nTTGAGGTAGTTGGTTGTATTGTTTAGAGTTACACCCTGGGAGTTAACTGT\nTTGAGGTAGTAGGTTGTATGGTTTAGAGTTACACCCTGGGAGTTAACTGT\n[(0, 5488836, 50)]\ntime to align read: 1.1518449783325195\n"
     ]
    },
    {
     "name": "stdout",
     "output_type": "stream",
     "text": [
      "\nAligned to transcriptome\nGGGGAGGCAGAGAATTCAAATGCTTAAAATTGCAATCTCCATGCTGAAAG\nGGGGAGGCTGAGAATTCAAATGCTGAAAATTGCAATCTCCATAGTGAAAG\n[(0, 3547001, 50)]\ntime to align read: 1.011601209640503\n"
     ]
    },
    {
     "name": "stdout",
     "output_type": "stream",
     "text": [
      "\nUnaligned\nCTATAAAGGGAAACATCCCAAAAAGGAAAGAACAAGGAGAGAAAAAAAAA\n[]\ntime to align read: 1.0318331718444824\n"
     ]
    },
    {
     "name": "stdout",
     "output_type": "stream",
     "text": [
      "\nAligned to transcriptome\nTCGGGATTGGTGCCGACATGTTCACCTGTGCTCACACTGTCTGCTTCCAC\nTCAGGATTGGTGCCGACATCTTCACCTGTGCTCACACTGTCTGCTTCCAC\n[(0, 6759550, 50)]\ntime to align read: 1.0097200870513916\n"
     ]
    },
    {
     "name": "stdout",
     "output_type": "stream",
     "text": [
      "\nUnaligned\nAGTCGCCTGCTCTCCTCTGGTCTGTGAAGACACGCAGGGTGGGGCTTATT\n[]\ntime to align read: 3.2844600677490234\n"
     ]
    },
    {
     "name": "stdout",
     "output_type": "stream",
     "text": [
      "\nUnaligned\nAGGGATGAAAGCTTGGTGGAAAGAACACCTCACGAATAGGATACAGTGAA\n[]\ntime to align read: 1.483217716217041\n"
     ]
    },
    {
     "name": "stdout",
     "output_type": "stream",
     "text": [
      "\nAligned to transcriptome\nGGATATATCGTCGTCAAGCAACAGATGCAAAAGGACAAACACAAGAAGCT\nGGATATATCGTTGTCAAGCAACAGATGCCAAAGGACAAACACAAGAAGCT\n[(0, 10233328, 50)]\ntime to align read: 1.452275276184082\n"
     ]
    },
    {
     "name": "stdout",
     "output_type": "stream",
     "text": [
      "\nUnaligned\nGAATTCCCAGTGTCCAGAGCTGTGAAAAAAGATGTTCAATAGGAAAAAGG\n[]\ntime to align read: 1.316831111907959\n"
     ]
    },
    {
     "name": "stdout",
     "output_type": "stream",
     "text": [
      "\nAligned to transcriptome\nTCTTTGGCAACTTCTCATATAGTTGTAAGAGGATCAGCTTCTCAATTGGT\nTCTTTGGCAACTTCTCATATAGTTGTAAGAGGATCAGCTTCTCAATTGGT\n[(0, 5475852, 50)]\ntime to align read: 1.3551490306854248\n"
     ]
    },
    {
     "name": "stdout",
     "output_type": "stream",
     "text": [
      "\nAligned to transcriptome\nGCACTGAGCTGGTCCCGCCGCCGCCCCAGTGTCCGGGCTTCGACTGCGAG\nGCACTGAGCCGGTCCCGCCGCCGCCCCAGTGTCCGGGCTGCGACTGCGGG\n[(0, 2653856, 50)]\ntime to align read: 1.0643739700317383\n"
     ]
    },
    {
     "name": "stdout",
     "output_type": "stream",
     "text": [
      "\nUnaligned\nGTCACTAGAACAAAGGGTCTTATCCTGTCACCTACGCTGGAGTACAGTAG\n[]\ntime to align read: 1.6710529327392578\n"
     ]
    },
    {
     "name": "stdout",
     "output_type": "stream",
     "text": [
      "\nAligned to transcriptome\nCCTAGCTCCTCCTATCTCTCTGATTAACACCAATCCAATAAAAATTTCCC\nCCTAGCTCCTCCCATCTCTCTGATTAACACCAATCCAATAAAAATTTCTC\n[(0, 6759788, 50)]\ntime to align read: 1.0661368370056152\n"
     ]
    },
    {
     "name": "stdout",
     "output_type": "stream",
     "text": [
      "\nUnaligned\nAACTTTAAATGAAGAAAGCTATAGGTTAGAGTCGAAGTTCAAACACACTA\n[]\ntime to align read: 3.2758448123931885\n"
     ]
    },
    {
     "name": "stdout",
     "output_type": "stream",
     "text": [
      "\nUnaligned\nCCCTCACTTGTGACGTATTTTAGAAACATCTAAAGTCAGGCTCTTGGGAC\n[]\ntime to align read: 1.077934980392456\n"
     ]
    },
    {
     "name": "stdout",
     "output_type": "stream",
     "text": [
      "\nAligned to transcriptome\nGAATGAGGCAGCTAGAAATTGTGTACTGCAGGTTCAGGCATGGATACCCC\nGAATGAGGCAGCTAAAAATTGTGTACAGCAGGTTCAGGCATGGATTCCAC\n[(0, 8543022, 50)]\ntime to align read: 1.365102767944336\n"
     ]
    },
    {
     "name": "stdout",
     "output_type": "stream",
     "text": [
      "\nAligned to transcriptome\nTGTTTTTACCCTTTATCCGGGCTGTTTTTGTCATACAAATTACATCTTTA\nTGTTTTTACCCTTTCTCCGGGCTGTTATTGTCATACAAATTACATCTTTA\n[(0, 2505395, 50)]\ntime to align read: 2.007707118988037\n"
     ]
    },
    {
     "name": "stdout",
     "output_type": "stream",
     "text": [
      "\nUnaligned\nCCGTGAGCCCTTACAGAGCCACGATGAAAATGTTGAGGAGAACTCAACTT\n[]\ntime to align read: 1.2991437911987305\n"
     ]
    },
    {
     "name": "stdout",
     "output_type": "stream",
     "text": [
      "\nUnaligned\nTATCTTTTCAAGCTGGCGCTGAATTGTTCTAAAGAACCACGTTATCCAGC\n[]\ntime to align read: 1.448127269744873\n"
     ]
    },
    {
     "name": "stdout",
     "output_type": "stream",
     "text": [
      "\nAligned to transcriptome\nGAAGGCCCCTGCCTTGACCTCATTATCAACAGGCACCAGCCAAAGACAGT\nGAAGGCCCCTGCCTTGACCTCATTATCAACAGGAACCAGCCAAAGACAGT\n[(0, 2720647, 50)]\ntime to align read: 1.6917271614074707\n"
     ]
    },
    {
     "name": "stdout",
     "output_type": "stream",
     "text": [
      "\nUnaligned\nGTCGTGCAACATGCAGTCAGGCATTATTGTGGAGAATAACTCGGCCCTTT\n[]\ntime to align read: 1.7108888626098633\n"
     ]
    },
    {
     "name": "stdout",
     "output_type": "stream",
     "text": [
      "\nAligned to genome\nGTCGCCCAGGCTGGAGTGCAGTAGCGAGATCCCGGCTCCCGGCAACCTCT\nGTCGCCCAGGCTGGAGTGCAGTAGCGTGATCTCGGCTCACTGCAAGCTCC\n[(0, 4975316, 50)]\ntime to align read: 1.559161901473999\n"
     ]
    },
    {
     "name": "stdout",
     "output_type": "stream",
     "text": [
      "\nAligned to transcriptome\nAGGCCAGCGCCATCAGCCCCAGCAACTTCTGTTTGGCAAGGCCTAAACAG\nAGGCCAGCACCATCAGCCCCAGCAACTTCTGTTTGGCAAGGCCTAAACAG\n[(0, 2425651, 50)]\ntime to align read: 1.4401531219482422\n"
     ]
    },
    {
     "name": "stdout",
     "output_type": "stream",
     "text": [
      "\nAligned to transcriptome\nACTGGAGTGCAAAGGCTAAAAGACAAAATACCACTGGGACTGGTTCAATG\nACTGGAGTGCCAAGGCTAAAAGACAAAATACCACTGGGACTGGTTGAATG\n[(0, 8542977, 50)]\ntime to align read: 1.394874095916748\n"
     ]
    },
    {
     "name": "stdout",
     "output_type": "stream",
     "text": [
      "\nAligned to transcriptome\nGACAACACTTCCACGACCCTGACGATGGGCTCCACGCTGGGCACCAACCA\nGACAACTCTTCCACGACCCTGAAGATGGGCTACACGCTGGGCACCAACCA\n[(0, 2776418, 50)]\ntime to align read: 1.970008134841919\n"
     ]
    },
    {
     "name": "stdout",
     "output_type": "stream",
     "text": [
      "\nAligned to transcriptome\nAGGTGGTAGGTTGTACGGTCTGGAGTTACACCCTGGGAGTTAACTGTACA\nAGGTAGTAGGTTGTATGGTTTAGAGTTACACCCTGGGAGTTAACTGTACA\n[(0, 5488839, 50)]\ntime to align read: 1.5158309936523438\n"
     ]
    },
    {
     "name": "stdout",
     "output_type": "stream",
     "text": [
      "\nAligned to transcriptome\nTTAAGATTTTTCTTCCATCTCTGCTGCTCTCTCATCTGCTGGCCATTGGA\nTTAAGATTTTTCTTCCATCTCTGCTGCTCTCTCATCTGCTGGCCATTGGA\n[(0, 2069706, 50)]\ntime to align read: 1.373061180114746\n"
     ]
    },
    {
     "name": "stdout",
     "output_type": "stream",
     "text": [
      "\nAligned to genome\nATTATGTTCATTTTTAAAAAGGGATTTGATAGACAAGATCTAGAGAAACA\nATTATGTTCATTTTTAAAAAGGGATGTGATAGACAACATCTAGAGAAACA\n[(0, 3920513, 50)]\ntime to align read: 1.4758179187774658\n"
     ]
    },
    {
     "name": "stdout",
     "output_type": "stream",
     "text": [
      "\nUnaligned\nATTATGACATTCAGTATTACACTGGCAGAAACGGACAGAAAGGGTGGAGT\n[]\ntime to align read: 1.1828157901763916\n"
     ]
    },
    {
     "name": "stdout",
     "output_type": "stream",
     "text": [
      "\nUnaligned\nGAATTTACCCTCAGGTTATGTTAAATTGTTGTTATTTTTCTGTGATTATT\n[]\ntime to align read: 1.2549669742584229\n"
     ]
    },
    {
     "name": "stdout",
     "output_type": "stream",
     "text": [
      "\nAligned to transcriptome\nCCATTCAAAGACACATGCTAATGCATATTAGAGATGGACCTTGAAAATAT\nCCATTCAAAGACACATGATAATGCATATTAGAGATGGACCTTGAAAATAT\n[(0, 9547110, 50)]\ntime to align read: 1.1841351985931396\n"
     ]
    },
    {
     "name": "stdout",
     "output_type": "stream",
     "text": [
      "\nAligned to transcriptome\nCGCCTGCTCTCCTCGGGTCTGTGAAGCTACGCAGGGTGGGGCTTGTTTCA\nCGCCTGCTCTCCTCTGGTCTGTGAAGCTACGCAGGGTGGGGCTTGTTTCA\n[(0, 3019895, 50)]\ntime to align read: 1.10164475440979\n"
     ]
    },
    {
     "name": "stdout",
     "output_type": "stream",
     "text": [
      "\nUnaligned\nGATTTAGAGTTACACCCTGGGAGTTAACTGTCCAACCTTCTAGCTTTCCT\n[]\ntime to align read: 0.9506499767303467\n"
     ]
    },
    {
     "name": "stdout",
     "output_type": "stream",
     "text": [
      "\nUnaligned\nGCGATATGGAGGCTAACTCTCAAACGTTTCTGATCATGCGGTCCTATTCG\n[]\ntime to align read: 0.9505538940429688\n"
     ]
    },
    {
     "name": "stdout",
     "output_type": "stream",
     "text": [
      "\nAligned to transcriptome\nATCCCAGCAACAGCGATTCAGGTACAGAGACAGAGTTAGATGACACAGCC\nATCCCAGCAACAGCGATTCAGGAACAGAGACAGAGTTAGCTGACACAGCC\n[(0, 2477026, 50)]\ntime to align read: 0.9635159969329834\n"
     ]
    },
    {
     "name": "stdout",
     "output_type": "stream",
     "text": [
      "\nAligned to transcriptome\nGCCGAGAAATGAAGCCCAAGTTGACCGTCAAGTCCAACGCTCGCTGCAGA\nGCCGAGAAATGAATCCCAAGTTGACCGTCAAGTCCAACGCTCGCTGCAGA\n[(0, 2976586, 11), (11, 3032950, 39)]\ntime to align read: 0.983489990234375\n"
     ]
    },
    {
     "name": "stdout",
     "output_type": "stream",
     "text": [
      "\nAligned to transcriptome\nATTCGGAGTGTTTTCTTCTCTGAGGTGCCCATAATAGTCATTGACTGGGT\nATTCGGAGTGTCTTCTTCTCTGAGGTGCCCATAATAGTCATTGACTGGGT\n[(0, 3706635, 50)]\ntime to align read: 1.0574429035186768\n"
     ]
    },
    {
     "name": "stdout",
     "output_type": "stream",
     "text": [
      "\nUnaligned\nCACCATCCTGCTGAACTACGGGAGTGAAGAAGCCACAGTAGGATTTTACT\n[]\ntime to align read: 1.000499963760376\n"
     ]
    },
    {
     "name": "stdout",
     "output_type": "stream",
     "text": [
      "\nAligned to transcriptome\nGGGAGTATGTGTGATAGAAGCAATTCCTTTTATTTCTTTCACCTTTCATA\nGGGAGTATGTGTGTTAGAAGCAATTCCTTTTATTTCTTTCACCTTTCATA\n[(0, 7215327, 50)]\ntime to align read: 0.9840540885925293\n"
     ]
    },
    {
     "name": "stdout",
     "output_type": "stream",
     "text": [
      "\nAligned to transcriptome\nAGCAGGACATCTTCCTGACCTGGTAATAATTAGGTGAGAAGGATAGTTGG\nAGCAGGACATCTTCCTGACCTGGTAATAATTAGGTGAGAAGGATGGTTGG\n[(0, 2673201, 50)]\ntime to align read: 0.9634420871734619\n"
     ]
    },
    {
     "name": "stdout",
     "output_type": "stream",
     "text": [
      "\nAligned to transcriptome\nTATTATGTATGATAAAATACAACAGGGATGTAAATGACTTGAGGCTAAAA\nTATTATGTATGAAAAAATACAACAGGAATGTAAAAAACTTGAGGCTAAAA\n[(0, 2603157, 50)]\ntime to align read: 1.0862503051757812\n"
     ]
    },
    {
     "name": "stdout",
     "output_type": "stream",
     "text": [
      "\nAligned to transcriptome\nAAAATAAACACCTTTTTTTTTTCTATTTAGCACTAGTGAAAAATGTAAGC\nAAAATAAACACCTTTTTTTTTTCTTTTTAGCAAAAGTGAAAAATGTAAGC\n[(0, 3913161, 50)]\ntime to align read: 0.9991750717163086\n"
     ]
    },
    {
     "name": "stdout",
     "output_type": "stream",
     "text": [
      "\nAligned to transcriptome\nCATGGTTGAACTGTAACCGGCATTAGTCTGTGGGAAACCCATGAAACTGT\nCATGGTTGCACTGTAACCGACATTAGTCTGTGGGAAACCCATTTAACTGT\n[(0, 4000861, 50)]\ntime to align read: 0.9852681159973145\n"
     ]
    },
    {
     "name": "stdout",
     "output_type": "stream",
     "text": [
      "\nAligned to transcriptome\nTGGTTTTCCCAAGGCAAGATTTATCCACTCCACTGTGGATGTGCTGACCC\nTGGTTTTCCCAAGGCAAGATTTATTCACTGCACTCTGGATGTGCTGACCC\n[(0, 5668031, 50)]\ntime to align read: 1.0692188739776611\n"
     ]
    },
    {
     "name": "stdout",
     "output_type": "stream",
     "text": [
      "\nAligned to transcriptome\nAGAATTATGTGCCAGGTATTGCACTTAACGCCTATAATACAAACTTTTTG\nAGAATTATGGGCCAGGTATGGCACTTAACGCCTATAATACAAACATTTTG\n[(0, 2263703, 50)]\ntime to align read: 0.9927239418029785\n"
     ]
    },
    {
     "name": "stdout",
     "output_type": "stream",
     "text": [
      "\nUnaligned\nTTGTATTTTTTAGACAAACGAATGCTGAAAGAATTAGCCACTACCAAGTC\n[]\ntime to align read: 1.7648050785064697\n"
     ]
    },
    {
     "name": "stdout",
     "output_type": "stream",
     "text": [
      "\nUnaligned\nACAGTGCCTTGGTGCAAAAGCTGGAGCTGGACGTAAGGAGCGTCACTTCC\n[]\ntime to align read: 1.2199680805206299\n"
     ]
    },
    {
     "name": "stdout",
     "output_type": "stream",
     "text": [
      "\nAligned to transcriptome\nAAAAAGAATTCAGGTGGTTAGTTGTTAAGCTAATCAGGGAGGGAACATAG\nAAAAAGAATTCAGGAGGTTAGTTGTTAAGCTAATCAGGGAGGCAACAGAG\n[(0, 6654761, 50)]\ntime to align read: 1.1151180267333984\n"
     ]
    },
    {
     "name": "stdout",
     "output_type": "stream",
     "text": [
      "\nAligned to transcriptome\nCCTAAGTAAACAGCAATGAAGTTGAGAGAAAGAAGATATTGCTGGAAGTC\nCCTAAGTAAACAGCAATGAAGTTGAGAGAAAGAAGATATTGCTGGAAGTC\n[(0, 3093155, 50)]\ntime to align read: 1.05857515335083\n"
     ]
    },
    {
     "name": "stdout",
     "output_type": "stream",
     "text": [
      "\nAligned to transcriptome\nCACCGGCCACTGTGTTTTGCATAAAGGAGAGGCTCCAAAGAAGTCGGCCA\nCACCGGCCACTGTGTTTTGCATAAAGGAGAGGCTCCAAAGATGTTGGCCA\n[(0, 6562560, 50)]\ntime to align read: 1.092574119567871\n"
     ]
    },
    {
     "name": "stdout",
     "output_type": "stream",
     "text": [
      "\nUnaligned\nTAAATGCACTAGAATCAACAAACATGGGGACTAATTTACCTCGGCTATCA\n[]\ntime to align read: 1.1677820682525635\n"
     ]
    },
    {
     "name": "stdout",
     "output_type": "stream",
     "text": [
      "\nAligned to transcriptome\nCTATCCAGGCTAACAGCTTACCAGTTGAGAACGATATACATATGTCAGTT\nCTATCCAGTCTAACAGCTTACCAGTTGAGAACGATATACATATGTCAGTT\n[(0, 2725364, 50)]\ntime to align read: 1.2153239250183105\n"
     ]
    },
    {
     "name": "stdout",
     "output_type": "stream",
     "text": [
      "\nAligned to transcriptome\nCTCCCAGGAGGTACAAAAGCTATCAGTCGCTGCACCGAAGGACCCTAGGA\nCTCCCAGGAGGTACAAAAGCTATCAGTCGCTGCACCGAAGGACTCTAGGA\n[(0, 4016150, 50)]\ntime to align read: 0.9711689949035645\n"
     ]
    },
    {
     "name": "stdout",
     "output_type": "stream",
     "text": [
      "\nAligned to transcriptome\nAAAGTGCCTCATTTTTCAGTAAAGTGTCATATTCCTGGTTTACCACGTAA\nAAAGTGCCTCATTTTTCAGTAAAGTGACATATTCCTGGTTTAGCAGGTAA\n[(0, 3228611, 46), (46, 3236550, 4)]\ntime to align read: 0.9947278499603271\n"
     ]
    },
    {
     "name": "stdout",
     "output_type": "stream",
     "text": [
      "\nUnaligned\nTGCGATCGTTGCAGCCTTGCCATAGGATAAGAATTAGAGCGCAGATGCTC\n[]\ntime to align read: 1.1025588512420654\n"
     ]
    },
    {
     "name": "stdout",
     "output_type": "stream",
     "text": [
      "\nUnaligned\nGATGGAATAATATGAACACCAAACCCTTGTCTTCATATGGATTACTGGGG\n[]\ntime to align read: 1.041327953338623\n"
     ]
    },
    {
     "name": "stdout",
     "output_type": "stream",
     "text": [
      "\nAligned to transcriptome\nATATCTAACGCCTGCTGAAGCGCTATTGCCGGGAGTAGCCCTGTTACCTG\nATATCTACCGCCTGCTGAAGCGCTATTGCCGGGAGCAGCCCTGTTACCTG\n[(0, 9337741, 50)]\ntime to align read: 0.9704740047454834\n"
     ]
    },
    {
     "name": "stdout",
     "output_type": "stream",
     "text": [
      "\nUnaligned\nCTGAGGCTCCCGGTGGATTGCCATGGCTGCTAGGGGAGCTTCGTGGAGGA\n[]\ntime to align read: 0.9817841053009033\n"
     ]
    },
    {
     "name": "stdout",
     "output_type": "stream",
     "text": [
      "\nUnaligned\nAGATTGCTGGAATTACATGCGTGAGCCACCGCGCCTGACCATTACCCATG\n[]\ntime to align read: 1.0245881080627441\n"
     ]
    },
    {
     "name": "stdout",
     "output_type": "stream",
     "text": [
      "\nAligned to transcriptome\nTTGACCTGGTTGATCCAGCTGGCTAGTCCAGTGTCACCTGCCTCCTTCAT\nTTGACCTGGTTGATCCAGCTGGCTAGGCCAGTGTCCCCTGCCTCCTTCAT\n[(0, 9305703, 50)]\ntime to align read: 0.9520158767700195\n"
     ]
    },
    {
     "name": "stdout",
     "output_type": "stream",
     "text": [
      "\nAligned to genome\nTGCCCAAGGAGGAAATGACGCTGAGGCGTGTGCAATCGTTGCAGAAACTC\nTGCCCAAGGAGAAAATGAAGCTGAGGCGTGAGCAATGGTTGCAGAAAATC\n[(0, 2741755, 50)]\ntime to align read: 0.9579510688781738\n"
     ]
    },
    {
     "name": "stdout",
     "output_type": "stream",
     "text": [
      "\nAligned to transcriptome\nTGGTTTAGAGTTACACCCTGGGAGTTAACTGTACAACGTTCTAGCTTTCC\nTGGTTTAGAGTTACACCCTGGGAGTTAACTGTACAACCTTCTAGCTTTCC\n[(0, 5488854, 50)]\ntime to align read: 0.9987897872924805\n"
     ]
    },
    {
     "name": "stdout",
     "output_type": "stream",
     "text": [
      "\nUnaligned\nTTGCTAGGAATGCATGCATTCTTAGGCAGACAAAAGAAGAGTTGTTCAAG\n[]\ntime to align read: 1.3042421340942383\n"
     ]
    },
    {
     "name": "stdout",
     "output_type": "stream",
     "text": [
      "\nAligned to transcriptome\nTGCTGGCTTCAGTGGTACATATAGTTAAATTAAGACAACGTTGAGTCGAT\nTGCTGGCTTCAGTGGTACATATAGTAAAATTAAGACAACGTTGAGAAGAT\n[(0, 1996583, 50)]\ntime to align read: 1.8495972156524658\n"
     ]
    },
    {
     "name": "stdout",
     "output_type": "stream",
     "text": [
      "\nAligned to transcriptome\nAAATAATGACGATGCACCAAAAGGTTGAAAGTGGTTGTAGGATAAATTGG\nAAATAATGACGATGCATCAAAAGGTTGAAAGTGGTTGGAGGATAAATTGG\n[(0, 8250749, 50)]\ntime to align read: 1.6602401733398438\n"
     ]
    },
    {
     "name": "stdout",
     "output_type": "stream",
     "text": [
      "\nAligned to transcriptome\nTGTGGTCAATAAAAGACTGTTCTTCTGTTTAGGGTATAAATTATTCATTA\nTGTGTTCATTAAAAGACTGTTCTTCTGTTTAGGGTATAAATGATTCATTA\n[(0, 9305789, 50)]\ntime to align read: 1.7365608215332031\n"
     ]
    },
    {
     "name": "stdout",
     "output_type": "stream",
     "text": [
      "\nAligned to transcriptome\nAGTATAAACAAGTACCGAGCGAAGACTTTGAACGCATTCCTCAGAGTCCG\nAGTATAAACAAGTACCGAGGGAAGACTTTGAACGCACTCCTCAGAGTCCG\n[(0, 2625967, 50)]\ntime to align read: 1.277937889099121\n"
     ]
    },
    {
     "name": "stdout",
     "output_type": "stream",
     "text": [
      "\nUnaligned\nCTGCTCTGCTTCGTGCTCCTGTGCGGAGTAGTGGTTTCGCCAGAAGTTAG\n[]\ntime to align read: 1.8716309070587158\n"
     ]
    },
    {
     "name": "stdout",
     "output_type": "stream",
     "text": [
      "\nAligned to transcriptome\nCCAAACATTTACTGAACCCTTAAACACTTCCTGATTCTTTAAACTGTCCC\nCCAAACATTTACTGAAACCTTAAACTCTTACTGATTCTTTAAACTGTCCC\n[(0, 2718948, 50)]\ntime to align read: 1.1350200176239014\n"
     ]
    },
    {
     "name": "stdout",
     "output_type": "stream",
     "text": [
      "\nAligned to transcriptome\nGAGGATGTTGTGTTCATTAAAAGACTGTTCTTCTGTTTAGGGTATAAATG\nGAGGATGATGTGTTCATTAAAAGACTGTTCTTCTGTTTAGGGTATAAATG\n[(0, 9305781, 50)]\ntime to align read: 1.1906509399414062\n"
     ]
    },
    {
     "name": "stdout",
     "output_type": "stream",
     "text": [
      "\nAligned to transcriptome\nGCTCTGAGCAATGGAGAGAAAGGATTTAGTTATAAGGGTTCCTGCTTTCA\nGCTCTGAGCACTGGAGAGAAAGGATTTGGTTATAAGGGTTCCTGCTTTCA\n[(0, 7806889, 50)]\ntime to align read: 1.1291701793670654\n"
     ]
    },
    {
     "name": "stdout",
     "output_type": "stream",
     "text": [
      "\nAligned to transcriptome\nTGCTGCAAGGGGTGCTGTCCACCCTCACCAAGACCAGCTATTCCTTCTGG\nTGCTGCAAGGTGTGCTGTCCACCCTCACCAACACCAGCTCATTCTTCTGG\n[(0, 6245455, 50)]\ntime to align read: 5.726873874664307\n"
     ]
    },
    {
     "name": "stdout",
     "output_type": "stream",
     "text": [
      "\nUnaligned\nCTGATAAGCAGCAGGTGGATCAAGTGTTTTTTTAGATTCTGGAGACAAAA\n[]\ntime to align read: 1.3116440773010254\n"
     ]
    },
    {
     "name": "stdout",
     "output_type": "stream",
     "text": [
      "\nAligned to transcriptome\nGCACTCCTCAGAGTCCGACTCTCCCACCTGCTGAGGTAGCTACCCCTAAT\nGCACTCCTCAGAGTCCGACTCTCCCACCTGCTAAGGTAGCTGCCCCTAAT\n[(0, 2626000, 50)]\ntime to align read: 1.3854539394378662\n"
     ]
    },
    {
     "name": "stdout",
     "output_type": "stream",
     "text": [
      "\nAligned to transcriptome\nAATTATAAATTCAATAACCTGACAAGTGTCATGTTAAAATACAGATGGAG\nAATTATAAATTCAACAACCGGACAAGTGTCATGTTAAAAGACAGATGGAG\n[(0, 2726170, 50)]\ntime to align read: 1.442140817642212\n"
     ]
    },
    {
     "name": "stdout",
     "output_type": "stream",
     "text": [
      "\nAligned to transcriptome\nGAAGACATTGGGGACCCATCTTTAGCCTCCTCAAACAAAATAATTATCAG\nGAAGACATTGGGGACCTATCTTCAGCCTCCTCAAACAAAACAATTATCAG\n[(0, 6655419, 50)]\ntime to align read: 1.295961856842041\n"
     ]
    },
    {
     "name": "stdout",
     "output_type": "stream",
     "text": [
      "\nAligned to transcriptome\nTGGTGTGGGAAACAAACTTTAAGTAGTAGTGATTAATCTTTCCAATGAAT\nTGGTGTGCAAAACAAACTTTAAGTAGTAGTGATTAATCTTTCCAATGAAT\n[(0, 8252587, 50)]\ntime to align read: 1.3168718814849854\n"
     ]
    },
    {
     "name": "stdout",
     "output_type": "stream",
     "text": [
      "\nAligned to transcriptome\nCACACATATATGGGAATTGGAACAGTGCAGAGATTAGCGTGGCTCCTGTG\nCACACATATATGGAAATTGGAACAGTGCAGAGATTAGCGTGGCTCCTGTG\n[(0, 6380557, 50)]\ntime to align read: 1.3846750259399414\n"
     ]
    },
    {
     "name": "stdout",
     "output_type": "stream",
     "text": [
      "\nUnaligned\nAAGTCATGTGAATTATGTACTAAGTGAAAAATCATCAACCTTTCTAATGA\n[]\ntime to align read: 1.3067851066589355\n"
     ]
    },
    {
     "name": "stdout",
     "output_type": "stream",
     "text": [
      "\nAligned to transcriptome\nCCCTGTGACCCTAACTTGTGAGGTATTTTAGTAACATCACAAGTCAGGCT\nCCCTGAGACCCTAACTTGTGAGGTATTTTAGTAACATCACAAGTCAGGCT\n[(0, 5539253, 50)]\ntime to align read: 1.2652161121368408\n"
     ]
    },
    {
     "name": "stdout",
     "output_type": "stream",
     "text": [
      "\nAligned to transcriptome\nTGCGTGGAGCCGGGGCCGAGCGGTCACAGACGCTCCGCGTGAACGTGGTG\nTGCGTGGAGCCGGGGCCGAGCGGCCACAGGCGCTGCGCGTGAACGTGGTG\n[(0, 2654338, 50)]\ntime to align read: 1.2199170589447021\n"
     ]
    },
    {
     "name": "stdout",
     "output_type": "stream",
     "text": [
      "\nAligned to transcriptome\nGTGGCAAGTCCATCTATGGGGAGAAATTTGAAGATGAGAAGTTCACCCTA\nGTGGCAAGTCCATCTATGGGGAGAAATTTGAAGATGAGAACTTCATCCTA\n[(0, 7806998, 50)]\ntime to align read: 1.1212701797485352\n"
     ]
    },
    {
     "name": "stdout",
     "output_type": "stream",
     "text": [
      "\nAligned to transcriptome\nGAGGAAGTAGGCAGCTGACACAAAGTTCTGCAATTGCCTGTGACAAACTG\nGAGGAAGTAGGCAGCTGACACAAAGTTCTGCAATTGCCTGTGCCAAACTG\n[(0, 2949969, 50)]\ntime to align read: 1.0142722129821777\n"
     ]
    },
    {
     "name": "stdout",
     "output_type": "stream",
     "text": [
      "\nAligned to transcriptome\nCACGGTCTGCAAGCGCGGCGTGAAGCCGGGTCCGAGCGGCCACAGGCGCT\nCACGGTCTGCAAGCGCTGCGTGGAGCCGGGGCCGAGCGGCCACAGGCGCT\n[(0, 2654322, 50)]\ntime to align read: 0.9912288188934326\n"
     ]
    },
    {
     "name": "stdout",
     "output_type": "stream",
     "text": [
      "\nUnaligned\nAGGTGACTGTGTACAAGGTTGGTGCAAAAGTGCTTGCCATTTTAGAGCAT\n[]\ntime to align read: 0.9447450637817383\n"
     ]
    },
    {
     "name": "stdout",
     "output_type": "stream",
     "text": [
      "\nAligned to transcriptome\nGAGAGTTTTAGACATTGGCTCTCATCGAAAAAATTGTGAAAAGGGACTGT\nGAGAGTTTTAGACATTGACCCTCATCTAAAAAATTGTGAAAAAGGACTCT\n[(0, 3093243, 50)]\ntime to align read: 0.9994180202484131\n"
     ]
    },
    {
     "name": "stdout",
     "output_type": "stream",
     "text": [
      "\nUnaligned\nGCTTGAAATCCCTTTTTACCCTTTCTCCGGGCGGTTATTGACATACAAAT\n[]\ntime to align read: 0.9835209846496582\n"
     ]
    },
    {
     "name": "stdout",
     "output_type": "stream",
     "text": [
      "\nAligned to transcriptome\nTACACCTCAAAACTAGCAATCTTTAACATATAAGAACAGCTAACAACAAA\nTACACCTCAAAACTAGCAATCATTAACAAATGAGAACAGCTAACAACTAA\n[(0, 7599173, 50)]\ntime to align read: 0.9870851039886475\n"
     ]
    },
    {
     "name": "stdout",
     "output_type": "stream",
     "text": [
      "\nAligned to transcriptome\nTGGTTGAATGAGGCAGCTAAAAATTGTGTACCGCAGGTTCAGGCATGGAT\nTGGTTGAATGAGGCAGCTAAAAATTGTGTACAGCAGGTTCAGGCATGGAT\n[(0, 8543017, 50)]\ntime to align read: 0.9774770736694336\n"
     ]
    },
    {
     "name": "stdout",
     "output_type": "stream",
     "text": [
      "\nAligned to transcriptome\nCTCTTGATGGCCACGGAGGAAGTAGGCAGCTGACACAAAGTTCTGCAATA\nCTCTTGCTGGCCACGGAGGAAGTAGGCAGCTGACACAAAGTTCTGCAATT\n[(0, 2949954, 50)]\ntime to align read: 0.9799270629882812\n"
     ]
    },
    {
     "name": "stdout",
     "output_type": "stream",
     "text": [
      "\nUnaligned\nTTGACCAGGTCAGCACGGTCCCCGCAGAAGGATGACATAGAAATCTGTAA\n[]\ntime to align read: 0.9882891178131104\n"
     ]
    },
    {
     "name": "stdout",
     "output_type": "stream",
     "text": [
      "\nUnaligned\nAGTGAGACATTTAGTCTTAGTCGTCTTGGTAACTTGAGCACAGACCTGGC\n[]\ntime to align read: 0.9834249019622803\n"
     ]
    },
    {
     "name": "stdout",
     "output_type": "stream",
     "text": [
      "\nAligned to transcriptome\nAAAATTAGCAGGGACTTAGCACAAGGATGACATGCAAATTCATAAAGCAT\nAAAATTAGCAGGGCCTTTGCACAAGGATGACATGCAAATTCATAAAGCAT\n[(0, 4563328, 50)]\ntime to align read: 0.9616687297821045\n"
     ]
    },
    {
     "name": "stdout",
     "output_type": "stream",
     "text": [
      "\nAligned to transcriptome\nTCAGGATAACTAGCACCGTGCACACCCTGCACCAACCATCTGCTCTGAGC\nTCAGGATCACTAGCACCGTGCAGGCCCTGCACCAACCATCTGCTCTGAGC\n[(0, 6245533, 50)]\ntime to align read: 0.9334390163421631\n"
     ]
    },
    {
     "name": "stdout",
     "output_type": "stream",
     "text": [
      "\nAligned to transcriptome\nATAGTAAACTTAAGACAACGTTGAGAAGATCTGCATGGTCCCCGCACAAG\nATAGTAAAATTAAGACAACGTTGAGAAGATCAGCATGGTCCCCGCACAAG\n[(0, 1996603, 50)]\ntime to align read: 0.9161841869354248\n"
     ]
    },
    {
     "name": "stdout",
     "output_type": "stream",
     "text": [
      "\nAligned to transcriptome\nCATGTACATCTTTATCAAGTGGAACCAGGATAGTGGTAAAACCTCTGATT\nCATGTACATCTATATCATGTGGAACAAGGATAGTGGGAAAACCTCTGATT\n[(0, 3092794, 50)]\ntime to align read: 0.9328820705413818\n"
     ]
    },
    {
     "name": "stdout",
     "output_type": "stream",
     "text": [
      "\nAligned to transcriptome\nAGGGAGCTGCTATGCAATTTCAGGATTGGTGGCTACAGCTTCACCTGTGC\nAGGGAGCTGCTATGCAATTTCAGGATTGGTGCCGACATCTTCACCTGTGC\n[(0, 6759531, 50)]\ntime to align read: 0.9405138492584229\n"
     ]
    },
    {
     "name": "stdout",
     "output_type": "stream",
     "text": [
      "\nAligned to transcriptome\nAGAAAAAAAGTCATCTGTTTCTGGTCCTGTCCCCCTCACTGCAAGGCACT\nAGAAAAATAGTCATCTGTTTCTGTTCCTGTCCCCCTCACTGCAAGGCACT\n[(0, 3540423, 45), (45, 3543694, 5)]\ntime to align read: 0.928887128829956\n"
     ]
    },
    {
     "name": "stdout",
     "output_type": "stream",
     "text": [
      "\nAligned to transcriptome\nAGAACTCTTGTTTTATCACAGATTATATCAAAACTATTTCCCTAGGCTTT\nAGAACTCTTGTATTATCACAGATTATATCAAAACTATGGCTCTAGGCTTT\n[(0, 2496048, 50)]\ntime to align read: 0.9567790031433105\n"
     ]
    },
    {
     "name": "stdout",
     "output_type": "stream",
     "text": [
      "\nUnaligned\nCTAAATGAAAAGGCAATGCAGGCAATGGAAAAATTAGTACAATTCCCTTT\n[]\ntime to align read: 0.9325900077819824\n"
     ]
    },
    {
     "name": "stdout",
     "output_type": "stream",
     "text": [
      "\nUnaligned\nAGCGACTCTGCACAAGGATGACATGCAAAATCATAAAGAATTCCAGCTTT\n[]\ntime to align read: 0.9291427135467529\n"
     ]
    },
    {
     "name": "stdout",
     "output_type": "stream",
     "text": [
      "\nAligned to transcriptome\nGCTCACTGCAGCCTCGATCTCCTGGACTCAACTAATCCTCCTGCCTCAGC\nGCTCACTGCAGCCTCGATCTCCTGGACTCAACTAATCCTCCTGCCTCAGC\n[(0, 6393127, 50)]\ntime to align read: 0.9432411193847656\n"
     ]
    },
    {
     "name": "stdout",
     "output_type": "stream",
     "text": [
      "\nAligned to transcriptome\nACTTTTCCTAGTCCCTGAGCCCCTAACTTGTGAGGTATTTTATTAACATC\nACTTTTCCTAGTCCCTGAGACCCTAACTTGTGAGGTATTTTAGTAACATC\n[(0, 5539241, 50)]\ntime to align read: 0.917961835861206\n"
     ]
    },
    {
     "name": "stdout",
     "output_type": "stream",
     "text": [
      "\nAligned to transcriptome\nGACAACGTTGAGAAGATCAGCATGGTCCCCGCACAAGGATGACATAGAAA\nGACAACGTTGAGAAGATCAGCATGGTCCCCGCACAAGGATGACATAGAAA\n[(0, 1996616, 50)]\ntime to align read: 0.981147289276123\n"
     ]
    },
    {
     "name": "stdout",
     "output_type": "stream",
     "text": [
      "\nAligned to transcriptome\nCCAAAGACAGTGGTCACTCTGTATCCATGTAAATAGACACCGTAATTTAT\nCCAAAGACAGTGGTCACTCTTTATCCATGTAAATAGACACCGTAATTTAT\n[(0, 2720686, 50)]\ntime to align read: 1.0354759693145752\n"
     ]
    },
    {
     "name": "stdout",
     "output_type": "stream",
     "text": [
      "\nUnaligned\nGTACCCAACTGGTACACAGATGAACCTTCCTGCGGAAGTGAAAAGTGTGT\n[]\ntime to align read: 0.9674160480499268\n"
     ]
    },
    {
     "name": "stdout",
     "output_type": "stream",
     "text": [
      "\nAligned to transcriptome\nCGCCCCGCGACCTGCTCGGCTGCCCGCGGCTGCTGCACAAGCTGGCGACA\nCGCCCCGCGACCTGCTCGGCTGCCCGCGGCTGCTGCACAAGCCGGTGACA\n[(0, 2654258, 50)]\ntime to align read: 0.9283778667449951\n"
     ]
    },
    {
     "name": "stdout",
     "output_type": "stream",
     "text": [
      "\nUnaligned\nACCCGCCCATGCCTCCCAAAGTGGTGGGATTATCGGTGTGACCCACCAAC\n[]\ntime to align read: 1.2092647552490234\n"
     ]
    },
    {
     "name": "stdout",
     "output_type": "stream",
     "text": [
      "\nAligned to transcriptome\nGCTTTGGCGCCACATATCCTAAAATTTGAACAATACAGAGAAAGTTAGAA\nGCTTTGGCGGCACATATCCTAAAATTGGAACAATACAGAGAAAGTTAGCA\n[(0, 2570582, 50)]\ntime to align read: 0.934398889541626\n"
     ]
    },
    {
     "name": "stdout",
     "output_type": "stream",
     "text": [
      "\nUnaligned\nAGAGAAAATTAGGAGGGCCTTGGCTCAAGGGTGAAATGCAAATTCATAAT\n[]\ntime to align read: 2.660317897796631\n"
     ]
    },
    {
     "name": "stdout",
     "output_type": "stream",
     "text": [
      "\nAligned to transcriptome\nGATTAATCTTTCCAATGGATTTTTCTGTTTATAGCCCATTAATTTTCAAT\nGATTAATCTTTCCAATGAATTTTTCTGTTTTTAGCCCATTAATTTTCAAT\n[(0, 8252617, 50)]\ntime to align read: 0.9167840480804443\n"
     ]
    },
    {
     "name": "stdout",
     "output_type": "stream",
     "text": [
      "\nAligned to transcriptome\nTTTCTCAACCCCACAAAAATCCAATCACTGAAATCCTGAACTCTTTTGAT\nTTTCTCAACCCCACAAAAATCCAATCACTGAAATCCTGAACTCTTTTGAT\n[(0, 4016660, 50)]\ntime to align read: 0.9621860980987549\n"
     ]
    },
    {
     "name": "stdout",
     "output_type": "stream",
     "text": [
      "\nUnaligned\nCATCCTGTATCCAAATAAATAAATATCTAATATAGGAATTATCAAATTCA\n[]\ntime to align read: 0.908552885055542\n"
     ]
    },
    {
     "name": "stdout",
     "output_type": "stream",
     "text": [
      "\nAligned to genome\nACATCTTCCTGACCTGGTAATAACTAGGTGAGTAGGATGTTTGGGGGCGC\nACATCTTCCTGACCTGGTAATAATTAGGTGAGAAGGATGGTTGGGGGCGG\n[(0, 2673207, 50)]\ntime to align read: 0.9583957195281982\n"
     ]
    },
    {
     "name": "stdout",
     "output_type": "stream",
     "text": [
      "\nUnaligned\nCAGGGTGCATTGTGGTGCTGCTGTCCTGTGGATTCTTTTTGCTCAGCTCA\n[]\ntime to align read: 0.9517178535461426\n"
     ]
    },
    {
     "name": "stdout",
     "output_type": "stream",
     "text": [
      "\nUnaligned\nTGAGTCAGCTTTTCATGGAGTTCTACTTTATCATGAAACCTAGCACACGG\n[]\ntime to align read: 1.138503074645996\n"
     ]
    },
    {
     "name": "stdout",
     "output_type": "stream",
     "text": [
      "\nAligned to transcriptome\nTATTCTTCTCCTAGGCCATCTGCCTGGGGGCCTTGTCCTCTCTACGGAGC\nTATTCTTCTCCTAGGCCATCTGCCTGGGGGCCGTGACCTCTCTACGGAGC\n[(0, 8194427, 50)]\ntime to align read: 0.9249489307403564\n"
     ]
    },
    {
     "name": "stdout",
     "output_type": "stream",
     "text": [
      "\nAligned to transcriptome\nAAAGTGCTTGCCATTTTGGACCATGAATTTTGAATCATTAAAACTAGGCT\nAAAGTGCTTGCCATTTTGGACCATGAATTTTGAATCATTAAAACTAGGCT\n[(0, 5475039, 50)]\ntime to align read: 0.9344990253448486\n"
     ]
    },
    {
     "name": "stdout",
     "output_type": "stream",
     "text": [
      "\nAligned to transcriptome\nACAATGTCTGAAGATTTCATACACATAATGTTGGGATCTTCCCTTTCCTT\nACAATGTCTGAAGATTTCATACACATAATATTGGGATCTTCCCTTTCCTT\n[(0, 3999409, 50)]\ntime to align read: 0.9464199542999268\n"
     ]
    },
    {
     "name": "stdout",
     "output_type": "stream",
     "text": [
      "\nAligned to transcriptome\nACAGTGAGTAGTATTTTATTACATGAATATGCCAGAATGTCCGAGTCCAC\nACAGTGAGTAGTATTCTATTACATGAATATACCAGAATGTCTGAATCCAC\n[(0, 5593928, 50)]\ntime to align read: 0.9348089694976807\n"
     ]
    },
    {
     "name": "stdout",
     "output_type": "stream",
     "text": [
      "\nAligned to transcriptome\nTGCTAATTATGTGGAGACTTGTTTGTTGTTGTTCTTTGTTTTTATAGGTA\nTGCTAATTATGTGGAGACTTGTTTGTTGTTGTTCTTTGTTTTTTTAAGTA\n[(0, 4016769, 50)]\ntime to align read: 0.9531362056732178\n"
     ]
    },
    {
     "name": "stdout",
     "output_type": "stream",
     "text": [
      "\nAligned to transcriptome\nGCTATGCAATTTCAGGATTGGTGCCCACAACTTCACCTGTGCTCACACTG\nGCTATGCAATTTCAGGATTGGTGCCGACATCTTCACCTGTGCTCACACTG\n[(0, 6759539, 50)]\ntime to align read: 0.9493377208709717\n"
     ]
    },
    {
     "name": "stdout",
     "output_type": "stream",
     "text": [
      "\nUnaligned\nATAGGGTGAGTCTCTGCAATGTTGGATGCAGCCTAACGTTTCAGACGACC\n[]\ntime to align read: 0.9850070476531982\n"
     ]
    },
    {
     "name": "stdout",
     "output_type": "stream",
     "text": [
      "\nUnaligned\nCTTCTTTTTTTCTTTTTTGCAAAAGTGAAAAATGTAAGCATATATTTTTC\n[]\ntime to align read: 0.9211180210113525\n"
     ]
    },
    {
     "name": "stdout",
     "output_type": "stream",
     "text": [
      "\nAligned to transcriptome\nCTGGACTGCATAATTTGTGGTAGCGGGGGACTGCAAGAATACCTTCCTCT\nCTGGACTGCATAATTTGTGGTAGCGGGGGACTGCATTAATACCTTCCTCT\n[(0, 8294261, 50)]\ntime to align read: 0.9310650825500488\n"
     ]
    },
    {
     "name": "stdout",
     "output_type": "stream",
     "text": [
      "\nAligned to genome\nGCGGGCGCCTGTAATCCCAGCTACAGCTGAGGCTGAGTCCGGAGGATCGC\nGCGGGCGCCTGTAATCCCAGCTACAGGGGAGGCTGAGTCAGGAGAATCGC\n[(0, 6455465, 50)]\ntime to align read: 0.9629712104797363\n"
     ]
    },
    {
     "name": "stdout",
     "output_type": "stream",
     "text": [
      "\nAligned to transcriptome\nTAGTATTTGTGTATCTTCAAATGAGCTCCAATCCAGAACTGAAAATGAAC\nTAGTATTTGTGTATCTTTAAATGAGCTACAATCCAGAACTGAAAATGAAC\n[(0, 3999501, 50)]\ntime to align read: 0.9382579326629639\n"
     ]
    },
    {
     "name": "stdout",
     "output_type": "stream",
     "text": [
      "\nAligned to transcriptome\nGCAGTAAGAAATAGACCATCCCTCAAACAGTACAATAAATTTTATTTGTA\nGCAGTAATAAATATACCATCCCCCAAACAGTACAATAAACTTTATTTGTA\n[(0, 6563053, 50)]\ntime to align read: 0.9396231174468994\n"
     ]
    },
    {
     "name": "stdout",
     "output_type": "stream",
     "text": [
      "\nAligned to transcriptome\nGAAGATGCGCTCCACGCTGGGCACCAACCAGAGCAGCCAGGTCTTCAGCC\nGAAGATGGGCTACACGCTGGGCACCAACCAGAGCAGCCAGGTCTTCAGCC\n[(0, 2776438, 50)]\ntime to align read: 1.0370209217071533\n"
     ]
    },
    {
     "name": "stdout",
     "output_type": "stream",
     "text": [
      "\nUnaligned\nAGCTCCAAATGTGATGGCATCAAGAAAACGGTAAAGCCGGTAGCAGAGGG\n[]\ntime to align read: 0.9396569728851318\n"
     ]
    },
    {
     "name": "stdout",
     "output_type": "stream",
     "text": [
      "\nAligned to genome\nTCTCAAAAAAAAAAAGAAAAGAAAAAGAAAATTTGAGACGGAGTCTGGCT\nTCTCAAAAAAAAAAAGAAAAGAAAAAGAAAATTTGAGACGGAGTCTGGCT\n[(0, 6455594, 50)]\ntime to align read: 2.897883176803589\n"
     ]
    },
    {
     "name": "stdout",
     "output_type": "stream",
     "text": [
      "\nAligned to transcriptome\nCTCATCACCGCATCTTCTTCAACCCTGCTGTGGACGTGTAACCCAGTCTT\nCTCATCATCTCATCTTCTTCAACCCTGCTGTGGACGTGTAACCCAGTCTT\n[(0, 2426105, 50)]\ntime to align read: 0.9430851936340332\n"
     ]
    },
    {
     "name": "stdout",
     "output_type": "stream",
     "text": [
      "\nAligned to transcriptome\nGCGCATGAAAGAATGTGCGACAGAAAATGAGACACATCAATGAGGTTGTG\nGCGCATGAAAGAATGTGCCACAGAAAATGAGACACATCAATGAGGTTGTG\n[(0, 5580444, 45), (45, 5589230, 5)]\ntime to align read: 0.9866838455200195\n"
     ]
    },
    {
     "name": "stdout",
     "output_type": "stream",
     "text": [
      "\nUnaligned\nAAAGGAAAAAAGAAAAAATCAAACTGAAAAATAAGCGAAAGGTCTTATCC\n[]\ntime to align read: 1.0233492851257324\n"
     ]
    },
    {
     "name": "stdout",
     "output_type": "stream",
     "text": [
      "\nAligned to transcriptome\nACGGGAGTGAAGAAGCCACAGTAGTACTTTACTAGAAGTGAGGATTGGAG\nACGGGAGTGAAGAAGCCACAGTAGGACTTTACTAGAAGTGAGGATTGGAG\n[(0, 8079622, 50)]\ntime to align read: 0.9649341106414795\n"
     ]
    },
    {
     "name": "stdout",
     "output_type": "stream",
     "text": [
      "\nUnaligned\nTTCCCCCAGCGCCGGCGCCCTCTGTCCGTTATGTAGCCTGCTGGGAGATG\n[]\ntime to align read: 0.9492490291595459\n"
     ]
    },
    {
     "name": "stdout",
     "output_type": "stream",
     "text": [
      "\nUnaligned\nTGGGCATTCAGTGAAGGCCCCTGCCTTGACCCCATTATCAACAGGAACCA\n[]\ntime to align read: 1.099574089050293\n"
     ]
    },
    {
     "name": "stdout",
     "output_type": "stream",
     "text": [
      "\nAligned to transcriptome\nGTTACTCAAAATGTGATTCAATTCAGTTATTGATTCATCATACAATAACT\nGTTACTCAAAATGTGATTCAATTCAGTTATTCATTCAACATACGATAACT\n[(0, 4295678, 50)]\ntime to align read: 1.0269951820373535\n"
     ]
    },
    {
     "name": "stdout",
     "output_type": "stream",
     "text": [
      "\nUnaligned\nGACCTGTACAGCAGTAAATTAATAAGTGAGCATTATTTGAAGCTGCTAAG\n[]\ntime to align read: 1.1129992008209229\n"
     ]
    },
    {
     "name": "stdout",
     "output_type": "stream",
     "text": [
      "\nAligned to transcriptome\nAAATTTCTAATAAAAATGGCAAATTATATTACTGAGCAGATCGCATCAAA\nAAATTTCTAATAAAAATGGCAAATTATATTACTGAGCAGATCGCATCAAA\n[(0, 3910358, 50)]\ntime to align read: 0.9918100833892822\n"
     ]
    },
    {
     "name": "stdout",
     "output_type": "stream",
     "text": [
      "\nUnaligned\nTCAGTCATCCCTGGGGTCCATGTCTCCTTCCAACATGGGTGGATATTCCA\n[]\ntime to align read: 0.9680309295654297\n"
     ]
    },
    {
     "name": "stdout",
     "output_type": "stream",
     "text": [
      "\nAligned to transcriptome\nGGTGCCCCCTAGACCCCGTAAAGAACAAAGCCCCTCCTCTGGAGGGTGAC\nGGTGCCCCCTAGACCCTGGAAAGAACAAAGCCCCTCCTCTGGAGGGTGAC\n[(0, 2961225, 50)]\ntime to align read: 0.9218349456787109\n"
     ]
    },
    {
     "name": "stdout",
     "output_type": "stream",
     "text": [
      "\nAligned to transcriptome\nCAGAGATTAGCGTGGCTCCAGTGCAAGTATGACACACAAATTTGTGATGT\nCAGAGATTAGCGTGGCTCCTGTGCAAGGATGACACACAAATTTGTGATGT\n[(0, 6380584, 50)]\ntime to align read: 0.9408218860626221\n"
     ]
    },
    {
     "name": "stdout",
     "output_type": "stream",
     "text": [
      "\nAligned to transcriptome\nAAGATAAATTCTCCAGTTGACAACCTCTCCCACTAATTGTGTATTAGCAA\nAAGATAAATTCTCCAGTAGACAACCTCTCCCACTAATTGTGTATTAGCAA\n[(0, 5368528, 50)]\ntime to align read: 0.9465851783752441\n"
     ]
    },
    {
     "name": "stdout",
     "output_type": "stream",
     "text": [
      "\nAligned to transcriptome\nGCTTTAAACACCCAGAATCGGTGTCTTATGCCATAGCTTTGCTGAATGGA\nGCTTTAAACACCCAGAATCGGTGTCTTATGCCATAGCTTTGCTGAATGGA\n[(0, 3168632, 50)]\ntime to align read: 0.9327199459075928\n"
     ]
    },
    {
     "name": "stdout",
     "output_type": "stream",
     "text": [
      "\nUnaligned\nCTCCTTCTTCTTATTCTGTTTTCACAACCTCACAAAAATCCAATCACTGA\n[]\ntime to align read: 0.9635429382324219\n"
     ]
    },
    {
     "name": "stdout",
     "output_type": "stream",
     "text": [
      "\nAligned to transcriptome\nGGAATTTTTACTGACAAAAAAATGGAAATGCAAATGGAGTTGATAAGTTT\nGGAATTTTTACTGACAAAAAAATGCAAATGCAAATGGAGTTGATAAGTTT\n[(0, 1994215, 50)]\ntime to align read: 0.9278059005737305\n"
     ]
    },
    {
     "name": "stdout",
     "output_type": "stream",
     "text": [
      "\nUnaligned\nATAAAAAGGAGTCCATTACCTACCGGCAGGACCAAGGCATCCTGTCTCGG\n[]\ntime to align read: 1.211543083190918\n"
     ]
    },
    {
     "name": "stdout",
     "output_type": "stream",
     "text": [
      "\nUnaligned\nCCTTCTTTCTTTGCCGAGCTTTCCGCGACGGCCGCTCGGAGGGCTTCAGC\n[]\ntime to align read: 0.9830338954925537\n"
     ]
    },
    {
     "name": "stdout",
     "output_type": "stream",
     "text": [
      "\nAligned to transcriptome\nTTATCCCCTATAACCAACACTCAACTACAAATAGGCTGGGATTCAATGTG\nTTATCCCCTATAACCAACACTCAACTACAAATAGGCTGGGATTCAATGTG\n[(0, 3176632, 50)]\ntime to align read: 0.9326272010803223\n"
     ]
    },
    {
     "name": "stdout",
     "output_type": "stream",
     "text": [
      "\nUnaligned\nACGCTCTTGACTACATTTCTACTTAAACTCAAACCACAGGAAGAATATAA\n[]\ntime to align read: 3.240072250366211\n"
     ]
    },
    {
     "name": "stdout",
     "output_type": "stream",
     "text": [
      "\nUnaligned\nTTAGTACCATGTAAAGGCATGTGAAGACAGAACTGGAGAATGCCAGGTGA\n[]\ntime to align read: 0.9804363250732422\n"
     ]
    },
    {
     "name": "stdout",
     "output_type": "stream",
     "text": [
      "\nAligned to transcriptome\nCTTGCCATTTTGGACCATGAATTCTGAATCATTAAAACTAGGCTCAAACA\nCTTGCCATTTTGGACCATGAATTTTGAATCATTAAAACTAGGCTCAAACA\n[(0, 5475045, 50)]\ntime to align read: 0.9501631259918213\n"
     ]
    },
    {
     "name": "stdout",
     "output_type": "stream",
     "text": [
      "\nAligned to transcriptome\nTACTGCCACAAGCCCAAGAATGAGGAAACCACCAGGAGCTAGAAGAAACA\nTACTGCCACAAGCCCAAGAATGAGGAAACCACCAGGAGCTAGAAGAAACA\n[(0, 10746252, 50)]\ntime to align read: 0.9446258544921875\n"
     ]
    },
    {
     "name": "stdout",
     "output_type": "stream",
     "text": [
      "\nUnaligned\nGCCCCGGAGAAGGTTACTAGATGACTCATCCGTGCTCTGGATCCGGTCGA\n[]\ntime to align read: 2.620119094848633\n"
     ]
    },
    {
     "name": "stdout",
     "output_type": "stream",
     "text": [
      "\nAligned to genome\nTTACTGGAATATTCTGGGAGGCAAAAATCTCTCCTTTTGGCTTTCTCCCT\nTTACTGGAATATTCTGGCAGGCAAAAGTCTCTCCTTTTGGCTTTCTCCCT\n[(0, 10734027, 28), (28, 10735301, 22)]\ntime to align read: 0.9791128635406494\n"
     ]
    },
    {
     "name": "stdout",
     "output_type": "stream",
     "text": [
      "\nAligned to transcriptome\nACTAATGCAATGCATTATGCTTCATGTGACCAGCCGCACCAACTGCAAGA\nACTAATGCAATGCATTATGCTTCATGTGACCAGCAGCACCAACTGCAAGA\n[(0, 2719194, 19), (19, 2720565, 31)]\ntime to align read: 0.9252932071685791\n"
     ]
    },
    {
     "name": "stdout",
     "output_type": "stream",
     "text": [
      "\nUnaligned\nAGAGCGTTTGCACAAGGATGACATGCAAATTCATGAAGAATTCCTCCTTT\n[]\ntime to align read: 1.0605721473693848\n"
     ]
    },
    {
     "name": "stdout",
     "output_type": "stream",
     "text": [
      "\nAligned to transcriptome\nGCCTTATTCATAGTGTTTGCTGATACTTTGTCCTTCACTAGCCCACTCAT\nGCCTTATTCAAAGTGTTTGCTGATATTTTGTCCTTCACTAGCCCACTCAT\n[(0, 3237490, 50)]\ntime to align read: 1.006011962890625\n"
     ]
    },
    {
     "name": "stdout",
     "output_type": "stream",
     "text": [
      "\nAligned to transcriptome\nCCTTTCTCCGGGCTGTTATTGTCTGACAAATTAAATCTTTATACATTTTG\nCCTTTCTCCGGGCTGTTATTGTCATACAAATTACATCTTTATACATGTTG\n[(0, 2505404, 50)]\ntime to align read: 0.9817721843719482\n"
     ]
    },
    {
     "name": "stdout",
     "output_type": "stream",
     "text": [
      "\nAligned to transcriptome\nGATTAGCGTGGCTCCTGTACAAGGATGACACCAAAATTTTTGATGTGTTC\nGATTAGCGTGGCTCCTGTGCAAGGATGACACACAAATTTGTGATGTGTTC\n[(0, 6380588, 50)]\ntime to align read: 0.9554049968719482\n"
     ]
    },
    {
     "name": "stdout",
     "output_type": "stream",
     "text": [
      "\nUnaligned\nTATAGGGTTAAAATACAAGATTGTTGACAGGTAGCATACTGGTGTAAAGG\n[]\ntime to align read: 1.9762539863586426\n"
     ]
    },
    {
     "name": "stdout",
     "output_type": "stream",
     "text": [
      "\nUnaligned\nGTCTTTTACTAACATCACAAGTCGGGCTCTTGGGACCTAGGTGGAGGGGT\n[]\ntime to align read: 0.9345228672027588\n"
     ]
    },
    {
     "name": "stdout",
     "output_type": "stream",
     "text": [
      "\nUnaligned\nTCTGAGATGGAATCTTTTATTGAAAAACGGACAAAGTTACTGGAGGTGCA\n[]\ntime to align read: 0.8777849674224854\n"
     ]
    },
    {
     "name": "stdout",
     "output_type": "stream",
     "text": [
      "\nAligned to transcriptome\nTACAGTTTCACATGCTGGGATTTCCGTTTCCTGCATCTAACGGAGGTTGT\nTACAGTTTCACATTCTGGGATTTCAGTTACCTGCATTTAACGGAGGTTGT\n[(0, 10564350, 50)]\ntime to align read: 0.895920991897583\n"
     ]
    },
    {
     "name": "stdout",
     "output_type": "stream",
     "text": [
      "\nAligned to transcriptome\nTGTTTGCAGACAAGGTTCCAAAGACAGCAGAAAATTTTCGTGCTCTGAGC\nTGTTTGCAGACAAGGTCCCAAAGACAGCAGAAAATTTTCGTGCTCTGAGC\n[(0, 7806848, 50)]\ntime to align read: 0.8883488178253174\n"
     ]
    },
    {
     "name": "stdout",
     "output_type": "stream",
     "text": [
      "\nAligned to transcriptome\nAGGTACTTTAGTAACACCACAAGTCAGGCTCTTGGGACCTAGGCGGACGA\nAGGTATTTTAGTAACATCACAAGTCAGGCTCTTGGGACCTAGGCGGAGGG\n[(0, 5539273, 50)]\ntime to align read: 0.9186429977416992\n"
     ]
    },
    {
     "name": "stdout",
     "output_type": "stream",
     "text": [
      "\nAligned to transcriptome\nTCTCCTCTGGTCTGTCACGCTACGCAGGGTGGGGCTTGTTTCAGTTTGAG\nTCTCCTCTGGTCTGTGAAGCTACGCAGGGTGGGGCTTGTTTCAGTTTGAG\n[(0, 3019902, 50)]\ntime to align read: 0.8982381820678711\n"
     ]
    },
    {
     "name": "stdout",
     "output_type": "stream",
     "text": [
      "\nAligned to transcriptome\nAACCGGTAGATCCGATCTTGTGGTGAAGTGGACCGCACAAGTTCGCTTCT\nAACCCGTAGATCCGATCTTGTGGTGAAGTGGACCGCACAAGCTCGCTTCT\n[(0, 5488100, 50)]\ntime to align read: 0.9129559993743896\n"
     ]
    },
    {
     "name": "stdout",
     "output_type": "stream",
     "text": [
      "\nAligned to transcriptome\nGCCTGGGAGCACAGTAGCCCACGGGGCTCCCTCAGGTGCAGGCGACGGTC\nGCCTGGGAGCACAGTGGCCCACGGGGCTCCCTCAGGTGCAGGCGACTGCC\n[(0, 2776518, 50)]\ntime to align read: 0.9079680442810059\n"
     ]
    },
    {
     "name": "stdout",
     "output_type": "stream",
     "text": [
      "\nAligned to transcriptome\nGAGCGTGCACCAGGTCATCTTCCTGACCTGGTAATAATTATGTGAGAAGG\nGAGCGTGCAGCAGGACATCTTCCTGACCTGGTAATAATTAGGTGAGAAGG\n[(0, 2673193, 50)]\ntime to align read: 0.9378440380096436\n"
     ]
    },
    {
     "name": "stdout",
     "output_type": "stream",
     "text": [
      "\nUnaligned\nTCTATGTCTGATTTTCCAAGGAAAATATTATTTCCTCTAGAAAGCCCGAC\n[]\ntime to align read: 1.059865951538086\n"
     ]
    },
    {
     "name": "stdout",
     "output_type": "stream",
     "text": [
      "\nAligned to transcriptome\nCTCATTGGTCTTATCATCTTTAGTTGTCGTAAAAAGCGCAGAGAAGAAAA\nCTCATTGGTCTTATCATCTTTTGCTGTCGTAAAAAGCGCAGAGAAGAAAA\n[(0, 2625771, 50)]\ntime to align read: 1.0742273330688477\n"
     ]
    },
    {
     "name": "stdout",
     "output_type": "stream",
     "text": [
      "\nAligned to genome\nTGGAAATGGGAGCCATGTTTCAGCTATGTTTATATTTATATTGGTGACAA\nTGGAAATGGGAGCAATGTTTCAGCTACGTTTCTATTTATAATGGTGACAA\n[(0, 2069311, 50)]\ntime to align read: 1.0497112274169922\n"
     ]
    },
    {
     "name": "stdout",
     "output_type": "stream",
     "text": [
      "\nAligned to genome\nCGCCAGAAGTTTGAGTATCATTACTCCTGAAGAGATGATTGAAAAAGCCA\nCGCCAGAAGTTTGAGTATCACTACTCCTGAAGAGATGATTGAAAAAGCCA\n[(0, 6496030, 50)]\ntime to align read: 1.1783599853515625\n"
     ]
    },
    {
     "name": "stdout",
     "output_type": "stream",
     "text": [
      "\nAligned to transcriptome\nGCAGGACATCTTGCCGACCTGGTAATAGTTAGGTGAGTAGGATGGTTGGG\nGCAGGACATCTTCCTGACCTGGTAATAATTAGGTGAGAAGGATGGTTGGG\n[(0, 2673202, 50)]\ntime to align read: 0.9835700988769531\n"
     ]
    },
    {
     "name": "stdout",
     "output_type": "stream",
     "text": [
      "\nUnaligned\nGCAGAAGATTAATGTTTGGCAGAAGGAACTCGCAACAAGATTGTGTCCTT\n[]\ntime to align read: 0.9544351100921631\n"
     ]
    },
    {
     "name": "stdout",
     "output_type": "stream",
     "text": [
      "\nAligned to genome\nCAATGTAACTTAACAATTCAGTCTGAGTGAGTTTTGTAGTTTATAACATA\nCAATGTAACTTACCAATTCAGTCTGAGTGAGTTTTGTAGTTTATAACATA\n[(0, 3941393, 50)]\ntime to align read: 1.0097510814666748\n"
     ]
    },
    {
     "name": "stdout",
     "output_type": "stream",
     "text": [
      "\nAligned to transcriptome\nGAACCCAACAACCTGCATTTTAACAAGCCTTCCAGATGACTCTGAAGCAT\nGAACCCAACAACCTGCATTTTAACAAGCCTTCCAGATGACTCTGAAGCAT\n[(0, 2719130, 50)]\ntime to align read: 2.2801802158355713\n"
     ]
    },
    {
     "name": "stdout",
     "output_type": "stream",
     "text": [
      "\nUnaligned\nAGGGAAGTGGAAAGGGCCCTGCAGCTGCTCAGGGAGCCAAGAGACTCGGC\n[]\ntime to align read: 2.3501808643341064\n"
     ]
    },
    {
     "name": "stdout",
     "output_type": "stream",
     "text": [
      "\nUnaligned\nGAAGAGAGAAACAGCGCTCAGTCTGAAGGAAATTGTATTAAGAGGTTACC\n[]\ntime to align read: 3.3568150997161865\n"
     ]
    },
    {
     "name": "stdout",
     "output_type": "stream",
     "text": [
      "\nAligned to transcriptome\nTATGTGGTTATGTCTTCAGTGGTTCCAGCTCTGTTTGATGACATAATACA\nTATGTGGTAATGTCTTCAGTGGTTCCAGCTCTGTTTGATGACATAAAATA\n[(0, 9546998, 50)]\ntime to align read: 2.0656559467315674\n"
     ]
    },
    {
     "name": "stdout",
     "output_type": "stream",
     "text": [
      "\nAligned to transcriptome\nTGCAGAGATTAGCGTGGCTCCTGTGCAAGGATGACACACAAATTTGTGAT\nTGCAGAGATTAGCGTGGCTCCTGTGCAAGGATGACACACAAATTTGTGAT\n[(0, 6380582, 50)]\ntime to align read: 2.27282977104187\n"
     ]
    },
    {
     "name": "stdout",
     "output_type": "stream",
     "text": [
      "\nAligned to genome\nGCAGGGCCTTTGCAGAAGCATGACATGCAAATTAATAAAGCTTTCAACCT\nGCAGGGCCTTTGCACAAGGATGACATGCAAATTCATAAAGCATTCCACCT\n[(0, 4563335, 50)]\ntime to align read: 2.271425247192383\n"
     ]
    },
    {
     "name": "stdout",
     "output_type": "stream",
     "text": [
      "\nAligned to transcriptome\nGTGGATCTGGCTGCCACCGGGGTCACCTCATTGATTGCCAGGTTGACCTC\nGTGGATCTGGCTGCCACCTGGGTCACCCCATTGATTGCCAGGTTGACCTG\n[(0, 9305661, 50)]\ntime to align read: 1.4692270755767822\n"
     ]
    },
    {
     "name": "stdout",
     "output_type": "stream",
     "text": [
      "\nAligned to transcriptome\nCCAGGTGAGATTTAGCTATCTGAGTGACCTAAGCAGGTGAGTTGTTAGAA\nCCAGGTGAGCTTGAGCTAAGTGAGTGACCTAAGCAGGTGAGTTGTTAGAA\n[(0, 5592921, 50)]\ntime to align read: 1.284296989440918\n"
     ]
    },
    {
     "name": "stdout",
     "output_type": "stream",
     "text": [
      "\nAligned to transcriptome\nCAGGGTGGGGCTTGTTTCAGTTTGAGCGAGACCACCTGGGACTACTGGAC\nCAGGGTGGGGCTTGTTTCAGTTTGAGGGAGACCGCGTGGGACTACTGGAC\n[(0, 3019926, 50)]\ntime to align read: 1.0455949306488037\n"
     ]
    },
    {
     "name": "stdout",
     "output_type": "stream",
     "text": [
      "\nAligned to transcriptome\nTAAATAAAAGCGTTTCAGTGCCTACAATACCCAGGCTCCAAATTGAGGGC\nTAAATAAAAGCGTTTCAGTGCCTACAAGACCCAGGCTCCAAATTGAGGGC\n[(0, 7866246, 50)]\ntime to align read: 0.9086968898773193\n"
     ]
    },
    {
     "name": "stdout",
     "output_type": "stream",
     "text": [
      "\nUnaligned\nGATGAAATGGCATGGAAGGGTGGGGCTGCCGAGCACATCATCGCTGTGTC\n[]\ntime to align read: 1.2431309223175049\n"
     ]
    },
    {
     "name": "stdout",
     "output_type": "stream",
     "text": [
      "\nAligned to transcriptome\nTGCAGGCTGGCTGCTAGATTTCCCCCGCTTCTCTCTTTGCCGAGCTTACA\nTGCAGGCTGGATGCTCGATTTCCTCCGCTTCTCTCTTTGCCGAGCTTTCC\n[(0, 2725252, 50)]\ntime to align read: 0.9570801258087158\n"
     ]
    },
    {
     "name": "stdout",
     "output_type": "stream",
     "text": [
      "\nAligned to genome\nATGTTCACAGTTACAGGTCGAACTCTTTGTTCTGCTCTTTTACCGCTTCT\nATGTTCACAGTTACAGGTCAAGCTCTTTGTTCTACTCTTTTGCCCCTTCT\n[(0, 6525831, 50)]\ntime to align read: 1.2018351554870605\n"
     ]
    },
    {
     "name": "stdout",
     "output_type": "stream",
     "text": [
      "\nUnaligned\nACAATGACCATGACCTATTTTGGGTGCAAGTTTGGCTTGGGGAATTGCTT\n[]\ntime to align read: 5.94919490814209\n"
     ]
    },
    {
     "name": "stdout",
     "output_type": "stream",
     "text": [
      "\nUnaligned\nCGTGCAGAGATTAGCGTGGCTCCTGTGTAAGGATGACACACAAATTAGTG\n[]\ntime to align read: 1.2227880954742432\n"
     ]
    },
    {
     "name": "stdout",
     "output_type": "stream",
     "text": [
      "\nUnaligned\nCCTCAGCAAGCCTCAAAACATGCACATATAAGGAGTCATGCTGGAAAGAA\n[]\ntime to align read: 1.4805629253387451\n"
     ]
    },
    {
     "name": "stdout",
     "output_type": "stream",
     "text": [
      "\nAligned to transcriptome\nATAGCGCTAAATATATTTGCAGACGCATAGAAGTTATCTAGAGATAAAGC\nATAGCTATAAATATATTTGCATAAGCATAGAAGTAATCTAGAGATAAAGC\n[(0, 3249632, 50)]\ntime to align read: 1.1404540538787842\n"
     ]
    },
    {
     "name": "stdout",
     "output_type": "stream",
     "text": [
      "\nAligned to transcriptome\nTGCACAAAGATCATCACCTAGACACATTGTCATCAGGCTTCCTGAAGTTA\nTGCACAAAGATCATCACCTAGACACATTGTCATCAGATTACCTAAAGTTA\n[(0, 6655261, 50)]\ntime to align read: 0.9652061462402344\n"
     ]
    },
    {
     "name": "stdout",
     "output_type": "stream",
     "text": [
      "\nUnaligned\nGAGGGAACTGGATGCTGATGGTCTCTAGCGGGCCCTGCTGTGGGATTGTG\n[]\ntime to align read: 1.1830382347106934\n"
     ]
    },
    {
     "name": "stdout",
     "output_type": "stream",
     "text": [
      "\nUnaligned\nCTGACGTGACCACAGTAAATCCCACTCGTAAAGCAAGTACATGTGTGTGT\n[]\ntime to align read: 3.4426722526550293\n"
     ]
    },
    {
     "name": "stdout",
     "output_type": "stream",
     "text": [
      "\nAligned to transcriptome\nGTAGAATTAAGACAACGTTGATAAGGTAAGGATGGTCCCCGCACAAGGAT\nGTAAAATTAAGACAACGTTGAGAAGATCAGCATGGTCCCCGCACAAGGAT\n[(0, 1996606, 50)]\ntime to align read: 1.0114188194274902\n"
     ]
    },
    {
     "name": "stdout",
     "output_type": "stream",
     "text": [
      "\nAligned to transcriptome\nAATCCAGGAGTGTATATGACAGGTGTGGCCCGGAAGCAGGGTTCTTTAAG\nAATCCAGGAGTGTATATGACAGGTGTGGCCCTGAAGCAGGGTTCTTTAAG\n[(0, 4798822, 50)]\ntime to align read: 1.0319881439208984\n"
     ]
    },
    {
     "name": "stdout",
     "output_type": "stream",
     "text": [
      "\nAligned to transcriptome\nTCCTTCCAGAAGGAGCTGCCCAGGCCACCCTGCAACCACAGCTGGAACAA\nTCCTTCCAGAAGGAGCTGCCCAGGGCACACTGCAACCACAGCTGGAACAC\n[(0, 8193988, 50)]\ntime to align read: 1.0510327816009521\n"
     ]
    },
    {
     "name": "stdout",
     "output_type": "stream",
     "text": [
      "\nAligned to transcriptome\nTCTCAGCTCAGCTGATGCTCTGGCAGTGGTTCTCTGCGTTGAGCATTGCT\nTCTCAGCTCAGCTGATGCTCTGGCAGTGGTTCTCTGCGTTGAGCATTGCT\n[(0, 8252472, 50)]\ntime to align read: 0.9284408092498779\n"
     ]
    },
    {
     "name": "stdout",
     "output_type": "stream",
     "text": [
      "\nAligned to transcriptome\nGTGCAGCAGGACATCTTCCTGAGCTAGTAATAATTAGGTGAGAAGGATGG\nGTGCAGCAGGACATCTTCCTGACCTGGTAATAATTAGGTGAGAAGGATGG\n[(0, 2673197, 50)]\ntime to align read: 0.8702278137207031\n"
     ]
    },
    {
     "name": "stdout",
     "output_type": "stream",
     "text": [
      "\nUnaligned\nGGAAGTGAAGAAGCCACAGTAAGATTTTACTAGAAGTGAGGATCGGAGAA\n[]\ntime to align read: 1.0429010391235352\n"
     ]
    },
    {
     "name": "stdout",
     "output_type": "stream",
     "text": [
      "\nAligned to transcriptome\nAGGCAGCAGCATCAAGGAGCAGCCATGGTCCCAGACTAGTCGCACGGATG\nAGGCAGCAGCCTCAAGGAGCAGCCATGGCCCCAGACTTGTCGCACGGATG\n[(0, 5556011, 50)]\ntime to align read: 1.4893150329589844\n"
     ]
    },
    {
     "name": "stdout",
     "output_type": "stream",
     "text": [
      "\nAligned to transcriptome\nGATGAGTGCACCCCAGAGACTGCAGTTTCTCGAGGAAGAAAGGACCCGGT\nGATGAGTGCAGCCCAGAGACAGCAGTTTCTCGAGGAAGAAAGGACCCGGT\n[(0, 2741987, 50)]\ntime to align read: 1.1829218864440918\n"
     ]
    },
    {
     "name": "stdout",
     "output_type": "stream",
     "text": [
      "\nAligned to transcriptome\nTATGGGCCAAGTATGGCACTTAACGCCTATAATACAAACATTTTGGAAGC\nTATGGGCCAGGTATGGCACTTAACGCCTATAATACAAACATTTTGGAAGG\n[(0, 2263708, 50)]\ntime to align read: 1.075270175933838\n"
     ]
    },
    {
     "name": "stdout",
     "output_type": "stream",
     "text": [
      "\nAligned to transcriptome\nACACTTTAATTTCAGACTTCTAGGCTGCAGAACCATTAAAGAATAAATTT\nACACTTTAATTTCAGACTTCTAGGCTGCAGAACCATTAAAGAATAAATTT\n[(0, 10746353, 50)]\ntime to align read: 1.025670051574707\n"
     ]
    },
    {
     "name": "stdout",
     "output_type": "stream",
     "text": [
      "\nAligned to transcriptome\nCCCATTCCAGTTTTCTCTACAGCAAGTAGCACTCAATGTGTAGTTGTCAG\nCCCATTCCAGTTTTCTCTACAGCAAGTAGCTCTCAATGTGTAGTCCTCAG\n[(0, 2718996, 50)]\ntime to align read: 0.9312429428100586\n"
     ]
    },
    {
     "name": "stdout",
     "output_type": "stream",
     "text": [
      "\nAligned to transcriptome\nATCAGCATGGTCCCCGCTCAAGGATGACATAGAAATCTGTAAGGTGTGGC\nATCAGCATGGTCCCCGCACAAGGATGACATAGAAATCTGTAAGGTGTTGC\n[(0, 1996631, 50)]\ntime to align read: 1.0123341083526611\n"
     ]
    },
    {
     "name": "stdout",
     "output_type": "stream",
     "text": [
      "\nAligned to transcriptome\nGTTCCCCTGAAGAGGACACTTCAGCACAAAAGAAACGAAGATATCAGAAG\nGTTCCACTGAAGAGGACACTTCAAAACAAAAGAAACGAAGATATCAGAAG\n[(0, 8688982, 50)]\ntime to align read: 1.016369104385376\n"
     ]
    },
    {
     "name": "stdout",
     "output_type": "stream",
     "text": [
      "\nUnaligned\nTATGCAGGTTGGGGCGTGTTTCAGTTTGAGGGAGACCGCATGGGACTACT\n[]\ntime to align read: 2.4903740882873535\n"
     ]
    },
    {
     "name": "stdout",
     "output_type": "stream",
     "text": [
      "\nUnaligned\nTATAGTCCATGTCGTTCTCTCTACGTGGAGATTCTAGGCGGTCGCAAAAG\n[]\ntime to align read: 0.9816379547119141\n"
     ]
    },
    {
     "name": "stdout",
     "output_type": "stream",
     "text": [
      "\nUnaligned\nTCAGTACATTGCACACCTCTTGTGGAATTCATTTTCACTTAATCATTCTA\n[]\ntime to align read: 0.9194340705871582\n"
     ]
    },
    {
     "name": "stdout",
     "output_type": "stream",
     "text": [
      "\nUnaligned\nCAAATAGAACAGCTTTGATACAGCCTTCCATTGCCAGGAAGAGGCTTGAG\n[]\ntime to align read: 1.320162057876587\n"
     ]
    },
    {
     "name": "stdout",
     "output_type": "stream",
     "text": [
      "\nAligned to transcriptome\nTCAGAGAAGTGGCATATCCACTAGAATTCATACAAGGAGAAGAGGCAGAA\nTCAGAGAAGTGGTATCTCCACAAGAATTCAAACAAGGAGAAGATGCAGAA\n[(0, 10235280, 50)]\ntime to align read: 0.9010677337646484\n"
     ]
    },
    {
     "name": "stdout",
     "output_type": "stream",
     "text": [
      "\nUnaligned\nCTTGGGCGGCTCATTTCCTAAAGTGGGAACAATACAGAGAAAGTTAGCAG\n[]\ntime to align read: 1.8698229789733887\n"
     ]
    },
    {
     "name": "stdout",
     "output_type": "stream",
     "text": [
      "\nAligned to transcriptome\nTTCGCCGTCTAATAAGTCATCCAGGATAACTTTGGCATCATGAAGGGAGC\nTTCGCCCTCTGATAAGTCATCCAGGATAACTTTGGCATCATGAAGGGAGC\n[(0, 3723766, 50)]\ntime to align read: 0.8818328380584717\n"
     ]
    },
    {
     "name": "stdout",
     "output_type": "stream",
     "text": [
      "\nAligned to transcriptome\nATAGTGGCAAAACCTCTGATTGTGAGGCCGTAGAACTGAGAAGATCATAT\nATAGTGGGAAAACCTCTGATTGTGAGGACGTAGAACTGAGAAGAGCATAT\n[(0, 3092823, 50)]\ntime to align read: 0.8778901100158691\n"
     ]
    },
    {
     "name": "stdout",
     "output_type": "stream",
     "text": [
      "\nUnaligned\nGCAAAATGAAAAAAGCTCCTGGTGTTTCAAATAAGATTCAGGTGGTAGTT\n[]\ntime to align read: 2.6653828620910645\n"
     ]
    },
    {
     "name": "stdout",
     "output_type": "stream",
     "text": [
      "\nAligned to transcriptome\nAGAGAAAATTAGCAGGCCCTTTGCACAAGGATGACATCCAAATTCATAAA\nAGAGAAAATTAGCAGGGCCTTTGCACAAGGATGACATGCAAATTCATAAA\n[(0, 4563324, 50)]\ntime to align read: 0.9132051467895508\n"
     ]
    },
    {
     "name": "stdout",
     "output_type": "stream",
     "text": [
      "\nAligned to transcriptome\nCTGGATAGGTCTTTCACAGGGAGCATGGCCCTGCTGACACTTTTATTTCA\nCTGGATTGGTCTTTCAAAGGGAGCATGGCCCTGCTGACACTTTAATTTCA\n[(0, 10746317, 50)]\ntime to align read: 0.9342730045318604\n"
     ]
    },
    {
     "name": "stdout",
     "output_type": "stream",
     "text": [
      "\nAligned to transcriptome\nGCCCGGTTGTGGGATGGTGTGTGGATCTGCTGCAAACTCTCTTCCTGGTG\nGCCCTGCTGTGGGATGGTGTGTGGAACTGCTGCAAACTTTCTTCCTGGTG\n[(0, 9337582, 50)]\ntime to align read: 0.9256210327148438\n"
     ]
    },
    {
     "name": "stdout",
     "output_type": "stream",
     "text": [
      "\nAligned to transcriptome\nCATTACAACAAATATGCCTCAGCTAAATGGACACACAATGGAGGGGAATT\nCATTACAACACATATGCCTCAGCTAAATGGACACACAATGGAGGGGAAAT\n[(0, 2299504, 50)]\ntime to align read: 0.9111800193786621\n"
     ]
    },
    {
     "name": "stdout",
     "output_type": "stream",
     "text": [
      "\nAligned to transcriptome\nGCAAAAGGGAGATGCTATGCAAGTTCAGGATTGGCGCCGACATCTTCACC\nGCAAAAGGGAGCTGCTATGCAATTTCAGGATTGGTGCCGACATCTTCACC\n[(0, 6759526, 50)]\ntime to align read: 0.9765040874481201\n"
     ]
    },
    {
     "name": "stdout",
     "output_type": "stream",
     "text": [
      "\nAligned to transcriptome\nTACAGCTGTCCATTGACAGGAAGAGGCTTGTGCTGTTATTCTGCTGGAAC\nTACAGCTGTCCATTGCCAGGAAGAGGCTTGTGCTGTTATTCTGCTGGAAC\n[(0, 3017746, 5), (5, 3017914, 45)]\ntime to align read: 0.8660888671875\n"
     ]
    },
    {
     "name": "stdout",
     "output_type": "stream",
     "text": [
      "\nUnaligned\nTTAAGCTACGCAGGGTGGGCCTTGTTTCAGTTTGAGGGAGACCGCGTGGG\n[]\ntime to align read: 0.8933629989624023\n"
     ]
    },
    {
     "name": "stdout",
     "output_type": "stream",
     "text": [
      "\nAligned to transcriptome\nCTCACCAACACCAGGTGATTCTTCTGGACTGTGGCCATCATACTATACCT\nCTCACCAACACCAGCTCATTCTTCTGGACTGTGGCCATCATACTATACCT\n[(0, 6245478, 50)]\ntime to align read: 0.905458927154541\n"
     ]
    },
    {
     "name": "stdout",
     "output_type": "stream",
     "text": [
      "\nUnaligned\nATGAATCGCAAGTTGACCGTTAAGTCCAACGCTCGCTGCAGACGTCTAGT\n[]\ntime to align read: 0.9200592041015625\n"
     ]
    },
    {
     "name": "stdout",
     "output_type": "stream",
     "text": [
      "\nUnaligned\nCCTGCAGTCCTCCTGGGTAGGACTGCACTTTCGCAATAATGGAAATGGTA\n[]\ntime to align read: 1.324720859527588\n"
     ]
    },
    {
     "name": "stdout",
     "output_type": "stream",
     "text": [
      "\nAligned to transcriptome\nCTCTACATTGGGCCTGTGCCAGTGGCCATGTGAAAGGGGTCACTCTCCTG\nCTCTACATTTGGCCTGTGCCAGTGGCCATGTGAAAGTGGTCACTCTCCTG\n[(0, 3017641, 50)]\ntime to align read: 0.907141923904419\n"
     ]
    },
    {
     "name": "stdout",
     "output_type": "stream",
     "text": [
      "\nAligned to transcriptome\nTTAAATGTTCACAGATTCAGGTCAAGCTCTTTGTTCGACTCTTTAGCCCC\nTTAAATGTTCACAGTTACAGGTCAAGCTCTTTGTTCTACTCTTTTGCCCC\n[(0, 6525827, 50)]\ntime to align read: 0.884591817855835\n"
     ]
    },
    {
     "name": "stdout",
     "output_type": "stream",
     "text": [
      "\nAligned to transcriptome\nCTTGACTCGTAAAAATTATCTGCAATGCAAGTTTCTGTGTCCATAAATAA\nCTTGACAGATAAAAATTATCTGAAATGCAAGTTTCTGTGTCCATAAATAA\n[(0, 7598820, 50)]\ntime to align read: 0.8977770805358887\n"
     ]
    },
    {
     "name": "stdout",
     "output_type": "stream",
     "text": [
      "\nAligned to transcriptome\nTCTCATTAACTACAACCTCTGCACATGTTACGCAAAATTTGATTCAATTC\nTCTCATTAACTACAACCTCTGCCCATGTTACTCAAAATGTGATTCAATTC\n[(0, 4295652, 50)]\ntime to align read: 0.8896780014038086\n"
     ]
    },
    {
     "name": "stdout",
     "output_type": "stream",
     "text": [
      "\nUnaligned\nTCTGCTCACACTGTCTGCTTCCACTCAGTCATAATCCTGTTCTCTCTCTT\n[]\ntime to align read: 0.8802540302276611\n"
     ]
    },
    {
     "name": "stdout",
     "output_type": "stream",
     "text": [
      "\nUnaligned\nGAGATTAACGTGGCTCCCGTGTAAGGATGACAGCCAAATTTGTGATGTGT\n[]\ntime to align read: 0.8870923519134521\n"
     ]
    },
    {
     "name": "stdout",
     "output_type": "stream",
     "text": [
      "\nAligned to transcriptome\nATGCTAGTTATGTGGAGACTTGTTTGTAGTTGTTCTTTGTTTCTTTAAGT\nATGCTAATTATGTGGAGACTTGTTTGTTGTTGTTCTTTGTTTTTTTAAGT\n[(0, 4016768, 50)]\ntime to align read: 0.8932249546051025\n"
     ]
    },
    {
     "name": "stdout",
     "output_type": "stream",
     "text": [
      "\nAligned to transcriptome\nCAGGGTGGGGCTTGTTTCAGTTTGAGGGAGACCGCGTGGGACTACCGGAC\nCAGGGTGGGGCTTGTTTCAGTTTGAGGGAGACCGCGTGGGACTACTGGAC\n[(0, 3019926, 50)]\ntime to align read: 0.870002269744873\n"
     ]
    },
    {
     "name": "stdout",
     "output_type": "stream",
     "text": [
      "\nUnaligned\nTCTTTCTTCCTAATTAAACAGCAATGAAGTTGAGAGAAAGAAGATATTGC\n[]\ntime to align read: 0.9327499866485596\n"
     ]
    },
    {
     "name": "stdout",
     "output_type": "stream",
     "text": [
      "\nAligned to transcriptome\nAAGATCAGCATGGTCCCCTCACAAGGATGACATAGAAATCTGTAAGATGT\nAAGATCAGCATGGTCCCCGCACAAGGATGACATAGAAATCTGTAAGGTGT\n[(0, 1996628, 50)]\ntime to align read: 0.882943868637085\n"
     ]
    },
    {
     "name": "stdout",
     "output_type": "stream",
     "text": [
      "\nUnaligned\nCGTTTTTAGCCCATTAATTTTCAATAAACATTAATGCAGTACTTATCCTG\n[]\ntime to align read: 0.9397878646850586\n"
     ]
    },
    {
     "name": "stdout",
     "output_type": "stream",
     "text": [
      "\nAligned to transcriptome\nACCTGCTCTCAGCAGCCTCCTCCTTCTATGGGATGCTGCAAGACTTCGCA\nACCTGCTCTCAGCTGCCTCCTACTTCTATGGGATGCTGCAGGACTTCGCA\n[(0, 6245387, 50)]\ntime to align read: 0.8890409469604492\n"
     ]
    },
    {
     "name": "stdout",
     "output_type": "stream",
     "text": [
      "\nAligned to transcriptome\nGGAAAACCATTCCAACACATACGCCTCGCCTAAATGGACACACAATGGAG\nGGAAAACCATTACAACACATATGCCTCAGCTAAATGGACACACAATGGAG\n[(0, 2299497, 50)]\ntime to align read: 0.888995885848999\n"
     ]
    },
    {
     "name": "stdout",
     "output_type": "stream",
     "text": [
      "\nAligned to transcriptome\nCAGACCATTCCGCTGTTAGTGAGCTACTGTCTGGTCATGTGCTGGGTTGA\nCAGACCATCCCGCTGTTAGTGAGCTACTGTCTGGTCATGTGCTGGGTGGA\n[(0, 2426054, 50)]\ntime to align read: 0.9011008739471436\n"
     ]
    },
    {
     "name": "stdout",
     "output_type": "stream",
     "text": [
      "\nAligned to genome\nAAGAAACCAGGAGAAAAAGGAAGGTTTTGCGGTAGTCAGCTATGGTTTCC\nAAGAAACCAGGAGAAAAAGGAAGCTTTTGCAGTAGTCAGCTATAGTTTCC\n[(0, 2574410, 50)]\ntime to align read: 0.882796049118042\n"
     ]
    },
    {
     "name": "stdout",
     "output_type": "stream",
     "text": [
      "\nAligned to transcriptome\nAAACATATGGTGTCCATCTTGTAAGCATAAGCCTCCCTGGTATTGCTGCC\nAAACATATGGTGTCCATCTTGTAAGCATAAGGCTCCCTGGTATTGCTGCC\n[(0, 3867603, 50)]\ntime to align read: 0.8652029037475586\n"
     ]
    },
    {
     "name": "stdout",
     "output_type": "stream",
     "text": [
      "\nAligned to genome\nCACCTCCAAAGAGCCGTACGTCCACTGCCAGAAGCTACAACCGCAGTAAT\nCACCTCCAAAGAGCCGTACGTCCACTGCCAGAAGCTACATCGGCAGTAAT\n[(0, 6514438, 50)]\ntime to align read: 0.8644790649414062\n"
     ]
    },
    {
     "name": "stdout",
     "output_type": "stream",
     "text": [
      "\nUnaligned\nGTGACTTATGTAGGTCTATGGAGAAGTGCAGCTCACGGGAATAGCAAACC\n[]\ntime to align read: 1.0660159587860107\n"
     ]
    },
    {
     "name": "stdout",
     "output_type": "stream",
     "text": [
      "\nUnaligned\nGGCAGGGTGCAGGGTCAGAGTCGCGGGCTGCGCCGTGGGCATAGTCCGCC\n[]\ntime to align read: 0.8678629398345947\n"
     ]
    },
    {
     "name": "stdout",
     "output_type": "stream",
     "text": [
      "\nAligned to transcriptome\nTGTGTAAAGCAAGTCCTTATATCAACTGGGGAGATAACCCTGTCATTTTC\nTGTGTAAAGCAAGTACTTACATCAACTGGGAAGATAACGCTGTCATTTTC\n[(0, 2950017, 50)]\ntime to align read: 0.8797810077667236\n"
     ]
    },
    {
     "name": "stdout",
     "output_type": "stream",
     "text": [
      "\nAligned to transcriptome\nCAGGAGGAAAAAGTTTGTCTTACTTCCGTGTTGCCCACCTGCTCTGTGTT\nCAGGAGGAAAAACATTGTCTTACTTCCGTGTTGCCCACCTGCTCTGTATT\n[(0, 7866366, 50)]\ntime to align read: 0.8756399154663086\n"
     ]
    },
    {
     "name": "stdout",
     "output_type": "stream",
     "text": [
      "\nAligned to transcriptome\nAAAGATTGGAGTTGTACATCCACAAGCCCAACAATGAGGTAACTACCAGG\nAAAGATTGGAGTTGTACTGCCACAAGCCCAAGAATGAGGAAACCACCAGG\n[(0, 10746238, 50)]\ntime to align read: 0.8771641254425049\n"
     ]
    },
    {
     "name": "stdout",
     "output_type": "stream",
     "text": [
      "\nAligned to transcriptome\nTAAATGGAAAGGGACAAGGAGACTACAGTAAAATAGAAATCTTCCAAACA\nTAAATGGAAAGGGACAAGGAGACTACAGTAAAATAGAAATCTTCCAAACA\n[(0, 10415665, 50)]\ntime to align read: 2.6132900714874268\n"
     ]
    },
    {
     "name": "stdout",
     "output_type": "stream",
     "text": [
      "\nAligned to transcriptome\nTGAAATCAATGTGGACCCTCTCTCGCCCACTAAACAAAGATGGTTCTTCG\nTGAAATCAATGTGGTCCCTCTCTTGCCCACTAAACAAAGATGGTTGTTCG\n[(0, 7215925, 50)]\ntime to align read: 0.8800680637359619\n"
     ]
    },
    {
     "name": "stdout",
     "output_type": "stream",
     "text": [
      "\nAligned to transcriptome\nTGATACAGCTGTCCATTGCCAGGAGGATGCTTGTGCTGTTATTCTGCTGG\nTGATACAGCTGTCCATTGCCAGGAAGAGGCTTGTGCTGTTATTCTGCTGG\n[(0, 3017743, 8), (8, 3017914, 42)]\ntime to align read: 0.8838379383087158\n"
     ]
    },
    {
     "name": "stdout",
     "output_type": "stream",
     "text": [
      "\nAligned to transcriptome\nGTTGAGAAGCTCAGCATGGTCCCCGCACAAGGATGACATAGTAATCTGAA\nGTTGAGAAGATCAGCATGGTCCCCGCACAAGGATGACATAGAAATCTGTA\n[(0, 1996622, 50)]\ntime to align read: 0.8994367122650146\n"
     ]
    },
    {
     "name": "stdout",
     "output_type": "stream",
     "text": [
      "\nAligned to transcriptome\nTTGGGATGTGAGAGTGCTTCGTTTTCTCACATCCATTCAAAGACACATGA\nTTGGGATGTGGGAATGCTTCATTTTCTCACATCCATTCAAAGACACATGA\n[(0, 9547078, 50)]\ntime to align read: 0.9158651828765869\n"
     ]
    },
    {
     "name": "stdout",
     "output_type": "stream",
     "text": [
      "\nAligned to transcriptome\nAATGTATGAAGAGAACAAATACACAAAAAGTCAATTGAACTGAATAAATA\nAATGTATGAATAAAACAAATACACAAAAAGTCAATTGAATTGCATAAATA\n[(0, 9305843, 50)]\ntime to align read: 0.8687939643859863\n"
     ]
    },
    {
     "name": "stdout",
     "output_type": "stream",
     "text": [
      "\nUnaligned\nTCAGCTTTCAAAAGAACAGGAGATATAGACCTTGAGCAAAATATCTCACA\n[]\ntime to align read: 0.9380769729614258\n"
     ]
    },
    {
     "name": "stdout",
     "output_type": "stream",
     "text": [
      "\nUnaligned\nTGGTCCCAAAGTATACAGGTTCTGGCATCTTGTCCATGGCAAAAGCTGGA\n[]\ntime to align read: 0.8708999156951904\n"
     ]
    },
    {
     "name": "stdout",
     "output_type": "stream",
     "text": [
      "\nAligned to transcriptome\nACCACAGTCAACTAAAAAAGACGGATTCCAAGTAACCGACACCACCATTT\nACCACAGTCAACTAAAAAAGAGAGATTCCCAGCAACCTACACAACCATTT\n[(0, 3092600, 50)]\ntime to align read: 0.870246171951294\n"
     ]
    },
    {
     "name": "stdout",
     "output_type": "stream",
     "text": [
      "\nAligned to transcriptome\nCATTGGGGAGACGCTGGCCCGGCAGACGCAGCTGGAAGATGGTGGCCAGC\nCATTGGGCAGACGCTGGCCCGGCAGATGCAGCTGGAAGATGGTGGCCAGC\n[(0, 2742086, 50)]\ntime to align read: 0.8789880275726318\n"
     ]
    },
    {
     "name": "stdout",
     "output_type": "stream",
     "text": [
      "\nAligned to transcriptome\nGGGATTGTGGCAATCAAAGTGGTGGAAAGTGGATTCTATCTTGCAATGAA\nGGGATTGTGGCAATCAAAGGGGTGGAAAGTGAATTCTATCTTGCAATGAA\n[(0, 2298293, 50)]\ntime to align read: 0.8816080093383789\n"
     ]
    },
    {
     "name": "stdout",
     "output_type": "stream",
     "text": [
      "\nAligned to transcriptome\nAGTATTACCTACAAATGAAACTTACCTACACTGATCTTAGTTCTCTTATG\nAGTATTACCTACAAATGAAACTTACCTACACTGATCTTAGTTCTCTTATG\n[(0, 3176291, 50)]\ntime to align read: 1.135991096496582\n"
     ]
    },
    {
     "name": "stdout",
     "output_type": "stream",
     "text": [
      "\nAligned to transcriptome\nGGCAGAAACAGAGAGAAGCGACGAGGTGCAGTTCGAATGCCAAGAACGGC\nGGCAGAAACAGAGAGAAACGACGAGGAGCAGTTCGAATGCCAGGAACGGC\n[(0, 2725123, 50)]\ntime to align read: 0.9020040035247803\n"
     ]
    },
    {
     "name": "stdout",
     "output_type": "stream",
     "text": [
      "\nAligned to genome\nTTCACTGCACTCTAGTTCTGCTGACCCTTGCGATTTCCGCCCAGTGGGGA\nTTCACTGCACTCTGGATGTGCTGACCCCTACGATTTCCGCCCAATGGGGA\n[(0, 5668054, 50)]\ntime to align read: 0.8895378112792969\n"
     ]
    },
    {
     "name": "stdout",
     "output_type": "stream",
     "text": [
      "\nAligned to transcriptome\nAATGCTTCATTTTCTGACGTCCATTCAAAGACACAGGATAATGCATATAA\nAATGCTTCATTTTCTCACATCCATTCAAAGACACATGATAATGCATATTA\n[(0, 9547090, 50)]\ntime to align read: 0.8754391670227051\n"
     ]
    },
    {
     "name": "stdout",
     "output_type": "stream",
     "text": [
      "\nUnaligned\nGGGAGGGTTCAAATCGTCACATGAGCGTGCGAACTCCCCGGTCAGACTGT\n[]\ntime to align read: 0.90789794921875\n"
     ]
    },
    {
     "name": "stdout",
     "output_type": "stream",
     "text": [
      "\nAligned to transcriptome\nGGCAAGCCTTATCCACTGCATTCCAGATGTGGTCACCTCTGTGGTTTCCC\nGGCAAGCCTTATCCACTGCATTCCAGATGTGCTCACCTCTGTGGTTTCCC\n[(0, 8294198, 50)]\ntime to align read: 0.8987152576446533\n"
     ]
    },
    {
     "name": "stdout",
     "output_type": "stream",
     "text": [
      "\nUnaligned\nGCAAAAAGCCTCAGGTATTTCCCAAATCGGTAGCTGCAGAGGGGCTCTAT\n[]\ntime to align read: 0.8762941360473633\n"
     ]
    },
    {
     "name": "stdout",
     "output_type": "stream",
     "text": [
      "\nAligned to transcriptome\nGACCAGAAATGAGAGATATATGCCCAAGAAAAGCAGGATTTCATTCGGTA\nGACCAGAAATCAGATATTTATGCCCAAGAAAAGCAGGATTTCATTCGGCA\n[(0, 9337339, 50)]\ntime to align read: 0.8840153217315674\n"
     ]
    },
    {
     "name": "stdout",
     "output_type": "stream",
     "text": [
      "\nAligned to transcriptome\nGGATCAGGAGCAGAGTTCGCAGCTACACTGTCATGCTGTGTTTGAATGTT\nGGATCAGGAGCAGAGTTTGCAGCTACACTGTCAGGCTGTGTTTGGATGTT\n[(0, 3037657, 50)]\ntime to align read: 0.894752025604248\n"
     ]
    },
    {
     "name": "stdout",
     "output_type": "stream",
     "text": [
      "\nAligned to transcriptome\nATTAGGATAAATACGCTAGTCCGCCTTACTTGGATGATGGAAGAACAGAG\nATTAGGATAAATATGCTAGTCTGCCTTACTTGGATGGTGGAAGAACAGAG\n[(0, 6759639, 50)]\ntime to align read: 0.8829078674316406\n"
     ]
    },
    {
     "name": "stdout",
     "output_type": "stream",
     "text": [
      "\nAligned to transcriptome\nTTGTGGTGAAGTGGACCGCAAAAGCTCCCTTCTATGTGTCTGTGTCAGTG\nTTGTGGTGAAGTGGACCGCACAAGCTCGCTTCTATGGGTCTGTGTCAGTG\n[(0, 5488117, 50)]\ntime to align read: 0.876356840133667\n"
     ]
    },
    {
     "name": "stdout",
     "output_type": "stream",
     "text": [
      "\nUnaligned\nGGGATGGACCAGCAACAAGACTGTCTTGTATGTGTCCTTTTACTACCTAG\n[]\ntime to align read: 1.0366098880767822\n"
     ]
    },
    {
     "name": "stdout",
     "output_type": "stream",
     "text": [
      "\nUnaligned\nCGGGGTCTCATCTGAAGGTCCACTTGGGATGGGTCAGATTCCATCCTCAC\n[]\ntime to align read: 1.1031889915466309\n"
     ]
    },
    {
     "name": "stdout",
     "output_type": "stream",
     "text": [
      "\nUnaligned\nGTCGCTGCACCGAAGGACTCTAGGATGCTATGACTTCTTTTGGACCATGG\n[]\ntime to align read: 0.9546809196472168\n"
     ]
    },
    {
     "name": "stdout",
     "output_type": "stream",
     "text": [
      "\nAligned to transcriptome\nCTGCTTGTTTCTTTTATACTTAAACCACATTGGCAGGTAAGAATTTTCAG\nCTGCTTGTTTCTTTTTTACTTAAACCACATTGGAAGGTAAGAATTTTCAG\n[(0, 7866319, 50)]\ntime to align read: 0.9259288311004639\n"
     ]
    },
    {
     "name": "stdout",
     "output_type": "stream",
     "text": [
      "\nAligned to transcriptome\nATAAGTCATCCAGGATAACTTTGGCATTATGAAGGGGGCAAAGTGCTTAT\nATAAGTCATCCAGGATAACTTTGGCATCATGAAGGGAGCAAAGTTCTTAT\n[(0, 3723777, 50)]\ntime to align read: 1.1283810138702393\n"
     ]
    },
    {
     "name": "stdout",
     "output_type": "stream",
     "text": [
      "\nUnaligned\nGGTCTCACCGACAACCAAGTGACTCTGACCTTTACCAGATGAATAACCGA\n[]\ntime to align read: 0.9157688617706299\n"
     ]
    },
    {
     "name": "stdout",
     "output_type": "stream",
     "text": [
      "\nAligned to transcriptome\nTATCATGTGGAACAAGGATAGTGGAAAAACCTCAGATTGTGAGGACGTAT\nTATCATGTGGAACAAGGATAGTGGGAAAACCTCTGATTGTGAGGACGTAG\n[(0, 3092806, 50)]\ntime to align read: 0.8913252353668213\n"
     ]
    },
    {
     "name": "stdout",
     "output_type": "stream",
     "text": [
      "\nAligned to transcriptome\nCGACCCCAAGTACTGCCTGGGAGCACAGTGGCCCACGGGGCGGCCTCAGG\nCGACCCCAAGTACTGCCTGGGAGCACAGTGGCCCACGGGGCTCCCTCAGG\n[(0, 2776504, 50)]\ntime to align read: 0.9003300666809082\n"
     ]
    },
    {
     "name": "stdout",
     "output_type": "stream",
     "text": [
      "\nAligned to transcriptome\nGGGCTGTTATTGTCATAGAAATTACATCTTAATACATGTTGTGCTGAACA\nGGGCTGTTATTGTCATACAAATTACATCTTTATACATGTTGTGCTGAACA\n[(0, 2505413, 50)]\ntime to align read: 0.8879251480102539\n"
     ]
    },
    {
     "name": "stdout",
     "output_type": "stream",
     "text": [
      "\nUnaligned\nTCAGCCAAAAATTCGTATCCAGTAAAACTAATCTTCGTAAGTGAAGGAAA\n[]\ntime to align read: 0.9825520515441895\n"
     ]
    },
    {
     "name": "stdout",
     "output_type": "stream",
     "text": [
      "\nAligned to genome\nTGCTGGGATTATCGGTGCGAGCCACTAGCCCCTGCAAAGTCTACATCTCA\nTGCTGGGATTATCGGTGTGAGCCACCAACCCCTGCAGAGTCTACATCTGA\n[(0, 3941311, 50)]\ntime to align read: 2.484074831008911\n"
     ]
    },
    {
     "name": "stdout",
     "output_type": "stream",
     "text": [
      "\nAligned to transcriptome\nTTACTTAAACCACATTGGAAGGTAAAAATTTTCAGGAGTAAAAACATTGT\nTTACTTAAACCACATTGGAAGGTAAGAATTTTCAGGAGGAAAAACATTGT\n[(0, 7866334, 50)]\ntime to align read: 0.9034140110015869\n"
     ]
    },
    {
     "name": "stdout",
     "output_type": "stream",
     "text": [
      "\nAligned to transcriptome\nGTCACAATGTTGGTCCTACAGGCTTTAAAAGAACGGGAGATATAGACCTT\nGTCACAATGTTGGTCCTTCAGGCTTCAAAAGAACAGGAGATATAGACCTT\n[(0, 8569853, 50)]\ntime to align read: 0.9596147537231445\n"
     ]
    },
    {
     "name": "stdout",
     "output_type": "stream",
     "text": [
      "\nAligned to transcriptome\nAAACTAGACTCAAACACATCTGTTTTAATCAAAGTAAGAACCATTATAAT\nAAACTAGGCTCAAACACATCTGTATTAATCAAAGTAAGAACCATTACAAT\n[(0, 5475079, 50)]\ntime to align read: 0.9009361267089844\n"
     ]
    },
    {
     "name": "stdout",
     "output_type": "stream",
     "text": [
      "\nAligned to transcriptome\nCACTTCTCCCAGATCTTTAGATTCCTGACTGAGGATGAGATGGGCCACCC\nCACTTCTCCCAGATCTTTAGAGTGCTGACTGAGGATGAGATGGGGCACCC\n[(0, 9337387, 50)]\ntime to align read: 0.9209778308868408\n"
     ]
    },
    {
     "name": "stdout",
     "output_type": "stream",
     "text": [
      "\nAligned to transcriptome\nTACAGCAGATTGCTTTCTAAAAGTTGTTCAATAATTTTTGACCAAATAGA\nTACAGCAAATTGCTTTCTAAAAGTTGTTCAGTAATTTTTGACCAAATAGA\n[(0, 2507394, 50)]\ntime to align read: 0.9052836894989014\n"
     ]
    },
    {
     "name": "stdout",
     "output_type": "stream",
     "text": [
      "\nUnaligned\nAGTGAGAGGATGGAAAAGAGTAGAATGGTGCAAGAAATTATAGGAACGAT\n[]\ntime to align read: 0.9498567581176758\n"
     ]
    },
    {
     "name": "stdout",
     "output_type": "stream",
     "text": [
      "\nAligned to transcriptome\nATAGAGATGAAGAGAATGAAGAACTGAATAAAATGCAGGCATTACAGGAA\nATAGAGATGAAGAGAATGAAGAACTGAATAAATTGCAGGCATTACAGGAA\n[(0, 8688859, 50)]\ntime to align read: 0.8943929672241211\n"
     ]
    },
    {
     "name": "stdout",
     "output_type": "stream",
     "text": [
      "\nUnaligned\nTGAATCGCTTAATCCAACACTGAGGCCGGTCGTGGAGACGCGATGCAGTG\n[]\ntime to align read: 0.8823230266571045\n"
     ]
    },
    {
     "name": "stdout",
     "output_type": "stream",
     "text": [
      "\nAligned to transcriptome\nTTGCTTTTGTTTCTGGTGTTGCCATATGCATAGCTTTTTCTAGAAAGAGA\nTTGCTTTTGTTTCTGTTGTTGCCATATGCATAGCTTTTTCTAAAGAGAGA\n[(0, 4826584, 50)]\ntime to align read: 0.9038360118865967\n"
     ]
    },
    {
     "name": "stdout",
     "output_type": "stream",
     "text": [
      "\nAligned to transcriptome\nAAGAGTGTGGTTGACCCCCCATATCTAGAGTTTCACATTCTGGGATTTCA\nAAGAGTGTGGTTGTCTCCCCATATCTACAGTTTCACATTCTGGGATTTCA\n[(0, 10564325, 50)]\ntime to align read: 0.897214412689209\n"
     ]
    },
    {
     "name": "stdout",
     "output_type": "stream",
     "text": [
      "\nAligned to transcriptome\nTGTTCCAGTCCTGCCAGAAGGAGCTGCCCAGGGCACACTGAAACCACAGC\nTGTTCCAGTCCTTCCAGAAGGAGCTGCCCAGGGCACACTGCAACCACAGC\n[(0, 8193980, 50)]\ntime to align read: 0.9033339023590088\n"
     ]
    },
    {
     "name": "stdout",
     "output_type": "stream",
     "text": [
      "\nAligned to transcriptome\nAATATCGAGTGCTACATCCGCTTGTGGAAGTTTCCCCTGGACATGCAACA\nAATATCGAGTGCTACATCCGCTTGTGGAAGTACGCCCTGGACATGCAACA\n[(0, 2712534, 50)]\ntime to align read: 0.9028298854827881\n"
     ]
    },
    {
     "name": "stdout",
     "output_type": "stream",
     "text": [
      "\nAligned to transcriptome\nAGGAGGAGAACCTGCAGAACTCCTGGGTAAGATTACACTTTTGCAATAAT\nAGGAGGAGAACCTGCAGGACTCCTGGGTAGGATTGCACTTTTGCAATAAT\n[(0, 2069262, 50)]\ntime to align read: 0.9028081893920898\n"
     ]
    },
    {
     "name": "stdout",
     "output_type": "stream",
     "text": [
      "\nUnaligned\nCCGAAGAGAAGCCACAAGTAGCGAGACCCGGAACTGGATAAGCTGCGATG\n[]\ntime to align read: 0.9057748317718506\n"
     ]
    },
    {
     "name": "stdout",
     "output_type": "stream",
     "text": [
      "\nUnaligned\nTTCATTTATCTGTCGTTTCTCGTGAGACATATGAATATTCACACTAGAAA\n[]\ntime to align read: 0.9570999145507812\n"
     ]
    },
    {
     "name": "stdout",
     "output_type": "stream",
     "text": [
      "\nAligned to transcriptome\nAAGATTGGAGTTGTACTGCCACAAGCCCAAGAATGAGGTAATCACCACGA\nAAGATTGGAGTTGTACTGCCACAAGCCCAAGAATGAGGAAACCACCAGGA\n[(0, 10746239, 50)]\ntime to align read: 0.8985130786895752\n"
     ]
    },
    {
     "name": "stdout",
     "output_type": "stream",
     "text": [
      "\nAligned to transcriptome\nTACTGATTCGTTGAACTGTCCCCATTCCAGTTTTCTATACAGCAAGTAGC\nTACTGATTCTTTAAACTGTCCCCATTCCAGTTTTCTCTACAGCAAGTAGC\n[(0, 2718976, 50)]\ntime to align read: 0.9049208164215088\n"
     ]
    },
    {
     "name": "stdout",
     "output_type": "stream",
     "text": [
      "\nAligned to transcriptome\nATTATGCCGTGTATAGTGTGAGCACCACACTGGCAGAAAAACTGCTTTTC\nATTATGCTGTGTATAGTGAGAGCACCTCACTGGCAGAAAAACTGCTTTTC\n[(0, 3018007, 50)]\ntime to align read: 0.9106762409210205\n"
     ]
    },
    {
     "name": "stdout",
     "output_type": "stream",
     "text": [
      "\nAligned to transcriptome\nAATTTTGTGGGAAAAATTATCTGTAATTTTTTTGGGCTTTTAAAGGTGTC\nAATTTTGTGGGAAAAAATATCTGTAATATTTTTGGGCTTTTAAAGGTGTC\n[(0, 8570325, 50)]\ntime to align read: 0.8911552429199219\n"
     ]
    },
    {
     "name": "stdout",
     "output_type": "stream",
     "text": [
      "\nAligned to transcriptome\nAGTTGAGGAAGGGCCAGGAGCTAGGACTTTGAGCCTATACAAAAAAGTGT\nAGTTGAGAAAGGGCCAGGAGCTGAGACTTTGAGCCTATACAAAAAAGTGT\n[(0, 3706979, 50)]\ntime to align read: 0.9377317428588867\n"
     ]
    },
    {
     "name": "stdout",
     "output_type": "stream",
     "text": [
      "\nUnaligned\nACTTGTGTCCTTTGTCCCCTTGGAAGTTAGCTCGCGACGCTAGAATTTCA\n[]\ntime to align read: 0.9264740943908691\n"
     ]
    },
    {
     "name": "stdout",
     "output_type": "stream",
     "text": [
      "\nUnaligned\nTTAAGAGACAACTTCCATGTGATAGAGAAAGCCAGATGATAGGGAACACG\n[]\ntime to align read: 2.0907719135284424\n"
     ]
    },
    {
     "name": "stdout",
     "output_type": "stream",
     "text": [
      "\nUnaligned\nCAGATTTTTAGAGTGCTGACTGAGGATGAGATGGAGCACCCCCAGACAGG\n[]\ntime to align read: 1.111793041229248\n"
     ]
    },
    {
     "name": "stdout",
     "output_type": "stream",
     "text": [
      "\nUnaligned\nGGTAAGGTATATCCTTCGCCGGTCACAACTCGAACAACGAGGATGTACGG\n[]\ntime to align read: 0.9242730140686035\n"
     ]
    },
    {
     "name": "stdout",
     "output_type": "stream",
     "text": [
      "\nAligned to transcriptome\nTCTTCGTCTGCATGTTTCTTTTTTACTTAAACTACATTGGAAGGTAAGAA\nTCTTCTTCTGCTTGTTTCTTTTTTACTTAAACCACATTGGAAGGTAAGAA\n[(0, 7866312, 50)]\ntime to align read: 0.892758846282959\n"
     ]
    },
    {
     "name": "stdout",
     "output_type": "stream",
     "text": [
      "\nUnaligned\nCATCAACATCTTTGCCCTGACCAAGATAGACCCCAGTGCCATGGTGCAAA\n[]\ntime to align read: 1.0132689476013184\n"
     ]
    },
    {
     "name": "stdout",
     "output_type": "stream",
     "text": [
      "\nAligned to transcriptome\nGTTTATATCAAACCAAACAATTTATTACTCTTGGTAAGGAAATGCTATCA\nGTTTATATCAAACCAAACAATTTATTACTCTTGGGAAGGAAATCCTATCA\n[(0, 10359283, 50)]\ntime to align read: 4.343229293823242\n"
     ]
    },
    {
     "name": "stdout",
     "output_type": "stream",
     "text": [
      "\nAligned to transcriptome\nGATCTTGTAGTGTAGTGGACCGCAACAGGTCGCTTCTATGGGTCTGTGTC\nGATCTTGTGGTGAAGTGGACCGCACAAGCTCGCTTCTATGGGTCTGTGTC\n[(0, 5488113, 50)]\ntime to align read: 0.8001899719238281\n"
     ]
    },
    {
     "name": "stdout",
     "output_type": "stream",
     "text": [
      "\nUnaligned\nGTGTCAGGCTGTGTTTGGATGTTAGCAGATAGTTTAGGTTTGCGTCTTCA\n[]\ntime to align read: 0.857403039932251\n"
     ]
    },
    {
     "name": "stdout",
     "output_type": "stream",
     "text": [
      "\nUnaligned\nGCTTGTGAGGACGTAGTACTGACAGGAGCATATGCAATGTCATAAGAATA\n[]\ntime to align read: 0.8480300903320312\n"
     ]
    },
    {
     "name": "stdout",
     "output_type": "stream",
     "text": [
      "\nUnaligned\nTTTGTTTTCATTCAATATACAGACTATTATTATTTTATAAATAAAAGTTA\n[]\ntime to align read: 0.8045029640197754\n"
     ]
    },
    {
     "name": "stdout",
     "output_type": "stream",
     "text": [
      "\nAligned to transcriptome\nGTTTTGCAGTCGAACCTGAAGATACTACAAGCCAAACACTCTCTAATCAT\nGTTTTGCAGTCGAACCTGAAAATACTACAAGCCAACCACTTTCTAATCAG\n[(0, 4791528, 12), (12, 4796663, 38)]\ntime to align read: 0.78981614112854\n"
     ]
    },
    {
     "name": "stdout",
     "output_type": "stream",
     "text": [
      "\nAligned to transcriptome\nACGCCTGCTCTCCTCTGGTCTGTGAAGCTACGCAGGGTGGGGCTTGTTTC\nACGCCTGCTCTCCTCTGGTCTGTGAAGCTACGCAGGGTGGGGCTTGTTTC\n[(0, 3019894, 50)]\ntime to align read: 0.8294062614440918\n"
     ]
    },
    {
     "name": "stdout",
     "output_type": "stream",
     "text": [
      "\nAligned to transcriptome\nGGGGATTACAGAATGTAGTGAATACCAGGAGGCTGAGTTCAGAAGGAGCT\nGGGGATTACACAATGTAGTGAATACCAGGAGGCTGAGATCAGAAGGAGCT\n[(0, 5593859, 50)]\ntime to align read: 0.7989308834075928\n"
     ]
    },
    {
     "name": "stdout",
     "output_type": "stream",
     "text": [
      "\nAligned to transcriptome\nACAGAGAAAGACTGTGGTTGTCCCCCCATATCTACAGGTTCACATTCTGG\nACAGAGAAAGAGTGTGGTTGTCTCCCCATATCTACAGTTTCACATTCTGG\n[(0, 10564318, 50)]\ntime to align read: 0.797482967376709\n"
     ]
    },
    {
     "name": "stdout",
     "output_type": "stream",
     "text": [
      "\nAligned to transcriptome\nGAGCTTCGTAGAGCAGGCGCTGACGGAGACCAACTGCAGGAACACTGTGG\nGAGCTTCGTGGAGGAGACGCTGACGGAGACCAACTGCAGGAACACTGTGG\n[(0, 2958619, 50)]\ntime to align read: 0.8061439990997314\n"
     ]
    },
    {
     "name": "stdout",
     "output_type": "stream",
     "text": [
      "\nUnaligned\nAGACCAATGCCTGGATACCATTCGCTACTAACAGTCCATAAAAATGTCGC\n[]\ntime to align read: 0.9828548431396484\n"
     ]
    },
    {
     "name": "stdout",
     "output_type": "stream",
     "text": [
      "\nAligned to transcriptome\nATCAAGATATATAAGGATCCCCCCATTCCAGAATAGTCTCTTGCGTTCGT\nATCAAGATATATAATGATCCCCTCATTCCAGAATAGTCTCTTGTGTTCTT\n[(0, 5592534, 50)]\ntime to align read: 0.8205010890960693\n"
     ]
    },
    {
     "name": "stdout",
     "output_type": "stream",
     "text": [
      "\nUnaligned\nTTTAGAGGGCAAATGGTGTGCAAAACAAACTTTAAGTAGCAGAGATTGAT\n[]\ntime to align read: 0.7988040447235107\n"
     ]
    },
    {
     "name": "stdout",
     "output_type": "stream",
     "text": [
      "\nAligned to transcriptome\nACCTGATGAAGCTCTTCCTGCAGAGTTCCTAACAGACTGAGACTGGGCGG\nACCTGATGAAGCTCTTCCTGCAGAGTTCCTATCAGACTGAGACTGGGCGG\n[(0, 9337792, 50)]\ntime to align read: 0.8125379085540771\n"
     ]
    },
    {
     "name": "stdout",
     "output_type": "stream",
     "text": [
      "\nAligned to transcriptome\nCTTACCGCCCTGAAGACGCCTGCACTCCTGTGGTCTGTGAAGCTTCGCAG\nCTTACCGCCCTGAAGACGCCTGCTCTCCTCTGGTCTGTGAAGCTACGCAG\n[(0, 3019879, 50)]\ntime to align read: 0.8033406734466553\n"
     ]
    },
    {
     "name": "stdout",
     "output_type": "stream",
     "text": [
      "\nAligned to transcriptome\nAGCAGGACATCTTCCTGACTTGGTAATAATTAGGTGAAAAGGATGGTTGG\nAGCAGGACATCTTCCTGACCTGGTAATAATTAGGTGAGAAGGATGGTTGG\n[(0, 2673201, 50)]\ntime to align read: 0.79659104347229\n"
     ]
    },
    {
     "name": "stdout",
     "output_type": "stream",
     "text": [
      "\nAligned to transcriptome\nCAGGGTGGGGCTTGTTTCAGTTTGAGGGAGACCGCGGGGGACTACTGGAC\nCAGGGTGGGGCTTGTTTCAGTTTGAGGGAGACCGCGTGGGACTACTGGAC\n[(0, 3019926, 50)]\ntime to align read: 0.7884368896484375\n"
     ]
    },
    {
     "name": "stdout",
     "output_type": "stream",
     "text": [
      "\nAligned to transcriptome\nTGTGCTGTCCACCATCACCAACACCAGCTCATTCTTCTGGACTGTGGCCA\nTGTGCTGTCCACCCTCACCAACACCAGCTCATTCTTCTGGACTGTGGCCA\n[(0, 6245465, 50)]\ntime to align read: 0.8096628189086914\n"
     ]
    },
    {
     "name": "stdout",
     "output_type": "stream",
     "text": [
      "\nUnaligned\nGTGTATTTTAAACTAAGTAAGCGGGAGTCCAGATGTAGTTGCACTTCCAT\n[]\ntime to align read: 0.9732110500335693\n"
     ]
    },
    {
     "name": "stdout",
     "output_type": "stream",
     "text": [
      "\nUnaligned\nCCTTTGCCCACGTTACTCAAAATGTGATTCAATTCAGTTATTCATTCAAT\n[]\ntime to align read: 4.442384958267212\n"
     ]
    },
    {
     "name": "stdout",
     "output_type": "stream",
     "text": [
      "\nAligned to transcriptome\nGACAAAGGCAAAGATTGGAGTTGTACTGCGACAAGCCCTAGAATGAGGAA\nGACAAAGGCAAAGATTGGAGTTGTACTGCCACAAGCCCAAGAATGAGGAA\n[(0, 10746229, 50)]\ntime to align read: 0.836601734161377\n"
     ]
    },
    {
     "name": "stdout",
     "output_type": "stream",
     "text": [
      "\nUnaligned\nATTTAACTGAGGTTGGCTGAAAATATTAAATAAAAAGTGCCCAGAGTCAA\n[]\ntime to align read: 1.3314788341522217\n"
     ]
    },
    {
     "name": "stdout",
     "output_type": "stream",
     "text": [
      "\nAligned to transcriptome\nAATTGGCATTCCTGAGGAAGAAGAGGAACCTATAAGTTTGGAAAACGTAT\nAATTGGCATTCCTGAGGAAGAAGAGGAACCTAGAAGTTTGGAAAACATAT\n[(0, 6655120, 50)]\ntime to align read: 0.7946739196777344\n"
     ]
    },
    {
     "name": "stdout",
     "output_type": "stream",
     "text": [
      "\nAligned to transcriptome\nATTCCTGTAAGGAATAAAAATGAAGAAACAACAAAAACAGCCCACTTATT\nATTCCTGTAAGGAAAAAAAATGAAGAAAGAACAAAAACAGCCCACTTTGT\n[(0, 2299579, 50)]\ntime to align read: 0.7933731079101562\n"
     ]
    },
    {
     "name": "stdout",
     "output_type": "stream",
     "text": [
      "\nUnaligned\nCTTTAAAAGGTGTCAGTTTTCATCTACCAAGTCAGCCCCTGTCTTTTCCA\n[]\ntime to align read: 3.5046632289886475\n"
     ]
    },
    {
     "name": "stdout",
     "output_type": "stream",
     "text": [
      "\nAligned to transcriptome\nGGCTCCTGATTGAGGGCATTGGAGTGATGGGGATCTTCTTCTGCTTGTTT\nGGCTCCAAATTGAGGGCTTTGGGGTGATGGGGATCTTCTTCTGCTTGTTT\n[(0, 7866279, 50)]\ntime to align read: 0.8916127681732178\n"
     ]
    },
    {
     "name": "stdout",
     "output_type": "stream",
     "text": [
      "\nUnaligned\nCTTCAGATTCCCAACATCTATAAAAGTGATGTAGGTATATACAGACCTGA\n[]\ntime to align read: 1.115570068359375\n"
     ]
    },
    {
     "name": "stdout",
     "output_type": "stream",
     "text": [
      "\nUnaligned\nGGTAGTGGCGTCACGAGGGGCACTATGGACCAAATGATTGGTAGAATGGG\n[]\ntime to align read: 0.7998547554016113\n"
     ]
    },
    {
     "name": "stdout",
     "output_type": "stream",
     "text": [
      "\nUnaligned\nCCACTGTCCCCTGCCTCCTTCATGGCTCTGCGTTGCAAGCTCAAGGAGGA\n[]\ntime to align read: 0.7990520000457764\n"
     ]
    },
    {
     "name": "stdout",
     "output_type": "stream",
     "text": [
      "\nUnaligned\nTCACCAAGTTCTTCTGAGTTCATCTGCTTCCTCAAGGCCGTTATCCATTA\n[]\ntime to align read: 0.7932019233703613\n"
     ]
    },
    {
     "name": "stdout",
     "output_type": "stream",
     "text": [
      "\nAligned to transcriptome\nAAGTTTAAGTCTGCCTGGTGCAGAATTCACATTCAACGTTTCACTATGTG\nAAGTTTAAGTCTGCCTGGTGCAGAATTCACATTCTACATTTCACTATGTG\n[(0, 2950653, 9), (9, 2950910, 41)]\ntime to align read: 0.8784267902374268\n"
     ]
    },
    {
     "name": "stdout",
     "output_type": "stream",
     "text": [
      "\nAligned to transcriptome\nAACAGGACTTATTATGTATAAAAAAATACAACAGGAATGTAAAAAACTTG\nAACAGGAGTTATTATGTATGAAAAAATACAACAGGAATGTAAAAAACTTG\n[(0, 2603148, 50)]\ntime to align read: 0.8030509948730469\n"
     ]
    },
    {
     "name": "stdout",
     "output_type": "stream",
     "text": [
      "\nAligned to transcriptome\nTGAAGAGGAAACATACAGAAGTTTGGAGGAATTCTCGAAACCCTTATGAT\nTGAAGAGGACACCTACAGAAGTTTGGAGGGATTCTCGAAACCCTTATGAT\n[(0, 4740539, 50)]\ntime to align read: 0.7980861663818359\n"
     ]
    },
    {
     "name": "stdout",
     "output_type": "stream",
     "text": [
      "\nAligned to transcriptome\nCTCAGGCTGGAGGGTCATGCACGGAGCCTTCAGCGCCAGCAGCAGCCCGA\nCTCAGGCTGGAGGGTCAGGCGCGGAGCCTGCAGCGCCAGCAGCAGCCCGA\n[(0, 2654433, 50)]\ntime to align read: 0.784965991973877\n"
     ]
    },
    {
     "name": "stdout",
     "output_type": "stream",
     "text": [
      "\nAligned to transcriptome\nTGCTCAGCTCAGGCCTGCTGTTGGCAATGTGCACCCTGTGGCCCGACCTG\nTGCTCAGCTCAGGCCTGCTGGTGGCCATGTGCACCCTGTGGCCCGACCTG\n[(0, 6245294, 50)]\ntime to align read: 0.8209700584411621\n"
     ]
    },
    {
     "name": "stdout",
     "output_type": "stream",
     "text": [
      "\nAligned to transcriptome\nGTCGACATGGCAAAACCCCGTATCTACTAAAAATGCAAATATTAGACAGA\nGTCAACATGGCAAAACCCCGTCTCTACTAAAAATGCAAAAATTAGCCAGA\n[(0, 3895648, 50)]\ntime to align read: 0.7949590682983398\n"
     ]
    },
    {
     "name": "stdout",
     "output_type": "stream",
     "text": [
      "\nAligned to transcriptome\nCCTTAGCCCTCTGTGACAAATGAGAAGAAACCAGAATACCAACTCTGGCA\nCCTTAGACCTCTGTGACAAATGAGAAGAAACCAGAAAACCAACTCTGGCA\n[(0, 6654617, 50)]\ntime to align read: 0.8219649791717529\n"
     ]
    },
    {
     "name": "stdout",
     "output_type": "stream",
     "text": [
      "\nUnaligned\nTCAGTGACGAAAATATGTACAGGTCAATAAGTAGAAATAATAGTTTCCAT\n[]\ntime to align read: 0.8997809886932373\n"
     ]
    },
    {
     "name": "stdout",
     "output_type": "stream",
     "text": [
      "\nAligned to transcriptome\nAGAACATAGAGCAGTGTTAGAATCACTGTTTCATTACCAGCTGACATCTG\nAGAACAGAGAGCAGTGTTAGAATCACTGTTTCATTACCAGCTGACATCTG\n[(0, 6759680, 50)]\ntime to align read: 0.8055088520050049\n"
     ]
    },
    {
     "name": "stdout",
     "output_type": "stream",
     "text": [
      "\nAligned to transcriptome\nCAGACTTTTCCTAGTCCCTGAGACACTAACTTGTGAGGTATTTTAGTAAC\nCAGACTTTTCCTAGTCCCTGAGACCCTAACTTGTGAGGTATTTTAGTAAC\n[(0, 5539238, 50)]\ntime to align read: 0.8029661178588867\n"
     ]
    },
    {
     "name": "stdout",
     "output_type": "stream",
     "text": [
      "\nAligned to transcriptome\nTCCTCCATCCATAAATGCACAGCCAAGCAGTGGAAAGCGGTTTAAACTCA\nTCCTCCATCCATACATGGACAGCCAAGCAGTGGAAAGAGCTTTAAACTCA\n[(0, 10417671, 50)]\ntime to align read: 0.7951681613922119\n"
     ]
    },
    {
     "name": "stdout",
     "output_type": "stream",
     "text": [
      "\nAligned to transcriptome\nAGGCCTAAACAGAAATTCACAAGTAACAATATCATGTCATCTCTTTTCTT\nAGGCCTAAACAGAAATTCACAAGTAACATTATCATGTCATCTTTTTTCTT\n[(0, 2425689, 50)]\ntime to align read: 0.7901780605316162\n"
     ]
    },
    {
     "name": "stdout",
     "output_type": "stream",
     "text": [
      "\nAligned to genome\nTTTGGCCTCTGCCAATGGAAATTCAGAAGTAGTACATCTCCTGCTGGACA\nTTTGGCCTCTGCCAATGGAAATTCAGAAGTAGTACAACTCCTGCTGGACA\n[(0, 2564134, 50)]\ntime to align read: 1.1930339336395264\n"
     ]
    },
    {
     "name": "stdout",
     "output_type": "stream",
     "text": [
      "\nUnaligned\nAGCCGTGTACAACGCCGCCCGTGACGGCATGGGGGCAGCTGCTCCAGAAG\n[]\ntime to align read: 0.7907938957214355\n"
     ]
    },
    {
     "name": "stdout",
     "output_type": "stream",
     "text": [
      "\nUnaligned\nCGTGCTGGGTATAAAATAATGGAGCCCCGCCGTTTGATAAAACTTCGGGC\n[]\ntime to align read: 1.0402910709381104\n"
     ]
    },
    {
     "name": "stdout",
     "output_type": "stream",
     "text": [
      "\nAligned to transcriptome\nTCTGCTGCTGTCTCATCTGGTGGCCATTGGATTGAGGATCTACACTGGAA\nTCTGCTGCTCTCTCATCTGCTGGCCATTGGATTGAGGATCTACACTGGAA\n[(0, 2069725, 50)]\ntime to align read: 0.8193352222442627\n"
     ]
    },
    {
     "name": "stdout",
     "output_type": "stream",
     "text": [
      "\nAligned to transcriptome\nTCCTCATAGGGCCTGTGAAATGATGAAGGAAGGGGATTGCTGACAATACA\nTCCTCATAGCGCCTGTGAAATGTTGAAGGAAGGGGATTGCTGACAATACA\n[(0, 10412747, 50)]\ntime to align read: 0.7911040782928467\n"
     ]
    },
    {
     "name": "stdout",
     "output_type": "stream",
     "text": [
      "\nUnaligned\nTAGTATTCTTGACTATGGCTTCTTCTAACGCTAATGTGACCCACACCAGT\n[]\ntime to align read: 0.890927791595459\n"
     ]
    },
    {
     "name": "stdout",
     "output_type": "stream",
     "text": [
      "\nUnaligned\nAGCCCTGAAGTTCATATTTTTGGCCCACAGTTGATCTGAGGTAACTTAAA\n[]\ntime to align read: 1.356673002243042\n"
     ]
    },
    {
     "name": "stdout",
     "output_type": "stream",
     "text": [
      "\nUnaligned\nTTTTCAGCATAGTATACAATGCGTGAAATTACTTGTTGCTCCAATTCGAG\n[]\ntime to align read: 0.8708879947662354\n"
     ]
    },
    {
     "name": "stdout",
     "output_type": "stream",
     "text": [
      "\nAligned to transcriptome\nGGGTTAATTAATTCAATTAGCAACACTTGTTCACAGTAAAGGAGCTGAGA\nGGGTTAATTAATTCAATTAGCAACACTTTTTCTCAGCAAAGGAGCTGAGA\n[(0, 3547077, 50)]\ntime to align read: 0.7972230911254883\n"
     ]
    },
    {
     "name": "stdout",
     "output_type": "stream",
     "text": [
      "\nAligned to transcriptome\nTGAGCAAAATATCTCACAAACCAGTTCATCAAGTTTGTTGTTTGTTGTAA\nTGAGCAAAATATCTCACAAACCAGTTGATCAAGTTTGATGTTTGTTGAAA\n[(0, 8569902, 50)]\ntime to align read: 0.826958179473877\n"
     ]
    },
    {
     "name": "stdout",
     "output_type": "stream",
     "text": [
      "\nAligned to transcriptome\nGAATATTTTGATTCACAAGTCCATCTAGGACATATTTTTCTTCCTCCCAG\nGAATATTTTGATTCACAAGTCCATCTAGGAAATATTTTTCTTCCTCCCTC\n[(0, 4000513, 50)]\ntime to align read: 0.8036539554595947\n"
     ]
    },
    {
     "name": "stdout",
     "output_type": "stream",
     "text": [
      "\nAligned to genome\nAAACTGCCTATCTGCCATGCAAGTTTACGCTTAGTCCCGAAGATCTCGGA\nAAACTGCCTATCTGCCATGCAAATTTACGCTTAGTCCCGAAGACCAGGGA\n[(0, 6496086, 50)]\ntime to align read: 0.7997097969055176\n"
     ]
    },
    {
     "name": "stdout",
     "output_type": "stream",
     "text": [
      "\nAligned to transcriptome\nTGCTGCCGAGGTGAAGGCCAGAGCCAGTTTGGAGCCCCCCATGCTTCAGA\nTGCTGCCCAGGTGAAGGCCAGAGCCAGTTTGGAGCCCCCCATGCTTCAGA\n[(0, 2960783, 27), (27, 2961120, 23)]\ntime to align read: 0.7881488800048828\n"
     ]
    },
    {
     "name": "stdout",
     "output_type": "stream",
     "text": [
      "\nAligned to transcriptome\nGCCTTGAACGACAAAAGCTTTCTAAAAGAAGTATAATGTACCACTTTTTG\nGCCTTGAACGACAAAAGCTTTCTAAAAATAGTATAATGTACCACTTTTTG\n[(0, 3176444, 50)]\ntime to align read: 0.7943480014801025\n"
     ]
    },
    {
     "name": "stdout",
     "output_type": "stream",
     "text": [
      "\nAligned to transcriptome\nGGGGTGTGGAGCCCCGGCCCGACCTGAGCGGCGCCACAAAGCCATGACGA\nGGGGTGAGGAGCCCCGGCCCGACCTCAGCGGCGCCACAAAGCCATGAAGA\n[(0, 6560947, 50)]\ntime to align read: 0.8152341842651367\n"
     ]
    },
    {
     "name": "stdout",
     "output_type": "stream",
     "text": [
      "\nUnaligned\nGTTCTGCCGGATGAGTTTAGCCCAGAGACAGCAGTTTCTCGAGGAAGGAA\n[]\ntime to align read: 0.9477078914642334\n"
     ]
    },
    {
     "name": "stdout",
     "output_type": "stream",
     "text": [
      "\nAligned to transcriptome\nGACTTCGGTGATTCTGCCACTCCCTCCGTCGCTCTGTGACCTGCTCGCAT\nGACTTCGGTGATTCTGCCACTCCCTCCGTCGCTCTGTGACCTGCTGGCAT\n[(0, 2976498, 50)]\ntime to align read: 2.5564630031585693\n"
     ]
    },
    {
     "name": "stdout",
     "output_type": "stream",
     "text": [
      "\nAligned to transcriptome\nCAACCAGAGCAGCCAGGTCTTCAGCCTGGGCCGACAGATATATGACCCCA\nCAACCAGAGCAGCCAGGTCTTCAGCCTGGGCCGACAGATATACGACCCCA\n[(0, 2776462, 50)]\ntime to align read: 1.107773780822754\n"
     ]
    },
    {
     "name": "stdout",
     "output_type": "stream",
     "text": [
      "\nUnaligned\nCTAAAATTGCAAAAATACATGGAAAGTTAGCATGGTTTCTGCATAAGGAG\n[]\ntime to align read: 1.2464678287506104\n"
     ]
    },
    {
     "name": "stdout",
     "output_type": "stream",
     "text": [
      "\nAligned to transcriptome\nGACTTTGAGCCCATACAAAAAAGTGTTATAGCAAGGAGCATGCCAAGTTG\nGACTTTGAGCCTATACAAAAAAGTGTTTTAGCAAGGAGCATGCCAAGTTG\n[(0, 3707003, 50)]\ntime to align read: 0.9166381359100342\n"
     ]
    },
    {
     "name": "stdout",
     "output_type": "stream",
     "text": [
      "\nAligned to transcriptome\nATCTAGTACAACTTCAATTATTTTAAGCTAAAAACGTTGCGGTAAAATAG\nATCTAGTACAAGTTCAATTATGTTAAGCTAAAAACTTTGCTGTAAAATAT\n[(0, 4000993, 50)]\ntime to align read: 0.9483559131622314\n"
     ]
    },
    {
     "name": "stdout",
     "output_type": "stream",
     "text": [
      "\nUnaligned\nCGTAATCGCAGTTTGTCTGTCCCCCTATTAAGTCTTTACGCGAATTAGAC\n[]\ntime to align read: 1.025831937789917\n"
     ]
    },
    {
     "name": "stdout",
     "output_type": "stream",
     "text": [
      "\nAligned to transcriptome\nTATGGTTTAGAGTTACACCCTGGGAGTTTACTGTACAACCTTCTAGCTTT\nTATGGTTTAGAGTTACACCCTGGGAGTTAACTGTACAACCTTCTAGCTTT\n[(0, 5488852, 50)]\ntime to align read: 0.9115300178527832\n"
     ]
    },
    {
     "name": "stdout",
     "output_type": "stream",
     "text": [
      "\nUnaligned\nCACAAATGCGGCAGTGGCCATTGCGATTCGGAGTGTCTTCTTCGCTGAGG\n[]\ntime to align read: 0.9041788578033447\n"
     ]
    },
    {
     "name": "stdout",
     "output_type": "stream",
     "text": [
      "\nAligned to transcriptome\nAGCCAATTTCTATACCCAAAACGTAGTATTTGTGTATCTGTAAAGGAGCT\nAGCCAATTTCTATAACCAAAACGTAGTATTTGTGTATCTTTAAATGAGCT\n[(0, 3999478, 50)]\ntime to align read: 0.9286508560180664\n"
     ]
    },
    {
     "name": "stdout",
     "output_type": "stream",
     "text": [
      "\nUnaligned\nAACGAGTTCTCTTCTCCTACTTAAAGAGTGACCAAATATGCCTGCTGACT\n[]\ntime to align read: 0.9278769493103027\n"
     ]
    },
    {
     "name": "stdout",
     "output_type": "stream",
     "text": [
      "\nAligned to transcriptome\nAATGGCAAGCTCATTGCAGAAAATGAGAAGTACATATTGAAAGGGGGCAA\nAATGGCAAGCTCATTGAAGAAAATGAGAAGTACATATTGAAAGGGAGCAA\n[(0, 10284505, 50)]\ntime to align read: 0.8963263034820557\n"
     ]
    },
    {
     "name": "stdout",
     "output_type": "stream",
     "text": [
      "\nUnaligned\nAATTCCTGAAGTTAATATTTTTGGACCACAGTTGACCTGAGGTAACTGAA\n[]\ntime to align read: 0.9243628978729248\n"
     ]
    },
    {
     "name": "stdout",
     "output_type": "stream",
     "text": [
      "\nUnaligned\nCGCCTCCGCCCCAGTGTCCGGGCTGCGACTGCGGGGAGCCGATCGCCCAG\n[]\ntime to align read: 0.9183101654052734\n"
     ]
    },
    {
     "name": "stdout",
     "output_type": "stream",
     "text": [
      "\nAligned to genome\nTCCCAGCTACAGGGGAGGCTGAGTCAGGAGAATCGCTTGAACCCTAGAGG\nTCCCAGCTACAGGGGAGGCTGAGTCAGGAGAATCGCTTGAACCCTGGAGG\n[(0, 6455479, 50)]\ntime to align read: 0.9084987640380859\n"
     ]
    },
    {
     "name": "stdout",
     "output_type": "stream",
     "text": [
      "\nUnaligned\nACTTCATCTTATTGTGTTTTCTCAAGCCCACAAAAATCCAATTACTGAAA\n[]\ntime to align read: 1.492187261581421\n"
     ]
    },
    {
     "name": "stdout",
     "output_type": "stream",
     "text": [
      "\nUnaligned\nGATCATGATGACATACTCATCATCAAGTTGAGGACGGGCCAGGAGCTGAG\n[]\ntime to align read: 0.9305081367492676\n"
     ]
    },
    {
     "name": "stdout",
     "output_type": "stream",
     "text": [
      "\nUnaligned\nGACCGGCCTGAAGACCCCTGGTCTCCTCTGGTCTGTGAAGCTACGCAGGG\n[]\ntime to align read: 0.9305310249328613\n"
     ]
    },
    {
     "name": "stdout",
     "output_type": "stream",
     "text": [
      "\nUnaligned\nAAAGGTACCTAAATAATCAAACCTAGCAATTCTGCATGTAAAAGTAAATC\n[]\ntime to align read: 0.8928618431091309\n"
     ]
    },
    {
     "name": "stdout",
     "output_type": "stream",
     "text": [
      "\nAligned to transcriptome\nATTCTGCTGGAACATAGCGCCAATCCAAACCTTAAGGATATGTACGGCAA\nATTCTGCTGGAACATAGCGCCAATCCAAACCTTAAGGATATGTACGGCAA\n[(0, 3017946, 50)]\ntime to align read: 0.9245960712432861\n"
     ]
    },
    {
     "name": "stdout",
     "output_type": "stream",
     "text": [
      "\nUnaligned\nGGAGTTACTACAACAACCATTCATCAACAGGCATTTGATTTACCGCCAAG\n[]\ntime to align read: 0.9153542518615723\n"
     ]
    },
    {
     "name": "stdout",
     "output_type": "stream",
     "text": [
      "\nAligned to transcriptome\nACTCACACTGAAGAATAAGCCTAAGAATGTTTGATAAGTGGGAATGTCTT\nACTCACACTGAAGAATAGTCCTAAGAATGTTAGATATGTGGTAATGTCTT\n[(0, 9546964, 50)]\ntime to align read: 0.9151370525360107\n"
     ]
    },
    {
     "name": "stdout",
     "output_type": "stream",
     "text": [
      "\nUnaligned\nCAAGTTACTCAAAATGTCATGCAATTCAGGTAATCATTCAACATACAATA\n[]\ntime to align read: 1.052433967590332\n"
     ]
    },
    {
     "name": "stdout",
     "output_type": "stream",
     "text": [
      "\nAligned to transcriptome\nGACACATTGTTGAAGTACAAAAATATAAATTGGACATAGAAGCAAAGGCA\nGACACATTGGTGAAGTACAAAAATATAAATTGGATCTAGAAGAAAAGGCA\n[(0, 2603267, 50)]\ntime to align read: 0.9330301284790039\n"
     ]
    },
    {
     "name": "stdout",
     "output_type": "stream",
     "text": [
      "\nAligned to transcriptome\nAGTTTACCTTCTAATTCTATATTGAATGATTAACACCTTTATAGTGTTTT\nAGTTTACTTTATAATTCAATATTGAATGATTAACACCTTTATAGTATTTT\n[(0, 1994574, 50)]\ntime to align read: 0.9539799690246582\n"
     ]
    },
    {
     "name": "stdout",
     "output_type": "stream",
     "text": [
      "\nAligned to transcriptome\nCTGAAGCTAATTTGGATACAAGAATAAGGTCTCACAAGAATCTTTTATTA\nCTGAAGCTAATTTGGATACAAGAAAAAGGTCTCACAAGAATCTTTTCTTA\n[(0, 2725887, 50)]\ntime to align read: 0.9191229343414307\n"
     ]
    },
    {
     "name": "stdout",
     "output_type": "stream",
     "text": [
      "\nAligned to transcriptome\nTGTTAATGGCCGCCAGCAATCTCAATGCCTCAGAAATCTTTTAAGGCCAC\nTGTTAATGGCCGCCAGCAATCTCAATGCCTCAGAAATCTTTTAATGCCAC\n[(0, 10241233, 8), (8, 10273383, 42)]\ntime to align read: 0.9280698299407959\n"
     ]
    },
    {
     "name": "stdout",
     "output_type": "stream",
     "text": [
      "\nAligned to transcriptome\nGGCGCTGCGGCCGGAGGAGCTGGCAGAGCTGGCAGAGCTGGCGGGCGGCC\nGGCGCTGCGGCCGGAGGAGCTGGGAGAGCTGGCAGAGCTGGCGGGCGGCC\n[(0, 2654109, 50)]\ntime to align read: 0.8861429691314697\n"
     ]
    },
    {
     "name": "stdout",
     "output_type": "stream",
     "text": [
      "\nAligned to transcriptome\nTAGGTTATATGGTTTAGAGTTACACCGTGGGAATTAACTGTACAACCTTC\nTAGGTTGTATGGTTTAGAGTTACACCCTGGGAGTTAACTGTACAACCTTC\n[(0, 5488845, 50)]\ntime to align read: 0.9191009998321533\n"
     ]
    },
    {
     "name": "stdout",
     "output_type": "stream",
     "text": [
      "\nAligned to transcriptome\nATTTTAACAAGCGTTCCAGATCACTCTGAAGCATGCTCCATACTGACAAC\nATTTTAACAAGCCTTCCAGATGACTCTGAAGCATGCTCCATACTGACAAC\n[(0, 2719146, 50)]\ntime to align read: 0.9132440090179443\n"
     ]
    },
    {
     "name": "stdout",
     "output_type": "stream",
     "text": [
      "\nUnaligned\nGCTCTCTATTATGCTGTGCATATTGAGAGCACCTCACTGACAGAAAAACT\n[]\ntime to align read: 0.9141428470611572\n"
     ]
    },
    {
     "name": "stdout",
     "output_type": "stream",
     "text": [
      "\nUnaligned\nCATCCTGGTCGAGGTAGTAGGTGGTATGGTTTAGAGTTACACGCTGGGAG\n[]\ntime to align read: 0.8794867992401123\n"
     ]
    },
    {
     "name": "stdout",
     "output_type": "stream",
     "text": [
      "\nAligned to transcriptome\nTATTCAGCATTCTTTAATCTTTTGGAATTTAGAAGATTAGTTCTGAATTA\nTATTCAGCATTATTTAATCTTTTGGAATTTAGAAGATTAGTTCTGAATTA\n[(0, 4740657, 7), (7, 4748757, 43)]\ntime to align read: 1.2539291381835938\n"
     ]
    },
    {
     "name": "stdout",
     "output_type": "stream",
     "text": [
      "\nAligned to transcriptome\nACCATCCCGCTGTTAGTGAGCTTCTGTCTCGTCATGTGCTGGGTGGACCT\nACCATCCCGCTGTTAGTGAGCTACTGTCTGGTCATGTGCTGGGTGGACCT\n[(0, 2426057, 50)]\ntime to align read: 0.9437072277069092\n"
     ]
    },
    {
     "name": "stdout",
     "output_type": "stream",
     "text": [
      "\nAligned to transcriptome\nCTTTATTGATCTGTCATTTCTTGTGAGACATATGAAAATTCACCCTAGAA\nCTTTATTTATCTGTCATTTCTTGTGAGACATATGAAAATTCACACTAGAA\n[(0, 2788149, 50)]\ntime to align read: 1.0110540390014648\n"
     ]
    },
    {
     "name": "stdout",
     "output_type": "stream",
     "text": [
      "\nAligned to transcriptome\nAGGAGAATCATAAGGAGGGATTCCAGGCAAGAAAAGTTGTATCCAATGCA\nAGGAGAATCATAAGGAGGGATTCCAGGCAAGGAAAGTTGTATCCAATGCA\n[(0, 8250841, 36), (36, 8252369, 14)]\ntime to align read: 0.9264247417449951\n"
     ]
    },
    {
     "name": "stdout",
     "output_type": "stream",
     "text": [
      "\nAligned to transcriptome\nTTCTTTGTGCTCAGCTCAGGCCCGCTGGTGGCTATGTGCACCCTGTGGCG\nTTCTTTGTGCTCAGCTCAGGCCTGCTGGTGGCCATGTGCACCCTGTGGCC\n[(0, 6245287, 50)]\ntime to align read: 1.0420989990234375\n"
     ]
    },
    {
     "name": "stdout",
     "output_type": "stream",
     "text": [
      "\nAligned to transcriptome\nGCTATTGCCGGGAGTAGTCCTGTTACCTGAACCTGATGAAGATCTTCCTG\nGCTATTGCCGGGAGCAGCCCTGTTACCTGAACCTGATGAAGCTCTTCCTG\n[(0, 9337762, 50)]\ntime to align read: 0.9579761028289795\n"
     ]
    },
    {
     "name": "stdout",
     "output_type": "stream",
     "text": [
      "\nUnaligned\nAGGGTCTCTAGTACAAAGGGTCTTATTCTGTCACTTAGCCTGGAGTACAA\n[]\ntime to align read: 0.953834056854248\n"
     ]
    },
    {
     "name": "stdout",
     "output_type": "stream",
     "text": [
      "\nAligned to transcriptome\nTGAGGTATTTTAGTAACATGAAAAGTCAGGCTCTTGGGACCTAGACGGAG\nTGAGGTATTTTAGTAACATCACAAGTCAGGCTCTTGGGACCTAGGCGGAG\n[(0, 5539271, 50)]\ntime to align read: 0.8987152576446533\n"
     ]
    },
    {
     "name": "stdout",
     "output_type": "stream",
     "text": [
      "\nAligned to transcriptome\nGATGACTCTGAAGCATGCGCCATACTGACAACTAAGGCAATGCATTATGC\nGATGACTCTGAAGCATGCTCCATACTGACAACTAATGCAATGCATTATGC\n[(0, 2719164, 49), (49, 2720565, 1)]\ntime to align read: 0.929481029510498\n"
     ]
    },
    {
     "name": "stdout",
     "output_type": "stream",
     "text": [
      "\nUnaligned\nGGCCTACCCAGACATGTGGAACTGACGGGGTTTCACCGTGTTAGCCAGGA\n[]\ntime to align read: 0.9086878299713135\n"
     ]
    },
    {
     "name": "stdout",
     "output_type": "stream",
     "text": [
      "\nAligned to genome\nAAATTAAGACAAGGTTGAGAAGATCCGCATGGTCTCCGCATAAGGACGAC\nAAATTAAGACAACGTTGAGAAGATCAGCATGGTCCCCGCACAAGGATGAC\n[(0, 1996609, 50)]\ntime to align read: 0.9074380397796631\n"
     ]
    },
    {
     "name": "stdout",
     "output_type": "stream",
     "text": [
      "\nAligned to transcriptome\nACTCCAAGAACCATGAGAAGTATGACAGCTCCCTCAAGATTGTCAGCAAT\nACTCCAAGAACCATGAGAAGTATGACAGCTCCCTCAAGATTGTCAGCAAT\n[(0, 3723694, 50)]\ntime to align read: 0.949321985244751\n"
     ]
    },
    {
     "name": "stdout",
     "output_type": "stream",
     "text": [
      "\nAligned to transcriptome\nACCTGGTAATAATTAGGTGAGAAGGATGGTTGGGGGCGGTCGGCGTAACT\nACCTGGTAATAATTAGGTGAGAAGGATGGTTGGGGGCGGTCGGCGTAACT\n[(0, 2673218, 50)]\ntime to align read: 0.9033639430999756\n"
     ]
    },
    {
     "name": "stdout",
     "output_type": "stream",
     "text": [
      "\nAligned to transcriptome\nTAGCAGGGCCTTTCCACAAGGATGACATGCAAATTCATAAAGCATTCCAC\nTAGCAGGGCCTTTGCACAAGGATGACATGCAAATTCATAAAGCATTCCAC\n[(0, 4563333, 50)]\ntime to align read: 0.9196741580963135\n"
     ]
    },
    {
     "name": "stdout",
     "output_type": "stream",
     "text": [
      "\nUnaligned\nCCCTAATTAAGGCTAATGCCTCAGGCTTTGACCTTTTGTTCTAGCCTTTT\n[]\ntime to align read: 1.1515707969665527\n"
     ]
    },
    {
     "name": "stdout",
     "output_type": "stream",
     "text": [
      "\nAligned to transcriptome\nTAAACACCTTTTTTTGTTCTTTTTAGCAAAAGAGAGAAATGTAAGAAGAT\nTAAACACCTTTTTTTTTTCTTTTTAGCAAAAGTGAAAAATGTAAGCATAT\n[(0, 3913165, 50)]\ntime to align read: 0.9120199680328369\n"
     ]
    },
    {
     "name": "stdout",
     "output_type": "stream",
     "text": [
      "\nUnaligned\nAAATCAACTGTTCTGATATATATTTTTATGGCATCTCATTTTTCAATACA\n[]\ntime to align read: 0.9433488845825195\n"
     ]
    },
    {
     "name": "stdout",
     "output_type": "stream",
     "text": [
      "\nAligned to transcriptome\nTGCCAAGAGGAGTTTTTATATATTTTGGGCTATTGTAAAACCTTACTTTT\nTGCCAAGAGGAGTTTTTATATATTTTGGGCTATTGTAAAACCTTACTTTT\n[(0, 3170217, 50)]\ntime to align read: 0.9092481136322021\n"
     ]
    },
    {
     "name": "stdout",
     "output_type": "stream",
     "text": [
      "\nUnaligned\nTAGCATGAACATCTGATCTGATGTGTTATGTCATTTTGCCAAATTCACAG\n[]\ntime to align read: 1.0503120422363281\n"
     ]
    },
    {
     "name": "stdout",
     "output_type": "stream",
     "text": [
      "\nAligned to transcriptome\nCAGCATGCAGTAGTCAGAAACCATAGTTCACAATACATAAAGAGACGAGG\nCAGCATGCAGTAGTCAGAAACCATAGTTCACAATACTTAAAGAGACGAGG\n[(0, 3218633, 26), (26, 3219525, 24)]\ntime to align read: 0.9371199607849121\n"
     ]
    },
    {
     "name": "stdout",
     "output_type": "stream",
     "text": [
      "\nAligned to transcriptome\nCCAAAAGTTCCGAAAGTCTAAGGAGAAGAAAAGATACTAGTATTACCTAC\nCCAAAAGTTCCGAAAGTCTAAGAAGAAGAAAAGATACTAGTATTACCTAC\n[(0, 3176253, 50)]\ntime to align read: 0.92240309715271\n"
     ]
    },
    {
     "name": "stdout",
     "output_type": "stream",
     "text": [
      "\nAligned to transcriptome\nGTTGTCTCCCTATAACTACAGTTTCACGTTCTGGGATTTCAGTTACGTGC\nGTTGTCTCCCCATATCTACAGTTTCACATTCTGGGATTTCAGTTACCTGC\n[(0, 10564334, 50)]\ntime to align read: 0.9395840167999268\n"
     ]
    },
    {
     "name": "stdout",
     "output_type": "stream",
     "text": [
      "\nUnaligned\nATGAATTCCACAAAGGAGAAGCAGAAAACCTGAAAAACGGCAATATCCTG\n[]\ntime to align read: 0.9169788360595703\n"
     ]
    },
    {
     "name": "stdout",
     "output_type": "stream",
     "text": [
      "\nAligned to transcriptome\nTCCTGACCTGGTAATAATTAGGTGAGAAGGACGGTTGGTGGCGGTCGGCG\nTCCTGACCTGGTAATAATTAGGTGAGAAGGATGGTTGGGGGCGGTCGGCG\n[(0, 2673213, 50)]\ntime to align read: 0.9145798683166504\n"
     ]
    },
    {
     "name": "stdout",
     "output_type": "stream",
     "text": [
      "\nUnaligned\nTGTGTGGATTATTACCGAGGACAAGGAGTGACTGTTCGTTTGGCACTTCA\n[]\ntime to align read: 0.9361131191253662\n"
     ]
    },
    {
     "name": "stdout",
     "output_type": "stream",
     "text": [
      "\nUnaligned\nGGAGCGCTTTGATGCCTTTGGTGATGAGCTGGAGGCATCACACATAGTGC\n[]\ntime to align read: 5.44039511680603\n"
     ]
    },
    {
     "name": "stdout",
     "output_type": "stream",
     "text": [
      "\nAligned to transcriptome\nAGGCCTTGGTCAGCTACAGCATGAACCCCGTGGACCTATTTGAGACCAAC\nAGGCCATGGTCAGCTACAGCATGAACCCCGTGGACCTATTTGAGACCAAC\n[(0, 2775974, 50)]\ntime to align read: 0.921079158782959\n"
     ]
    },
    {
     "name": "stdout",
     "output_type": "stream",
     "text": [
      "\nUnaligned\nTATTAAGTCAACGTTTAGAAGATCAGCATGGTCCCCGCACAAGGATGACA\n[]\ntime to align read: 0.9317569732666016\n"
     ]
    },
    {
     "name": "stdout",
     "output_type": "stream",
     "text": [
      "\nAligned to transcriptome\nGACTAATTCAACTCGGATATCATGTCTACAGAGAAGTTTCTCCTTCCCTC\nGACTAATTCAACTCGGATATCATGTCTTCAGAGAAGTTTCTCCTGCCCTC\n[(0, 5589264, 50)]\ntime to align read: 0.9249348640441895\n"
     ]
    },
    {
     "name": "stdout",
     "output_type": "stream",
     "text": [
      "\nAligned to transcriptome\nATAAGACTTATATCTGGTTTGCTGTTCAATTTTTGCCTTGAACGACAAAA\nATAAGACTTATCTCTGGTTTGCTGTTCAATTTTTGCCTTGAACGACAAAA\n[(0, 3176410, 50)]\ntime to align read: 2.7760839462280273\n"
     ]
    },
    {
     "name": "stdout",
     "output_type": "stream",
     "text": [
      "\nUnaligned\nCGACACCCAGTATTAGAGCGCGTTAACTCCCCCCAAATGGAAAGGCAAGC\n[]\ntime to align read: 0.9702088832855225\n"
     ]
    },
    {
     "name": "stdout",
     "output_type": "stream",
     "text": [
      "\nAligned to transcriptome\nGTCTTCAGCGAAGTCTCTCCTGCCCTCCTCGCCCTGAACAATTAAGTATT\nGTCTTCAGAGAAGTTTCTCCTGCCCTCCTCTCCCTGTAGAATTAAGTATT\n[(0, 5589287, 50)]\ntime to align read: 0.9407370090484619\n"
     ]
    },
    {
     "name": "stdout",
     "output_type": "stream",
     "text": [
      "\nUnaligned\nAGAGCTTCCCAGGTACCTACACAACCATTTCTATAGGCTCTCAGCTGATG\n[]\ntime to align read: 0.9074809551239014\n"
     ]
    },
    {
     "name": "stdout",
     "output_type": "stream",
     "text": [
      "\nAligned to transcriptome\nTAGGGTATAAACGATTCATTACTAAAATGAATGAATAAAACAAATACACA\nTAGGGTATAAATGATTCATTACTAAAATGTATGAATAAAACAAATACACA\n[(0, 9305818, 50)]\ntime to align read: 0.9606578350067139\n"
     ]
    },
    {
     "name": "stdout",
     "output_type": "stream",
     "text": [
      "\nAligned to transcriptome\nCTCCCCTGTGAAAGTTTCTCTCTAAACACCCAAAATGCACAGCTGCTCTC\nCTCCCCTGAGACAGTTTCTCTCTAAACACCCAAAATGCACAGCTGCTCTC\n[(0, 2069602, 50)]\ntime to align read: 0.9176750183105469\n"
     ]
    },
    {
     "name": "stdout",
     "output_type": "stream",
     "text": [
      "\nAligned to transcriptome\nTGAGCATTGCTTCCACACACCTTTGGTCTTTAAACCTGAACTGGAGTGAA\nTGAGCATTGCTGCCACACACCTTTGGTCTTTAAACCTGAACTGGAATGAA\n[(0, 8252511, 50)]\ntime to align read: 0.9115138053894043\n"
     ]
    },
    {
     "name": "stdout",
     "output_type": "stream",
     "text": [
      "\nAligned to transcriptome\nGGCGGAAGTTTCAGTGAGCCGAGATCGCGCCACTGCATGCACTCCAGCCT\nGGCGGAAGTTTCAGTGAGCCGAGATCGCGCCACTGCATGCACTCCAGCCT\n[(0, 3895767, 50)]\ntime to align read: 0.9194002151489258\n"
     ]
    },
    {
     "name": "stdout",
     "output_type": "stream",
     "text": [
      "\nAligned to transcriptome\nGGAATTTAGAGACCCGAGTTGGGGAAGAGATTCTGTACGAGCTGTTCCTT\nGGAATTTAGAGGCCCGAGTTCGGGAAGAGATTCTGTACGAGCTGTTCCTT\n[(0, 3165229, 50)]\ntime to align read: 0.9071841239929199\n"
     ]
    },
    {
     "name": "stdout",
     "output_type": "stream",
     "text": [
      "\nUnaligned\nCAAAATTAAAGCGTGGAAAGGCTACTGTGAGAACGGAAAGGAGCAACTGG\n[]\ntime to align read: 0.91644287109375\n"
     ]
    },
    {
     "name": "stdout",
     "output_type": "stream",
     "text": [
      "\nUnaligned\nTTTAAGTTCAAACACACTTCAAACTCACGAGACCACAGTAAATCCTACCC\n[]\ntime to align read: 0.930272102355957\n"
     ]
    },
    {
     "name": "stdout",
     "output_type": "stream",
     "text": [
      "\nUnaligned\nATACTGGTGTATAGGTGCACATCTTGGGACAAAAAGTAGAGCTCTGAAGC\n[]\ntime to align read: 0.9935331344604492\n"
     ]
    },
    {
     "name": "stdout",
     "output_type": "stream",
     "text": [
      "\nAligned to transcriptome\nAGTTAGAGGATGGAAAATAGTAGAATGGTGGAAGAAATTATAGGAACTAA\nAGTTAGAGGATGGAAAAGAGTAGAATGGTGCAAGAAATTATAGGAACTAA\n[(0, 8250626, 50)]\ntime to align read: 0.9109020233154297\n"
     ]
    },
    {
     "name": "stdout",
     "output_type": "stream",
     "text": [
      "\nAligned to transcriptome\nGTCACCTGAGTGTGACTTGCAACCAAGCACATGTGGGAATTCAGTGAGGG\nGTCACCTGAGTGTGACTTGCAACCAAGCACATGTGGGAATTCAGTGAAGG\n[(0, 2720602, 50)]\ntime to align read: 0.9286129474639893\n"
     ]
    },
    {
     "name": "stdout",
     "output_type": "stream",
     "text": [
      "\nAligned to transcriptome\nACAGCTAAAAGGAGCACGAAATCTTAAAACAAATCCTGGAAACACAAGTA\nACAGCTAAAAGGAGCTCTAAATCTTGAAACAAATCCTGGAAACACATGAA\n[(0, 6655579, 50)]\ntime to align read: 0.9089951515197754\n"
     ]
    },
    {
     "name": "stdout",
     "output_type": "stream",
     "text": [
      "\nAligned to transcriptome\nGGGTATTGTTATTAAATTGCTTTGCGTTCGAAAGACTGTGCTCGAATTCC\nGGGTATTGTTATTAAATTGCTTTTTGTTTGAAAGACTGTGCTGGAATTCC\n[(0, 8570071, 50)]\ntime to align read: 0.9287419319152832\n"
     ]
    },
    {
     "name": "stdout",
     "output_type": "stream",
     "text": [
      "\nAligned to transcriptome\nTACTGTGGCGTCTTCTACTCCTAATGTGACCCAGACCAGTCTACCCACGG\nTACTGTGGCTTCTTCTAATGCTAATGTGACCCAGACCAGTCTACCCAAGG\n[(0, 2425795, 50)]\ntime to align read: 0.9642839431762695\n"
     ]
    },
    {
     "name": "stdout",
     "output_type": "stream",
     "text": [
      "\nAligned to transcriptome\nCCTGTATCTGAGCCTTGTGAGACCCTGGAGTAGAGAACTTAGCTATGATC\nCCTGAATTTGAGCCTTGTGAGACCCTGGAGTAGAGAACTTAGCTAGGATA\n[(0, 8083334, 50)]\ntime to align read: 0.9177258014678955\n"
     ]
    },
    {
     "name": "stdout",
     "output_type": "stream",
     "text": [
      "\nAligned to transcriptome\nGGCATCTTCTCCATGGCAAAAGCTGGACCCAACACAAATGGATCCCAGTT\nGGCATCTTGTCCATGGCAAATGCTGGACCCAACACAAATGGATCCCAGTT\n[(0, 7807063, 50)]\ntime to align read: 0.940669059753418\n"
     ]
    },
    {
     "name": "stdout",
     "output_type": "stream",
     "text": [
      "\nAligned to transcriptome\nCAGAAAATTTTCGTGCTCTGAACACTGGAGAGAAAGGATTTGGTTATAAG\nCAGAAAATTTTCGTGCTCTGAGCACTGGAGAGAAAGGATTTGGTTATAAG\n[(0, 7806875, 50)]\ntime to align read: 0.9315567016601562\n"
     ]
    },
    {
     "name": "stdout",
     "output_type": "stream",
     "text": [
      "\nAligned to transcriptome\nCACTGGCTGCATTAGTAACTATTTTAGAAGGTCTATGTGTATTACTAAGT\nCACTGGCTGCATTAGTAACTATTTTAGAAGGTCTATGTGTCCTACTAAGT\n[(0, 8569727, 50)]\ntime to align read: 0.9435839653015137\n"
     ]
    },
    {
     "name": "stdout",
     "output_type": "stream",
     "text": [
      "\nUnaligned\nCTAGAAATGGCTCATTGATGTTCTGTAAAATAAGTGAAGATGACACTCCA\n[]\ntime to align read: 0.9281892776489258\n"
     ]
    },
    {
     "name": "stdout",
     "output_type": "stream",
     "text": [
      "\nUnaligned\nTAAGAAGGCATGAATATCGTAGAGCCCATGGAGCACTTTGGGTCCAGGAA\n[]\ntime to align read: 0.9716968536376953\n"
     ]
    },
    {
     "name": "stdout",
     "output_type": "stream",
     "text": [
      "\nAligned to transcriptome\nCAGGCGTAGGTTTGGAGGCTATCAGTGATGCTATCCTCCGGGAAGCATAT\nCAGGCGTAGGTTTGGATGCCATCAGTGATGCTATCCTTCTGGAAGCATAT\n[(0, 9337693, 50)]\ntime to align read: 0.918748140335083\n"
     ]
    },
    {
     "name": "stdout",
     "output_type": "stream",
     "text": [
      "\nUnaligned\nAAGAATTTTTGAGATGTGTGAAAGCTTCATTTTCTCACGTCCATTGAAAG\n[]\ntime to align read: 1.8846960067749023\n"
     ]
    },
    {
     "name": "stdout",
     "output_type": "stream",
     "text": [
      "\nUnaligned\nCCTAATCCCGGAGACCGTAACTTGTGAGGTATTATAGTAATATCACAAGT\n[]\ntime to align read: 0.9454681873321533\n"
     ]
    },
    {
     "name": "stdout",
     "output_type": "stream",
     "text": [
      "\nAligned to transcriptome\nTGGGCGATGTCTACGCCACTGTTGTTCCACTGGAACAAATCAGGTCTGAT\nTGGGCGATGTCTACGCCACTGTTGTTCCACTGGAACAAATCAGCTCTGAT\n[(0, 2426175, 50)]\ntime to align read: 0.9284098148345947\n"
     ]
    },
    {
     "name": "stdout",
     "output_type": "stream",
     "text": [
      "\nAligned to transcriptome\nGGACATCTTCCTGACCTGGCAATAAGTAGGTGAGAAGTATGGTTGGGGGC\nGGACATCTTCCTGACCTGGTAATAATTAGGTGAGAAGGATGGTTGGGGGC\n[(0, 2673205, 50)]\ntime to align read: 1.0220398902893066\n"
     ]
    },
    {
     "name": "stdout",
     "output_type": "stream",
     "text": [
      "\nUnaligned\nTCTAGTCTTATTCTTCTTGGTAACTTTAGCACAGACATGGCAGAATGTTG\n[]\ntime to align read: 1.3700628280639648\n"
     ]
    },
    {
     "name": "stdout",
     "output_type": "stream",
     "text": [
      "\nAligned to transcriptome\nCTTGTTTCTTGCATTCGTGTAAGCCCTCACAACAACCAAGTTTAAGTCTG\nCTTGTTTCTTGCCTTCGTGTAAGCCCTCACAACAACCAAGTTTAAGTCTG\n[(0, 2950616, 46), (46, 2950910, 4)]\ntime to align read: 0.9647231101989746\n"
     ]
    },
    {
     "name": "stdout",
     "output_type": "stream",
     "text": [
      "\nAligned to genome\nACTTGTGAGGTTGTTTAGTAACATTACAAGTCAGGCTCTTTGGCCCTAGG\nACTTGTGAGGTATTTTAGTAACATCACAAGTCAGGCTCTTGGGACCTAGG\n[(0, 5539266, 50)]\ntime to align read: 0.9491860866546631\n"
     ]
    },
    {
     "name": "stdout",
     "output_type": "stream",
     "text": [
      "\nAligned to transcriptome\nCTGCTGCCTCTCACTGATACACCTGTTCTCTCTCTTGAAAGAAAGGCTAA\nCTGCTTCCACTCACTCATAATCCTGTTCTCTCTCTTGAAAGAAAGGCTAA\n[(0, 6759590, 50)]\ntime to align read: 1.0086829662322998\n"
     ]
    },
    {
     "name": "stdout",
     "output_type": "stream",
     "text": [
      "\nUnaligned\nGGAGTTTTACTGGGATAATTATCCAAATAAATTGCAAGCATCCTATCCCA\n[]\ntime to align read: 0.8937311172485352\n"
     ]
    },
    {
     "name": "stdout",
     "output_type": "stream",
     "text": [
      "\nAligned to transcriptome\nAAAACCTTCAGCAAGCCTCAAAACATGCACATATAAGGAGTCATGCTGGC\nAAAACCTTCAGCAAGCCTCAAAACATGCACATATAAGGAGTCATGCTGGA\n[(0, 2788312, 50)]\ntime to align read: 0.9285280704498291\n"
     ]
    },
    {
     "name": "stdout",
     "output_type": "stream",
     "text": [
      "\nUnaligned\nCTACTGAGGAAGCAAGAATTGAAGTTGCTGAAACTAGCTTATTCTCACCT\n[]\ntime to align read: 0.9217729568481445\n"
     ]
    },
    {
     "name": "stdout",
     "output_type": "stream",
     "text": [
      "\nAligned to transcriptome\nCAGGCCTCATATAAGATCTGCTGAATCAGAAGCTCTGGGGTGGAAACCAA\nCAGGCCTCACCCAAGATCTGCTGAATCAGAAGCTCTGGGGTGGAACCCAA\n[(0, 2719088, 50)]\ntime to align read: 0.9633588790893555\n"
     ]
    },
    {
     "name": "stdout",
     "output_type": "stream",
     "text": [
      "\nAligned to transcriptome\nATAGTGAAAACATATGGTGTCCATCTTGTAAGCATAAGGCTCCCTGGTAT\nATAGTGAAAACATATGGTGTCCATCTTGTAAGCATAAGGCTCCCTGGTAT\n[(0, 3867596, 50)]\ntime to align read: 0.9471089839935303\n"
     ]
    },
    {
     "name": "stdout",
     "output_type": "stream",
     "text": [
      "\nAligned to transcriptome\nCCAGGTAATTGCATAGCAAACAGTTGAAAACCCCCTAGGGAAATGAGAAT\nCCAGGTAATTGCATAGCAAACAGTAGAAAACCCCCTAGAGAAATGAAAAT\n[(0, 8570484, 50)]\ntime to align read: 0.9247851371765137\n"
     ]
    },
    {
     "name": "stdout",
     "output_type": "stream",
     "text": [
      "\nAligned to genome\nAATTATTGTAGTAGGCTGTAGGGGATACAGTAAATATATCCGGTTTCTAT\nAATTATTGTAGTAGGTTGTAGCGGATTCAGTAAATATATCCAGTTCCTAT\n[(0, 4016072, 50)]\ntime to align read: 2.527066230773926\n"
     ]
    },
    {
     "name": "stdout",
     "output_type": "stream",
     "text": [
      "\nAligned to transcriptome\nTTACTCAAAATGTGATTCAATTCGGTTATTCATTCAACATACGTTAACTG\nTTACTCAAAATGTGATTCAATTCAGTTATTCATTCAACATACGATAACTG\n[(0, 4295679, 50)]\ntime to align read: 0.9646930694580078\n"
     ]
    },
    {
     "name": "stdout",
     "output_type": "stream",
     "text": [
      "\nAligned to transcriptome\nGTAAGGACCAGGAACAAGACTGTCTTGTATGTGTCCTTTTTCTTCCTAGC\nGTAAGGACCAGCAACAAGACTGTCTTGTGTGTGTCCTTTTTCTTCCTAGC\n[(0, 6759744, 50)]\ntime to align read: 0.9176690578460693\n"
     ]
    },
    {
     "name": "stdout",
     "output_type": "stream",
     "text": [
      "\nAligned to transcriptome\nAGCTGCTCACTACTTCTTCTCGTACCGTTTTCTAAACCCCACAAAAATCC\nAGCTGCTCACTACTTCTTCTTATTCTGTTTTCTCAACCCCACAAAAATCC\n[(0, 4016632, 50)]\ntime to align read: 0.9187309741973877\n"
     ]
    },
    {
     "name": "stdout",
     "output_type": "stream",
     "text": [
      "\nAligned to transcriptome\nCTTGACTGCTTAGTTTGTTGAGGCAGGGGAATCTGTTCACACTTTTCCCG\nCTTGACTGCTTAGTTTGTTGTGGCAGGGGACTGTGTTCACACTTTTCCCG\n[(0, 5668106, 50)]\ntime to align read: 0.9588160514831543\n"
     ]
    },
    {
     "name": "stdout",
     "output_type": "stream",
     "text": [
      "\nUnaligned\nAAACGTTAGGCTGCTCCCTAGGTCTGAACACTTCTCCGTCATTCCGCCCC\n[]\ntime to align read: 1.0106580257415771\n"
     ]
    },
    {
     "name": "stdout",
     "output_type": "stream",
     "text": [
      "\nAligned to transcriptome\nCGATGGCGAGACCCTGGAGGGGGCGCCCCCGCTGTGTGCGCGGACCAGCT\nCGATGGCGAGACCATGGAGGGTGCGCCGCCGCTGTGGGCGCGGACCACCT\n[(0, 2711562, 50)]\ntime to align read: 0.9465947151184082\n"
     ]
    },
    {
     "name": "stdout",
     "output_type": "stream",
     "text": [
      "\nAligned to genome\nTCATTGGTCTTATCCTCTTTTGCTGGCGTAAAAAACGCAGAGAATAAAGA\nTCATTGGTCTTATCATCTTTTGCTGTCGTAAAAAGCGCAGAGAAGAAAAA\n[(0, 6510397, 50)]\ntime to align read: 2.6405367851257324\n"
     ]
    },
    {
     "name": "stdout",
     "output_type": "stream",
     "text": [
      "\nAligned to transcriptome\nCATCTCCACTGCCAAGACTGAGTGGTTGGATGGCAAGCATGTGGAGTTTG\nCATCTGCACTGCCAAGACTGAGTGGTTGGATGGCAAGCATGTGGTGTTTG\n[(0, 7807116, 50)]\ntime to align read: 0.9417531490325928\n"
     ]
    },
    {
     "name": "stdout",
     "output_type": "stream",
     "text": [
      "\nUnaligned\nAGGAGATATAGGCCTTGAGCAACATTTCCCACAGACCAGTTCATCAAGTT\n[]\ntime to align read: 0.9482810497283936\n"
     ]
    },
    {
     "name": "stdout",
     "output_type": "stream",
     "text": [
      "\nAligned to transcriptome\nCTAAACTTCGTTACCCGCCCTGCCTTGCCTTTCCCACAGATACTCCAGAA\nCTAAACTTGGTTACCCGCCCTGCCTTGCCTTTCCCACAGATACTCCAGAA\n[(0, 4000026, 50)]\ntime to align read: 0.9144327640533447\n"
     ]
    },
    {
     "name": "stdout",
     "output_type": "stream",
     "text": [
      "\nAligned to transcriptome\nAAATGGGAGCAATGTGTCAGCTACGTTCCTATTTATAATGGTGACAAAAA\nAAATGGGAGCAATGTTTCAGCTACGTTTCTATTTATAATGGTGACAAAAA\n[(0, 2069314, 50)]\ntime to align read: 0.9238560199737549\n"
     ]
    },
    {
     "name": "stdout",
     "output_type": "stream",
     "text": [
      "\nUnaligned\nCACTTATACAATGTAACTGACCAATTCAGTCTGAGTGAGTTTTGTAGTTT\n[]\ntime to align read: 0.9323728084564209\n"
     ]
    },
    {
     "name": "stdout",
     "output_type": "stream",
     "text": [
      "\nAligned to transcriptome\nGGCACATATCCTAGAATTGGAACAATACAGAGAAAGTTAGCATAGCTTCT\nGGCACATATCCTAAAATTGGAACAATACAGAGAAAGTTAGCATGGCTTCT\n[(0, 2570590, 50)]\ntime to align read: 0.9113569259643555\n"
     ]
    },
    {
     "name": "stdout",
     "output_type": "stream",
     "text": [
      "\nUnaligned\nATTTATCATCCAGAACACCAATGCGGCAGTCTCCATTTCGATTCGGAGTG\n[]\ntime to align read: 0.9262499809265137\n"
     ]
    },
    {
     "name": "stdout",
     "output_type": "stream",
     "text": [
      "\nAligned to transcriptome\nTGTTAGGTCACGGTTAACCATCTACAATGCAAATATAGAAGATGCAGGGC\nTGTTAGGTCACGGTTAACCATCTACAATGCAAATATAGAAGATGCAGGGA\n[(0, 10233281, 50)]\ntime to align read: 0.928217887878418\n"
     ]
    },
    {
     "name": "stdout",
     "output_type": "stream",
     "text": [
      "\nUnaligned\nCAATATGTGATTCACTTCAGTTATTCATTCAACATACGATAACGGTATGC\n[]\ntime to align read: 0.9401829242706299\n"
     ]
    },
    {
     "name": "stdout",
     "output_type": "stream",
     "text": [
      "\nUnaligned\nAGTGACCCAGAGAAAATTAGCAGGGCTTTTGCTCATGGTTGACATGCAAA\n[]\ntime to align read: 1.3911411762237549\n"
     ]
    },
    {
     "name": "stdout",
     "output_type": "stream",
     "text": [
      "\nAligned to transcriptome\nACATGTCCTAAATGTGGGAAAGCCTTTATTTATCTGTCATTTCTTGTGAG\nACATGTCCCAAATGTGGGAAAGCCTTTATTTATCTGTCATTTCTTGTGAG\n[(0, 2788126, 50)]\ntime to align read: 1.1089081764221191\n"
     ]
    },
    {
     "name": "stdout",
     "output_type": "stream",
     "text": [
      "\nUnaligned\nAGGCGTCATCACATCTGTCCCTTCTACTGATTCCCTCACAGTTTTGATAT\n[]\ntime to align read: 1.157195806503296\n"
     ]
    },
    {
     "name": "stdout",
     "output_type": "stream",
     "text": [
      "\nAligned to transcriptome\nGTGCTGTCCAGCCTCCCCAACACCAGCTCATTCTTCTGGACGGTGGCCAT\nGTGCTGTCCACCCTCACCAACACCAGCTCATTCTTCTGGACTGTGGCCAT\n[(0, 6245466, 50)]\ntime to align read: 1.3604352474212646\n"
     ]
    },
    {
     "name": "stdout",
     "output_type": "stream",
     "text": [
      "\nUnaligned\nTTATTTCCTGGGATAATAATGAATTTGATTACAGCAAGAGTGGCAAACCT\n[]\ntime to align read: 1.215986967086792\n"
     ]
    },
    {
     "name": "stdout",
     "output_type": "stream",
     "text": [
      "\nAligned to transcriptome\nCCGCAATTTTCTATGAGTCTACCCTAAAAGGGACATAGTTTTGGATGTCA\nCCGCAATTTTCTCTGAGTAGACCCTAAAAGGGACATAGTTTTGGATGTCA\n[(0, 8688791, 50)]\ntime to align read: 3.703579902648926\n"
     ]
    },
    {
     "name": "stdout",
     "output_type": "stream",
     "text": [
      "\nAligned to transcriptome\nGGAACAATACAGAGAAAGTTAGCATTGCTTCTGCATAAGGAGGCAGCACA\nGGAACAATACAGAGAAAGTTAGCATGGCTTCTGCATAAGGAGGCAGCACA\n[(0, 2570608, 50)]\ntime to align read: 1.1191291809082031\n"
     ]
    },
    {
     "name": "stdout",
     "output_type": "stream",
     "text": [
      "\nAligned to transcriptome\nGCACACCTCCTGTGGGATTCATTTTCACTTAATCATACTAATTATGTGGA\nGCACACCTCTTGTGGAATTCATTTTCACTTAATCATGCTAATTATGTGGA\n[(0, 4016734, 50)]\ntime to align read: 1.1247172355651855\n"
     ]
    },
    {
     "name": "stdout",
     "output_type": "stream",
     "text": [
      "\nAligned to transcriptome\nATTTGAATTGAACAAAGCAGCAAGCAGTAGTCAGAAACCATAGTGCACAA\nATTTGAATGGAACAAAGCAGCATGCAGTAGTCAGAAACCATAGTTCACAA\n[(0, 3218616, 43), (43, 3219525, 7)]\ntime to align read: 1.1316351890563965\n"
     ]
    },
    {
     "name": "stdout",
     "output_type": "stream",
     "text": [
      "\nUnaligned\nGAATAGGACACTTTAAAACAAAATAAACGAAGACAACAAAAGAAAGAAAA\n[]\ntime to align read: 1.1825590133666992\n"
     ]
    },
    {
     "name": "stdout",
     "output_type": "stream",
     "text": [
      "\nUnaligned\nTGAAAGTACCAAGATGACGTCACTCGATGTAGAGTTGGGAAAAGACAGTC\n[]\ntime to align read: 1.156627893447876\n"
     ]
    },
    {
     "name": "stdout",
     "output_type": "stream",
     "text": [
      "\nUnaligned\nGGGCGATATACGAACGTTCTATCAGACATAGGGAATGAAGGCCAAGAACG\n[]\ntime to align read: 2.497152090072632\n"
     ]
    },
    {
     "name": "stdout",
     "output_type": "stream",
     "text": [
      "\nAligned to transcriptome\nAAGCCCAAGAACGAGGAAACCACCAGGAGCTAGAATAAACAAGCAAGGCT\nAAGCCCAAGAATGAGGAAACCACCAGGAGCTAGAAGAAACAAGCAAGGAT\n[(0, 10746261, 50)]\ntime to align read: 1.0769810676574707\n"
     ]
    },
    {
     "name": "stdout",
     "output_type": "stream",
     "text": [
      "\nAligned to transcriptome\nTTGCAAGCTCATGGAGGATGACGGTGATGTGTTCATTAAAAGACTGTTCT\nTTGCAAGCTCATGGAGGATGAGGATGATGTGTTCATTAAAAGACTGTTCT\n[(0, 9305762, 50)]\ntime to align read: 1.0884501934051514\n"
     ]
    },
    {
     "name": "stdout",
     "output_type": "stream",
     "text": [
      "\nAligned to genome\nCTCCATTATGCTGTGAATAGTGAGTGCACCTCACTGGCAGAGAAATTGCT\nCTCCATTATGCTGTGTATAGTGAGAGCACCTCACTGGCAGAAAAACTGCT\n[(0, 3018003, 50)]\ntime to align read: 1.0698750019073486\n"
     ]
    },
    {
     "name": "stdout",
     "output_type": "stream",
     "text": [
      "\nAligned to transcriptome\nATGGAGGGGAAATGTGTGTTGCCTTAAATCAAAAGGGGATTCCTTTAAGG\nATGGAGGGGAAATGTTTGTTGCCTTAAATCAAAAGGGGATTCCTGTAAGG\n[(0, 2299541, 50)]\ntime to align read: 1.1542980670928955\n"
     ]
    },
    {
     "name": "stdout",
     "output_type": "stream",
     "text": [
      "\nAligned to transcriptome\nGATGAAGGTATAGAGAGAGGTGAAGGAAGAATGGATGCCAGGGGAGAAAT\nGATGAAGGTATATACAGATGTGAAGGAAGAGTGGAGGCCAGGGGAGAAAT\n[(0, 10241159, 50)]\ntime to align read: 1.1825132369995117\n"
     ]
    },
    {
     "name": "stdout",
     "output_type": "stream",
     "text": [
      "\nAligned to transcriptome\nGACTTCCCAAAGCTGCTCACTACTTCTTCTTAATCTGTTTTCTCAACCCC\nGACTTCCCAAAGCTGCTCACTACTTCTTCTTATTCTGTTTTCTCAACCCC\n[(0, 4016622, 50)]\ntime to align read: 1.1647260189056396\n"
     ]
    },
    {
     "name": "stdout",
     "output_type": "stream",
     "text": [
      "\nUnaligned\nTCATTAGTTCTCAACGGTGCCTGGCGTATCCTATGTCACTCCACAATAGC\n[]\ntime to align read: 1.1863832473754883\n"
     ]
    },
    {
     "name": "stdout",
     "output_type": "stream",
     "text": [
      "\nAligned to transcriptome\nTAGTCCCTGAGACCCGAACTTGTGAGGTATTTTAGTATCATCAAACGTCA\nTAGTCCCTGAGACCCTAACTTGTGAGGTATTTTAGTAACATCACAAGTCA\n[(0, 5539249, 50)]\ntime to align read: 1.1777269840240479\n"
     ]
    },
    {
     "name": "stdout",
     "output_type": "stream",
     "text": [
      "\nUnaligned\nGGTTAGAGTACTACCAATTTCCGGAGGTCTGTAAGGGCGAAGACGTATAC\n[]\ntime to align read: 1.2252070903778076\n"
     ]
    },
    {
     "name": "stdout",
     "output_type": "stream",
     "text": [
      "\nAligned to transcriptome\nAACTGGACGGCATAATTTGTGGTAGCGGGGGACTGCATTAATACCTTCCT\nAACTGGACTGCATAATTTGTGGTAGCGGGGGACTGCATTAATACCTTCCT\n[(0, 8294259, 50)]\ntime to align read: 1.1232519149780273\n"
     ]
    },
    {
     "name": "stdout",
     "output_type": "stream",
     "text": [
      "\nAligned to transcriptome\nCACTGAGCCGGTCCCACCGCCGCCCCAGTGTCCGGGTTGCGACTGCGGGG\nCACTGAGCCGGTCCCGCCGCCGCCCCAGTGTCCGGGCTGCGACTGCGGGG\n[(0, 2653857, 50)]\ntime to align read: 1.1659798622131348\n"
     ]
    },
    {
     "name": "stdout",
     "output_type": "stream",
     "text": [
      "\nUnaligned\nATTCTGATCAAGGAATGGCTCATTGAAGTTGAGTGATATAAGTGAAGATG\n[]\ntime to align read: 1.2449350357055664\n"
     ]
    },
    {
     "name": "stdout",
     "output_type": "stream",
     "text": [
      "\nUnaligned\nGCTTGAGTCTCCACTGTTTGATGTAGGCTAAGAAACCATCATGCTCATGA\n[]\ntime to align read: 1.1806907653808594\n"
     ]
    },
    {
     "name": "stdout",
     "output_type": "stream",
     "text": [
      "\nAligned to transcriptome\nAGTAGGTTGTATGGTTTAGAGTTACACCCTGGGAGTTAACTCTACAACCT\nAGTAGGTTGTATGGTTTAGAGTTACACCCTGGGAGTTAACTGTACAACCT\n[(0, 5488843, 50)]\ntime to align read: 1.112959861755371\n"
     ]
    },
    {
     "name": "stdout",
     "output_type": "stream",
     "text": [
      "\nUnaligned\nTACTACCTCTGCCCATGTTACTCAAAATGTGATTCAATTCAGTTATTCAT\n[]\ntime to align read: 1.2147719860076904\n"
     ]
    },
    {
     "name": "stdout",
     "output_type": "stream",
     "text": [
      "\nUnaligned\nAACAAAAGCAGATAGATGAGGCTGAACAGAAAATTAATTCAGAGTTTCTC\n[]\ntime to align read: 1.2269599437713623\n"
     ]
    },
    {
     "name": "stdout",
     "output_type": "stream",
     "text": [
      "\nUnaligned\nATCTACATTTAGCCTGTGCCAGCGGTCAAGTGATAGTGGTCACTCTCCTG\n[]\ntime to align read: 1.1011738777160645\n"
     ]
    },
    {
     "name": "stdout",
     "output_type": "stream",
     "text": [
      "\nUnaligned\nCACATCCGCGTCAGTAGGGTACGAATTTGTCCCTGAGCTGGTCGCGGGTA\n[]\ntime to align read: 1.1047680377960205\n"
     ]
    },
    {
     "name": "stdout",
     "output_type": "stream",
     "text": [
      "\nAligned to transcriptome\nGCGTGGCTCCTGTGCAAGGATGATACACAAACTTGTGATGTGTTCCATAC\nGCGTGGCTCCTGTGCAAGGATGACACACAAATTTGTGATGTGTTCCATAC\n[(0, 6380593, 50)]\ntime to align read: 1.0282261371612549\n"
     ]
    },
    {
     "name": "stdout",
     "output_type": "stream",
     "text": [
      "\nAligned to transcriptome\nGAAGCTGATAGAGCCAAGGGAACAAGATGCTGATGGTCTCTAGCGTGCTC\nGAAGCTGATAGAGCCAAGGGAACAGGATGCTGATGGTCTCTAGCGGGCCC\n[(0, 9337536, 50)]\ntime to align read: 0.9454379081726074\n"
     ]
    },
    {
     "name": "stdout",
     "output_type": "stream",
     "text": [
      "\nAligned to transcriptome\nCCAAAAGAATCATCACAGATGAACTAACCTTCTGGTTCCAGGAGGAAGAC\nCCAAAAGAATCATCACAGATGAACTAACCTTCTGGTTCCAGGAGAAAGAC\n[(0, 10515945, 18), (18, 10564030, 32)]\ntime to align read: 0.9863972663879395\n"
     ]
    },
    {
     "name": "stdout",
     "output_type": "stream",
     "text": [
      "\nAligned to transcriptome\nCCACCACCATGTAAGAAGTGCCTTACATAACCTGCCATGATTCTGAGGCC\nCCACCACCATGTAAGAAGTGCCTTTCATATCCTGCCATGATTCTGAGGCC\n[(0, 10695974, 50)]\ntime to align read: 1.0167639255523682\n"
     ]
    },
    {
     "name": "stdout",
     "output_type": "stream",
     "text": [
      "\nAligned to transcriptome\nCAACTGCAAGAATGTCTGTCATCTGAGTGTGACTTGCAACCAAGCACATG\nCAACTGCAAGACTGTCTGTCACCTGAGTGTGACTTGCAACCAAGCACATG\n[(0, 2720585, 50)]\ntime to align read: 0.9773287773132324\n"
     ]
    },
    {
     "name": "stdout",
     "output_type": "stream",
     "text": [
      "\nAligned to transcriptome\nCTCCGGGCTTTTAATGTCATACAAATTACATCTATATACATGTTGTGTTC\nCTCCGGGCTGTTATTGTCATACAAATTACATCTTTATACATGTTGTGCTG\n[(0, 2505409, 50)]\ntime to align read: 1.0046470165252686\n"
     ]
    },
    {
     "name": "stdout",
     "output_type": "stream",
     "text": [
      "\nAligned to transcriptome\nCTGGGGCTCACTTAAATGGTGGTGCCAAAGGGGTCATCACATCTGTCTCT\nCTGGGGCTCACTTAAATGGTGGAGCCAAAGGGGTCATCACATCTGTCCCT\n[(0, 3723587, 50)]\ntime to align read: 0.9777960777282715\n"
     ]
    },
    {
     "name": "stdout",
     "output_type": "stream",
     "text": [
      "\nAligned to transcriptome\nCTCCCGGGCCTAGCCTGGAAGCTGGAAAGGATGATGAAGAAGACCTCAAT\nCTCCCGGGCCAAGCCTGGAAGCTGGAGAGGATGATGAAGAAGACGACAAT\n[(0, 1987344, 50)]\ntime to align read: 0.9612317085266113\n"
     ]
    },
    {
     "name": "stdout",
     "output_type": "stream",
     "text": [
      "\nUnaligned\nTGTTTTGCAGCCACTCCCCCTGTCCTCGTGAAAGCTGGAAGAAGCCAGTA\n[]\ntime to align read: 0.9662699699401855\n"
     ]
    },
    {
     "name": "stdout",
     "output_type": "stream",
     "text": [
      "\nUnaligned\nGCAACACTGATCTCCTTTATGCTCTGTATAGTGAGAGCACATCACTGGCC\n[]\ntime to align read: 0.9588189125061035\n"
     ]
    },
    {
     "name": "stdout",
     "output_type": "stream",
     "text": [
      "\nAligned to transcriptome\nCTGTGCTGGAATTCCTTTGCATGAATTGTTCTTCTAAGGTTAATAGTCGG\nCTGTGCTGGAATTCCTTTGCTTGAATTCTTCTTCTAAGCTTTATAGTCTG\n[(0, 8570106, 50)]\ntime to align read: 1.0837109088897705\n"
     ]
    },
    {
     "name": "stdout",
     "output_type": "stream",
     "text": [
      "\nAligned to transcriptome\nGTCAGAAAAGACTGTAAAAAATGTGGCTACCCTTGTCGTCTTACTTTTGA\nGTCAGAAAAGACTGTAAAAAATGTGGCTACCCTTGTCACCTTACTTTTGA\n[(0, 8688738, 50)]\ntime to align read: 0.9566018581390381\n"
     ]
    },
    {
     "name": "stdout",
     "output_type": "stream",
     "text": [
      "\nAligned to transcriptome\nCATTACCAGCTGACATATGCATGGTTCTTCTGGGTAAGGACCAGCAACAA\nCATTACCAGCTGACATCTGCATGGTTCTTCTGGGTAAGGACCAGCAACAA\n[(0, 6759711, 50)]\ntime to align read: 0.9750373363494873\n"
     ]
    },
    {
     "name": "stdout",
     "output_type": "stream",
     "text": [
      "\nUnaligned\nGGTGTACCAGAAACAAACCAATAAAATAAAGACGGGTAGAGGCTACTGTG\n[]\ntime to align read: 0.971790075302124\n"
     ]
    },
    {
     "name": "stdout",
     "output_type": "stream",
     "text": [
      "\nUnaligned\nATCTCTTGATCTTCTGCAAAGGTCTATTTGTTTAGGGATGTTCAAATATT\n[]\ntime to align read: 1.0146360397338867\n"
     ]
    },
    {
     "name": "stdout",
     "output_type": "stream",
     "text": [
      "\nUnaligned\nGAGTCTCTTCTTCTCGGAGGTGCACATAATAGTAATTGACTGGCTTCAAA\n[]\ntime to align read: 0.9758710861206055\n"
     ]
    },
    {
     "name": "stdout",
     "output_type": "stream",
     "text": [
      "\nAligned to transcriptome\nGAGTTATCTCTATTAAATGTTCACAGTTACAGGTCAAGTTCTTTGTTCTA\nGAGTTATCTCCATTAAATGTTCACAGTTACAGGTCAAGCTCTTTGTTCTA\n[(0, 6525815, 50)]\ntime to align read: 0.9860048294067383\n"
     ]
    },
    {
     "name": "stdout",
     "output_type": "stream",
     "text": [
      "\nAligned to genome\nATCCTAAAATTGGAACAATGCAGAGAAATTTAGCATGTCTACTGCATAAG\nATCCTAAAATTGGAACAATACAGAGAAAGTTAGCATGGCTTCTGCATAAG\n[(0, 2570597, 50)]\ntime to align read: 0.9536540508270264\n"
     ]
    },
    {
     "name": "stdout",
     "output_type": "stream",
     "text": [
      "\nAligned to transcriptome\nGCAATCTCCATAGTGAAAGACACGAAGAAAGAATTTGATTGAAATGGGTT\nGCAATCTCCATAGTGAAAGACACGAAGAAAGAAATTGATTGAAATGGGTT\n[(0, 3547032, 50)]\ntime to align read: 0.9365057945251465\n"
     ]
    },
    {
     "name": "stdout",
     "output_type": "stream",
     "text": [
      "\nUnaligned\nAGATACCGAAAGCATTGAAGAGAAAAACAGCTCTCAGACTGGATCAAATT\n[]\ntime to align read: 1.567065954208374\n"
     ]
    },
    {
     "name": "stdout",
     "output_type": "stream",
     "text": [
      "\nAligned to transcriptome\nACAATTTTGCCACCAAGAAATAAGTTTGTTTACTCCTGTAGCATAAAAAT\nACAATTTTGCCAACAAGAAATAAGTTTGTTTACTCCTGTAGCATAAAAAT\n[(0, 5475133, 50)]\ntime to align read: 1.0012969970703125\n"
     ]
    },
    {
     "name": "stdout",
     "output_type": "stream",
     "text": [
      "\nUnaligned\nTCACCGAATCAGTTAAAGAGAGCTCGTTCTGAGATGAAGACAATTCTCAA\n[]\ntime to align read: 0.9332380294799805\n"
     ]
    },
    {
     "name": "stdout",
     "output_type": "stream",
     "text": [
      "\nAligned to genome\nACACAGAGAAAATTGGCAGGGCCTTTGTACAAGGATGTAATGCGAATTCA\nACACAGAGAAAATTAGCAGGGCCTTTGCACAAGGATGACATGCAAATTCA\n[(0, 4563320, 50)]\ntime to align read: 1.3060460090637207\n"
     ]
    },
    {
     "name": "stdout",
     "output_type": "stream",
     "text": [
      "\nAligned to transcriptome\nAAAAAAAGCATTCTTCTACCCCTAAAAGTTCTGAATTCTCCAGAAAGTAA\nAAAAAAAGCATTCTTCTACCCCTAAAAGTTCTGAATTCTCCAGAAAGTAA\n[(0, 8689100, 50)]\ntime to align read: 0.9404852390289307\n"
     ]
    },
    {
     "name": "stdout",
     "output_type": "stream",
     "text": [
      "\nAligned to transcriptome\nCAAATTGAGGGCTTTGGGGTGATGGGGATCTTCTTCTGCTTGTTTCTTTT\nCAAATTGAGGGCTTTGGGGTGATGGGGATCTTCTTCTGCTTGTTTCTTTT\n[(0, 7866284, 50)]\ntime to align read: 0.9324958324432373\n"
     ]
    },
    {
     "name": "stdout",
     "output_type": "stream",
     "text": [
      "\nUnaligned\nGAAAACATCACAAAAAGGAAAGAACAAGGAGAGAAAAAAAATAGACTTCT\n[]\ntime to align read: 1.0575768947601318\n"
     ]
    },
    {
     "name": "stdout",
     "output_type": "stream",
     "text": [
      "\nUnaligned\nTGAGCCAAGGGCCTCTGAGCACCTATTCAACTCACATATGGGTGAATGAT\n[]\ntime to align read: 1.2306621074676514\n"
     ]
    },
    {
     "name": "stdout",
     "output_type": "stream",
     "text": [
      "\nAligned to transcriptome\nCTTCACCACCCAAGAAAAAATCACACTCGCCCACCAGCAATGGAGTCCAA\nCTTCACCACCCAAGAAAAAATCACACTAGCCCACCAGCAATGGATTCCAA\n[(0, 6654685, 50)]\ntime to align read: 1.1519320011138916\n"
     ]
    },
    {
     "name": "stdout",
     "output_type": "stream",
     "text": [
      "\nAligned to transcriptome\nGCAGAAGATCCACAAGGCGGCTGTCAAGCGCGACGCCACGGAGGTGGAGC\nGCAGAAGATCCACAAGGCGGCTGTCAAGGGCGACGCCACGGAGGTGGAGC\n[(0, 3013425, 50)]\ntime to align read: 1.185366153717041\n"
     ]
    },
    {
     "name": "stdout",
     "output_type": "stream",
     "text": [
      "\nAligned to transcriptome\nCAAGTTGGTGCAGACCACAATCAGGAAGGAGTTTTCAGATTGCATCATCC\nCAAGTTGGTGCAGACCACAATCAGGAAGGAGTTTTCTGATTGCATCATCC\n[(0, 3311133, 50)]\ntime to align read: 1.0730679035186768\n"
     ]
    },
    {
     "name": "stdout",
     "output_type": "stream",
     "text": [
      "\nAligned to transcriptome\nGTCTAATTTCAATTGTGCAAGACATGTGCCTTATAGTTATTTTTAGCTTA\nGTCTAATTTCAATTGTGCAAGACATGTGCCTTATAATTATTTTTAGCTTA\n[(0, 7215725, 50)]\ntime to align read: 1.143993854522705\n"
     ]
    },
    {
     "name": "stdout",
     "output_type": "stream",
     "text": [
      "\nAligned to transcriptome\nCTTTGACTTTCACTCAGCTCATGAGACACCCATTTATCAAGATTTTGACC\nCTTTGATTTTCACTCAGCTCATGAGACACCCACTTATCGAGATTTTCACC\n[(0, 5475751, 50)]\ntime to align read: 1.0109977722167969\n"
     ]
    },
    {
     "name": "stdout",
     "output_type": "stream",
     "text": [
      "\nAligned to transcriptome\nTGTTACTCAAAATGTGATTCGATTCAGTTATACATTCAACATACGATAAC\nTGTTACTCAAAATGTGATTCAATTCAGTTATTCATTCAACATACGATAAC\n[(0, 4295677, 50)]\ntime to align read: 1.0827548503875732\n"
     ]
    },
    {
     "name": "stdout",
     "output_type": "stream",
     "text": [
      "\nAligned to transcriptome\nTTATCTCCATTTAATGTTCACAGTTACAGGTCAAGCTCTGTGTTCTCCTC\nTTATCTCCATTAAATGTTCACAGTTACAGGTCAAGCTCTTTGTTCTACTC\n[(0, 6525818, 50)]\ntime to align read: 1.0274887084960938\n"
     ]
    },
    {
     "name": "stdout",
     "output_type": "stream",
     "text": [
      "\nUnaligned\nAATACATAGGGTGTTCCTCTTGTAAGCATAAGGCTCCCTGGTATTGCTGC\n[]\ntime to align read: 1.0929920673370361\n"
     ]
    },
    {
     "name": "stdout",
     "output_type": "stream",
     "text": [
      "\nUnaligned\nGAGTGTCCTTTTTCTGCCTAGCTCCTCCCATGTCTCTGTTTAACTCCAAG\n[]\ntime to align read: 1.1551899909973145\n"
     ]
    },
    {
     "name": "stdout",
     "output_type": "stream",
     "text": [
      "\nAligned to transcriptome\nAAAGTATAACTGGAGTGCCAAGGCTAAAAGACATAATACGACTGGGACTG\nAAAGTATAACTGGAGTGCCAAGGCTAAAAGACAAAATACCACTGGGACTG\n[(0, 8542969, 50)]\ntime to align read: 0.9663040637969971\n"
     ]
    },
    {
     "name": "stdout",
     "output_type": "stream",
     "text": [
      "\nAligned to transcriptome\nACAGCAGGTTCAGGCCTGGATTCGACGAAGAAACATCACCTAAGCCCAAG\nACAGCAGGTTCAGGCATGGATTCCACGAAGAAACAACACCTAAGCCCAAG\n[(0, 8543046, 50)]\ntime to align read: 2.7793610095977783\n"
     ]
    },
    {
     "name": "stdout",
     "output_type": "stream",
     "text": [
      "\nAligned to transcriptome\nAGATGACTCTGAAGCTTCCTCCATACTGACAACACATGCAATGCATTATG\nAGATGACTCTGAAGCATGCTCCATACTGACAACTAATGCAATGCATTATG\n[(0, 2719163, 50)]\ntime to align read: 0.945544958114624\n"
     ]
    },
    {
     "name": "stdout",
     "output_type": "stream",
     "text": [
      "\nAligned to transcriptome\nACAATACAGAGAAAGTCAGCATGGCTTCTGCATATGGAGGCAGCACAACT\nACAATACAGAGAAAGTTAGCATGGCTTCTGCATAAGGAGGCAGCACAACT\n[(0, 2570611, 50)]\ntime to align read: 0.9653007984161377\n"
     ]
    },
    {
     "name": "stdout",
     "output_type": "stream",
     "text": [
      "\nAligned to transcriptome\nCCAGCTCGTTATTCTGGACTGCGCCCATCATACTATACCTGTACCTCAGG\nCCAGCTCATTCTTCTGGACTGTGGCCATCATACTATACCTGTACCTCAGG\n[(0, 6245488, 50)]\ntime to align read: 0.9349517822265625\n"
     ]
    },
    {
     "name": "stdout",
     "output_type": "stream",
     "text": [
      "\nAligned to transcriptome\nATGGGGATCTTCTTCCGCTTGTTTCTTTTTTACTTAAACCACATTGGAAG\nATGGGGATCTTCTTCTGCTTGTTTCTTTTTTACTTAAACCACATTGGAAG\n[(0, 7866305, 50)]\ntime to align read: 0.9853322505950928\n"
     ]
    },
    {
     "name": "stdout",
     "output_type": "stream",
     "text": [
      "\nAligned to transcriptome\nAAAGAACAAAGCCCCTCCTCTGCAGGGTAACGTAGAAGCACGATATGGAT\nAAAGAACAAAGCCCCTCCTCTGGAGGGTGACTCAGAAGCACCATATGGAT\n[(0, 2961244, 38), (38, 2962503, 12)]\ntime to align read: 0.9522392749786377\n"
     ]
    },
    {
     "name": "stdout",
     "output_type": "stream",
     "text": [
      "\nAligned to transcriptome\nGTTTCAAAGAGTCAACCGGTAACTCCTGAAAAACATCGAGCTAGAAAAAG\nGTTTCAAAGAGTCAACCGGTAACTCCTGAAAAACATCGAGCTAGAAAAAG\n[(0, 2726057, 50)]\ntime to align read: 0.9803051948547363\n"
     ]
    },
    {
     "name": "stdout",
     "output_type": "stream",
     "text": [
      "\nUnaligned\nGCTTTGTATAGTGAGAGCACATCACTGGCAGAAAAACTGCTTTTCAATGG\n[]\ntime to align read: 1.1261179447174072\n"
     ]
    },
    {
     "name": "stdout",
     "output_type": "stream",
     "text": [
      "\nUnaligned\nCAAAATGTTGTATTTGTGTATCTTTAAATGATCTACGAACCAGAACTGAA\n[]\ntime to align read: 1.164367914199829\n"
     ]
    },
    {
     "name": "stdout",
     "output_type": "stream",
     "text": [
      "\nAligned to transcriptome\nGGTAATAATTAGGTGAGAAGGATGGTTGGGGACGGTCGGCGTTACTCATG\nGGTAATAATTAGGTGAGAAGGATGGTTGGGGGCGGTCGGCGTAACTCAGG\n[(0, 2673222, 50)]\ntime to align read: 1.003960132598877\n"
     ]
    },
    {
     "name": "stdout",
     "output_type": "stream",
     "text": [
      "\nUnaligned\nGGAGACTCGCTTGAACCGTGGTGGTGAAGCTTGCAGTGAGCCGAGATCGC\n[]\ntime to align read: 1.0759501457214355\n"
     ]
    },
    {
     "name": "stdout",
     "output_type": "stream",
     "text": [
      "\nAligned to transcriptome\nCGCGTGAACGTTGTGCTGAGCGACAAGCTCGAGAGGTGCTTCCCGGCCAA\nCGCGTGAACGTGGTGCTGAGCCGCAAGCTGGAGAGGTGCTTCCCGGCCAA\n[(0, 2654373, 50)]\ntime to align read: 1.0774049758911133\n"
     ]
    },
    {
     "name": "stdout",
     "output_type": "stream",
     "text": [
      "\nUnaligned\nATTGTGCCATCCACTGCAGCTGAAATCAGCCACCTTATCTTCCGGCTGAG\n[]\ntime to align read: 2.0624170303344727\n"
     ]
    },
    {
     "name": "stdout",
     "output_type": "stream",
     "text": [
      "\nUnaligned\nTCGTGTGTTGGGGGGCTCATCATTCCGCTGGATATGGTGCACGTTAAAAG\n[]\ntime to align read: 1.6346960067749023\n"
     ]
    },
    {
     "name": "stdout",
     "output_type": "stream",
     "text": [
      "\nAligned to transcriptome\nACCACCAGGAGCTACAACAAACCAGCAAGGATTCGTCCCTGGATTCGCCT\nACCACCAGGAGCTAGAAGAAACAAGCAAGGATTCGTCCCTGGATTGGTCT\n[(0, 10746279, 50)]\ntime to align read: 1.3044419288635254\n"
     ]
    },
    {
     "name": "stdout",
     "output_type": "stream",
     "text": [
      "\nAligned to transcriptome\nTGACTTTAAACAAAAATGTGAACCTAAAGAAGGGTCACTTCCATTACAGT\nTGACTTTAAACTAAAATGTGAACCAAAAGAAGGTTCACTTCCATTACAGT\n[(0, 2625484, 50)]\ntime to align read: 1.2134449481964111\n"
     ]
    },
    {
     "name": "stdout",
     "output_type": "stream",
     "text": [
      "\nAligned to transcriptome\nTGCGGGGAGCCGATGGACCAGCGATTGGAGGAGGGCGACGAGGCCTTCCG\nTGCGGGGAGCCGATCGCCCAGCGATTGGAGGAGGGCGACGAGGCCTTCCG\n[(0, 2653900, 50)]\ntime to align read: 1.1537508964538574\n"
     ]
    },
    {
     "name": "stdout",
     "output_type": "stream",
     "text": [
      "\nAligned to transcriptome\nAAGACAGGTGACTATAAAACTGCAATGTAAAGTGTCAGCTTCTCCTCACA\nAAGACAGGTGACTATAAAACTGCAATGTAAAGTGTCAGCTTCTCCTCACA\n[(0, 3092992, 50)]\ntime to align read: 1.042954921722412\n"
     ]
    },
    {
     "name": "stdout",
     "output_type": "stream",
     "text": [
      "\nAligned to transcriptome\nTCTGCCTTACTGGGATGGTTGAAGAATAGAGAGCAGTGTTAGAATCACTG\nTCTGCCTTACTTGGATGGTGGAAGAACAGAGAGCAGTGTTAGAATCACTG\n[(0, 6759658, 50)]\ntime to align read: 0.9807109832763672\n"
     ]
    },
    {
     "name": "stdout",
     "output_type": "stream",
     "text": [
      "\nAligned to transcriptome\nTCCTACTTCATTCTACGGCCGAGACCGGAGGATGTTCCCTGCCCAGGAGG\nTCCTACTTCATTCTACGGCCGAGACCGGAGGATGTTCCCTGCTCAGGAGG\n[(0, 3165155, 50)]\ntime to align read: 0.9335830211639404\n"
     ]
    },
    {
     "name": "stdout",
     "output_type": "stream",
     "text": [
      "\nAligned to transcriptome\nGACTCTGAAGCATGCTCCATACTGACAACTAATGCAATGCATTATCCTTC\nGACTCTGAAGCATGCTCCATACTGACAACTAATGCAATGCATTATGGTAA\n[(0, 2719167, 50)]\ntime to align read: 0.9631750583648682\n"
     ]
    },
    {
     "name": "stdout",
     "output_type": "stream",
     "text": [
      "\nAligned to transcriptome\nCATTACCTACCACCTCTGCCCATGTTACTCAAAATCTGATTCAATTCAGT\nCATTAACTACAACCTCTGCCCATGTTACTCAAAATGTGATTCAATTCAGT\n[(0, 4295655, 50)]\ntime to align read: 0.936650276184082\n"
     ]
    },
    {
     "name": "stdout",
     "output_type": "stream",
     "text": [
      "\nUnaligned\nAAATCCTAAAGCTGTCCAAATCTGAACGACAAAGCTTCGGCCAATTGGCC\n[]\ntime to align read: 0.9588232040405273\n"
     ]
    },
    {
     "name": "stdout",
     "output_type": "stream",
     "text": [
      "\nAligned to transcriptome\nGCTGATGCTGCCCGGCATGGGTGCCGGCATCAATTTTTCTCTGTATCCAG\nGCTGATGCTGCCCGGCATGGGTGCCGGCATCAATTTTTCTCTGTATCCAG\n[(0, 8194326, 50)]\ntime to align read: 0.9385321140289307\n"
     ]
    },
    {
     "name": "stdout",
     "output_type": "stream",
     "text": [
      "\nAligned to transcriptome\nCTCAACAAAGCCTCCTGCCTGAGCCTTCTGGGTAGTTGAGACTACACAGA\nCTCAACTAATCCTCCTGCCTCAGCCTTCTGGGTAGTTGAGACTACAGGTA\n[(0, 6393153, 50)]\ntime to align read: 0.9377439022064209\n"
     ]
    },
    {
     "name": "stdout",
     "output_type": "stream",
     "text": [
      "\nAligned to transcriptome\nAGAGACAGCAGTTTCTCGAGGAAGAAAGCACCCGGTTTCGAGAGCTGCTT\nAGAGACAGCAGTTTCTCGAGGAAGAAAGGACCCGGTTTCAGGAGCTGCTG\n[(0, 2742001, 50)]\ntime to align read: 0.9548368453979492\n"
     ]
    },
    {
     "name": "stdout",
     "output_type": "stream",
     "text": [
      "\nAligned to transcriptome\nACAGGCAGATATAAAATTGGTTCATTCCTTATATTGAAGTTATGTCGGTT\nACAGGCACATATTAAATTGGTTCATTCCTAATAATGAAGTTATGTCTGTT\n[(0, 1995178, 50)]\ntime to align read: 0.9556610584259033\n"
     ]
    },
    {
     "name": "stdout",
     "output_type": "stream",
     "text": [
      "\nUnaligned\nAACCCCCCGCTTCACATAGCAGCCCAGAACGACTGTCCGGCCATCGTGAA\n[]\ntime to align read: 0.940974235534668\n"
     ]
    },
    {
     "name": "stdout",
     "output_type": "stream",
     "text": [
      "\nAligned to transcriptome\nCAGGTCGACCTCTTTGTTCTACTCATTAGCCCCTTCTCACTTTTGCACTT\nCAGGTCAAGCTCTTTGTTCTACTCTTTTGCCCCTTCTCACTTTTGCACTT\n[(0, 6525844, 50)]\ntime to align read: 1.1051678657531738\n"
     ]
    },
    {
     "name": "stdout",
     "output_type": "stream",
     "text": [
      "\nAligned to transcriptome\nCCAACTGTCTTGGTTATGGACCTAGCCTGCCATCTGGAGTCAGCTCCAAT\nCCAACTGTGTTGGTTGTGGACCTAGCCTGCCATCTGGAGAAAGCTCCAAT\n[(0, 3723993, 50)]\ntime to align read: 1.1350328922271729\n"
     ]
    },
    {
     "name": "stdout",
     "output_type": "stream",
     "text": [
      "\nAligned to transcriptome\nCTCTGCCCATGTTACTCAAAAAGTGATTCAATTCAGTTATTCATTCAACA\nCTCTGCCCATGTTACTCAAAATGTGATTCAATTCAGTTATTCATTCAACA\n[(0, 4295668, 50)]\ntime to align read: 0.9948360919952393\n"
     ]
    },
    {
     "name": "stdout",
     "output_type": "stream",
     "text": [
      "\nUnaligned\nCTGCCTCAGCCCTCTCGGTAGTTGAGACTTCAGAGATGACTGAGAGAAAA\n[]\ntime to align read: 1.2312090396881104\n"
     ]
    },
    {
     "name": "stdout",
     "output_type": "stream",
     "text": [
      "\nAligned to genome\nTGGATGAACCTGGTAATATTTATAAATATTGACTCCAGATTTTAGGACAG\nTGGATGAACCTGGAAATATTTATAAATATTGATTCCAGATTTCAGGTATG\n[(0, 3923272, 50)]\ntime to align read: 0.9243807792663574\n"
     ]
    },
    {
     "name": "stdout",
     "output_type": "stream",
     "text": [
      "\nAligned to transcriptome\nCTCAGGTGCAGGCGAATGCCCGGGGCCAGTGGAGGCCCCTGAATATCTCC\nCTCAGGTGCAGGCGACTGCCCGGGGCCAGTGGAGGCCCCTGAATATCTCC\n[(0, 2776548, 50)]\ntime to align read: 0.975074052810669\n"
     ]
    },
    {
     "name": "stdout",
     "output_type": "stream",
     "text": [
      "\nUnaligned\nAAGGTTTCCGCGACGGCCGCTCGGAGGACTTCTGCAGGATCCGCAATAGA\n[]\ntime to align read: 1.035693883895874\n"
     ]
    },
    {
     "name": "stdout",
     "output_type": "stream",
     "text": [
      "\nAligned to transcriptome\nAGTGAGTAGTATTCTATTACATGAATATATCATAATGTCTTAATCCACCC\nAGTGAGTAGTATTCTATTACATGAATATACCAGAATGTCTGAATCCACCC\n[(0, 5593930, 50)]\ntime to align read: 0.9913828372955322\n"
     ]
    },
    {
     "name": "stdout",
     "output_type": "stream",
     "text": [
      "\nUnaligned\nGTCCTTTGCACAAGGATGACATGCCAATTCATAAAGCATTCCACCTTTTA\n[]\ntime to align read: 0.9587147235870361\n"
     ]
    },
    {
     "name": "stdout",
     "output_type": "stream",
     "text": [
      "\nAligned to transcriptome\nGAACAATACAGAGAAAGTTAGCATGGCTTATGCATAAGGAGGCAGCACAA\nGAACAATACAGAGAAAGTTAGCATGGCTTCTGCATAAGGAGGCAGCACAA\n[(0, 2570609, 50)]\ntime to align read: 0.9962611198425293\n"
     ]
    },
    {
     "name": "stdout",
     "output_type": "stream",
     "text": [
      "\nAligned to transcriptome\nTAGGGGCGCAACGTGCTCAGCTTGTCCCATGGAACCGACGAGCCGGGCTC\nTAGGGGCGCAACGTGCTGAGCTTGTCCCCTGGAATCGACCATCCGGGCTC\n[(0, 8194129, 50)]\ntime to align read: 1.1972448825836182\n"
     ]
    },
    {
     "name": "stdout",
     "output_type": "stream",
     "text": [
      "\nAligned to transcriptome\nTCAAGAAGAACTACAGAATTTAATTAAAATTCAGGCTATAGCTGTTTGTA\nTCAAGAAGAAATACAGAATTTAATTAAAATTCAGGCTATAGCTGTTTGTA\n[(0, 2725534, 50)]\ntime to align read: 1.18184232711792\n"
     ]
    },
    {
     "name": "stdout",
     "output_type": "stream",
     "text": [
      "\nAligned to transcriptome\nAAGGTGGTATTCCCAAGGCAAGATTTATTCACTGCACTCTGGATGTGCTG\nAAGGTGGTTTTCCCAAGGCAAGATTTATTCACTGCACTCTGGATGTGCTG\n[(0, 5668027, 50)]\ntime to align read: 1.0285909175872803\n"
     ]
    },
    {
     "name": "stdout",
     "output_type": "stream",
     "text": [
      "\nAligned to transcriptome\nTACTAAAAGTACAAAGAAAAGCCCCAGATGAGAACAGCTACGAAGAGATA\nTACTAAAAGGACAAAGAAAAGGGACAGATGAGAACAGCTACGAAGCGATA\n[(0, 3867549, 50)]\ntime to align read: 1.0143678188323975\n"
     ]
    },
    {
     "name": "stdout",
     "output_type": "stream",
     "text": [
      "\nAligned to transcriptome\nTGAGCAGAAGTTCAGGGAGGAGCTGAGGTAGAGGGCCAGGATGGTGGTGG\nTGAGCAGAAGCACAGGGAGGAGCGGAGGTAGAGGGCCAGGATGGTGGTGG\n[(0, 2741822, 50)]\ntime to align read: 1.036484956741333\n"
     ]
    },
    {
     "name": "stdout",
     "output_type": "stream",
     "text": [
      "\nAligned to transcriptome\nGTCATACTGAAAAGAAACCCTATAAATGGGACAAACGTGGAAAAGACTTT\nGTCATGCTGGAAAGAAACCCTATAAATGTGACAAATGTGGAAAAGACTTT\n[(0, 2788351, 50)]\ntime to align read: 1.0011446475982666\n"
     ]
    },
    {
     "name": "stdout",
     "output_type": "stream",
     "text": [
      "\nAligned to transcriptome\nCTCAAGAAGCTCTTGGTTGACATGGGAAACAGTAAAATCATTACAATGTA\nCTCAAGAAGCTCTTGGTTTACATGGGAAACAATAAAATCATTACAATGTA\n[(0, 1993893, 50)]\ntime to align read: 0.9578049182891846\n"
     ]
    },
    {
     "name": "stdout",
     "output_type": "stream",
     "text": [
      "\nAligned to transcriptome\nTGAAACTTACCTACACTGATCTTAGTTCTCTTATAAAAAGATTAAGATGT\nTGAAACTTACCTACACTGATCTTAGTTCTCTTATGAAAAAAATAAGATGT\n[(0, 3176306, 50)]\ntime to align read: 0.9433929920196533\n"
     ]
    },
    {
     "name": "stdout",
     "output_type": "stream",
     "text": [
      "\nUnaligned\nTAGATGGAAAGCATGTGGTGTTTGGCAAAGTGAAAGAAGGCATGAATATT\n[]\ntime to align read: 1.0177350044250488\n"
     ]
    },
    {
     "name": "stdout",
     "output_type": "stream",
     "text": [
      "\nAligned to transcriptome\nGCAATGGGATTAAAAAATTCATGAAAGTAGTTGTGTGAATTCTTTCTGTT\nGCAATGGGATTAAAAAATTCATGAAAGTAGTTGTGTGAATTCTTTATGTT\n[(0, 3910501, 50)]\ntime to align read: 0.9811270236968994\n"
     ]
    },
    {
     "name": "stdout",
     "output_type": "stream",
     "text": [
      "\nAligned to genome\nGACTGGGCTGGGTGTTTCCTTCGGAGGGGGGGCTTGGCCTTTCCTGCGGT\nGACTGGGCTGGGTGTTTCCTTCGGAGGGGGGGCTTGGCCTTTCCTGGGGT\n[(0, 2558955, 50)]\ntime to align read: 0.9827871322631836\n"
     ]
    },
    {
     "name": "stdout",
     "output_type": "stream",
     "text": [
      "\nAligned to transcriptome\nTGGTGGAAAGAACACCTGACGAGTAGGATACAGTAACTTCCTCTTCAAAG\nTGGTGGAAAGAACACCTGACGAATAGGATACAGTGAATTCCTCTTCAAAG\n[(0, 2000867, 50)]\ntime to align read: 1.0066869258880615\n"
     ]
    },
    {
     "name": "stdout",
     "output_type": "stream",
     "text": [
      "\nAligned to transcriptome\nGACATTTAAGGAAGGAAAGGAACTACGAAAGCGTGTAAAAATGTGTGGGA\nGACATTTTAGGAAGGAAAGGAACTACGAAATCGTGTGAAAATGGGTTGGA\n[(0, 7216130, 50)]\ntime to align read: 1.0531411170959473\n"
     ]
    },
    {
     "name": "stdout",
     "output_type": "stream",
     "text": [
      "\nAligned to transcriptome\nATCCATTCTGGAGAAAAACTTTATGAATTTTTGGGATGTGGGAATGCTTC\nATCCATTCTGGAGAAAAACTTTATGAATTTTTGGGATGTGGGAATGCTTC\n[(0, 9547048, 50)]\ntime to align read: 1.091543197631836\n"
     ]
    },
    {
     "name": "stdout",
     "output_type": "stream",
     "text": [
      "\nAligned to transcriptome\nTCAAGCTCTTTGTTCTACTCTTATGCCACTTCTCACTTTTGCACTTGACT\nTCAAGCTCTTTGTTCTACTCTTTTGCCCCTTCTCACTTTTGCACTTGACT\n[(0, 6525848, 50)]\ntime to align read: 0.9868159294128418\n"
     ]
    },
    {
     "name": "stdout",
     "output_type": "stream",
     "text": [
      "\nUnaligned\nCGGTAGTACTGAAAGGCAGGCACTAAGGTGACAGCTGACTCCGCCGGGGC\n[]\ntime to align read: 0.9529352188110352\n"
     ]
    },
    {
     "name": "stdout",
     "output_type": "stream",
     "text": [
      "\nAligned to transcriptome\nCTCTGGTCTGTGAAGCTACGCAGGCTGGGGCTGGTTTCAGTTCGAGGGAG\nCTCTGGTCTGTGAAGCTACGCAGGGTGGGGCTTGTTTCAGTTTGAGGGAG\n[(0, 3019906, 50)]\ntime to align read: 0.974478006362915\n"
     ]
    },
    {
     "name": "stdout",
     "output_type": "stream",
     "text": [
      "\nUnaligned\nAACCTGCTGAGCTTGACGCCTGGAATCGACCATTCGGGCTCTTTGAAATG\n[]\ntime to align read: 1.0254342555999756\n"
     ]
    },
    {
     "name": "stdout",
     "output_type": "stream",
     "text": [
      "\nUnaligned\nCATGGCGCGCCGACCAGTATGGGTTCGCATCGAAAAACGATATGTGGTAG\n[]\ntime to align read: 0.96337890625\n"
     ]
    },
    {
     "name": "stdout",
     "output_type": "stream",
     "text": [
      "\nAligned to transcriptome\nCTGGACAGTCTATGGAAAGCTCTTGCTGGCCACGGAGGAAGTGGGCAGCT\nCTGGACAGTCTATGGAAAGCTCTTGCTGGCCACGGAGGAAGTAGGCAGCT\n[(0, 2949935, 50)]\ntime to align read: 0.9805870056152344\n"
     ]
    },
    {
     "name": "stdout",
     "output_type": "stream",
     "text": [
      "\nAligned to transcriptome\nACAGGTATGTAAAAACCTTGAGGCTAAAAAGATTTTGGAAGAAGTAATAT\nACAGGAATGTAAAAAACTTGAGGCTAAAAAGATGTTGGAAGAAGTAATAT\n[(0, 2603178, 50)]\ntime to align read: 1.0333328247070312\n"
     ]
    },
    {
     "name": "stdout",
     "output_type": "stream",
     "text": [
      "\nAligned to transcriptome\nACACATAGTGTAAGAAAAATTAAATCTTCATGCGAAAATTGGAAATGTAT\nACACATTGTGTAAGAAAAATTAAATCTTCATGAGAAAATTGGAAATGTAT\n[(0, 8569790, 50)]\ntime to align read: 1.0109381675720215\n"
     ]
    },
    {
     "name": "stdout",
     "output_type": "stream",
     "text": [
      "\nAligned to transcriptome\nTAAAGAATGTTGGCAATACTTGTTGGTTTAGTGCTCTTATTCAGCATTAT\nTAAAGAATGTTGGCAATACTTGTTGGTTTAGTGCTGTTATTCAGCATTAT\n[(0, 4740620, 44), (44, 4748757, 6)]\ntime to align read: 1.0201590061187744\n"
     ]
    },
    {
     "name": "stdout",
     "output_type": "stream",
     "text": [
      "\nUnaligned\nGTACAGTGCACTATGTGCTGGTAAATTCACTGCATCAATTCATCACCAAT\n[]\ntime to align read: 1.068303108215332\n"
     ]
    },
    {
     "name": "stdout",
     "output_type": "stream",
     "text": [
      "\nAligned to transcriptome\nGCCCATTAATTTTCAATAAACATTAATGAAGTAGTTATCATGTATTAGCC\nGCCCATTAATTTTCAATAAACATTAATGAAGTACTTATCATGTATTAGCC\n[(0, 8252650, 50)]\ntime to align read: 3.0103600025177\n"
     ]
    },
    {
     "name": "stdout",
     "output_type": "stream",
     "text": [
      "\nUnaligned\nCATCCGTTCAGACGCTTCTCGTCCTCTCTCATAATCCTGAGATATTGCTT\n[]\ntime to align read: 1.0269558429718018\n"
     ]
    },
    {
     "name": "stdout",
     "output_type": "stream",
     "text": [
      "\nAligned to transcriptome\nTTTTTTTCTTTTTAGCAAAAGTGGAAAATTTAAGCATATATTTTTCGAAT\nTTTTTTTCTTTTTAGCAAAAGTGAAAAATGTAAGCATATATTTTTCTAAT\n[(0, 3913176, 50)]\ntime to align read: 1.1174399852752686\n"
     ]
    },
    {
     "name": "stdout",
     "output_type": "stream",
     "text": [
      "\nAligned to transcriptome\nGGAGGATGAGGTTGATGTGTTCATTAAAAGACTGTTCTTCTGTTTCGGGT\nGGAGGATGAGGATGATGTGTTCATTAAAAGACTGTTCTTCTGTTTAGGGT\n[(0, 9305774, 50)]\ntime to align read: 1.0311107635498047\n"
     ]
    },
    {
     "name": "stdout",
     "output_type": "stream",
     "text": [
      "\nAligned to transcriptome\nGACAGTTTCTCTCTAAAGACCCAAAATGCACAGCTGCTCTCAACACAAGG\nGACAGTTTCTCTCTAAACACCCAAAATGCACAGCTGCTCTCAACACAAGA\n[(0, 2069611, 50)]\ntime to align read: 0.9784057140350342\n"
     ]
    },
    {
     "name": "stdout",
     "output_type": "stream",
     "text": [
      "\nAligned to transcriptome\nGGCAGTGGAGATAACATGATCACGAAGGTGGTTTTCCCAAGGCCTGATTC\nGGCAGGGGAGATAGCATGATCACGAAGGTGGTTTTCCCAAGGCAAGATTT\n[(0, 5668003, 50)]\ntime to align read: 0.9571478366851807\n"
     ]
    },
    {
     "name": "stdout",
     "output_type": "stream",
     "text": [
      "\nAligned to transcriptome\nTGCTCCCTTCAGAAGCATGTAGACTAAAATGGGAGTGACACAGAGAAAAT\nTGCTCCCTTCAGAAGCATGTACACTAAAATGGGAGTGACACAGAGAAAAT\n[(0, 4563283, 50)]\ntime to align read: 0.9713778495788574\n"
     ]
    },
    {
     "name": "stdout",
     "output_type": "stream",
     "text": [
      "\nAligned to transcriptome\nCCTCTTCATGTCTATTTTGTGTGTGGTTCCCTCTACACTACAACATCAAG\nCCTCTTCATGTCTATATTGTCTGTGGTTCCCTCTACACTACAACATCAAG\n[(0, 7598893, 50)]\ntime to align read: 0.8963048458099365\n"
     ]
    },
    {
     "name": "stdout",
     "output_type": "stream",
     "text": [
      "\nUnaligned\nTTCCGCCCTATGGTGAAGCTTGACTGCTTCGATTGTTGTTGCAAGGGACT\n[]\ntime to align read: 1.0345141887664795\n"
     ]
    },
    {
     "name": "stdout",
     "output_type": "stream",
     "text": [
      "\nAligned to transcriptome\nCTGTGTACATCTCCTTCCTCAAGGCCACTATCCATTACATCTGTCTCAGC\nCTGTGTTCATCTGCTTCCTCAAGGCCATTATCCATTACATCTGTCTCAGC\n[(0, 8252429, 50)]\ntime to align read: 0.9782350063323975\n"
     ]
    },
    {
     "name": "stdout",
     "output_type": "stream",
     "text": [
      "\nAligned to transcriptome\nTGTTGTTTTTGTACCGGCTTCTCCCAAAGGGAGATATTTCGTCTTATTCC\nTGTTGTTTTTGTACCGGCTTCTCCCAAAGGGAGACATTTAGTCTTATTCT\n[(0, 5589404, 50)]\ntime to align read: 1.002774715423584\n"
     ]
    },
    {
     "name": "stdout",
     "output_type": "stream",
     "text": [
      "\nUnaligned\nCTCCTTCCAGAATAGGCTATTGTGTTCTTTCCAGCCAATGCCCCACCCCT\n[]\ntime to align read: 0.8902449607849121\n"
     ]
    },
    {
     "name": "stdout",
     "output_type": "stream",
     "text": [
      "\nAligned to transcriptome\nAGGAAGGACAAATCTCACAGGGAATATGCTTGATAGATGAGGTTTATAGA\nAGGAAGAACAAATCTCACAGGGAATATGCTTGATAGATGAGGTACATTGA\n[(0, 3219552, 50)]\ntime to align read: 0.9499161243438721\n"
     ]
    },
    {
     "name": "stdout",
     "output_type": "stream",
     "text": [
      "\nAligned to transcriptome\nAGCACTTACTTTAGCTTTGCGTCTTCAGAGCAATTGTTCTCAGCCACTTG\nAGCAGTTAGTTTAGCTTTGCGTCTTCAGAGCAATTGTTCTTAGCTACTTA\n[(0, 3037707, 50)]\ntime to align read: 0.9592971801757812\n"
     ]
    },
    {
     "name": "stdout",
     "output_type": "stream",
     "text": [
      "\nUnaligned\nATCAAATGACTCACACCAGAACATGTGAGGGACTTTACATACAAATAATT\n[]\ntime to align read: 0.9828259944915771\n"
     ]
    },
    {
     "name": "stdout",
     "output_type": "stream",
     "text": [
      "\nAligned to transcriptome\nTTGTCCATACTGTTGATATGGCAGATAGAATTTTAAGATGGTTCCTAAAA\nTTGTCCATACTGTTGATATGGCAGACAGAATTTTAAGATGGTTCCTAAAA\n[(0, 5592741, 50)]\ntime to align read: 0.9582099914550781\n"
     ]
    },
    {
     "name": "stdout",
     "output_type": "stream",
     "text": [
      "\nAligned to transcriptome\nGGACGTAGGACTGAGAATAGCATATGAAATGTCATAAGAAAACCACTTCT\nGGACGTAGAACTGAGAAGAGCATATGAAATGTCATAAGAAAAACACTTCT\n[(0, 3092848, 50)]\ntime to align read: 0.9527099132537842\n"
     ]
    },
    {
     "name": "stdout",
     "output_type": "stream",
     "text": [
      "\nAligned to transcriptome\nACAAAAGAAGAGTTGTTCAAGTGAAGCAGACTTAGAGACACAGACACACA\nACAAAAGAAGAGTTGTTCAAGAGAAGAAGACTTAGAGACACAGACACACA\n[(0, 10735370, 21), (21, 10746179, 29)]\ntime to align read: 1.0016019344329834\n"
     ]
    },
    {
     "name": "stdout",
     "output_type": "stream",
     "text": [
      "\nAligned to transcriptome\nTGTGCTGCCCACCGAGTTGGTGCCAACAGAGTCCATTGTGGTGCTGCCGT\nTGTGCTGCCCACCGAGTTGGTGCCTTCAGAGTGCATTGTGGTGCTGCTGT\n[(0, 6245229, 50)]\ntime to align read: 0.9085040092468262\n"
     ]
    },
    {
     "name": "stdout",
     "output_type": "stream",
     "text": [
      "\nUnaligned\nAAATGTGGGAAAACCTTCAGCAAGCCTCAAAACATGCACAAATAAGGAGC\n[]\ntime to align read: 0.9144761562347412\n"
     ]
    },
    {
     "name": "stdout",
     "output_type": "stream",
     "text": [
      "\nUnaligned\nCAAGGGTATCACTTACACAATGTAACTTACCAATTCAGTCTGAGTGAGTT\n[]\ntime to align read: 0.8954429626464844\n"
     ]
    },
    {
     "name": "stdout",
     "output_type": "stream",
     "text": [
      "\nAligned to transcriptome\nAGCAGGATGGGAACTTCGACGATGCCACCATTAAGGCTGGCCAGTACATC\nAGCAGGAGGGGAACTTCGACGATGCCACCATGAAGGCTGGCCAGTGCATC\n[(0, 2776142, 50)]\ntime to align read: 0.925410270690918\n"
     ]
    },
    {
     "name": "stdout",
     "output_type": "stream",
     "text": [
      "\nUnaligned\nGACAGCCTCAGCCCAGCTTCTCCATGTACCTCCGTGTACCTCCATGTGTG\n[]\ntime to align read: 0.9748311042785645\n"
     ]
    },
    {
     "name": "stdout",
     "output_type": "stream",
     "text": [
      "\nAligned to transcriptome\nGGACAATGGCAGCTGATCTGTCTCGCTCGTGCTCTGCTTCGAAAAACAAA\nGGACAATGGCAGCTGGTCTGTCTAGCTCGTGCTCTGCTTCGAAAAACAAA\n[(0, 3311035, 50)]\ntime to align read: 0.9794619083404541\n"
     ]
    },
    {
     "name": "stdout",
     "output_type": "stream",
     "text": [
      "\nUnaligned\nTGATAAAAGTGATTTTTAATTACTCTTAATGATTTCTCAGGGTTTTGTCA\n[]\ntime to align read: 0.9862492084503174\n"
     ]
    },
    {
     "name": "stdout",
     "output_type": "stream",
     "text": [
      "\nAligned to transcriptome\nATTCCCCCAGGAACAGAAATCAAAGCCCCATGACCTCATCAGCTGTAATT\nATTCCTCCAGGATCAGAAATCAAAGCCCCATGACCTCATCAGCTGTAATT\n[(0, 2425433, 50)]\ntime to align read: 0.9487009048461914\n"
     ]
    },
    {
     "name": "stdout",
     "output_type": "stream",
     "text": [
      "\nAligned to transcriptome\nGCCTGCTGGTGTCCATGTGCACCCAGTGGCCCGACCTGTGAAGCAAGGCA\nGCCTGCTGGTGGCCATGTGCACCCTGTGGCCCGACCTGTGAAGCCAGGCA\n[(0, 6245306, 50)]\ntime to align read: 1.2894649505615234\n"
     ]
    },
    {
     "name": "stdout",
     "output_type": "stream",
     "text": [
      "\nUnaligned\nAAGATATTGCCATGCTAAGACTGGAACTAGATGAAACAATACATAAGTAC\n[]\ntime to align read: 0.9771318435668945\n"
     ]
    },
    {
     "name": "stdout",
     "output_type": "stream",
     "text": [
      "\nAligned to transcriptome\nCTAAAATGCTTGCTTCCTGGGATGAATAATTTTCTGTCGGTTTTCCGCTG\nCTAAAATTCTTGCCTCCTGGTATGTATAATTTTCTCTCGGTTTTCCGCTG\n[(0, 5592785, 50)]\ntime to align read: 0.9750289916992188\n"
     ]
    },
    {
     "name": "stdout",
     "output_type": "stream",
     "text": [
      "\nAligned to transcriptome\nCATGGTCCCCGCACAAGGATGACATAGAAATGTGTAAGGTGTTGCCTATT\nCATGGTCCCCGCACAAGGATGACATAGAAATCTGTAAGGTGTTGCATATT\n[(0, 1996636, 50)]\ntime to align read: 0.9709420204162598\n"
     ]
    },
    {
     "name": "stdout",
     "output_type": "stream",
     "text": [
      "\nUnaligned\nGGAACGAAACCCTATAAATTTGACAATTGTGGAAAAGACTTTGCATAGTC\n[]\ntime to align read: 1.005892038345337\n"
     ]
    },
    {
     "name": "stdout",
     "output_type": "stream",
     "text": [
      "\nUnaligned\nGTCGGGGACCTGCAGCCGCTCAGGGATGCCCTGCCTGGGCTACTGGGGCT\n[]\ntime to align read: 1.5163390636444092\n"
     ]
    },
    {
     "name": "stdout",
     "output_type": "stream",
     "text": [
      "\nUnaligned\nTAGGGAGGGCCGGGCCTGGAACCAGGCGCGCCCCGCGGCCTGCTCGGATG\n[]\ntime to align read: 1.0690288543701172\n"
     ]
    },
    {
     "name": "stdout",
     "output_type": "stream",
     "text": [
      "\nUnaligned\nAAATAACTGAAGGAAGCGTCTGGTACAGAGAAGAGAGAACGTACATTTCG\n[]\ntime to align read: 1.0357019901275635\n"
     ]
    },
    {
     "name": "stdout",
     "output_type": "stream",
     "text": [
      "\nAligned to transcriptome\nCACAGAATGGAAGCAAATATGAAGCCATAAACTTAACATCTATGTATTAT\nCACAGAATGGAAGCAAATAAGAAGCAATAAACTTAACATCTATGGATTAT\n[(0, 3286935, 50)]\ntime to align read: 0.960975170135498\n"
     ]
    },
    {
     "name": "stdout",
     "output_type": "stream",
     "text": [
      "\nAligned to transcriptome\nAAGCCAGCTCTGCAGCTCCGACAATCAGTGACATCATTGTTTCTTAAGCT\nAAGCCAGCTCTGCAGCTCAGCCAATCAGTGACATCATTGTTTCTTTAGCT\n[(0, 5020359, 39), (39, 5130591, 11)]\ntime to align read: 0.9941298961639404\n"
     ]
    },
    {
     "name": "stdout",
     "output_type": "stream",
     "text": [
      "\nUnaligned\nTTATCTGTACTGTGGCTTCTTCTAATGCTAATGTGACCCAGACCGTTCTA\n[]\ntime to align read: 0.9814729690551758\n"
     ]
    },
    {
     "name": "stdout",
     "output_type": "stream",
     "text": [
      "\nUnaligned\nCCCAAAGTTTCGGAAGAAGAAAAGATACCATTATTACCTACAAATGAAAC\n[]\ntime to align read: 1.044743299484253\n"
     ]
    },
    {
     "name": "stdout",
     "output_type": "stream",
     "text": [
      "\nUnaligned\nACAAGTTCCGCCCAATGGGGAAGCCTGACTGCTTAGTTTGTTCTGGCAGC\n[]\ntime to align read: 1.204974889755249\n"
     ]
    },
    {
     "name": "stdout",
     "output_type": "stream",
     "text": [
      "\nAligned to transcriptome\nAGTGAAAAGTGTTATTTCTACTTACTGCTCAATTAGAAACATGTAGTGTT\nAGTGAAAAGTGTTATTTCTACTTACTGCTCAATTAGAAACATGTAGTGTT\n[(0, 5436649, 50)]\ntime to align read: 1.035524845123291\n"
     ]
    },
    {
     "name": "stdout",
     "output_type": "stream",
     "text": [
      "\nAligned to transcriptome\nATAATATTAGCCAAATCGACCAGAAAAAACACCCCTGAGACAGTTTCTCT\nATAATATTAGCCAAGTCGACCAGAAAATACTCCCCTGAGACAGTTTCTCT\n[(0, 2069573, 50)]\ntime to align read: 0.9601140022277832\n"
     ]
    },
    {
     "name": "stdout",
     "output_type": "stream",
     "text": [
      "\nAligned to transcriptome\nCAGAGAAAATTTACAGGGCCTTTGCACAAGGATGACATGCAACTTTATAA\nCAGAGAAAATTAGCAGGGCCTTTGCACAAGGATGACATGCAAATTCATAA\n[(0, 4563323, 50)]\ntime to align read: 0.9795780181884766\n"
     ]
    },
    {
     "name": "stdout",
     "output_type": "stream",
     "text": [
      "\nUnaligned\nCATTGGCATACACCTGTAGAACCGATCTTGTGGTGAAGTGGACCGAACAA\n[]\ntime to align read: 1.0432891845703125\n"
     ]
    },
    {
     "name": "stdout",
     "output_type": "stream",
     "text": [
      "\nAligned to transcriptome\nCTTCAGAAGCATGTACACTAAAATGGGAGTGACACAGAGAACATTAGCAG\nCTTCAGAAGCATGTACACTAAAATGGGAGTGACACAGAGAAAATTAGCAG\n[(0, 4563289, 50)]\ntime to align read: 0.9385521411895752\n"
     ]
    },
    {
     "name": "stdout",
     "output_type": "stream",
     "text": [
      "\nAligned to transcriptome\nGCAAGCCTCAAAACATGCACATATAAGGAGTCATGCTGGAAAGAAACCCT\nGCAAGCCTCAAAACATGCACATATAAGGAGTCATGCTGGAAAGAAACCCT\n[(0, 2788322, 50)]\ntime to align read: 0.9715299606323242\n"
     ]
    },
    {
     "name": "stdout",
     "output_type": "stream",
     "text": [
      "\nAligned to transcriptome\nATGGTAATCCTTGTGAGCAGGCATGAGAGGCACTCTCAGCACCTTCACAG\nATGGTGATCCTTGTGTCCAGGCATGAGAGGCAATCTCAGCACCTTCACAG\n[(0, 2425961, 50)]\ntime to align read: 0.9612722396850586\n"
     ]
    },
    {
     "name": "stdout",
     "output_type": "stream",
     "text": [
      "\nAligned to transcriptome\nGCTGCATAAAAGAAAGGAAGGACAAAAACTAGTCCAAACCAGTCTACACT\nGCTGCATAAAAGAAAGGAAGAACAAAAACTAGTCCAAACCAGTCTACACT\n[(0, 7211881, 12), (12, 7214954, 38)]\ntime to align read: 0.9759490489959717\n"
     ]
    },
    {
     "name": "stdout",
     "output_type": "stream",
     "text": [
      "\nAligned to transcriptome\nAGGTTGCCTGGTCACACTGTCATGTCCCTCTCTCCCTGAAAAAGAGACAC\nAGGTTGCCTGGTCACACTGTCATGTCCCTCTCTCCCTGAAAAAGAGACAC\n[(0, 2263499, 50)]\ntime to align read: 0.9955599308013916\n"
     ]
    },
    {
     "name": "stdout",
     "output_type": "stream",
     "text": [
      "\nAligned to transcriptome\nACATTTACTGAAACCTTAATCTCTTACTGATACTTTAAACTGTCCTCATT\nACATTTACTGAAACCTTAAACTCTTACTGATTCTTTAAACTGTCCCCATT\n[(0, 2718952, 50)]\ntime to align read: 1.0416028499603271\n"
     ]
    },
    {
     "name": "stdout",
     "output_type": "stream",
     "text": [
      "\nUnaligned\nCACACAGAGAAAATTAGCAGGGCCTTTCCACAAGGATGACATGCAAATTC\n[]\ntime to align read: 1.0199239253997803\n"
     ]
    },
    {
     "name": "stdout",
     "output_type": "stream",
     "text": [
      "\nAligned to transcriptome\nTGAACCCCGTGGACCTATTTGAGACCAACGACCTGTTTGAGAGTGGGAAC\nTGAACCCCGTGGACCTATTTGAGACCAACGACCTGTTTGAGAGTGGGAAC\n[(0, 2775995, 50)]\ntime to align read: 1.02376127243042\n"
     ]
    },
    {
     "name": "stdout",
     "output_type": "stream",
     "text": [
      "\nAligned to transcriptome\nCAGACAAAGTGACTTGAGGTGGCGCCAACAGAAGCCCCAAAAAAAGATCA\nCAGACAAAGTTACTGGAGGTGCAGCCAACAGAAGCCCCAGAAAAAGATCC\n[(0, 2476914, 50)]\ntime to align read: 1.0251479148864746\n"
     ]
    },
    {
     "name": "stdout",
     "output_type": "stream",
     "text": [
      "\nUnaligned\nGGTTGCGCGGGCTTGGTCCTTTCGGCTGTCTCGACCTGTTTGGTTCCCAC\n[]\ntime to align read: 1.0140650272369385\n"
     ]
    },
    {
     "name": "stdout",
     "output_type": "stream",
     "text": [
      "\nAligned to transcriptome\nGATAAAGCAGATGAAAATAGGCTTTTCTGTCTTACTAAGTGAACAGCAAT\nGATAAAGCAGATGAAAATAGGCTTTTCTGTCTTCCTAAGTAAACAGCAAT\n[(0, 3093122, 50)]\ntime to align read: 1.0476877689361572\n"
     ]
    },
    {
     "name": "stdout",
     "output_type": "stream",
     "text": [
      "\nAligned to transcriptome\nCTATGCTACAAAAATTGAGTTTATTCTGGAAATAATGACGATGCATCAAA\nCTATGCTACAAAAATTGAGTTTATTCTGGAAATAATGACGATGCATCAAA\n[(0, 8250720, 50)]\ntime to align read: 0.9943821430206299\n"
     ]
    },
    {
     "name": "stdout",
     "output_type": "stream",
     "text": [
      "\nAligned to transcriptome\nAGACCATGGAGGGTGCGCCGCCGCTCATGGCGCGGACTACCTGGACGTGG\nAGACCATGGAGGGTGCGCCGCCGCTGTGGGCGCGGACCACCTGGACGTGG\n[(0, 2711570, 50)]\ntime to align read: 0.99151611328125\n"
     ]
    },
    {
     "name": "stdout",
     "output_type": "stream",
     "text": [
      "\nAligned to transcriptome\nCTAGCCTGCCATCTGGAGAAAGCTCCAATTGTGATGGCATCAAGCCAATA\nCTAGCCTGCCATCTGGAGAAAGCTCCAATTGTGATGGCATCAAGAAAATA\n[(0, 3724014, 50)]\ntime to align read: 1.0073339939117432\n"
     ]
    },
    {
     "name": "stdout",
     "output_type": "stream",
     "text": [
      "\nAligned to transcriptome\nATGTTGGAAGAAGTAATTTTAAAACTTAAAACACGTATGTAAAGTACACA\nATGTTGGAAGAAGTAATATTAAATCTTAAAAAACGTATGGAAAGTACACA\n[(0, 2603209, 50)]\ntime to align read: 0.9716677665710449\n"
     ]
    },
    {
     "name": "stdout",
     "output_type": "stream",
     "text": [
      "\nAligned to transcriptome\nCTCATTAACTACAACCTCTGCCCATGTTACACAAAATGTGATTCAATTCA\nCTCATTAACTACAACCTCTGCCCATGTTACTCAAAATGTGATTCAATTCA\n[(0, 4295653, 50)]\ntime to align read: 0.9615499973297119\n"
     ]
    },
    {
     "name": "stdout",
     "output_type": "stream",
     "text": [
      "\nAligned to transcriptome\nGCGTGCACCAGGACATCTTCCTGACCTGGTAATAATTAGGTGATAAGGAT\nGCGTGCAGCAGGACATCTTCCTGACCTGGTAATAATTAGGTGAGAAGGAT\n[(0, 2673195, 50)]\ntime to align read: 0.9815020561218262\n"
     ]
    },
    {
     "name": "stdout",
     "output_type": "stream",
     "text": [
      "\nUnaligned\nCCTGTGGAAGTGATAAGTGTGTTGTGATGTATCACCAACCAACTGCCAAT\n[]\ntime to align read: 2.907602071762085\n"
     ]
    },
    {
     "name": "stdout",
     "output_type": "stream",
     "text": [
      "\nAligned to transcriptome\nCAGTGTCCCCTGCCTCCTTCATGGCTCTGAGTTGCAAGCTGATAGAGGAT\nCAGTGTCCCCTGCCTCCTTCATGGCTCTGCGTTGCAAGCTCATGGAGGAT\n[(0, 9305731, 50)]\ntime to align read: 1.0743520259857178\n"
     ]
    },
    {
     "name": "stdout",
     "output_type": "stream",
     "text": [
      "\nAligned to transcriptome\nTGGTTGTTCGGGGTTTAGGATTGACACGGGAGGCACATAGTTGCACAGTT\nTGGTTGTTCGGGGTTTGGGATTGACACTGGAGGCAGATAGTTGCAAAGTT\n[(0, 7215965, 50)]\ntime to align read: 1.015038013458252\n"
     ]
    },
    {
     "name": "stdout",
     "output_type": "stream",
     "text": [
      "\nAligned to genome\nTGTATGGTTTAGCGTTACACCCTGAGAGTTAATTGTACAACCTACTAGCT\nTGTATGGTTTAGAGTTACACCCTGGGAGTTAACTGTACAACCTTCTAGCT\n[(0, 5488850, 50)]\ntime to align read: 0.9859049320220947\n"
     ]
    },
    {
     "name": "stdout",
     "output_type": "stream",
     "text": [
      "\nUnaligned\nACGTGCGGCGAACTTGAGGCGCCAGGCTAGGTAGGGCGGGCCCTGGAGCC\n[]\ntime to align read: 1.029754877090454\n"
     ]
    },
    {
     "name": "stdout",
     "output_type": "stream",
     "text": [
      "\nAligned to transcriptome\nGATGCTGTGTTCATTAAAAGACTGTTCTTCTGTTTAGGGTATAAATGATT\nGATGATGTGTTCATTAAAAGACTGTTCTTCTGTTTAGGGTATAAATGATT\n[(0, 9305784, 50)]\ntime to align read: 1.0528290271759033\n"
     ]
    },
    {
     "name": "stdout",
     "output_type": "stream",
     "text": [
      "\nAligned to transcriptome\nCATAAATGAGGGAAAAATGGTATTTATTAGACAAACAAATGCTGAAAGAA\nCATAAATGAAGGAAAAATGGTATTTTTTAGACAAACAAATGCTGAAAGAA\n[(0, 6655500, 50)]\ntime to align read: 1.002068042755127\n"
     ]
    },
    {
     "name": "stdout",
     "output_type": "stream",
     "text": [
      "\nAligned to transcriptome\nCCTGCGCGAACGGCCACTTTTCACGGGGAAGCCGGGCGGCGAGCTTGAGG\nCCTGCGCGAACGGCCACTGTTCACGGGGAAGCCGGGCGGCGAGCTTGAGG\n[(0, 2654172, 50)]\ntime to align read: 0.9963889122009277\n"
     ]
    },
    {
     "name": "stdout",
     "output_type": "stream",
     "text": [
      "\nUnaligned\nCCCCCACCGAAGAGCGGCAGAATAGGACTCAGACTGTAAGCTTGTAGTTT\n[]\ntime to align read: 1.0455129146575928\n"
     ]
    },
    {
     "name": "stdout",
     "output_type": "stream",
     "text": [
      "\nUnaligned\nCCCTAAGGGATACATTTAGTCTTATTGTTCTTGGTAACTTTAGCACAGAC\n[]\ntime to align read: 1.0497221946716309\n"
     ]
    },
    {
     "name": "stdout",
     "output_type": "stream",
     "text": [
      "\nUnaligned\nTATAGAGAGCATGTTGCAAAGCCTGACAAAACCCGGGACAGGGATTTCTG\n[]\ntime to align read: 1.010174036026001\n"
     ]
    },
    {
     "name": "stdout",
     "output_type": "stream",
     "text": [
      "\nUnaligned\nGTAAACGTCACACCACTTGTGGAATTCATTTCCACTAAATCATGCTAATT\n[]\ntime to align read: 1.0013630390167236\n"
     ]
    },
    {
     "name": "stdout",
     "output_type": "stream",
     "text": [
      "\nUnaligned\nTTTATTATGAATGGGGATATTTGTGATATACTGACAAACCAAGACAGGCG\n[]\ntime to align read: 1.0561728477478027\n"
     ]
    },
    {
     "name": "stdout",
     "output_type": "stream",
     "text": [
      "\nAligned to transcriptome\nGAATCATGTACACTAAAATGGGAGTGACACAGAGAAAATAAGCAGTGCCT\nGAAGCATGTACACTAAAATGGGAGTGACACAGAGAAAATTAGCAGGGCCT\n[(0, 4563294, 50)]\ntime to align read: 0.974585771560669\n"
     ]
    },
    {
     "name": "stdout",
     "output_type": "stream",
     "text": [
      "\nUnaligned\nAGCCTGCCTGAAGCTGTGGATCTTATGATTGACTGCCTTGTTTCTTGCCT\n[]\ntime to align read: 0.9887511730194092\n"
     ]
    },
    {
     "name": "stdout",
     "output_type": "stream",
     "text": [
      "\nAligned to transcriptome\nGACTACACGAATGCAGTCCATAGAAAAGTGCCTCATTTTTCAGCAAAGTG\nGACTACACGAATGCAGTCCAGAGAAAAGTGCCTCATTTTTCAGTAAAGTG\n[(0, 3219600, 9), (9, 3228596, 41)]\ntime to align read: 0.9582538604736328\n"
     ]
    },
    {
     "name": "stdout",
     "output_type": "stream",
     "text": [
      "\nAligned to transcriptome\nTGGAATACTGTCAGGTTAGGATGAGCACCTGATCTCATTTGTTAAGACAT\nTGGAATACTGTCATGTTAGGATGAACATCTGATCTGATTTGTTAAGACAT\n[(0, 3910646, 50)]\ntime to align read: 1.0411500930786133\n"
     ]
    },
    {
     "name": "stdout",
     "output_type": "stream",
     "text": [
      "\nUnaligned\nCCACTTCAGTCTGACTGAGTTTTGTAGTTTATAACATATTGATGAAAACA\n[]\ntime to align read: 1.042417049407959\n"
     ]
    },
    {
     "name": "stdout",
     "output_type": "stream",
     "text": [
      "\nAligned to transcriptome\nAATGGGAGTGACACAGAGAAAATTTGCGGGGCCTTTGCACAAGGAATACA\nAATGGGAGTGACACAGAGAAAATTAGCAGGGCCTTTGCACAAGGATGACA\n[(0, 4563310, 50)]\ntime to align read: 1.0315430164337158\n"
     ]
    },
    {
     "name": "stdout",
     "output_type": "stream",
     "text": [
      "\nAligned to transcriptome\nCAGCAACATGACTGTCTTGTGTGAGTCCATTTTCTTCCTAGCTCCTCCCA\nCAGCAACAAGACTGTCTTGTGTGTGTCCTTTTTCTTCCTAGCTCCTCCCA\n[(0, 6759752, 50)]\ntime to align read: 1.0269041061401367\n"
     ]
    },
    {
     "name": "stdout",
     "output_type": "stream",
     "text": [
      "\nAligned to transcriptome\nCTTACACCAGAGCTGGAAGCTGTATCTTCAAAATCTGTCTGTTTGACTTA\nCTTACAGCAGAGCTGGAAGCTGTATCTTCAAAATATGTCTGTTTGACTCA\n[(0, 2603081, 50)]\ntime to align read: 1.0212490558624268\n"
     ]
    },
    {
     "name": "stdout",
     "output_type": "stream",
     "text": [
      "\nAligned to transcriptome\nCAAAGGGTCCTATTCTGTCACCTAGGCCGAAGTACAGTGGTGCAATTACA\nCAAAGGGTCTTATTCTGTCACCTAGGCTGGAGTACAGTGGTGCAATCACA\n[(0, 6390837, 6), (6, 6393083, 44)]\ntime to align read: 1.0258440971374512\n"
     ]
    },
    {
     "name": "stdout",
     "output_type": "stream",
     "text": [
      "\nAligned to transcriptome\nACTGCCTGATCAGAAGCAAAGGGAGGAGCGGAGGTAGAGGGCCGGGATGG\nACTGGCTGAGCAGAAGCACAGGGAGGAGCGGAGGTAGAGGGCCAGGATGG\n[(0, 2741816, 50)]\ntime to align read: 0.965202808380127\n"
     ]
    },
    {
     "name": "stdout",
     "output_type": "stream",
     "text": [
      "\nUnaligned\nATCTGTGCTCACATTGTCAGCTTCCACTCACTCATAATCCTGTTTCCTCT\n[]\ntime to align read: 0.9820442199707031\n"
     ]
    },
    {
     "name": "stdout",
     "output_type": "stream",
     "text": [
      "\nAligned to transcriptome\nGCTTGAATCACTGCACTTAGGTTATGAGTTAAAATGTAAGTCCTTGTCCT\nGCTTGAATCACTGCACTTAGGGAATGAGTTCAAATTTAAGTCCTTGTCCT\n[(0, 2425541, 50)]\ntime to align read: 1.0274200439453125\n"
     ]
    },
    {
     "name": "stdout",
     "output_type": "stream",
     "text": [
      "\nAligned to transcriptome\nACTCTAGTATGATTCAGCTTTTCATGGAGTTCTACTTTATCATGAAATCT\nACTCTTTTATGATTCAGCTTTTCATGGAGTTCTACTTTATCATGAAATCT\n[(0, 2495040, 50)]\ntime to align read: 0.9627120494842529\n"
     ]
    },
    {
     "name": "stdout",
     "output_type": "stream",
     "text": [
      "\nAligned to transcriptome\nAAAACTTAAAATGGATATGTAAAGAGAAGAAAGTGATCATAGGAGAAAAC\nAAAACTTAAAATGGATATGAAAAGTGAAGAAAGTGATCATAGGAGAAAAC\n[(0, 5486381, 50)]\ntime to align read: 1.0323548316955566\n"
     ]
    },
    {
     "name": "stdout",
     "output_type": "stream",
     "text": [
      "\nUnaligned\nGCTCGGTTCAGACGCACCTCAGCGAGGTCATCTAAGGCTCCCTGTGGATT\n[]\ntime to align read: 1.0150790214538574\n"
     ]
    },
    {
     "name": "stdout",
     "output_type": "stream",
     "text": [
      "\nAligned to transcriptome\nTATTTATCTTTTCAGGCTGGGGCTGAATTGTTCTCAAGGACCACTTTATC\nTATTTATCTTTTCATGCTGGGGCTGAATTGTTCTCAAGGACCACTTTATC\n[(0, 3724153, 50)]\ntime to align read: 1.022650957107544\n"
     ]
    },
    {
     "name": "stdout",
     "output_type": "stream",
     "text": [
      "\nAligned to transcriptome\nTGCCTGCTGCAGCATTCACCTTCTACATTTCACTATGTGCTGGTAAATTC\nTGCCTGGTGCAGAATTCACATTCTACATTTCACTATGTGCTGGTAAATTC\n[(0, 2950912, 50)]\ntime to align read: 1.0199871063232422\n"
     ]
    },
    {
     "name": "stdout",
     "output_type": "stream",
     "text": [
      "\nAligned to transcriptome\nCCGCCGCCGCCCCAGTGTCCGGGCTGCGGCTGCGGGGAGCTGATGGCCCA\nCCGCCGCCGCCCCAGTGTCCGGGCTGCGACTGCGGGGAGCCGATCGCCCA\n[(0, 2653870, 50)]\ntime to align read: 0.9951999187469482\n"
     ]
    },
    {
     "name": "stdout",
     "output_type": "stream",
     "text": [
      "\nAligned to transcriptome\nGTCAATCTCTTGGTTCTACTCTTCTGCCCCTTCTCACTTTTGCACTTGAC\nGTCAAGCTCTTTGTTCTACTCTTTTGCCCCTTCTCACTTTTGCACTTGAC\n[(0, 6525847, 50)]\ntime to align read: 1.0831959247589111\n"
     ]
    },
    {
     "name": "stdout",
     "output_type": "stream",
     "text": [
      "\nUnaligned\nTATTAGAGTGGCTACTGTGCAAGGATGACACACAAATTTGTGATGTGTTC\n[]\ntime to align read: 3.2423040866851807\n"
     ]
    },
    {
     "name": "stdout",
     "output_type": "stream",
     "text": [
      "\nUnaligned\nTTGAGGTTCAACTGTCAACGAACATGACAAACTTCAGGAAGAAATACAGA\n[]\ntime to align read: 2.4806981086730957\n"
     ]
    },
    {
     "name": "stdout",
     "output_type": "stream",
     "text": [
      "\nAligned to transcriptome\nCCTGACAAAACCCGGGACCGGGATTTCTGATGGTAATTACTGGATAGGGC\nCCTGACAAAACCCGGGACAGGGATTTCTGATGGTGATTTCTGGATAGGGC\n[(0, 7205686, 50)]\ntime to align read: 1.8365092277526855\n"
     ]
    },
    {
     "name": "stdout",
     "output_type": "stream",
     "text": [
      "\nAligned to transcriptome\nAAGAAAAGTGGCTCCAGTGGCAAAAGTAAAGAACTCGAAGAAGGAAAAGC\nAAGAAAAGTGGCTCCAGTGGCAAAAGTAAAGAACTCGAAGAAGGAAAAGC\n[(0, 10457996, 50)]\ntime to align read: 3.5648460388183594\n"
     ]
    },
    {
     "name": "stdout",
     "output_type": "stream",
     "text": [
      "\nAligned to transcriptome\nCTACCTGCTGGAGAAAGTAGAGTGCACCCCCAGCCGGGAGCACCCGAAGG\nCTACCTGCTGGAGAAAGTGGAGTGCACCCCCAGCCAGGAGCACCTGAAGC\n[(0, 2712827, 50)]\ntime to align read: 3.888873815536499\n"
     ]
    },
    {
     "name": "stdout",
     "output_type": "stream",
     "text": [
      "\nAligned to genome\nGAGTGCAGTGGCGCGATCCCGGCCCACTGCAAGCTCTGCCTCCCGGGTTC\nGAGTGCAGTGGCGCGATCCCGGCTCACTGCAAGCTCTGCCTCCCGGGTTC\n[(0, 6455659, 50)]\ntime to align read: 4.518630027770996\n"
     ]
    },
    {
     "name": "stdout",
     "output_type": "stream",
     "text": [
      "\nAligned to transcriptome\nCCAGTTCCTATTCTATATTGTTTCTAGGCGTTAGGAATGCTCCCAGGAGG\nCCAGTTCCTATTCTATATTCTTTCTAGGTGTTAGGAATGCTCCCAGGAGG\n[(0, 4016111, 50)]\ntime to align read: 1.7688450813293457\n"
     ]
    },
    {
     "name": "stdout",
     "output_type": "stream",
     "text": [
      "\nAligned to transcriptome\nCCTGCATTTAACGGAGGTTGTCTGAAAATATTAAATAAAAAATTACCAAA\nCCTGCATTTAACGGAGGTTGTCTGAAAATATTAAATAAAAAATTCCCAAA\n[(0, 10564379, 50)]\ntime to align read: 2.269719123840332\n"
     ]
    },
    {
     "name": "stdout",
     "output_type": "stream",
     "text": [
      "\nAligned to transcriptome\nGTGGCTCCTGTGCAAGGATGACACACAGATTTGTGATGTGTTCCATACTT\nGTGGCTCCTGTGCAAGGATGACACACAAATTTGTGATGTGTTCCATACTT\n[(0, 6380595, 50)]\ntime to align read: 1.3267669677734375\n"
     ]
    },
    {
     "name": "stdout",
     "output_type": "stream",
     "text": [
      "\nUnaligned\nATGGAAAATCCACTAGAATCAACGAACATGGGCACTAATTCAACTCGGAT\n[]\ntime to align read: 1.1489341259002686\n"
     ]
    },
    {
     "name": "stdout",
     "output_type": "stream",
     "text": [
      "\nUnaligned\nGCACCTGACCGACCACGTAAGAGAACATAGAACTCTGTGTATGTGTGCGC\n[]\ntime to align read: 1.0650849342346191\n"
     ]
    },
    {
     "name": "stdout",
     "output_type": "stream",
     "text": [
      "\nAligned to transcriptome\nCTGGAGAATGTCGACTTCAAGAAAATGGAGCCCAGACAGTCAGGTTTGTG\nCTGGAGCATGTCGTCTTCAAGAAAATGGTGCCCAGACAGTCAGGATTGTG\n[(0, 3092896, 50)]\ntime to align read: 1.1352157592773438\n"
     ]
    },
    {
     "name": "stdout",
     "output_type": "stream",
     "text": [
      "\nAligned to transcriptome\nCTGGGCCTGTGCCAATGGCCATGCAGAAGTAGAAACAGTTCTGGTAGATA\nCTGGGCCTGTGCCAATGGCCATGCAGAAGTAGTAACACTTCTGGTAGATA\n[(0, 1991513, 50)]\ntime to align read: 1.0394511222839355\n"
     ]
    },
    {
     "name": "stdout",
     "output_type": "stream",
     "text": [
      "\nUnaligned\nATTAATGTAATGATGTTCCTCACTGTGTTGGATGCTTGGCCTCCACATAT\n[]\ntime to align read: 3.084296941757202\n"
     ]
    },
    {
     "name": "stdout",
     "output_type": "stream",
     "text": [
      "\nAligned to transcriptome\nAAGGTCTCACTAGAATCTTTTCTTATCAAAGTTACAACATGGGACCCAGC\nAAGGTCTCACAAGAATCTTTTCTTATCTAAGTTACAACATGGGACCCAGC\n[(0, 2725912, 50)]\ntime to align read: 2.1988072395324707\n"
     ]
    },
    {
     "name": "stdout",
     "output_type": "stream",
     "text": [
      "\nAligned to transcriptome\nCCCTTTGCAAAAAATAACCCACTTAAGTTGCGGCACGGTTGCACTGTAAC\nCCCTTTGCACAAAATAACCCACTTAAGTTGAGGCATGGTTGCACTGTAAC\n[(0, 4000828, 50)]\ntime to align read: 1.147921085357666\n"
     ]
    },
    {
     "name": "stdout",
     "output_type": "stream",
     "text": [
      "\nAligned to transcriptome\nTGGCAAAGTGAAAGAAGGCATGAATATTGTGGAGGCCATGGAGCGCTTTG\nTGGCAAAGTGAAAGAAGGCATGAATATTGTGGAGGCCATGGAGCGCTTTG\n[(0, 7807164, 50)]\ntime to align read: 1.0057868957519531\n"
     ]
    },
    {
     "name": "stdout",
     "output_type": "stream",
     "text": [
      "\nAligned to transcriptome\nGGGCAACATAGTGAGACCTCATCTCTACTAAACATATAAGAAAATAAGTT\nGGGCAACATAGTGAGACCTCATCTCTACTAAAAATAAAACAAAAAAAGTT\n[(0, 2263803, 50)]\ntime to align read: 1.0588359832763672\n"
     ]
    },
    {
     "name": "stdout",
     "output_type": "stream",
     "text": [
      "\nUnaligned\nACAAAAATTCTACAAAGAAACAATCAGTGTAAACTATACCCTGGAACAAA\n[]\ntime to align read: 0.9957268238067627\n"
     ]
    },
    {
     "name": "stdout",
     "output_type": "stream",
     "text": [
      "\nAligned to transcriptome\nAGCTATTGAGGCTGATAAGCAAAAGGGAGCTGCTATCCAATTTCAGGATT\nAGCTATTGAGGCTGATAAGCAAAAGGGAGCTGCTATGCAATTTCAGGATT\n[(0, 6759508, 50)]\ntime to align read: 0.9933831691741943\n"
     ]
    },
    {
     "name": "stdout",
     "output_type": "stream",
     "text": [
      "\nAligned to transcriptome\nTGTCAGAAAAGACTGTAAAAAATGTGGCTAACCTTGTCACCTTACTTTTT\nTGTCAGAAAAGACTGTAAAAAATGTGGCTACCCTTGTCACCTTACTTTTG\n[(0, 8688737, 50)]\ntime to align read: 0.9793186187744141\n"
     ]
    },
    {
     "name": "stdout",
     "output_type": "stream",
     "text": [
      "\nAligned to transcriptome\nTATCTACAGTTTCACACTCTCGGATTTCAGTTACCTGCATTTAACGGAGG\nTATCTACAGTTTCACATTCTGGGATTTCAGTTACCTGCATTTAACGGAGG\n[(0, 10564346, 50)]\ntime to align read: 0.9893460273742676\n"
     ]
    },
    {
     "name": "stdout",
     "output_type": "stream",
     "text": [
      "\nUnaligned\nCATATTGTAAAATTAAGACAACGTTGAGAAGATCAGCATGGTTCCCGCAC\n[]\ntime to align read: 1.0210418701171875\n"
     ]
    },
    {
     "name": "stdout",
     "output_type": "stream",
     "text": [
      "\nAligned to transcriptome\nCATTATGGCTGGTCCGATTGTTTTACCCTGAGATCTAAGATACTAAACCT\nCATTATGGCTGGTCCGATTGTTTTACCCTGCGTTCTATGCTACTAAACCT\n[(0, 5538402, 50)]\ntime to align read: 1.0233221054077148\n"
     ]
    },
    {
     "name": "stdout",
     "output_type": "stream",
     "text": [
      "\nUnaligned\nACAGTGCCTGTTGCTCTTTCTGTCGCTGGCCAAGCTACTCTCAGGTGCCT\n[]\ntime to align read: 1.122147798538208\n"
     ]
    },
    {
     "name": "stdout",
     "output_type": "stream",
     "text": [
      "\nAligned to transcriptome\nTTTTTCTGTTTTTAGCCCATTAATTTTCAGTAAACATTAATGAAGTACTT\nTTTTTCTGTTTTTAGCCCATTAATTTTCAATAAACATTAATGAAGTACTT\n[(0, 8252636, 50)]\ntime to align read: 0.9778382778167725\n"
     ]
    },
    {
     "name": "stdout",
     "output_type": "stream",
     "text": [
      "\nAligned to transcriptome\nCACTTCCATCAGGAGAGGTGCAGAGCCCAAGACCGTTTAGCCCAAGGAGA\nCACTTCCATCAGGAGAGGTGCAGAGGCCAAGACCGTTTTGCCCAAGGAGA\n[(0, 2741717, 50)]\ntime to align read: 0.9832751750946045\n"
     ]
    },
    {
     "name": "stdout",
     "output_type": "stream",
     "text": [
      "\nAligned to transcriptome\nGTTGCAACAAAGACAGTGTCAGAAAAGACTGTAAAAAATGTTGCTACGCA\nGTTGCAACAAAGACAGTGTCAGAAAAGACTGTAAAAAATGTGGCTACCCT\n[(0, 8688721, 50)]\ntime to align read: 0.986717939376831\n"
     ]
    },
    {
     "name": "stdout",
     "output_type": "stream",
     "text": [
      "\nAligned to transcriptome\nGTTATGAAGAAAGAGGGCATATTCTCAGCACATTTTCTTAACTTTTTTCG\nGTTATGAAGAAAGGGGGCATATTCTCAGCAGAATTTCTTAAGATTTTTCT\n[(0, 2069669, 50)]\ntime to align read: 0.9699418544769287\n"
     ]
    },
    {
     "name": "stdout",
     "output_type": "stream",
     "text": [
      "\nUnaligned\nCTGAATATTAAACTGGCTTTGCATCCCTAGAATATACCCCACCAGGTCAC\n[]\ntime to align read: 2.2825498580932617\n"
     ]
    },
    {
     "name": "stdout",
     "output_type": "stream",
     "text": [
      "\nUnaligned\nAGCACGCCATCTTCCTGACCTGGTCATAATTAGGTGAGAAGCATGGTTGG\n[]\ntime to align read: 1.0045030117034912\n"
     ]
    },
    {
     "name": "stdout",
     "output_type": "stream",
     "text": [
      "\nAligned to transcriptome\nATAGATTGGTCGACGTCGAGTTCTTTGGCAACTTCTCATATAGTGGTAAG\nATAGAATGGTCGACGTCGAGTTCTTTGGCAACTTCTCATATAGTTGTAAG\n[(0, 5475831, 50)]\ntime to align read: 4.209244966506958\n"
     ]
    },
    {
     "name": "stdout",
     "output_type": "stream",
     "text": [
      "\nAligned to transcriptome\nAAGGTCTTGTCCAGTTCCACTGAAGAGGACACTTCAAAACAAAAGACACG\nAAGGTCTTATCCAGTTCCACTGAAGAGGACACTTCAAAACAAAAGAAACG\n[(0, 8688969, 50)]\ntime to align read: 1.080942153930664\n"
     ]
    },
    {
     "name": "stdout",
     "output_type": "stream",
     "text": [
      "\nAligned to transcriptome\nTAGAGTTACACCCTGGGAGTTAACTGTACAACCTTCTAGCCGTCCTTGGA\nTAGAGTTACACCCTGGGAGTTAACTGTACAACCTTCTAGCTTTCCTTGGA\n[(0, 5488859, 50)]\ntime to align read: 1.1090598106384277\n"
     ]
    },
    {
     "name": "stdout",
     "output_type": "stream",
     "text": [
      "\nAligned to genome\nGCTCTTTGTTCGACTCTTTTGCCCCGTCTCACTTTTGCACTTGCATGGGC\nGCTCTTTGTTCTACTCTTTTGCCCCTTCTCACTTTTGCACTTGACTGGTC\n[(0, 6525852, 50)]\ntime to align read: 1.1152081489562988\n"
     ]
    },
    {
     "name": "stdout",
     "output_type": "stream",
     "text": [
      "\nAligned to transcriptome\nTTTTTATGGCATCTTATTTTTCAATACATGGTCTTTGGATTAAAGAAACT\nTTTTTATGGCATCTCATTTTTCAATACATGCTCTTTTGATTAAAGAAACT\n[(0, 7215484, 50)]\ntime to align read: 1.0911478996276855\n"
     ]
    },
    {
     "name": "stdout",
     "output_type": "stream",
     "text": [
      "\nAligned to transcriptome\nGAATTCATTTTCACTTAATCATACTAATTATGTGGAAACTTGTTTTTTGT\nGAATTCATTTTCACTTAATCATGCTAATTATGTGGAGACTTGTTTGTTGT\n[(0, 4016748, 50)]\ntime to align read: 1.1568641662597656\n"
     ]
    },
    {
     "name": "stdout",
     "output_type": "stream",
     "text": [
      "\nUnaligned\nAATATTTCAAATCATATGCTCAGATATATTTTTAGCCCATGGGTTTATAT\n[]\ntime to align read: 1.1244959831237793\n"
     ]
    },
    {
     "name": "stdout",
     "output_type": "stream",
     "text": [
      "\nAligned to transcriptome\nGCAGCAGGACATCTTCCTGACCTGGTAATAATTCGGTGAGAAGGATGGTT\nGCAGCAGGACATCTTCCTGACCTGGTAATAATTAGGTGAGAAGGATGGTT\n[(0, 2673199, 50)]\ntime to align read: 1.2006337642669678\n"
     ]
    },
    {
     "name": "stdout",
     "output_type": "stream",
     "text": [
      "\nUnaligned\nACACCAGGGATTTGGACAACAACCCCCCGCTACACATAGCAGCCCAGACC\n[]\ntime to align read: 1.486083984375\n"
     ]
    },
    {
     "name": "stdout",
     "output_type": "stream",
     "text": [
      "\nAligned to transcriptome\nTTAGATTAATTCCCCTCATTAGTGAGGACATTGTGGACAAGCTGCTATCG\nTTAGATTAATTCCCCTCATTAGTGAGGACATTGTGGACAAGCTGCTATCC\n[(0, 3706738, 50)]\ntime to align read: 0.9952690601348877\n"
     ]
    },
    {
     "name": "stdout",
     "output_type": "stream",
     "text": [
      "\nAligned to transcriptome\nCCCCTACGATTTCCGCCCAATGGGGAAGCTTCACGGCGTAGTTTGTTATG\nCCCCTACGATTTCCGCCCAATGGGGAAGCTTGACTGCTTAGTTTGTTGTG\n[(0, 5668078, 50)]\ntime to align read: 0.9952938556671143\n"
     ]
    },
    {
     "name": "stdout",
     "output_type": "stream",
     "text": [
      "\nAligned to transcriptome\nGCCAAGCACAGGAGAAAGTATAACTGGAGTGCCAAGGCTAAAAGACAAAA\nGCCAAGCACAGGAGAAAGTATAACTGGAGTGCCAAGGCTAAAAGACAAAA\n[(0, 8542955, 50)]\ntime to align read: 0.9590179920196533\n"
     ]
    },
    {
     "name": "stdout",
     "output_type": "stream",
     "text": [
      "\nAligned to transcriptome\nTGGATGAGGATGAGTCACAGGTGCCCTGTGAGGCCATGGGCATACCAGAA\nTGGATGAGGATGAGTCACAGGTGCCCTGTGACCCCATGGGCAAGCCAGAA\n[(0, 3707156, 50)]\ntime to align read: 0.9850068092346191\n"
     ]
    },
    {
     "name": "stdout",
     "output_type": "stream",
     "text": [
      "\nAligned to transcriptome\nCAGGGACCAGGGGCAGCTCTCTGATGGACACAAAACACAGCGAGGCTGAG\nCAGGGCCCAGGTGCAGCTCTCTGATGGACACAAAACACAGCCAGGCTGAG\n[(0, 2962768, 50)]\ntime to align read: 1.0212619304656982\n"
     ]
    },
    {
     "name": "stdout",
     "output_type": "stream",
     "text": [
      "\nAligned to transcriptome\nTTTATGCCCAAGAAAAGCAGGATTTCATTCGGCGCTTCTCCCAGATCTTC\nTTTATGCCCAAGAAAAGCAGGATTTCATTCGGCACTTCTCCCAGATCTTT\n[(0, 9337355, 50)]\ntime to align read: 0.9757308959960938\n"
     ]
    },
    {
     "name": "stdout",
     "output_type": "stream",
     "text": [
      "\nUnaligned\nGCAGTCTATAACAGAAAGAAAGTCCTCCTCTGGAGTTTCTGACTATAGTT\n[]\ntime to align read: 1.0635299682617188\n"
     ]
    },
    {
     "name": "stdout",
     "output_type": "stream",
     "text": [
      "\nUnaligned\nTTTATGAGTGATCTTTGTATGGTTAAGGACGACTCACAGTCTCCGAAGCC\n[]\ntime to align read: 1.019801139831543\n"
     ]
    },
    {
     "name": "stdout",
     "output_type": "stream",
     "text": [
      "\nUnaligned\nCGAGTTTGGAAGCAGACCATGATGCCCCAGGGGCAGGTGCCCCCTAGACG\n[]\ntime to align read: 2.0654399394989014\n"
     ]
    },
    {
     "name": "stdout",
     "output_type": "stream",
     "text": [
      "\nAligned to transcriptome\nGCGGGCCATATCCTAAAATTGGAACAATACAGAGAAAGTTAGCATGGCTT\nGCGGCACATATCCTAAAATTGGAACAATACAGAGAAAGTTAGCATGGCTT\n[(0, 2570588, 50)]\ntime to align read: 1.0348029136657715\n"
     ]
    },
    {
     "name": "stdout",
     "output_type": "stream",
     "text": [
      "\nAligned to transcriptome\nACATGATACTTTTCCTGATTCTCCCAGAAGTCTCTACACTGCTGAAGTAT\nACATGATACTTTTCCTTATTCTCCCAGAAGTCTCTACACTGCTGAAGTAT\n[(0, 7589750, 50)]\ntime to align read: 1.010378122329712\n"
     ]
    },
    {
     "name": "stdout",
     "output_type": "stream",
     "text": [
      "\nAligned to transcriptome\nGTGTTGCAAATAAGATTTAGCTGGTAGTTCTTGTTAAGCCTTCACGTACC\nGTGTTGCAAATAAGATTCAGCTGGTAGTTCTTGTTAAGCCTTCAGGTACA\n[(0, 2625399, 50)]\ntime to align read: 0.9725708961486816\n"
     ]
    },
    {
     "name": "stdout",
     "output_type": "stream",
     "text": [
      "\nAligned to transcriptome\nCAAAGAAGAGAGAATAAGGTAGATTGAACAAAGCCTCCATGAGGTCTGGG\nCAAAGAAGAAAGAATAAGAAAAATTGAACAAAGCCTCCATGAGGTCTGGG\n[(0, 6655042, 50)]\ntime to align read: 0.9806599617004395\n"
     ]
    },
    {
     "name": "stdout",
     "output_type": "stream",
     "text": [
      "\nAligned to transcriptome\nGCATATATCTACCGCCTGCTGAATCGCTATTGCCGGGAGCAGCCCTGTGA\nGCATATATCTACCGCCTGCTGAAGCGCTATTGCCGGGAGCAGCCCTGTTA\n[(0, 9337737, 50)]\ntime to align read: 0.9514470100402832\n"
     ]
    },
    {
     "name": "stdout",
     "output_type": "stream",
     "text": [
      "\nUnaligned\nCAACCTCATATGGATAGACCGGAGGGAAAGCTGTCCGAGTGGAACTGCGT\n[]\ntime to align read: 0.970228910446167\n"
     ]
    },
    {
     "name": "stdout",
     "output_type": "stream",
     "text": [
      "\nAligned to transcriptome\nCCATGTTACTCAAAATGTGATTCAATTCAATTATTCATTAAACATAAGAT\nCCATGTTACTCAAAATGTGATTCAATTCAGTTATTCATTCAACATACGAT\n[(0, 4295674, 50)]\ntime to align read: 1.0168671607971191\n"
     ]
    },
    {
     "name": "stdout",
     "output_type": "stream",
     "text": [
      "\nUnaligned\nTTGGCCGCCTCAATTAAGATCGCCACGGCGCTGCGGGCCCTTACAACCCT\n[]\ntime to align read: 1.0605661869049072\n"
     ]
    },
    {
     "name": "stdout",
     "output_type": "stream",
     "text": [
      "\nAligned to transcriptome\nCATGGCTCTGCGTTGCAAGATCATGGAGGATGAGGCTGATGTTTTCATTA\nCATGGCTCTGCGTTGCAAGCTCATGGAGGATGAGGATGATGTGTTCATTA\n[(0, 9305750, 50)]\ntime to align read: 1.0191798210144043\n"
     ]
    },
    {
     "name": "stdout",
     "output_type": "stream",
     "text": [
      "\nUnaligned\nGTATGGACATCTAGCGAACCATGATACATCAGAAAAAGAGATGTGCATAA\n[]\ntime to align read: 1.0499658584594727\n"
     ]
    },
    {
     "name": "stdout",
     "output_type": "stream",
     "text": [
      "\nAligned to transcriptome\nGCAAAGAAGAATGAAAGATTGTGTCTGCCTGTGATGCACATTGGTAAATA\nGCAAAGAAGAATGAAATATTGTGTCTGCCTGTGATGCACATTGCTTAATA\n[(0, 3540364, 50)]\ntime to align read: 1.0318069458007812\n"
     ]
    },
    {
     "name": "stdout",
     "output_type": "stream",
     "text": [
      "\nAligned to transcriptome\nGTGGCCCTGGGCGCGTTCTGTGTAGCCCTGGGGCTCGAGGCACCGCGGCC\nGTGGCCCTGGGCGCGTTCTGTGTCGCCCTGCGGCTCGAGGCGCTGCGGCC\n[(0, 2654071, 50)]\ntime to align read: 0.9852068424224854\n"
     ]
    },
    {
     "name": "stdout",
     "output_type": "stream",
     "text": [
      "\nAligned to transcriptome\nTACTCTTGGAATAATGTTTGCAATGGGATTAAAAAATTCATGAAAGTAGT\nTACTCTTGGAATAATGTTTGCAATGGGATTAAAAAATTCATGAAAGTAGT\n[(0, 3910482, 50)]\ntime to align read: 0.9512588977813721\n"
     ]
    },
    {
     "name": "stdout",
     "output_type": "stream",
     "text": [
      "\nAligned to transcriptome\nCAGGACCGGGGTCTCATCTGAAAATCAACTTGGGATGGGTCTGCTTCCAG\nCAGGACCGAGGTCTCATCTGAAAGTCAACTTGGGATGGGTCTGCTTCCAG\n[(0, 5593554, 50)]\ntime to align read: 1.060401201248169\n"
     ]
    },
    {
     "name": "stdout",
     "output_type": "stream",
     "text": [
      "\nUnaligned\nAGGCGTGCTTGACAGTGCTTAATATCATCACCACTGAAGGTAATAAACAT\n[]\ntime to align read: 0.981158971786499\n"
     ]
    },
    {
     "name": "stdout",
     "output_type": "stream",
     "text": [
      "\nAligned to transcriptome\nCTTGTGGTGAAGTGGACCGCACAAGCTCGCTTCTATGGGTCTGAGTAAGT\nCTTGTGGTGAAGTGGACCGCACAAGCTCGCTTCTATGGGTCTGTGTCAGT\n[(0, 5488116, 50)]\ntime to align read: 1.027601957321167\n"
     ]
    },
    {
     "name": "stdout",
     "output_type": "stream",
     "text": [
      "\nUnaligned\nTTCACTCACCAACCACCAAGTGACTCTGACCTTTATCAGATGAATAAACG\n[]\ntime to align read: 1.05544114112854\n"
     ]
    },
    {
     "name": "stdout",
     "output_type": "stream",
     "text": [
      "\nAligned to transcriptome\nAGATATTCCCTACACCTTTATAAACATTTAAGAAAGAACATTCTGGACAA\nAGATATTCCCTACACCTTAATAAACATTTAAGAAAGAACATTCTGGACAA\n[(0, 2788237, 50)]\ntime to align read: 1.081488847732544\n"
     ]
    },
    {
     "name": "stdout",
     "output_type": "stream",
     "text": [
      "\nUnaligned\nAATTCACTTCATTTCAATCCAAACTAAATAAATTCTTGAAGTCTCAGCAC\n[]\ntime to align read: 1.2753510475158691\n"
     ]
    },
    {
     "name": "stdout",
     "output_type": "stream",
     "text": [
      "\nUnaligned\nAGTCAGCGAAAGTTAGAGGATGGAAAAGAGTAGAATGGTGCAAGAAATTA\n[]\ntime to align read: 0.9711999893188477\n"
     ]
    },
    {
     "name": "stdout",
     "output_type": "stream",
     "text": [
      "\nUnaligned\nACTAGCCAAGTGGCCGCACGCAGCATTGAAAGATCTACTTGGCGCTACGA\n[]\ntime to align read: 1.3661201000213623\n"
     ]
    },
    {
     "name": "stdout",
     "output_type": "stream",
     "text": [
      "\nUnaligned\nACTAAAATTAAGACAACGTTCAGAAGATCTGCATGGTCCCCGCACTAGGA\n[]\ntime to align read: 1.050295114517212\n"
     ]
    },
    {
     "name": "stdout",
     "output_type": "stream",
     "text": [
      "\nAligned to transcriptome\nGCTAAAAATTGTGTACAGCAGGTTCAGGCATGGATTCCACGAAGAAACAA\nGCTAAAAATTGTGTACAGCAGGTTCAGGCATGGATTCCACGAAGAAACAA\n[(0, 8543032, 50)]\ntime to align read: 0.9918022155761719\n"
     ]
    },
    {
     "name": "stdout",
     "output_type": "stream",
     "text": [
      "\nAligned to transcriptome\nCTCAGCCTTCTGGGTAGTTGAGACTACAGAGATGAGAGAGAGAAAAAGAG\nCTCAGCCTTCTGGGTAGTTGAGACTACAGAGATGAGAGAGAGAAAAAGAG\n[(0, 6393171, 29), (29, 6397871, 21)]\ntime to align read: 1.0148422718048096\n"
     ]
    },
    {
     "name": "stdout",
     "output_type": "stream",
     "text": [
      "\nUnaligned\nTGAGAGCTACGGCATGACCCCGTTGCTCCCGGCCAGCGTGACGGGCCACA\n[]\ntime to align read: 1.0423598289489746\n"
     ]
    },
    {
     "name": "stdout",
     "output_type": "stream",
     "text": [
      "\nAligned to genome\nAATCCAAGTAAGCCGTTCTCACGGGTCAGTCAGCATGCAAATGTGGATCT\nAATCCAAGTAAGCCATTCTCAAGGGGCAGTCAGCCTGCAGATGTGGATCT\n[(0, 2950553, 50)]\ntime to align read: 0.9876830577850342\n"
     ]
    },
    {
     "name": "stdout",
     "output_type": "stream",
     "text": [
      "\nUnaligned\nCATGCTAATCAAGTGGAGACTTGTTTGTTGTTTTTCTTTGTCTTTTTACG\n[]\ntime to align read: 1.012549877166748\n"
     ]
    },
    {
     "name": "stdout",
     "output_type": "stream",
     "text": [
      "\nAligned to genome\nAAAGAAAATTTGAGACGGAGTCTGGCTCTGTCGCCCAGGCTGGAGTGCAG\nAAAGAAAATTTGAGACGGAGTCTGGCTCTGTCGCCCAGGCTGGAGTGCAG\n[(0, 6455617, 50)]\ntime to align read: 1.0100829601287842\n"
     ]
    },
    {
     "name": "stdout",
     "output_type": "stream",
     "text": [
      "\nAligned to transcriptome\nGTGCCGACATCATCACTTGTGCTCACACTGTCTGCTACCACTCACTCATA\nGTGCCGACATCTTCACCTGTGCTCACACTGTCTGCTTCCACTCACTCATA\n[(0, 6759559, 50)]\ntime to align read: 1.0491724014282227\n"
     ]
    },
    {
     "name": "stdout",
     "output_type": "stream",
     "text": [
      "\nAligned to transcriptome\nTGCTGTCCTGTGGTACAGACCTTAAGGTGAAAAACAAACTGGCCACGCAC\nTGCTGTCCTGTGGTACAGACATTAAAGTGAAGAACAAGCTGGCCACACAC\n[(0, 1991914, 38), (38, 1994163, 12)]\ntime to align read: 1.0546808242797852\n"
     ]
    },
    {
     "name": "stdout",
     "output_type": "stream",
     "text": [
      "\nUnaligned\nCACATTGGCAGGTAAGCATTTTCAGGAGGAAAAACATTGCCTTACTTCCT\n[]\ntime to align read: 1.0819132328033447\n"
     ]
    },
    {
     "name": "stdout",
     "output_type": "stream",
     "text": [
      "\nAligned to transcriptome\nGCGACGCCACGGAGGTGTAGCGCTGTCTGGCGCGCAGGCGCGGAGACCTG\nGCGACGCCACGGAGGTGGAGCGCTGTCTGGCGCGCAGGAGCGGAGACCTG\n[(0, 3013454, 50)]\ntime to align read: 1.0175631046295166\n"
     ]
    },
    {
     "name": "stdout",
     "output_type": "stream",
     "text": [
      "\nAligned to transcriptome\nACACTGAAGAATAGTCCTAAGTATGTTAGATATGTGGTAATGTCTTCAGT\nACACTGAAGAATAGTCCTAAGAATGTTAGATATGTGGTAATGTCTTCAGT\n[(0, 9546968, 50)]\ntime to align read: 0.9638049602508545\n"
     ]
    },
    {
     "name": "stdout",
     "output_type": "stream",
     "text": [
      "\nUnaligned\nATCTGCTTGTTGCATCATAATGAGGAAGTCACCAGTAGTTCCGACATCGG\n[]\ntime to align read: 1.0145940780639648\n"
     ]
    },
    {
     "name": "stdout",
     "output_type": "stream",
     "text": [
      "\nAligned to transcriptome\nGCTACTGTCCTTTGCATTCTTAGTGCTCAGCTCAGGCCTGCTGGTGGCCA\nGCTGCTGTCCTGTGCATTCTTTGTGCTCAGCTCAGGCCTGCTGGTGGCCA\n[(0, 6245271, 50)]\ntime to align read: 0.9724230766296387\n"
     ]
    },
    {
     "name": "stdout",
     "output_type": "stream",
     "text": [
      "\nAligned to transcriptome\nTGACAAAAAAATGCAAATGGAAATGGAGTTGATAAGTTTAAATGGTATAG\nTGACAAAAAAATGCAAATGCAAATGGAGTTGATAAGTTTAAATGGTATAG\n[(0, 1994226, 50)]\ntime to align read: 0.9815139770507812\n"
     ]
    },
    {
     "name": "stdout",
     "output_type": "stream",
     "text": [
      "\nUnaligned\nCACTTCGCAGAGATCCGTACCTTCCAACCCATCTACGTATTCACCTGTGT\n[]\ntime to align read: 1.0713472366333008\n"
     ]
    },
    {
     "name": "stdout",
     "output_type": "stream",
     "text": [
      "\nUnaligned\nCTGCCAGGGTTCTCACTCACTAGGGGCGGACTAGCCGCATCTGCTTAACT\n[]\ntime to align read: 1.0386419296264648\n"
     ]
    },
    {
     "name": "stdout",
     "output_type": "stream",
     "text": [
      "\nAligned to transcriptome\nCAGACACACAGAGGGAAGAAGGACATAGAAAGACAAAGGCAAAGATTGGA\nCAGACACACAGAGGGAAGAAGGCCATAGAAAGACAAAGGCAAAGATTGGA\n[(0, 10746198, 50)]\ntime to align read: 1.0543358325958252\n"
     ]
    },
    {
     "name": "stdout",
     "output_type": "stream",
     "text": [
      "\nAligned to transcriptome\nCATGTGGAAATTCAGTGGAGGCCCCTGCCTTGACCTCATTATTAACAGGA\nCATGTGGGAATTCAGTGAAGGCCCCTGCCTTGACCTCATTATCAACAGGA\n[(0, 2720631, 50)]\ntime to align read: 1.0607640743255615\n"
     ]
    },
    {
     "name": "stdout",
     "output_type": "stream",
     "text": [
      "\nAligned to transcriptome\nTGGGGACAGAGCTGCTGGTATCAGAAGCCAGGCGTATGTTTGGATGCCAT\nTGGGGACAGATCTGCTGGTATCAGAAGCCAGGCGTAGGTTTGGATGCCAT\n[(0, 9337665, 50)]\ntime to align read: 1.0051321983337402\n"
     ]
    },
    {
     "name": "stdout",
     "output_type": "stream",
     "text": [
      "\nUnaligned\nCTGTAAAGGCTGAATAAGTGGCAGGAGTAATATATAATAACATTGAAGTT\n[]\ntime to align read: 1.517261028289795\n"
     ]
    },
    {
     "name": "stdout",
     "output_type": "stream",
     "text": [
      "\nUnaligned\nGCCTATATATATCTTTCATTTCTTGTGAGACATATGTAAATTCACACTGG\n[]\ntime to align read: 1.207906723022461\n"
     ]
    },
    {
     "name": "stdout",
     "output_type": "stream",
     "text": [
      "\nAligned to transcriptome\nGAATTTATTAACATTTTTCTTCCATCCCTGTTGCTCTCTCATCTGCTGGC\nGAATTTCTTAAGATTTTTCTTCCATCTCTGCTGCTCTCTCATCTGCTGGC\n[(0, 2069699, 50)]\ntime to align read: 2.6690738201141357\n"
     ]
    },
    {
     "name": "stdout",
     "output_type": "stream",
     "text": [
      "\nAligned to transcriptome\nTGTATTTTTATACCACCAGTTTTAACTAGTTCTCTTCTTCTACTTAAAGA\nTGTATTTTTATACCACCAGTTTTAACTAGTTCTCTTCTTCTACTTAAAGA\n[(0, 8570231, 50)]\ntime to align read: 1.0093376636505127\n"
     ]
    },
    {
     "name": "stdout",
     "output_type": "stream",
     "text": [
      "\nAligned to transcriptome\nCCACTCTACCTGTGCTCGGGAAAGCTGGAAGAAGCCTGTTGGCAAGCTGG\nCCACTCTCCCTGTGCTCGGGAAAGCTGGAAGAAGCCAGTAGGCAATCTGG\n[(0, 3867651, 50)]\ntime to align read: 1.0589001178741455\n"
     ]
    },
    {
     "name": "stdout",
     "output_type": "stream",
     "text": [
      "\nAligned to transcriptome\nGCCGCGTCACCTTTGAGCAGTTTGCAGACAAGGTCCCAAAGACAGCAGAC\nGCCGCGTCTCCTTTGAGCTGTTTGCAGACAAGGTCCCAAAGACAGCAGAA\n[(0, 7806830, 50)]\ntime to align read: 0.9580857753753662\n"
     ]
    },
    {
     "name": "stdout",
     "output_type": "stream",
     "text": [
      "\nUnaligned\nCCAAAAAGGAAAGTACAAGGAGAGAAAAAAAAAAGCATTCTTCTACCCCT\n[]\ntime to align read: 0.9791030883789062\n"
     ]
    },
    {
     "name": "stdout",
     "output_type": "stream",
     "text": [
      "\nAligned to transcriptome\nCAGTGCCAACAAGACCCAGGTTCCCACTTGAGGGCTTTGGGGTGATGGGA\nCAGTGCCTACAAGACCCAGGCTCCAAATTGAGGGCTTTGGGGTGATGGGG\n[(0, 7866261, 50)]\ntime to align read: 1.1423189640045166\n"
     ]
    },
    {
     "name": "stdout",
     "output_type": "stream",
     "text": [
      "\nAligned to transcriptome\nCAGGACATCTTCCTGACCTGGTAATCATTAGGTGAGAAGGATGGTTGGAG\nCAGGACATCTTCCTGACCTGGTAATAATTAGGTGAGAAGGATGGTTGGGG\n[(0, 2673203, 50)]\ntime to align read: 1.3492038249969482\n"
     ]
    },
    {
     "name": "stdout",
     "output_type": "stream",
     "text": [
      "\nAligned to transcriptome\nTGTGGTGAAGTGGACCGCACAAGCTCGCCTCTATGGGTCTGTGTCAGTGT\nTGTGGTGAAGTGGACCGCACAAGCTCGCTTCTATGGGTCTGTGTCAGTGT\n[(0, 5488118, 50)]\ntime to align read: 0.9940891265869141\n"
     ]
    },
    {
     "name": "stdout",
     "output_type": "stream",
     "text": [
      "\nAligned to genome\nAAATTGAGTTTATACCGAAAATAATGACTATGCATCAAAAGGTTGATCGT\nAAATTGAGTTTATTCTGGAAATAATGACGATGCATCAAAAGGTTGAAAGT\n[(0, 8250731, 50)]\ntime to align read: 0.9984538555145264\n"
     ]
    },
    {
     "name": "stdout",
     "output_type": "stream",
     "text": [
      "\nAligned to transcriptome\nATATTTATTACCTCATAGTTTCTGTCGGTCAGAAATCTGGGCATGGTTTA\nATATTTATTACCTCATAGTTTCTGTGGGTCAGAAATCTGGGCATGGTTTA\n[(0, 5593452, 50)]\ntime to align read: 0.9748718738555908\n"
     ]
    },
    {
     "name": "stdout",
     "output_type": "stream",
     "text": [
      "\nAligned to transcriptome\nTTTGACAGATTTATACAGAACATTCTAACCAAAAAACACAGAATATACAT\nTTTGACAGATTTATACAGAACATTCTACCCAACAACCACAGAATATACAT\n[(0, 6656258, 50)]\ntime to align read: 1.019831895828247\n"
     ]
    },
    {
     "name": "stdout",
     "output_type": "stream",
     "text": [
      "\nAligned to transcriptome\nTCCCGGCCAACTGCGCGCTGCTCAGGCTCGAGGGTCAGGCGCGGAGCCTG\nTCCCGGCCAAGTGCCCGCTGCTCAGGCTGGAGGGTCAGGCGCGGAGCCTG\n[(0, 2654413, 50)]\ntime to align read: 1.0080418586730957\n"
     ]
    },
    {
     "name": "stdout",
     "output_type": "stream",
     "text": [
      "\nUnaligned\nGAAATTCGAGGAACTTTTGGAAAGCACTTTCTGCATCCAGCGGGTTGTGG\n[]\ntime to align read: 2.1456491947174072\n"
     ]
    },
    {
     "name": "stdout",
     "output_type": "stream",
     "text": [
      "\nUnaligned\nATCGAATTTGCTGCTGTATTATGAAGGTCCCGTTTATGCACTACCCTGGA\n[]\ntime to align read: 0.9996249675750732\n"
     ]
    },
    {
     "name": "stdout",
     "output_type": "stream",
     "text": [
      "\nUnaligned\nGCTAATGACCACACACAGCGACGGGCGGCATGAGGCATGGGAACATAGCC\n[]\ntime to align read: 1.216883897781372\n"
     ]
    },
    {
     "name": "stdout",
     "output_type": "stream",
     "text": [
      "\nAligned to transcriptome\nACTTCTTGTTGGAACCAAAAGGAAGTAGGTTGATCCATCAAGAGAAATTG\nACTTCTTGTTGGTACCAAAAGGAAGTATGTTGATCCATCAAGAGCAGTTG\n[(0, 4754167, 50)]\ntime to align read: 1.0247230529785156\n"
     ]
    },
    {
     "name": "stdout",
     "output_type": "stream",
     "text": [
      "\nUnaligned\nACTGGCCGTTTGGGACCGCCAACCGGCTAGTGCGTTCTTGCAACCCATCA\n[]\ntime to align read: 1.128058671951294\n"
     ]
    },
    {
     "name": "stdout",
     "output_type": "stream",
     "text": [
      "\nAligned to transcriptome\nGTGTCCCCTGACTCCTTCATGCCTCTGCGATGCAAGCTCATGGAGGATGA\nGTGTCCCCTGCCTCCTTCATGGCTCTGCGTTGCAAGCTCATGGAGGATGA\n[(0, 9305733, 50)]\ntime to align read: 0.987138032913208\n"
     ]
    },
    {
     "name": "stdout",
     "output_type": "stream",
     "text": [
      "\nAligned to transcriptome\nAGCGTGGCTCCTGTGCAAGGATGACACACTGATTTGTGATTTGTTCCATA\nAGCGTGGCTCCTGTGCAAGGATGACACACAAATTTGTGATGTGTTCCATA\n[(0, 6380592, 50)]\ntime to align read: 0.9781880378723145\n"
     ]
    },
    {
     "name": "stdout",
     "output_type": "stream",
     "text": [
      "\nUnaligned\nGGAAAGATTTGCTTAGACCCCGGTCGTTTTATTATGTGCAGCGATGACAT\n[]\ntime to align read: 3.0843379497528076\n"
     ]
    },
    {
     "name": "stdout",
     "output_type": "stream",
     "text": [
      "\nAligned to transcriptome\nGCCCAATGGGGAAGCTTTACTCCTTAGTTTGTTATGGCAGGGGACTGTGT\nGCCCAATGGGGAAGCTTGACTGCTTAGTTTGTTGTGGCAGGGGACTGTGT\n[(0, 5668092, 50)]\ntime to align read: 0.9893827438354492\n"
     ]
    },
    {
     "name": "stdout",
     "output_type": "stream",
     "text": [
      "\nAligned to transcriptome\nACGGCAAGGTGGCAGCTTCTCCAGAAGCTGCTCAGCAGCCTGAGCCGGGA\nACGGCAAGGGGGCAGCTGCTCCAGAAGCTGCTCAGCAGCCGGAGCCGGGA\n[(0, 2711371, 50)]\ntime to align read: 0.9924001693725586\n"
     ]
    },
    {
     "name": "stdout",
     "output_type": "stream",
     "text": [
      "\nAligned to transcriptome\nGAAAATGAGACACATCAATGAGGTTGTGGAAGATGCAGTAGAATCAACAA\nGAAAATGAGACACATCAATGAGGTTGTGGAAAATGCACTAGAATCAACAA\n[(0, 5580466, 23), (23, 5589230, 27)]\ntime to align read: 1.0465648174285889\n"
     ]
    },
    {
     "name": "stdout",
     "output_type": "stream",
     "text": [
      "\nUnaligned\nAAGTACCAACTGCAAGACTGTCTGTCACCTGAGGGTGACTTGCAACCATG\n[]\ntime to align read: 1.0279920101165771\n"
     ]
    },
    {
     "name": "stdout",
     "output_type": "stream",
     "text": [
      "\nUnaligned\nAAAAAGAAAAGAAATTATATTTTTCTTATTAACACAGTTGATCAAAATTG\n[]\ntime to align read: 1.0827829837799072\n"
     ]
    },
    {
     "name": "stdout",
     "output_type": "stream",
     "text": [
      "\nAligned to transcriptome\nGGGTGTGCGCAGCCCCAGGGGGCTCCGTTCTGCATCTTCTCCCCTGAGGT\nGGGTGTGCGCAGCCTCAGGGGGCTCCGTGCTGCATCTTCTCCCCTGAGGT\n[(0, 2712111, 50)]\ntime to align read: 1.266340970993042\n"
     ]
    },
    {
     "name": "stdout",
     "output_type": "stream",
     "text": [
      "\nAligned to transcriptome\nGATCTAGAAGAAAAGGCAGTGCAGGCAATGGAAAAATTAGTACAAATACC\nGATCTAGAAGAAAAGGCAATGCAGGCAATGGAAAAATTAGTACAAATCCC\n[(0, 2603299, 50)]\ntime to align read: 1.7554612159729004\n"
     ]
    },
    {
     "name": "stdout",
     "output_type": "stream",
     "text": [
      "\nAligned to transcriptome\nTACAAGACCCAGGCTCCAAATTGAGGGCTTTGGGGTGATGGGGATCTTCT\nTACAAGACCCAGGCTCCAAATTGAGGGCTTTGGGGTGATGGGGATCTTCT\n[(0, 7866268, 50)]\ntime to align read: 1.2653300762176514\n"
     ]
    },
    {
     "name": "stdout",
     "output_type": "stream",
     "text": [
      "\nAligned to transcriptome\nGGATGGAGGTCGCCTGGTCACACTGTCATGCCCCTCTCTCCCTGAAAAAG\nGGATGGAGGTTGCCTGGTCACACTGTCATGTCCCTCTCTCCCTGAAAAAG\n[(0, 2263493, 50)]\ntime to align read: 1.5267059803009033\n"
     ]
    },
    {
     "name": "stdout",
     "output_type": "stream",
     "text": [
      "\nAligned to transcriptome\nGAAATACAATTCTCAGCTCGTGAGTACGGACATTATTTGATAAATACCGC\nGAAATACAATTATCAGCTCGTGAGTACGGACATAATTTGATAAATACAGC\n[(0, 2507350, 50)]\ntime to align read: 1.2545781135559082\n"
     ]
    },
    {
     "name": "stdout",
     "output_type": "stream",
     "text": [
      "\nAligned to transcriptome\nCTATCACCTGCAGAAGTGCCCTGTGGCGAGTATGGCTACTCTGCCAAGCA\nCTATCACCTGCAGAAGTGACCTGTGGCAAGTGTGGCTACTCTGCCAAGCA\n[(0, 8542913, 50)]\ntime to align read: 2.2013368606567383\n"
     ]
    },
    {
     "name": "stdout",
     "output_type": "stream",
     "text": [
      "\nAligned to transcriptome\nCAAGATAGACTCCTAGAAATACAATTATCAGCTCGTGAGTACGGACATAA\nCAAGATAGACTCCTAGAAATACAATTATCAGCTCGTGAGTACGGACATAA\n[(0, 2507335, 50)]\ntime to align read: 1.746838092803955\n"
     ]
    },
    {
     "name": "stdout",
     "output_type": "stream",
     "text": [
      "\nAligned to genome\nCAGCCCTCCAACATTGTTCTTAAAAAGTTCACCGCTATATGTTAGGTTAC\nCAGCCCTCCAACATTGTTGTTAAAAAGTCCACTGCTGTATGTTAGGTGAC\n[(0, 4016575, 50)]\ntime to align read: 1.1849441528320312\n"
     ]
    },
    {
     "name": "stdout",
     "output_type": "stream",
     "text": [
      "\nUnaligned\nTTCTAGTCCCTGAGACCCTAACTTGTAAGGTATTTTAGTAACATCACCGA\n[]\ntime to align read: 2.899317979812622\n"
     ]
    },
    {
     "name": "stdout",
     "output_type": "stream",
     "text": [
      "\nAligned to transcriptome\nTCAGAAGCTCTGGGGTGGAACCGAACAACCTGCATTTTAAGAAGCCTTCC\nTCAGAAGCTCTGGGGTGGAACCCAACAACCTGCATTTTAACAAGCCTTCC\n[(0, 2719113, 50)]\ntime to align read: 1.0692379474639893\n"
     ]
    },
    {
     "name": "stdout",
     "output_type": "stream",
     "text": [
      "\nAligned to transcriptome\nTAAAAAATTCATGAAAGTAGTTGTGTGAATTGTTTATGTTTAAAAGTGGT\nTAAAAAATTCATGAAAGTAGTTGTGTGAATTCTTTATGTTTAAAAGTGGT\n[(0, 3910511, 50)]\ntime to align read: 1.0781750679016113\n"
     ]
    },
    {
     "name": "stdout",
     "output_type": "stream",
     "text": [
      "\nUnaligned\nAAGGTCTCCTCGAACTGTAGAGACCCGGACAAGACACACGTCGATGCTCG\n[]\ntime to align read: 1.12837815284729\n"
     ]
    },
    {
     "name": "stdout",
     "output_type": "stream",
     "text": [
      "\nAligned to transcriptome\nGAAGAAATTAAATTTCTACGAAAAATGGCAAATTATATTAGTGATCAGAT\nGAAGAAATTAAATTTCTAATAAAAATGGCAAATTATATTACTGAGCAGAT\n[(0, 3910349, 50)]\ntime to align read: 1.1010088920593262\n"
     ]
    },
    {
     "name": "stdout",
     "output_type": "stream",
     "text": [
      "\nAligned to transcriptome\nTTGGCATGAACCCGTAGATCCGATCTTGTGGTGAAGTGGCCCGCGCAAGT\nTTGGCATAAACCCGTAGATCCGATCTTGTGGTGAAGTGGACCGCACAAGC\n[(0, 5488092, 50)]\ntime to align read: 1.074476718902588\n"
     ]
    },
    {
     "name": "stdout",
     "output_type": "stream",
     "text": [
      "\nAligned to transcriptome\nCAGATTGATATCTGTGACAAAGAAAATAGAACACCTTTGATACAGCTGTC\nCAGATTGATATCTGTGACAAAGAAAATAGAACACCTTTGATACAGCTGTC\n[(0, 3017706, 45), (45, 3017914, 5)]\ntime to align read: 1.0398998260498047\n"
     ]
    },
    {
     "name": "stdout",
     "output_type": "stream",
     "text": [
      "\nAligned to transcriptome\nGCATAAACCCGTAGATCCGATCTTGTGGTGAAGTGGACCGCACAAGCTCT\nGCATAAACCCGTAGATCCGATCTTGTGGTGAAGTGGACCGCACAAGCTCG\n[(0, 5488095, 50)]\ntime to align read: 1.0658349990844727\n"
     ]
    },
    {
     "name": "stdout",
     "output_type": "stream",
     "text": [
      "\nAligned to transcriptome\nGTAGAGCTACGCAGCTGGATCTAGGGACTCACTGGCCTCTCCATCGGCCC\nGTAGAGCTCCGCAGCTGGATCTAGGGACTCACTGGCCTCTCCATCGGCCC\n[(0, 2775789, 50)]\ntime to align read: 1.0561909675598145\n"
     ]
    },
    {
     "name": "stdout",
     "output_type": "stream",
     "text": [
      "\nUnaligned\nGACCACGCTAAGCTGAGTGCTGGGTCCCACGTCTGCGGGTACCGTGGATT\n[]\ntime to align read: 1.0491809844970703\n"
     ]
    },
    {
     "name": "stdout",
     "output_type": "stream",
     "text": [
      "\nUnaligned\nCTGGTTTCTGTGTGTCCTTTTTCTTCCTAGCTCCTCCCATCTCTCTGATT\n[]\ntime to align read: 1.0310189723968506\n"
     ]
    },
    {
     "name": "stdout",
     "output_type": "stream",
     "text": [
      "\nAligned to transcriptome\nCTGTGACAGAAATATCTGAGAAATTTGCATGGCTACCAGAGAGGCCTTCA\nCTGTGAAAGAAACATCTGAGAAATTTGCATGGCCACAAGAAAGGCCTTCA\n[(0, 2009686, 50)]\ntime to align read: 1.057851791381836\n"
     ]
    },
    {
     "name": "stdout",
     "output_type": "stream",
     "text": [
      "\nAligned to transcriptome\nGTTGCCTGCCCAAACTGTCATGTCCCTCTCTCCCTGAAAAAGAGACACAT\nGTTGCCTGGTCACACTGTCATGTCCCTCTCTCCCTGAAAAAGAGACACAT\n[(0, 2263501, 50)]\ntime to align read: 1.1943690776824951\n"
     ]
    },
    {
     "name": "stdout",
     "output_type": "stream",
     "text": [
      "\nAligned to transcriptome\nTGATTTGTTAAGACATTTTGCCAAATGCACAGATGCACACGTTTCAAGAA\nTGATTTGTTAAGACATTTTGCCAAATGCACAGATGCACAGGGTTTAAAGA\n[(0, 3910680, 42), (42, 3913085, 8)]\ntime to align read: 1.5891070365905762\n"
     ]
    },
    {
     "name": "stdout",
     "output_type": "stream",
     "text": [
      "\nUnaligned\nATATACATAATAAAATGTCTTGTTCAGCCGGAAAATATCACAATCCTAAA\n[]\ntime to align read: 1.5236120223999023\n"
     ]
    },
    {
     "name": "stdout",
     "output_type": "stream",
     "text": [
      "\nAligned to transcriptome\nGGTTCCAGCGTGTCGGCAGCACACACCTCAGCTCCAGAGGAGAAATGCTG\nGGTTCCAGCGTGTGGGCAGCTGGCACCTCAGCTCCAGAGGAGAAAGGCTG\n[(0, 2962575, 50)]\ntime to align read: 1.5455811023712158\n"
     ]
    },
    {
     "name": "stdout",
     "output_type": "stream",
     "text": [
      "\nAligned to transcriptome\nTCAGCTCTGTGGTTTCTCCAAATGTGGAAAACTGGACTGCCAAATTTGTG\nTCACCTCTGTGGTTTCCCCAAATGTGGAAAACTGGACTGCATAATTTGTG\n[(0, 8294230, 50)]\ntime to align read: 3.08868670463562\n"
     ]
    },
    {
     "name": "stdout",
     "output_type": "stream",
     "text": [
      "\nAligned to transcriptome\nCTTTTGAAGCGTTGGTTGTGCAACATGCGGTCAGGCATTATTGTGGAGAA\nCTTTTGAAGCGTTGGTTGTGCAACATGCAGTCAGGCATTATTGTGGAGAA\n[(0, 5475355, 50)]\ntime to align read: 1.8811728954315186\n"
     ]
    },
    {
     "name": "stdout",
     "output_type": "stream",
     "text": [
      "\nUnaligned\nGTTGCCTAATGCACAGATGCATAGGTCTAAAGAAAAATATATTGAAAAGG\n[]\ntime to align read: 1.360943078994751\n"
     ]
    },
    {
     "name": "stdout",
     "output_type": "stream",
     "text": [
      "\nAligned to transcriptome\nTCTTCTACTTAAAGAGTGAGTAAATATGCCTGCTGATTGATGATAGTTTC\nTCTTCTACTTAAAGAGTGACGAAATATGCCTGCTGATTGATGATAGTTTG\n[(0, 8570266, 50)]\ntime to align read: 1.2450838088989258\n"
     ]
    },
    {
     "name": "stdout",
     "output_type": "stream",
     "text": [
      "\nUnaligned\nCTCTTCGTCAAACGTCTCATTCTGATCAAGAAATGTCTCATTGATGTTGT\n[]\ntime to align read: 1.3627309799194336\n"
     ]
    },
    {
     "name": "stdout",
     "output_type": "stream",
     "text": [
      "\nAligned to transcriptome\nATTTCAGGATTGGTGCCGACACCTTCACCTGTGCTCACACTGTCTGCTTC\nATTTCAGGATTGGTGCCGACATCTTCACCTGTGCTCACACTGTCTGCTTC\n[(0, 6759547, 50)]\ntime to align read: 1.4792640209197998\n"
     ]
    },
    {
     "name": "stdout",
     "output_type": "stream",
     "text": [
      "\nUnaligned\nCTTGAGAAATGGAATTCTGCCCTTTGAAAGGTCTCGAGTACAAAGGGTCT\n[]\ntime to align read: 1.3536558151245117\n"
     ]
    },
    {
     "name": "stdout",
     "output_type": "stream",
     "text": [
      "\nUnaligned\nTATCAATTCAAACCCACATGCTAATGCATATTACAGATGGACCTTGAAAA\n[]\ntime to align read: 1.1961946487426758\n"
     ]
    },
    {
     "name": "stdout",
     "output_type": "stream",
     "text": [
      "\nAligned to transcriptome\nGTAAGCCATTCTCAATGGGCAGTCAGCCTGCAGCTGTGGATCTTACGATT\nGTAAGCCATTCTCAAGGGGCAGTCAGCCTGCAGATGTGGATCTTATGATT\n[(0, 2950560, 50)]\ntime to align read: 1.2019519805908203\n"
     ]
    },
    {
     "name": "stdout",
     "output_type": "stream",
     "text": [
      "\nUnaligned\nGCTGGATTCAGTGGTACATATAGTAAACTTAAGCCACCGTTGAGAACATC\n[]\ntime to align read: 1.0789759159088135\n"
     ]
    },
    {
     "name": "stdout",
     "output_type": "stream",
     "text": [
      "\nUnaligned\nCAAAGAAGAATCCAATGAAGACTGTAACTTCAAAGGAGTTATTCTGGAAA\n[]\ntime to align read: 3.9204459190368652\n"
     ]
    },
    {
     "name": "stdout",
     "output_type": "stream",
     "text": [
      "\nUnaligned\nTTCATTAGGCACAACGGGATGTCATGGCCACCCCTAACTACTGGGGACGC\n[]\ntime to align read: 1.5131828784942627\n"
     ]
    },
    {
     "name": "stdout",
     "output_type": "stream",
     "text": [
      "\nAligned to genome\nAATCAAAGGAGGGGGGGTATGATGGCGAGTCATGATGACACCGAACATGC\nAATCAAAGGAGGGGGGGTATGATGACGAGGTACGATGACACCGAACATGC\n[(0, 4796747, 33), (33, 4798781, 17)]\ntime to align read: 1.1256699562072754\n"
     ]
    },
    {
     "name": "stdout",
     "output_type": "stream",
     "text": [
      "\nAligned to transcriptome\nTCTCATTACACCAAGTTCCTCTGTGTTCATCTGCTTCCTAAAGGCCATTA\nTCTCATTACACCAAGTTCTTCTGTGTTCATCTGCTTCCTCAAGGCCATTA\n[(0, 8252409, 50)]\ntime to align read: 1.0233678817749023\n"
     ]
    },
    {
     "name": "stdout",
     "output_type": "stream",
     "text": [
      "\nUnaligned\nTACAGATGTGCTCACCTCTATGGTATCCCCAAATGTGGAAAACTTGACTG\n[]\ntime to align read: 4.544596910476685\n"
     ]
    },
    {
     "name": "stdout",
     "output_type": "stream",
     "text": [
      "\nAligned to transcriptome\nTCCTTTCAATTAATCCCTGAAGTTAATATTTTTGGACCACAGTTGACCTG\nTCCTTTCAATTAATCCCTGAAGTTAATATTTTTGGACCACAGTTGACCTG\n[(0, 2495101, 22), (22, 2495980, 28)]\ntime to align read: 1.2868459224700928\n"
     ]
    },
    {
     "name": "stdout",
     "output_type": "stream",
     "text": [
      "\nAligned to transcriptome\nTCTGATGGTGATTTCTGGATAGGGCTTGGGAGGAATGGAGATGGGCAACT\nTCTGATGGTGATTTCTGGATAGGGCTTTGGAGGAATGGAGATGGGCAAAC\n[(0, 7205711, 50)]\ntime to align read: 1.176281213760376\n"
     ]
    },
    {
     "name": "stdout",
     "output_type": "stream",
     "text": [
      "\nAligned to transcriptome\nCCCAGGCTCCAAATAGAGGGCTTTGGGGTGATGGGGATCCTCTTCTGCTT\nCCCAGGCTCCAAATTGAGGGCTTTGGGGTGATGGGGATCTTCTTCTGCTT\n[(0, 7866275, 50)]\ntime to align read: 1.5213918685913086\n"
     ]
    },
    {
     "name": "stdout",
     "output_type": "stream",
     "text": [
      "\nAligned to transcriptome\nAGTTACAGGTCAAGCTCTTTGTTCTACTCTTTTGCCCCTTCTCACTTTTG\nAGTTACAGGTCAAGCTCTTTGTTCTACTCTTTTGCCCCTTCTCACTTTTG\n[(0, 6525839, 50)]\ntime to align read: 1.1610429286956787\n"
     ]
    },
    {
     "name": "stdout",
     "output_type": "stream",
     "text": [
      "\nUnaligned\nCAGAGGAAAGACTTTGAACGCACTCCTCTGAGTCCGACTCTCCCAGCTGC\n[]\ntime to align read: 1.3384959697723389\n"
     ]
    },
    {
     "name": "stdout",
     "output_type": "stream",
     "text": [
      "\nAligned to genome\nAGCGTGCAGAATGAGATCATCCTGACCGGGTAATAATTAGGTGATAAGGA\nAGCGTGCAGCAGGACATCTTCCTGACCTGGTAATAATTAGGTGAGAAGGA\n[(0, 2673194, 50)]\ntime to align read: 1.4779601097106934\n"
     ]
    },
    {
     "name": "stdout",
     "output_type": "stream",
     "text": [
      "\nAligned to transcriptome\nGAAGCCATAAAACAGCCTGAGCAGAAGTACAGGGAGGAGCGGAGGTAGAG\nGAAGCCATAAAACTGGCTGAGCAGAAGCACAGGGAGGAGCGGAGGTAGAG\n[(0, 2741805, 50)]\ntime to align read: 1.2538042068481445\n"
     ]
    },
    {
     "name": "stdout",
     "output_type": "stream",
     "text": [
      "\nAligned to genome\nGGCTGAGTCAGGAGAATCGCTTTAACCCTGGAGGTGGAGCTTGCAGTGAG\nGGCTGAGTCAGGAGAATCGCTTGAACCCTGGAGGTGAAGCTTGCAGTGAG\n[(0, 6455495, 50)]\ntime to align read: 1.312662124633789\n"
     ]
    },
    {
     "name": "stdout",
     "output_type": "stream",
     "text": [
      "\nUnaligned\nAGGGATGTGATAGACAACATCCAGAGAAACCGGCAAGAGTATATATCCGA\n[]\ntime to align read: 1.4854538440704346\n"
     ]
    },
    {
     "name": "stdout",
     "output_type": "stream",
     "text": [
      "\nAligned to transcriptome\nATTATTTCATTTAAAGAATATGCTGTGCTAATAATGGAGTGAGACATGCG\nATTATTTCATTTAAAGAATATGCTGTGCTAATAATGGAGTGAGACATGCT\n[(0, 7215195, 50)]\ntime to align read: 1.5110793113708496\n"
     ]
    },
    {
     "name": "stdout",
     "output_type": "stream",
     "text": [
      "\nAligned to transcriptome\nTGACTCAAACCAATCAAGGTATTCATCAGGAGTTATTATGTATGAAAAAA\nTGACTCAAAACAATCAAGGTATTCAACAGGAGTTATTATGTATGAAAAAA\n[(0, 2603124, 50)]\ntime to align read: 1.1620659828186035\n"
     ]
    },
    {
     "name": "stdout",
     "output_type": "stream",
     "text": [
      "\nAligned to transcriptome\nTTCGATGGCAACGTGGTGGACATGGAGCTGTGAGGCCAAAGAATCTTTGT\nTTCGATGGCAACGTGGCGGACATGGAGCTGTGAGGCCAAAGAATCTTTTT\n[(0, 6742498, 50)]\ntime to align read: 1.0890848636627197\n"
     ]
    },
    {
     "name": "stdout",
     "output_type": "stream",
     "text": [
      "\nAligned to transcriptome\nCAAAGATAGTGAGTTATCTCCAGTAAATGTTCAAAGTTACAGGTCAAGCT\nCAAAGATAGTGAGTTATCTCCATTAAATGTTCACAGTTACAGGTCAAGCT\n[(0, 6525805, 50)]\ntime to align read: 1.0604629516601562\n"
     ]
    },
    {
     "name": "stdout",
     "output_type": "stream",
     "text": [
      "\nAligned to transcriptome\nTATGGCAGATTCCTGGCTGTCGGAGTACTTGAAGTAAAAAATTTGAAAAC\nTATGGCAGATTCCTGGCTGTGGGAGTACTTGAAGTAAAAAATTTGAAAAC\n[(0, 4760176, 34), (34, 4767698, 16)]\ntime to align read: 1.0520060062408447\n"
     ]
    },
    {
     "name": "stdout",
     "output_type": "stream",
     "text": [
      "\nAligned to transcriptome\nCAGGAGGGTCCCGTTGTCCGGTCATTTCTCACCTTGGTGAGACTTTATCA\nCAGGAGGGTCCCGTTCTCCTGTCATTTCTCACTTTAGTGAGACTTTATCA\n[(0, 3301668, 50)]\ntime to align read: 1.1040940284729004\n"
     ]
    },
    {
     "name": "stdout",
     "output_type": "stream",
     "text": [
      "\nAligned to transcriptome\nGTGCTCACCTCTGTGGTTGCCCCAAATGTGGAAGACTGGACTGCATAATT\nGTGCTCACCTCTGTGGTTTCCCCAAATGTGGAAAACTGGACTGCATAATT\n[(0, 8294226, 50)]\ntime to align read: 1.0698890686035156\n"
     ]
    },
    {
     "name": "stdout",
     "output_type": "stream",
     "text": [
      "\nUnaligned\nGATTGAGGCAGCTGAAAATTGTGTACAGCCGATTCAGATATGGATTCCAC\n[]\ntime to align read: 1.2521638870239258\n"
     ]
    },
    {
     "name": "stdout",
     "output_type": "stream",
     "text": [
      "\nAligned to transcriptome\nGGCTCCGGTGCAAGGATGACACACAAATTTGTGATGTCTTCCATACTTTT\nGGCTCCTGTGCAAGGATGACACACAAATTTGTGATGTGTTCCATACTTTT\n[(0, 6380597, 50)]\ntime to align read: 1.1118030548095703\n"
     ]
    },
    {
     "name": "stdout",
     "output_type": "stream",
     "text": [
      "\nUnaligned\nAAATTCACACACCTACAGAATGAAGAAATGTTGGTGGGCAGATCGCCCTT\n[]\ntime to align read: 1.2523269653320312\n"
     ]
    },
    {
     "name": "stdout",
     "output_type": "stream",
     "text": [
      "\nAligned to transcriptome\nGGAATAAGTTGTAGAAAATGCACTAGAATCAACAAACATGGGGACTAATT\nGGAATAAGTTGTGGAAAATGCACTAGAATCAACAAACATGGGGACTAATT\n[(0, 5579964, 8), (8, 5589230, 42)]\ntime to align read: 1.2825489044189453\n"
     ]
    },
    {
     "name": "stdout",
     "output_type": "stream",
     "text": [
      "\nUnaligned\nCACCTGCTTTGGCGGCACATATCCTAAAATTGGAAGAATACATAGAAAGT\n[]\ntime to align read: 5.357763051986694\n"
     ]
    },
    {
     "name": "stdout",
     "output_type": "stream",
     "text": [
      "\nAligned to transcriptome\nCAATGCTTGCAGACAATCGAAGCCATAAAACTGGCTGAGCAGAAGCACAG\nCAATGGTTGCAGAAAATCGAAGCCATAAAACTGGCTGAGCAGAAGCACAG\n[(0, 2741787, 50)]\ntime to align read: 1.3847360610961914\n"
     ]
    },
    {
     "name": "stdout",
     "output_type": "stream",
     "text": [
      "\nAligned to transcriptome\nTCATTATAGGCATTAAACTGCATTCAATTGCATACATGGTGATCCTTGTG\nTCATTATAGGAATTACACTGCATTCAATTGCACACATGGTGATCCTTGTG\n[(0, 2425926, 50)]\ntime to align read: 1.1758511066436768\n"
     ]
    },
    {
     "name": "stdout",
     "output_type": "stream",
     "text": [
      "\nAligned to transcriptome\nATCCGGAATTCTTTTGATAGTGGCATGAGTGTTAAGTAAATTGCACACCT\nATCCTGAACTCTTTTGATAGTGGCATGAGTGTTAAGTAAATTGCACACCT\n[(0, 4016692, 50)]\ntime to align read: 2.1137571334838867\n"
     ]
    },
    {
     "name": "stdout",
     "output_type": "stream",
     "text": [
      "\nAligned to transcriptome\nCCTATTATGGACAACTAGCAAACAATGATACATCAGAAACGGAGATGTGC\nCCTATTATGGACATCTAGCAAACAATGATACATCAGAAAAGGAGATGTGC\n[(0, 5579902, 50)]\ntime to align read: 1.6492009162902832\n"
     ]
    },
    {
     "name": "stdout",
     "output_type": "stream",
     "text": [
      "\nAligned to transcriptome\nACCGCCCTGAAGACGCCTGCTGTCCTCTGGTATGTGAAGCTACGCAGAGT\nACCGCCCTGAAGACGCCTGCTCTCCTCTGGTCTGTGAAGCTACGCAGGGT\n[(0, 3019882, 50)]\ntime to align read: 1.246046781539917\n"
     ]
    },
    {
     "name": "stdout",
     "output_type": "stream",
     "text": [
      "\nUnaligned\nTAAACGTGGTGTGGAAGGTAGCCTGTTACAGTGCTGGATTCATAAATGGG\n[]\ntime to align read: 1.5284500122070312\n"
     ]
    },
    {
     "name": "stdout",
     "output_type": "stream",
     "text": [
      "\nAligned to genome\nTTTGGATGCCATCAGTGATACTATCCATCTGTAAGCATATATATAGCGCC\nTTTGGATGCCATCAGTGATGCTATCCTTCTGGAAGCATATATCTACCGCC\n[(0, 9337703, 50)]\ntime to align read: 1.6026480197906494\n"
     ]
    },
    {
     "name": "stdout",
     "output_type": "stream",
     "text": [
      "\nUnaligned\nGATAATCAGAAGCTGGATCAAGTGTTATTTTACATTCTGGAGACAATATT\n[]\ntime to align read: 3.970731735229492\n"
     ]
    },
    {
     "name": "stdout",
     "output_type": "stream",
     "text": [
      "\nAligned to transcriptome\nCATTGCTAGTGGGGCTGGGAGGATGGCTGGGCTCCAGTGTCTCCGGAGTG\nCATTGCTAGTGGTGCTGGGAGGATGGCTGGGCTCCAGTGTCTCTGGAGTG\n[(0, 2474763, 50)]\ntime to align read: 1.8547930717468262\n"
     ]
    },
    {
     "name": "stdout",
     "output_type": "stream",
     "text": [
      "\nAligned to transcriptome\nTATTGCTAATACTGGGATAATCTTGGAATAATGTTTGCAATGGGATTAAA\nTATTGCTAATACTGGGATACTCTTGGAATAATGTTTGCAATGGGATTAAA\n[(0, 3910465, 50)]\ntime to align read: 1.7776153087615967\n"
     ]
    },
    {
     "name": "stdout",
     "output_type": "stream",
     "text": [
      "\nUnaligned\nACTCTATGCAAAGAAGAATGCAAAGAAGATTTTAACATCAAAGGACTAAG\n[]\ntime to align read: 1.8307349681854248\n"
     ]
    },
    {
     "name": "stdout",
     "output_type": "stream",
     "text": [
      "\nUnaligned\nGGTTAACTGCTTAGTTTGTTGTGGCAGGGGACTTAGTTCACACTTTTCCC\n[]\ntime to align read: 2.1239211559295654\n"
     ]
    },
    {
     "name": "stdout",
     "output_type": "stream",
     "text": [
      "\nUnaligned\nGAACTGGCAGATTGTTGACACTCAACAAATTTTTATTGACTCAAATGCAT\n[]\ntime to align read: 2.2314541339874268\n"
     ]
    },
    {
     "name": "stdout",
     "output_type": "stream",
     "text": [
      "\nAligned to transcriptome\nAGCTTAGCCGGATGAGTGCAGCCCAGAGACAGCAGTTTCTCGAAGAAGAA\nAGCTCAGCCGGATGAGTGCAGCCCAGAGACAGCAGTTTCTCGAGGAAGAA\n[(0, 2741977, 50)]\ntime to align read: 1.8219928741455078\n"
     ]
    },
    {
     "name": "stdout",
     "output_type": "stream",
     "text": [
      "\nAligned to transcriptome\nCCGCCCGTGACGACAAGGGGGTAGCTGCTCGAGAAGCTGCTCAGCAGCCG\nCCGCCCGTGACGGCAAGGGGGCAGCTGCTCCAGAAGCTGCTCAGCAGCCG\n[(0, 2711362, 50)]\ntime to align read: 1.5687239170074463\n"
     ]
    },
    {
     "name": "stdout",
     "output_type": "stream",
     "text": [
      "\nUnaligned\nTAGTTTAGAAGGTCTATGTGTCCTACTAAGTGCTCTAGCTCTTCACCCAT\n[]\ntime to align read: 1.4345240592956543\n"
     ]
    },
    {
     "name": "stdout",
     "output_type": "stream",
     "text": [
      "\nAligned to transcriptome\nCTGGTAATAATTAGGTGACATAGATGGTTGGGAGCGGTCGGCGTAACTCC\nCTGGTAATAATTAGGTGAGAAGGATGGTTGGGGGCGGTCGGCGTAACTCA\n[(0, 2673220, 50)]\ntime to align read: 1.3440160751342773\n"
     ]
    },
    {
     "name": "stdout",
     "output_type": "stream",
     "text": [
      "\nAligned to transcriptome\nGGACCAACAACAAGACTGTCTTGTGTGTGTCCTTTTTCTTCCTAGCTCCT\nGGACCAGCAACAAGACTGTCTTGTGTGTGTCCTTTTTCTTCCTAGCTCCT\n[(0, 6759748, 50)]\ntime to align read: 1.2517921924591064\n"
     ]
    },
    {
     "name": "stdout",
     "output_type": "stream",
     "text": [
      "\nAligned to transcriptome\nTTTGCTAGTCTGCCTTACTTGGATGGTGGAAGAACAGAGAGCAGTGTTAG\nTTTCTCAAAACTATATTATGTTGGCATATTATTGTTTGTTTAGATTACAA\n[(0, 6759832, 50)]\ntime to align read: 1.257727861404419\n"
     ]
    },
    {
     "name": "stdout",
     "output_type": "stream",
     "text": [
      "\nAligned to transcriptome\nCCCTTTCTGTTAACTAATGCAAGCTGCAGGGATTACAGTTTTCAGTGCAT\nCCCTTTCTGTTGACTAATGCCAGCTGCAGGGATTACAGTTTTCAGTGCAT\n[(0, 5475413, 50)]\ntime to align read: 2.393319845199585\n"
     ]
    },
    {
     "name": "stdout",
     "output_type": "stream",
     "text": [
      "\nAligned to transcriptome\nGGCTGCTGTGCAAGGATGACACATAAATTTGTGATGTGTTCCATACTGTT\nGGCTCCTGTGCAAGGATGACACACAAATTTGTGATGTGTTCCATACTTTT\n[(0, 6380597, 50)]\ntime to align read: 1.8658716678619385\n"
     ]
    },
    {
     "name": "stdout",
     "output_type": "stream",
     "text": [
      "\nAligned to transcriptome\nCTCGGCTGCCCGCGGCTGATGCACAAGCCGGTGACACTGCCCTGCGGGCT\nCTCGGCTGCCCGCGGCTGCTGCACAAGCCGGTGACACTGCCCTGCGGGCT\n[(0, 2654272, 50)]\ntime to align read: 1.4166767597198486\n"
     ]
    },
    {
     "name": "stdout",
     "output_type": "stream",
     "text": [
      "\nUnaligned\nCAAATCAAATAACTCGGGCTTCCGCGATTGTTTTACTGCCCGGCTCTGCC\n[]\ntime to align read: 1.4953017234802246\n"
     ]
    },
    {
     "name": "stdout",
     "output_type": "stream",
     "text": [
      "\nAligned to transcriptome\nCAAAGTTACTGGAGGTGCAGCCAACATAAGCCCCAGAAAAAGATTCTGAA\nCAAAGTTACTGGAGGTGCAGCCAACAGAAGCCCCAGAAAAAGATCCTGAA\n[(0, 2476918, 50)]\ntime to align read: 1.226027011871338\n"
     ]
    },
    {
     "name": "stdout",
     "output_type": "stream",
     "text": [
      "\nAligned to transcriptome\nACAGTAGGACTTTACTAGAAGTGAGGATTAGAGAACAGAATCTTTCCAAT\nACAGTAGGACTTTACTAGAAGTGAGGATTGGAGAACAGAATCTTTCCAAA\n[(0, 8079639, 50)]\ntime to align read: 1.108827829360962\n"
     ]
    },
    {
     "name": "stdout",
     "output_type": "stream",
     "text": [
      "\nAligned to transcriptome\nTCAATACACATTAATGAAGTACTTATCATGTAGTAGCCACTATGTTACCT\nTCAATAAACATTAATGAAGTACTTATCATGTATTAGCCACTATGTTACCT\n[(0, 8252662, 50)]\ntime to align read: 1.1135947704315186\n"
     ]
    },
    {
     "name": "stdout",
     "output_type": "stream",
     "text": [
      "\nUnaligned\nATGCCGCCTGGATGCATGCACAGTGGTACCAGTTTTGTGTCTGGCTTTGC\n[]\ntime to align read: 1.1785531044006348\n"
     ]
    },
    {
     "name": "stdout",
     "output_type": "stream",
     "text": [
      "\nUnaligned\nTTGAAACACACTTCAAACTCAGGTGACCACAGTAAATCCTACCCTTTAAG\n[]\ntime to align read: 1.185412883758545\n"
     ]
    },
    {
     "name": "stdout",
     "output_type": "stream",
     "text": [
      "\nUnaligned\nTGAGTTCCTGTAGCCAAATAAATAAATATCTAATTTAGGCATTATCGAAT\n[]\ntime to align read: 1.2859578132629395\n"
     ]
    },
    {
     "name": "stdout",
     "output_type": "stream",
     "text": [
      "\nAligned to transcriptome\nGGCAGTGGTTTTCTGCGTTGAGCATTGCTGCCACACACCTTTCGTCTTTA\nGGCAGTGGTTCTCTGCGTTGAGCATTGCTGCCACACACCTTTGGTCTTTA\n[(0, 8252493, 50)]\ntime to align read: 1.1050477027893066\n"
     ]
    },
    {
     "name": "stdout",
     "output_type": "stream",
     "text": [
      "\nAligned to transcriptome\nTTATCAACAGGAACCAGCCAAAAAAAGTGGTCACTCTTTATCCATGTAAA\nTTATCAACAGGAACCAGCCAAAGACAGTGGTCACTCTTTATCCATGTAAA\n[(0, 2720669, 50)]\ntime to align read: 1.1884040832519531\n"
     ]
    },
    {
     "name": "stdout",
     "output_type": "stream",
     "text": [
      "\nAligned to transcriptome\nCCACCCGAGTGAGCTTTCACGAGGCACGCCTGGCTTGTGAGAGTGAGGGA\nCCAGCCGAGTGAGCTTTCAGGAGGCACGCCTGGCTTGTGAGAGTGAGGGA\n[(0, 7205574, 50)]\ntime to align read: 1.1719298362731934\n"
     ]
    },
    {
     "name": "stdout",
     "output_type": "stream",
     "text": [
      "\nAligned to transcriptome\nGTTAGGACATTCAGAAATTCATTTCATTTCAAACCTAACTAAATAACTTA\nGTTAGGACATTCAGAAATTCATTTCATTTCAATCCTAACTAAATAAATTA\n[(0, 5589573, 50)]\ntime to align read: 1.199148178100586\n"
     ]
    },
    {
     "name": "stdout",
     "output_type": "stream",
     "text": [
      "\nAligned to transcriptome\nTTGGGATGATGGGGATCTTCTTCTGGTTGTTTCTTTTTTACTTAAACCAC\nTTGGGGTGATGGGGATCTTCTTCTGCTTGTTTCTTTTTTACTTAAACCAC\n[(0, 7866297, 50)]\ntime to align read: 1.2004179954528809\n"
     ]
    },
    {
     "name": "stdout",
     "output_type": "stream",
     "text": [
      "\nUnaligned\nCGTAACCTCTATTTATGGTGCTATTCGCGATATTGGGAGTACTCACTACG\n[]\ntime to align read: 1.1577632427215576\n"
     ]
    },
    {
     "name": "stdout",
     "output_type": "stream",
     "text": [
      "\nAligned to transcriptome\nTGTGTCCATAAATATTGTTTTATGGAAACACAGTCATCCCTCTTCGTGTC\nTGTGTCCATAAATAATGTTTTATTGAAACACAGTCATGCCTCTTCATGTC\n[(0, 7598855, 50)]\ntime to align read: 1.11897611618042\n"
     ]
    },
    {
     "name": "stdout",
     "output_type": "stream",
     "text": [
      "\nAligned to transcriptome\nTCAAATCATCACCAATCTCTGCTGGTTCTTCGTCAGTTAGATAGCATTGA\nTCAAATCATCACCAATCTCTGCTGGTTCTTCGTCAGTTAGATAGCATTGA\n[(0, 2950968, 16), (16, 2954200, 34)]\ntime to align read: 1.1268510818481445\n"
     ]
    },
    {
     "name": "stdout",
     "output_type": "stream",
     "text": [
      "\nUnaligned\nTCATGAGTCACAGGTGCCCTGTGACCCCATGGGGAAGCCAGAAAGGTTTT\n[]\ntime to align read: 1.3017189502716064\n"
     ]
    },
    {
     "name": "stdout",
     "output_type": "stream",
     "text": [
      "\nAligned to transcriptome\nATCCAGAGTCAAGCTCGGTCTCGGAGGAGTTTATAAATTTTGTACTTTTC\nATCCAGAATCAAGCTCGGCCTCGCAGGAGTTTATAACTTTTGTACTTTTC\n[(0, 6560798, 50)]\ntime to align read: 1.177673101425171\n"
     ]
    },
    {
     "name": "stdout",
     "output_type": "stream",
     "text": [
      "\nUnaligned\nGAGTGCTGCTCAGACCATCCCGCTGTTAGTGAGCTACTGTCTGATCATGT\n[]\ntime to align read: 1.148695707321167\n"
     ]
    },
    {
     "name": "stdout",
     "output_type": "stream",
     "text": [
      "\nAligned to transcriptome\nCCACAGTAGGACTTTACTAGAAGTGAGGATTGGAGAACAGAATCTTTCCA\nCCACAGTAGGACTTTACTAGAAGTGAGGATTGGAGAACAGAATCTTTCCA\n[(0, 8079637, 50)]\ntime to align read: 1.1700170040130615\n"
     ]
    },
    {
     "name": "stdout",
     "output_type": "stream",
     "text": [
      "\nUnaligned\nCCAATTTTAAGTGTGCCTAGTGTAGAATTCAGATTCTACATTTCGCTATG\n[]\ntime to align read: 1.221458911895752\n"
     ]
    },
    {
     "name": "stdout",
     "output_type": "stream",
     "text": [
      "\nAligned to transcriptome\nATTATAGGAACTAAGATTAGACAAAGAGTCAAGGATTTCTTAATGGAGCT\nATTATAGGAACTAAGATTAGAAAAAGAGTCAAGGAATTCTTAATGGAGCT\n[(0, 8250662, 50)]\ntime to align read: 1.2033770084381104\n"
     ]
    },
    {
     "name": "stdout",
     "output_type": "stream",
     "text": [
      "\nAligned to transcriptome\nTATCTCCATTAAAAGTTCACAGTTACAGTTCAAGCTCTTTGTTCTACTCT\nTATCTCCATTAAATGTTCACAGTTACAGGTCAAGCTCTTTGTTCTACTCT\n[(0, 6525819, 50)]\ntime to align read: 1.1058080196380615\n"
     ]
    },
    {
     "name": "stdout",
     "output_type": "stream",
     "text": [
      "\nAligned to transcriptome\nAATCAAATTGAAAACAAAGAAAAAGGTCTTATCCAGTTCCACTGAAGAGG\nAATCAAATTGAAAAAAAAGAAAAAGGTCTTATCCAGTTCCACTGAAGAGG\n[(0, 8688947, 50)]\ntime to align read: 3.034304141998291\n"
     ]
    },
    {
     "name": "stdout",
     "output_type": "stream",
     "text": [
      "\nAligned to transcriptome\nGTATCTGTAACACCTGTCCCCTGAGTATACACCAGCCCAGCACCATCAGC\nGTATCTGTAACACCTGTCTCCTGAGTATACACCAGGCCAGCACCATCAGC\n[(0, 2425618, 50)]\ntime to align read: 1.099242925643921\n"
     ]
    },
    {
     "name": "stdout",
     "output_type": "stream",
     "text": [
      "\nAligned to transcriptome\nGGAGGATGAGGATGATGTGTTCAGTAAAAGACTGTTCTTCTGTTTCGGGT\nGGAGGATGAGGATGATGTGTTCATTAAAAGACTGTTCTTCTGTTTAGGGT\n[(0, 9305774, 50)]\ntime to align read: 1.109224796295166\n"
     ]
    },
    {
     "name": "stdout",
     "output_type": "stream",
     "text": [
      "\nAligned to transcriptome\nGTGCAGAGATTAGCTTGGCCCCTGTGCAAGGATAACACACAAATTTGTGA\nGTGCAGAGATTAGCGTGGCTCCTGTGCAAGGATGACACACAAATTTGTGA\n[(0, 6380581, 50)]\ntime to align read: 1.1392178535461426\n"
     ]
    },
    {
     "name": "stdout",
     "output_type": "stream",
     "text": [
      "\nAligned to transcriptome\nGAGCACCTGGACTCTAGGGCGGCTTTAAAACTTCAACAAAAAGTCTTCAT\nGAGCACCTGGACTCTAGGGCGGCTTTAAAACTTCAACAAAGAGTCATCAT\n[(0, 3723336, 50)]\ntime to align read: 1.1723592281341553\n"
     ]
    },
    {
     "name": "stdout",
     "output_type": "stream",
     "text": [
      "\nUnaligned\nGTTTCCCTAAATGTGGCAAACTGGACTGCATCATTTGTGGTATCGGGGAA\n[]\ntime to align read: 1.3180508613586426\n"
     ]
    },
    {
     "name": "stdout",
     "output_type": "stream",
     "text": [
      "\nAligned to transcriptome\nATAAAACAAAAAGGCAATATAAAAAAAAAACCCTCAAAAAACAAAAAAAC\nATAAAACAAAAAGGCAATATAAAAAAAAAACCCTCAAAAAACAAAAAAAC\n[(0, 6655666, 50)]\ntime to align read: 1.1811389923095703\n"
     ]
    },
    {
     "name": "stdout",
     "output_type": "stream",
     "text": [
      "\nAligned to transcriptome\nGGCGCCAGGCCGGCAGCAAGGAGAAAAACAAGCCCTGGCCCTCAGCACTC\nGGCGCCAGGCCTGCAGCAGGGAGAGCAACAAGCCCTGGCCCTCAGAGCTC\n[(0, 2741932, 50)]\ntime to align read: 1.1234760284423828\n"
     ]
    },
    {
     "name": "stdout",
     "output_type": "stream",
     "text": [
      "\nUnaligned\nACCATAGACGCGGTACGGGAAACCGGCGTCTTGATTGGCAGATCTACGAG\n[]\ntime to align read: 2.2035088539123535\n"
     ]
    },
    {
     "name": "stdout",
     "output_type": "stream",
     "text": [
      "\nAligned to transcriptome\nTTGGCAACTTCTGCTATAGTTGTTAGAGGATCAGCTTCTCAATTGGTCGT\nTTGGCAACTTCTCATATAGTTGTAAGAGGATCAGCTTCTCAATTGGTCAT\n[(0, 5475855, 50)]\ntime to align read: 1.1101391315460205\n"
     ]
    },
    {
     "name": "stdout",
     "output_type": "stream",
     "text": [
      "\nAligned to transcriptome\nAGCGTGGTTCCTGTGCAAGGATGACACCCAAATTTGTGATGTGTTCCATA\nAGCGTGGCTCCTGTGCAAGGATGACACACAAATTTGTGATGTGTTCCATA\n[(0, 6380592, 50)]\ntime to align read: 1.0871648788452148\n"
     ]
    },
    {
     "name": "stdout",
     "output_type": "stream",
     "text": [
      "\nAligned to genome\nAAAGAAAAACAGATGCTAAAAATTTCTTATGAAAACAGCAATCCAGACAA\nAAAGAAAAACAGATGCTAAAAATCTCTTCTGAAAACAGCAATCCAGGTAA\n[(0, 2571829, 50)]\ntime to align read: 1.19256591796875\n"
     ]
    },
    {
     "name": "stdout",
     "output_type": "stream",
     "text": [
      "\nUnaligned\nAGAAAGAGAGAAAGAGTGTGGTCGTCCCTCCATATCTACAGTTTCGCATT\n[]\ntime to align read: 1.270719051361084\n"
     ]
    },
    {
     "name": "stdout",
     "output_type": "stream",
     "text": [
      "\nUnaligned\nACAACAAAAAAAGGACAGATTTGATAAAGCCAACCAATGCCAGGAAGATG\n[]\ntime to align read: 1.1772139072418213\n"
     ]
    },
    {
     "name": "stdout",
     "output_type": "stream",
     "text": [
      "\nUnaligned\nTCAATTGTGCAGCATCGTTTCAGAGAGCTAAATACAGAAATTAGCTGGGC\n[]\ntime to align read: 1.1644999980926514\n"
     ]
    },
    {
     "name": "stdout",
     "output_type": "stream",
     "text": [
      "\nUnaligned\nCTGTTGCAGAATTCACATTCTACATTGCACTATGTGCTGGTAAATTCACT\n[]\ntime to align read: 1.122331142425537\n"
     ]
    },
    {
     "name": "stdout",
     "output_type": "stream",
     "text": [
      "\nAligned to transcriptome\nGCCCCATTTCACAGGATCGCGGAGATCAACTTCAACATGTACACTGACGA\nGCCCCATTTGACAGGATCGCGGAGATCAACTTCAACATCGACACTGACGA\n[(0, 2960362, 50)]\ntime to align read: 1.2429368495941162\n"
     ]
    },
    {
     "name": "stdout",
     "output_type": "stream",
     "text": [
      "\nUnaligned\nTGATGAATATCACAAAAGTAGCAAAGGCTTTAGCTATTCCCTACACCTTA\n[]\ntime to align read: 1.111131191253662\n"
     ]
    },
    {
     "name": "stdout",
     "output_type": "stream",
     "text": [
      "\nAligned to transcriptome\nTTAGCAGGGCCTTTGCACAAGGATGACATGCAAATTCATACAGCATTCCA\nTTAGCAGGGCCTTTGCACAAGGATGACATGCAAATTCATAAAGCATTCCA\n[(0, 4563332, 50)]\ntime to align read: 1.1981470584869385\n"
     ]
    },
    {
     "name": "stdout",
     "output_type": "stream",
     "text": [
      "\nAligned to transcriptome\nTTGCCCAAGCCAAACTGGACATGATAAAACCTGAAGAAGTAAACTTGGAG\nTTGCTCAAGCCAAACTGGAAATGATAAAACCTGAAGAAGTAAACTTGGAG\n[(0, 4815285, 50)]\ntime to align read: 1.0167160034179688\n"
     ]
    },
    {
     "name": "stdout",
     "output_type": "stream",
     "text": [
      "\nAligned to transcriptome\nAAGAGACGAGGAATAGGAAGAACAAATCTCACAGGGAATATGCCTGATAC\nAAGAGACGAGGAATAGGAAGAACAAATCTCACAGGGAATATGCTTGATAG\n[(0, 3219538, 50)]\ntime to align read: 1.0913231372833252\n"
     ]
    },
    {
     "name": "stdout",
     "output_type": "stream",
     "text": [
      "\nAligned to transcriptome\nAGAGTGCTGGGATTACAGGAGTGAGCCACCGCGCCTGACCATTACACATG\nAGAGTGCTGGGATTACAGGAGTGAGCCACCGCGCCTGACCATTACCCATG\n[(0, 10697467, 50)]\ntime to align read: 1.5108609199523926\n"
     ]
    },
    {
     "name": "stdout",
     "output_type": "stream",
     "text": [
      "\nUnaligned\nAAAGGGGCAACTGCCTATCTGCCATGCAAATTTACGCTTAGTCGCGAAGA\n[]\ntime to align read: 1.2797410488128662\n"
     ]
    },
    {
     "name": "stdout",
     "output_type": "stream",
     "text": [
      "\nUnaligned\nCCTTCATCTAATGCTAATGTGACCCAGACCAATCTACCCAAGGGCAGCAA\n[]\ntime to align read: 2.2954611778259277\n"
     ]
    },
    {
     "name": "stdout",
     "output_type": "stream",
     "text": [
      "\nAligned to transcriptome\nCAGCAGGAAAGACCCTTGATGCACAGTTTGAAAATGTTGTATGAATTACA\nCAGCAGGAAAAACCCTTGATGCACAGTTTGAAAATGATGAATGAATTACA\n[(0, 2725428, 50)]\ntime to align read: 2.1937599182128906\n"
     ]
    },
    {
     "name": "stdout",
     "output_type": "stream",
     "text": [
      "\nUnaligned\nTGTTTACTCCCAATGGCCAGCCAATATGCTCCTCATCTCCAAAGTTCATG\n[]\ntime to align read: 1.6401290893554688\n"
     ]
    },
    {
     "name": "stdout",
     "output_type": "stream",
     "text": [
      "\nAligned to transcriptome\nCCTGCGAATTCCGCCCAATGGGGAAGCTTGACTGCTTAGTTTGTTGGGGC\nCCTACGATTTCCGCCCAATGGGGAAGCTTGACTGCTTAGTTTGTTGTGGC\n[(0, 5668080, 50)]\ntime to align read: 1.8253979682922363\n"
     ]
    },
    {
     "name": "stdout",
     "output_type": "stream",
     "text": [
      "\nUnaligned\nTGAGGCTCCCTGTGGATTGCCATGGCTGCTAGGAGAGCGTCGTGGAGGCT\n[]\ntime to align read: 2.1162707805633545\n"
     ]
    },
    {
     "name": "stdout",
     "output_type": "stream",
     "text": [
      "\nAligned to genome\nGAGAGTATGCTGTTTCTAGTAATCATCATGTATTTGTGAATTACTTTCTG\nGAGAGTATGCTGTTTCTAGTCATCATCATGTGTTTGTGAATTACTTTCTG\n[(0, 2569264, 33), (33, 2571807, 17)]\ntime to align read: 1.3838858604431152\n"
     ]
    },
    {
     "name": "stdout",
     "output_type": "stream",
     "text": [
      "\nUnaligned\nCGGTTTATGTGTCCGTGTGGTGACTTCACACGCCATAATGGCACTGGTGG\n[]\ntime to align read: 1.6703081130981445\n"
     ]
    },
    {
     "name": "stdout",
     "output_type": "stream",
     "text": [
      "\nAligned to transcriptome\nATTGAAACACAGTCATGCCTCTTCAGGTCTATAATGTCTGTTTTTCCCTC\nATTGAAACACAGTCATGCCTCTTCATGTCTATATTGTCTGTGGTTCCCTC\n[(0, 7598876, 50)]\ntime to align read: 2.024738073348999\n"
     ]
    },
    {
     "name": "stdout",
     "output_type": "stream",
     "text": [
      "\nAligned to transcriptome\nGCTAAGGTAGCCGCCCCTAATCTTAGTCGAAAGGGAGTAATTCCTGTGAT\nGCTAAGGTAGCTGCCCCTAATCTAAGTCGAATGGGCGTGATTCCTGTGAT\n[(0, 2626029, 50)]\ntime to align read: 1.403486967086792\n"
     ]
    },
    {
     "name": "stdout",
     "output_type": "stream",
     "text": [
      "\nAligned to transcriptome\nTCACAGTTACAGGTCAAGCTCTTTGTTCTACTCTTTTGCCCCTTCTCACT\nTCACAGTTACAGGTCAAGCTCTTTGTTCTACTCTTTTGCCCCTTCTCACT\n[(0, 6525835, 50)]\ntime to align read: 1.2945339679718018\n"
     ]
    },
    {
     "name": "stdout",
     "output_type": "stream",
     "text": [
      "\nAligned to genome\nGTAACGAATTTACAACTGTCAGATCTTGGCACATATCAGTGCATAGTGAA\nGTAACGAATTTACAACTGTCAGATATTGGCACATATCAGTGCAAAGTGAA\n[(0, 6500856, 50)]\ntime to align read: 1.544443130493164\n"
     ]
    },
    {
     "name": "stdout",
     "output_type": "stream",
     "text": [
      "\nAligned to transcriptome\nGACACATTTGCCTTTGTGGAAGGCAATACATACAATTGATCTATGTATAC\nGACACATTTGCCTTTGTGCAAGGCAATACATACATTTGATCTATGTATAC\n[(0, 2263544, 50)]\ntime to align read: 1.1742160320281982\n"
     ]
    },
    {
     "name": "stdout",
     "output_type": "stream",
     "text": [
      "\nUnaligned\nAATTCTTTCAATATCCTAAGAACATCTACATTGCACTAAAATAAAGTCCC\n[]\ntime to align read: 2.667186975479126\n"
     ]
    },
    {
     "name": "stdout",
     "output_type": "stream",
     "text": [
      "\nAligned to transcriptome\nTTGCACACATGGTGATCCTTGTGTCCAGGCATGAGAGGCAATCTCAGCAC\nTTGCACACATGGTGATCCTTGTGTCCAGGCATGAGAGGCAATCTCAGCAC\n[(0, 2425953, 50)]\ntime to align read: 1.444530963897705\n"
     ]
    },
    {
     "name": "stdout",
     "output_type": "stream",
     "text": [
      "\nAligned to genome\nGCTGTGAACACGCGTCCGGGCTCGGAGCCCCCCCGCCGCCGCTGCCCATA\nGCTGTGAACACCCGTCCGGGCTAGGAGGCCCCCCGCCCCCGCTGCCCACA\n[(0, 2963762, 50)]\ntime to align read: 2.017641067504883\n"
     ]
    },
    {
     "name": "stdout",
     "output_type": "stream",
     "text": [
      "\nUnaligned\nAGTTTGCAGCCCATGACAACAACATCCGGCCCCATTTGACAGAATCGCGG\n[]\ntime to align read: 1.5598030090332031\n"
     ]
    },
    {
     "name": "stdout",
     "output_type": "stream",
     "text": [
      "\nAligned to transcriptome\nGAACACCTGACACGTCTGAAAGCTTGGTGAAAAGAACACCTGACGAGGTG\nGAACACCTGACACGGCTGAAAGCTTGGTGGAAAGAACACCTGACGAATAG\n[(0, 2000843, 50)]\ntime to align read: 1.4535648822784424\n"
     ]
    },
    {
     "name": "stdout",
     "output_type": "stream",
     "text": [
      "\nUnaligned\nTCTCACAAAATTAAGAGGAAATAAGAAAAAGGAGAGAAAAAAGAAATTAG\n[]\ntime to align read: 2.111170768737793\n"
     ]
    },
    {
     "name": "stdout",
     "output_type": "stream",
     "text": [
      "\nUnaligned\nAATGCAACAGGAATCTAACAAACTTGAGGGTTAAAAGATGTTGAAAGAAG\n[]\ntime to align read: 1.1930599212646484\n"
     ]
    },
    {
     "name": "stdout",
     "output_type": "stream",
     "text": [
      "\nAligned to transcriptome\nACAATCTGCTCAATAAATGGCTCATTGATATTGTGTAAAATAAGTGAAGA\nACAATCTGATCAAGAAATGGCTCATTGATGTTGTGTAAAATAAGTGAAGA\n[(0, 5475679, 50)]\ntime to align read: 1.1148102283477783\n"
     ]
    },
    {
     "name": "stdout",
     "output_type": "stream",
     "text": [
      "\nAligned to transcriptome\nGTAATAATTAGGTGACAAGGATGGTTGGGGGCGGTCGGCGTGACTGAGGG\nGTAATAATTAGGTGAGAAGGATGGTTGGGGGCGGTCGGCGTAACTCAGGG\n[(0, 2673223, 50)]\ntime to align read: 1.1214849948883057\n"
     ]
    },
    {
     "name": "stdout",
     "output_type": "stream",
     "text": [
      "\nAligned to transcriptome\nTTTTGCCATTATTCCTGGTGGATGATATGGAAGAATAGGATATACTAGCT\nTTTTGCCATTATTACTGGTGGATGAAATGGAAGAAAAGGATATACTAGCT\n[(0, 4826889, 50)]\ntime to align read: 1.1393609046936035\n"
     ]
    },
    {
     "name": "stdout",
     "output_type": "stream",
     "text": [
      "\nAligned to transcriptome\nAGGGCCTTTGCACAAGGATGACATGCAAATTCATAGAGCATTCCACCTTT\nAGGGCCTTTGCACAAGGATGACATGCAAATTCATAAAGCATTCCACCTTT\n[(0, 4563337, 50)]\ntime to align read: 1.097085952758789\n"
     ]
    },
    {
     "name": "stdout",
     "output_type": "stream",
     "text": [
      "\nUnaligned\nGTATGGGCCTCCCTAAGGTGGCAATTTACTTCATCAAAACCAGCAAGGGA\n[]\ntime to align read: 1.2955341339111328\n"
     ]
    },
    {
     "name": "stdout",
     "output_type": "stream",
     "text": [
      "\nUnaligned\nATCACTTGAACCCTGGAGGTGAAGCTTGCAGTGAGCCGGGATCGCGCCAC\n[]\ntime to align read: 1.7620198726654053\n"
     ]
    },
    {
     "name": "stdout",
     "output_type": "stream",
     "text": [
      "\nAligned to transcriptome\nGGTAGTTTTCCCAGGGCAAGCCGTATCCACTGAATTCCAGATGTACTCAG\nGGTAGTTTTCCCAGGGCAAGCCTTATCCACTGCATTCCAGATGTGCTCAC\n[(0, 8294184, 50)]\ntime to align read: 1.681602954864502\n"
     ]
    },
    {
     "name": "stdout",
     "output_type": "stream",
     "text": [
      "\nAligned to transcriptome\nAGGTCAGGAGTTCAAGACCAGCCGGGTCAACATGGCAAAACCACGTCACT\nAGGTCAGGAGTTCAAGACCAGCCTGGTCAACATGGCAAAACCCCGTCTCT\n[(0, 3895623, 50)]\ntime to align read: 1.9125876426696777\n"
     ]
    },
    {
     "name": "stdout",
     "output_type": "stream",
     "text": [
      "\nUnaligned\nTCCACAGTAACAGGTCAAGCTCTCTGTTCTACTCTTTTGTCCCTGCTCAC\n[]\ntime to align read: 3.107290029525757\n"
     ]
    },
    {
     "name": "stdout",
     "output_type": "stream",
     "text": [
      "\nAligned to transcriptome\nAAGATGAGTGGCATGTGTATAATCCAGTGCTGCAGCTGCCTTACTATGAA\nAAGATGAGTGGCATGTGTATAATCCAGTGCTGCAGCTTCCTTACTATGAA\n[(0, 3173531, 6), (6, 3175880, 44)]\ntime to align read: 1.5821428298950195\n"
     ]
    },
    {
     "name": "stdout",
     "output_type": "stream",
     "text": [
      "\nUnaligned\nGTCACGTGGCAAGGAACTGTAGTGGCCACTGAGTACTAAGAGTGCTGAGT\n[]\ntime to align read: 3.7465970516204834\n"
     ]
    },
    {
     "name": "stdout",
     "output_type": "stream",
     "text": [
      "\nAligned to transcriptome\nAGCCAAGAATTTGTATCCAGTGACACTAATCATGATAAATGAAGGAAAAA\nAGCCAAGAATTTGTATCCAGTGAAACTAATCTTCATAAATGAAGGAAAAA\n[(0, 6655467, 50)]\ntime to align read: 1.2547028064727783\n"
     ]
    },
    {
     "name": "stdout",
     "output_type": "stream",
     "text": [
      "\nAligned to transcriptome\nAAAACTTGGGGCTACAAAGATGTTGGAAGAAGTATAATTAAATCTTAAAA\nAAAACTTGAGGCTAAAAAGATGTTGGAAGAAGTAATATTAAATCTTAAAA\n[(0, 2603190, 50)]\ntime to align read: 1.2054929733276367\n"
     ]
    },
    {
     "name": "stdout",
     "output_type": "stream",
     "text": [
      "\nAligned to transcriptome\nTCAAATGGTAAGAAGAGAAAAAGGTCTTATCCAGTTCCACTGAATAGGAC\nTCAAATTGAAAAAAAAGAAAAAGGTCTTATCCAGTTCCACTGAAGAGGAC\n[(0, 8688949, 50)]\ntime to align read: 1.9967961311340332\n"
     ]
    },
    {
     "name": "stdout",
     "output_type": "stream",
     "text": [
      "\nAligned to transcriptome\nGTTGATCTTACGACCTGCTTTTTAATCCAAGTAAGCCATTCTCCAGGGGC\nGTTGATCTTACGACCTGCTTTTTAATCCAAGTAAGCCATTCTCAAGGGGC\n[(0, 2950088, 12), (12, 2950542, 38)]\ntime to align read: 2.5332047939300537\n"
     ]
    },
    {
     "name": "stdout",
     "output_type": "stream",
     "text": [
      "\nAligned to transcriptome\nGCTACGCAGGGTGGGGCTTGTTTCAGTTAGAGGGAGACCGCGTGGTACTA\nGCTACGCAGGGTGGGGCTTGTTTCAGTTTGAGGGAGACCGCGTGGGACTA\n[(0, 3019920, 50)]\ntime to align read: 2.9994890689849854\n"
     ]
    },
    {
     "name": "stdout",
     "output_type": "stream",
     "text": [
      "\nAligned to transcriptome\nTCTCATTCTGACAGTCCAACTCACTCAGACACACCATGAGACACTTTTGT\nTCTCATTGTGACAGCCCAACTCACTCAGAAACACCATGAGACACTTTTGG\n[(0, 2069411, 50)]\ntime to align read: 1.659003734588623\n"
     ]
    },
    {
     "name": "stdout",
     "output_type": "stream",
     "text": [
      "\nUnaligned\nACACATTGTTGAAGACACATTGGTTAAGTACAGAAATATAAATTGGCTCT\n[]\ntime to align read: 1.9301598072052002\n"
     ]
    },
    {
     "name": "stdout",
     "output_type": "stream",
     "text": [
      "\nUnaligned\nCCGTTTAGGGTATAAATGATTTATTACTAAAATGTGTGAATAAAACAAAT\n[]\ntime to align read: 3.318049907684326\n"
     ]
    },
    {
     "name": "stdout",
     "output_type": "stream",
     "text": [
      "\nAligned to transcriptome\nAAACGTATGGCAAGTACACATTGGTGAAGACAAATTGGTGAAGTATAAAA\nAAACGTATGGAAAGTACACATTGGTGAAGACACATTGGTGAAGTACAAAA\n[(0, 2603239, 50)]\ntime to align read: 1.4245591163635254\n"
     ]
    },
    {
     "name": "stdout",
     "output_type": "stream",
     "text": [
      "\nAligned to genome\nAAAAAAGGACAGCTCTGATAAAGCCATACAATGCCAGGTAGATGAATGTG\nAAAAAAGGACAGCTCTGATAAAGCCATACAATGCCAGGAAGATGAATGTG\n[(0, 2564214, 23), (23, 2564397, 27)]\ntime to align read: 1.4656448364257812\n"
     ]
    },
    {
     "name": "stdout",
     "output_type": "stream",
     "text": [
      "\nUnaligned\nCGGCGGGCCGGCCCTGGAGCCCGGCGCGCCTCGCGACCTGCTCGGCTGCC\n[]\ntime to align read: 1.4740359783172607\n"
     ]
    },
    {
     "name": "stdout",
     "output_type": "stream",
     "text": [
      "\nAligned to transcriptome\nGGGAGAGAGTTGGCTACAATCACTAGTAATGTAGCTACAGAAGTGACATC\nGGGAGAGAGTTGGCTACAATCTCTAGTAATGTAGCTACAGAAATGACATC\n[(0, 5593759, 50)]\ntime to align read: 1.5149681568145752\n"
     ]
    },
    {
     "name": "stdout",
     "output_type": "stream",
     "text": [
      "\nUnaligned\nTACCAGGTCTTCAGAGAAGTTTCACCTGCCCTCCTCTCCCTGTAGAATTA\n[]\ntime to align read: 1.793792963027954\n"
     ]
    },
    {
     "name": "stdout",
     "output_type": "stream",
     "text": [
      "\nAligned to transcriptome\nTAACTTGTGCTCATATCTTCCTCTATGGTAGTTATGTGTTCACATCCCTG\nTAACTTGTGCTCATATCTTCCTCTATTGTAGTTATGTGTTCACATCCCTG\n[(0, 5589356, 50)]\ntime to align read: 1.4849610328674316\n"
     ]
    },
    {
     "name": "stdout",
     "output_type": "stream",
     "text": [
      "\nAligned to transcriptome\nCTGACCTGGTAATAATTAGGTCAGAAGGATGGTTGGGGGCGGTCGGCGTA\nCTGACCTGGTAATAATTAGGTGAGAAGGATGGTTGGGGGCGGTCGGCGTA\n[(0, 2673215, 50)]\ntime to align read: 1.5651700496673584\n"
     ]
    },
    {
     "name": "stdout",
     "output_type": "stream",
     "text": [
      "\nAligned to transcriptome\nTATCCAGAACTGAAAGGCCGAGTACATTTTAAGAGAAATGATCTCAAATC\nTATCCAGAACTGAAAGGCCGAGTACATTTTAAGAGAAATGATCTCAAATC\n[(0, 2625269, 50)]\ntime to align read: 5.880569219589233\n"
     ]
    },
    {
     "name": "stdout",
     "output_type": "stream",
     "text": [
      "\nUnaligned\nTATGCAAACAAGAATGCAATGAAGATTGTAACATCAAAGGACTTATTCTG\n[]\ntime to align read: 1.429053783416748\n"
     ]
    },
    {
     "name": "stdout",
     "output_type": "stream",
     "text": [
      "\nAligned to genome\nGCCAAAGCACGTCTTATATATGGTGCTGATATTGAATCAACAAACAAGGT\nGCCAAAGCACTGCTCTTATATGGTGCTGATATTGAATCAAAAAACAAGGT\n[(0, 2564522, 50)]\ntime to align read: 1.2249820232391357\n"
     ]
    },
    {
     "name": "stdout",
     "output_type": "stream",
     "text": [
      "\nAligned to transcriptome\nCAGGCGCTGCGCGTGAACGTGGTGCTAAGCAGCAAGCTGGAGAGGTGCTT\nCAGGCGCTGCGCGTGAACGTGGTGCTGAGCCGCAAGCTGGAGAGGTGCTT\n[(0, 2654364, 50)]\ntime to align read: 1.1408321857452393\n"
     ]
    },
    {
     "name": "stdout",
     "output_type": "stream",
     "text": [
      "\nAligned to transcriptome\nGAACTGAAAATGAACTATACTAATGGCATCGCACTTAACAACTTTCAATG\nGAACTGAAAATGAACTATACTAATGGCATCGCACTTAACAACTTTCAATG\n[(0, 3999536, 50)]\ntime to align read: 1.2024438381195068\n"
     ]
    },
    {
     "name": "stdout",
     "output_type": "stream",
     "text": [
      "\nAligned to transcriptome\nATTTATTTATTTTTATACCACCATTTTAAACTAGTTCTCTTCTTCTACTT\nATTTATGTATTTTTATACCACCAGTTTTAACTAGTTCTCTTCTTCTACTT\n[(0, 8570226, 50)]\ntime to align read: 2.0009286403656006\n"
     ]
    },
    {
     "name": "stdout",
     "output_type": "stream",
     "text": [
      "\nAligned to transcriptome\nAGAGATGCGAAGAAGAGCAGGCCACACACCACTTTTATTGGCCATAAGGA\nAGAGATGCGAAGAAGAGCTGGCCACACACCACTTTTATTGGCCATAAGGA\n[(0, 1987407, 17), (17, 1994163, 33)]\ntime to align read: 2.1829519271850586\n"
     ]
    },
    {
     "name": "stdout",
     "output_type": "stream",
     "text": [
      "\nAligned to transcriptome\nCCTAACTTGTGAGGTTTATTAGTAACATCACAAGTCAGGCTCTTGGGACC\nCCTAACTTGTGAGGTATTTTAGTAACATCACAAGTCAGGCTCTTGGGACC\n[(0, 5539262, 50)]\ntime to align read: 2.009180784225464\n"
     ]
    },
    {
     "name": "stdout",
     "output_type": "stream",
     "text": [
      "\nAligned to transcriptome\nTGCAAAGCTAGTTAGGACATTGAGAACTTCATTTCATTTCAATCATAACT\nTGCAAAGCTAGTTAGGACATTCAGAAATTCATTTCATTTCAATCCTAACT\n[(0, 5589563, 50)]\ntime to align read: 1.4369499683380127\n"
     ]
    },
    {
     "name": "stdout",
     "output_type": "stream",
     "text": [
      "\nAligned to transcriptome\nGCGGGCCTGGCGGCCAAGGCCGAGGCCGTGGCTGCAGGCTGGATGCTCGA\nGCGGGCCTGGTGGCCAAGGCCGAGGCCGTGGCTGCAGGCTGGATGCTCGA\n[(0, 2725220, 50)]\ntime to align read: 1.3140971660614014\n"
     ]
    },
    {
     "name": "stdout",
     "output_type": "stream",
     "text": [
      "\nUnaligned\nTGCTCCTGTGCGGAGTAGTGGTTGCGCCAGAAGGTTGAGTATCACTAATC\n[]\ntime to align read: 1.2573590278625488\n"
     ]
    },
    {
     "name": "stdout",
     "output_type": "stream",
     "text": [
      "\nUnaligned\nTGGCATAAAGCCGTAGAACCGATCTTGTGGAGAAGTGGACCGCACCAGCT\n[]\ntime to align read: 1.4382011890411377\n"
     ]
    },
    {
     "name": "stdout",
     "output_type": "stream",
     "text": [
      "\nUnaligned\nTAAGTTCCTGCATAGCTTCAATGAGAAGCAGAGATCAGCCAAAGGACTCT\n[]\ntime to align read: 1.4487452507019043\n"
     ]
    },
    {
     "name": "stdout",
     "output_type": "stream",
     "text": [
      "\nUnaligned\nAGCAAGACAGCATAAACTAGCAAGGCAATATATGAGCTTTCAACCATCTA\n[]\ntime to align read: 1.3379361629486084\n"
     ]
    },
    {
     "name": "stdout",
     "output_type": "stream",
     "text": [
      "\nAligned to transcriptome\nGCAAGTGTGGCTACTCTGCCAAGGACAGGAGAAAGTATAACTGGAGTGCC\nGCAAGTGTGGCTACTCTGCCAAGCACAGGAGAAAGTATAACTGGAGTGCC\n[(0, 8542938, 50)]\ntime to align read: 1.394733190536499\n"
     ]
    },
    {
     "name": "stdout",
     "output_type": "stream",
     "text": [
      "\nAligned to transcriptome\nTGCGGAAGTGAAAAGTGTGTTGTGATGTATCGCCAACCAACTGCCAATCC\nTGCGGAAGTGAAAAGTGTGTTGTGATGTATCACCAACCAACTGCCAATCC\n[(0, 7205994, 50)]\ntime to align read: 2.4579339027404785\n"
     ]
    },
    {
     "name": "stdout",
     "output_type": "stream",
     "text": [
      "\nAligned to transcriptome\nTGAGGCGACCTTCTTCTCAGCCTGTGTGAAACAGACTGAAATGACTCTAG\nTGAGGCAACCTTCTTCTGACACTGTGTGAAACAGACTGAAAAGACTCTAA\n[(0, 6390728, 50)]\ntime to align read: 1.7158658504486084\n"
     ]
    },
    {
     "name": "stdout",
     "output_type": "stream",
     "text": [
      "\nUnaligned\nAATGGTCTAGAGTTACACCCTGGGAGTTAACTGTACAGCCTTCTAGCTTT\n[]\ntime to align read: 3.786065101623535\n"
     ]
    },
    {
     "name": "stdout",
     "output_type": "stream",
     "text": [
      "\nAligned to transcriptome\nAATGGGTATATTTGTGATATAGTGACAAACCAAGACAGGTGACTAGAAAA\nAATGGGGATATTTGTGATATACTGACAAACCAAGACAGGTGACTATAAAA\n[(0, 3092961, 50)]\ntime to align read: 1.7444748878479004\n"
     ]
    },
    {
     "name": "stdout",
     "output_type": "stream",
     "text": [
      "\nAligned to transcriptome\nAGTGCAGAGATTAGCGTGGCTCCTGTGCACGGATGACACACAAATGTGTG\nAGTGCAGAGATTAGCGTGGCTCCTGTGCAAGGATGACACACAAATTTGTG\n[(0, 6380580, 50)]\ntime to align read: 1.6874947547912598\n"
     ]
    },
    {
     "name": "stdout",
     "output_type": "stream",
     "text": [
      "\nAligned to genome\nCAGAGGAGATATCATAATCTCGAAGCTAGTTTTCCCTGGGCAAGCCATAT\nCAGAGGAGATATCATAATCACAAAGGTAGTTTTCCCAGGGCAAGCCTTAT\n[(0, 8294160, 50)]\ntime to align read: 1.9645440578460693\n"
     ]
    },
    {
     "name": "stdout",
     "output_type": "stream",
     "text": [
      "\nUnaligned\nTTTTTTTCTGTAAAAAAATCATCTACAGAACAGCAAAACTACAGGTGGAC\n[]\ntime to align read: 1.609138011932373\n"
     ]
    },
    {
     "name": "stdout",
     "output_type": "stream",
     "text": [
      "\nAligned to transcriptome\nAACTCTTTTATGATCCAGCTTTTCATGGAGTTCTACTTTATCATGAAATC\nAACTCTTTTATGATTCAGCTTTTCATGGAGTTCTACTTTATCATGAAATC\n[(0, 2495039, 50)]\ntime to align read: 1.6463069915771484\n"
     ]
    },
    {
     "name": "stdout",
     "output_type": "stream",
     "text": [
      "\nAligned to transcriptome\nGTGGGGGCCACCGAGGAGGATGAGGAGAACGCGGGCCTGGTGCCCAAGGC\nGTGGGGGCCCCCGAGGAGGAGGAGGAGGACGCGGGCCTGGTGGCCAAGGC\n[(0, 2725190, 50)]\ntime to align read: 1.4325649738311768\n"
     ]
    },
    {
     "name": "stdout",
     "output_type": "stream",
     "text": [
      "\nUnaligned\nTAGGATAAATTTGCTAGTCTGGCTTACATGGATGGTGGAAGAACCAAGCG\n[]\ntime to align read: 2.5911548137664795\n"
     ]
    },
    {
     "name": "stdout",
     "output_type": "stream",
     "text": [
      "\nAligned to transcriptome\nCTTCCCTCGCTGGCAAAAAGCGGCGGTGAAGGCCTGTGGGAACCCCGCCC\nCTTCCCTCCCCGGCAAAAAGCGGCGCTGAAGGCCTGTGGGACCCCCGCCC\n[(0, 6562148, 50)]\ntime to align read: 1.1963870525360107\n"
     ]
    },
    {
     "name": "stdout",
     "output_type": "stream",
     "text": [
      "\nAligned to transcriptome\nCACCCCTGACTTAACAACGAAACCCACGTGGACACCATCTGCACCGTCGG\nCACCCCTGACTTAACAACGAAACCTACGTGGACACCATCTGCACCATCGG\n[(0, 8195114, 50)]\ntime to align read: 1.0908169746398926\n"
     ]
    },
    {
     "name": "stdout",
     "output_type": "stream",
     "text": [
      "\nAligned to transcriptome\nGAAATGCAGAAGTGAAAGAGCAATATCATTCCATCCTGCTGAACTACGGG\nGAAATGCAGAAGTGAAAGAGCAGTATCACTCCATCCTGCTGAACTACGGG\n[(0, 8079577, 50)]\ntime to align read: 0.9249489307403564\n"
     ]
    },
    {
     "name": "stdout",
     "output_type": "stream",
     "text": [
      "\nUnaligned\nTTGGAGTTACACCCTGGGAGTGAAGTGTACAACCTTCTAGCTTTCCTTGG\n[]\ntime to align read: 0.9482879638671875\n"
     ]
    },
    {
     "name": "stdout",
     "output_type": "stream",
     "text": [
      "\nAligned to transcriptome\nCATAGTTTTGGATGTCAGCAGTACAAGTAGTCAACATTGATCTGAAGAGA\nCATAGTTTTGGATGTCAGCAGTACAAGTAGTGAAGATAGAGATGAAGAGA\n[(0, 8688824, 50)]\ntime to align read: 0.9343340396881104\n"
     ]
    },
    {
     "name": "stdout",
     "output_type": "stream",
     "text": [
      "\nAligned to transcriptome\nGTATTGTTGTAACATCACAAGTCAGGCTCTTGGGACCTAGGCAGAGGGGA\nGTATTTTAGTAACATCACAAGTCAGGCTCTTGGGACCTAGGCGGAGGGGA\n[(0, 5539275, 50)]\ntime to align read: 0.894611120223999\n"
     ]
    },
    {
     "name": "stdout",
     "output_type": "stream",
     "text": [
      "\nUnaligned\nTTGTCCTTATTCTCCCATAAGTCTCTACACCGCTGAAGTATGGGGTTAAT\n[]\ntime to align read: 2.6544649600982666\n"
     ]
    },
    {
     "name": "stdout",
     "output_type": "stream",
     "text": [
      "\nAligned to transcriptome\nCCTTCATGGCTCTGCGGTGTAAGCTAATGGAGGATGAGGATGTTGTGTTC\nCCTTCATGGCTCTGCGTTGCAAGCTCATGGAGGATGAGGATGATGTGTTC\n[(0, 9305746, 50)]\ntime to align read: 0.9981613159179688\n"
     ]
    },
    {
     "name": "stdout",
     "output_type": "stream",
     "text": [
      "\nUnaligned\nATATATATGGAAATTGGAAGGGGGCAGAGATTAGCGTGGCTCCTGTGCAA\n[]\ntime to align read: 1.0008537769317627\n"
     ]
    },
    {
     "name": "stdout",
     "output_type": "stream",
     "text": [
      "\nAligned to transcriptome\nTCAACAGATTAAATAAAGAAGCAGTGAGAAAGTGAGCCCTGAGATTTTCA\nTCAACAGATTGAATAAAGAAGCAGTGAGAAAGTGAGCCCTGAGATGTTCA\n[(0, 3217568, 24), (24, 3218487, 26)]\ntime to align read: 1.015082836151123\n"
     ]
    },
    {
     "name": "stdout",
     "output_type": "stream",
     "text": [
      "\nUnaligned\nACGTCGCAAGCTCATGGAGGATGAGGATGATGTGTTCATTAGAAGACTCT\n[]\ntime to align read: 0.9580750465393066\n"
     ]
    },
    {
     "name": "stdout",
     "output_type": "stream",
     "text": [
      "\nAligned to transcriptome\nACATACTCAGTAAATGGTAGCTATTATTGTCTTAGTTTAAGTTAATGCAA\nACATACTCAGTAAATGGTAGCTATTATTGTCTTAGTTTAAGTTATTGCAA\n[(0, 5558189, 50)]\ntime to align read: 1.0385849475860596\n"
     ]
    },
    {
     "name": "stdout",
     "output_type": "stream",
     "text": [
      "\nAligned to transcriptome\nCTGAACTGAAGGAGGAGAACCTGCAGGACTCCTGGGTTGGATTGCACTTT\nCTGAACTGCAGGAGGAGAACCTGCAGGACTCCTGGGTAGGATTGCACTTT\n[(0, 2069253, 50)]\ntime to align read: 0.9605748653411865\n"
     ]
    },
    {
     "name": "stdout",
     "output_type": "stream",
     "text": [
      "\nAligned to transcriptome\nATCTGTATTAATCAAAGTACGAACCATTTCAATCAACACAATTTTGCCAA\nATCTGTATTAATCAAAGTAAGAACCATTACAATCAACACAATTTTGCCAA\n[(0, 5475096, 50)]\ntime to align read: 1.3005330562591553\n"
     ]
    },
    {
     "name": "stdout",
     "output_type": "stream",
     "text": [
      "\nAligned to genome\nACCTGTGCTCATACTGTCTGCTTCCCCTCAGTCATAATCCTATTCTCGCT\nACCTGTGCTCACACTGTCTGCTTCCACTCACTCATAATCCTGTTCTCTCT\n[(0, 6759573, 50)]\ntime to align read: 1.7451117038726807\n"
     ]
    },
    {
     "name": "stdout",
     "output_type": "stream",
     "text": [
      "\nUnaligned\nTCAGGAATTACCCCGAAACCAGAAGAACATCGGAATTTGCCTTTTATACG\n[]\ntime to align read: 1.2268750667572021\n"
     ]
    },
    {
     "name": "stdout",
     "output_type": "stream",
     "text": [
      "\nUnaligned\nCGTTGATATATCTTCTCAAGATCGATTTGGACAGACGGCCAGAGAATATG\n[]\ntime to align read: 0.9983961582183838\n"
     ]
    },
    {
     "name": "stdout",
     "output_type": "stream",
     "text": [
      "\nAligned to transcriptome\nTCCTACCTTTTTATTATTATTATTAAAAGAGGGCTAAACCATGTTGTAAA\nTCCTACCTTTTTATTATTATTATTAAAAGAGGGCTAAACCATGTTGTAAA\n[(0, 6562840, 50)]\ntime to align read: 0.963068962097168\n"
     ]
    },
    {
     "name": "stdout",
     "output_type": "stream",
     "text": [
      "\nUnaligned\nTGGGGGACATGGAGCTGTGATGCCAAAAAATCTTTTTCTTGCACTTGTTG\n[]\ntime to align read: 1.2515511512756348\n"
     ]
    },
    {
     "name": "stdout",
     "output_type": "stream",
     "text": [
      "\nAligned to transcriptome\nAATATGTCTCTGGGCCTCAAAACAATCAAGGTATTCAACAGGGGGTATTA\nAATATGTCTGTTTGACTCAAAACAATCAAGGTATTCAACAGGAGTTATTA\n[(0, 2603112, 50)]\ntime to align read: 0.8874576091766357\n"
     ]
    },
    {
     "name": "stdout",
     "output_type": "stream",
     "text": [
      "\nAligned to transcriptome\nGTGAGGCATTTTAGTAACATCACAAGTCAGGCTCATGGGACCTAGGTGGA\nGTGAGGTATTTTAGTAACATCACAAGTCAGGCTCTTGGGACCTAGGCGGA\n[(0, 5539270, 50)]\ntime to align read: 0.9260599613189697\n"
     ]
    },
    {
     "name": "stdout",
     "output_type": "stream",
     "text": [
      "\nAligned to transcriptome\nGGTATCAAAAGCCAGGCGTGGGTTTGGATGCCATCAGTGATGCTATTCTT\nGGTATCAGAAGCCAGGCGTAGGTTTGGATGCCATCAGTGATGCTATCCTT\n[(0, 9337681, 50)]\ntime to align read: 0.9877278804779053\n"
     ]
    },
    {
     "name": "stdout",
     "output_type": "stream",
     "text": [
      "\nAligned to transcriptome\nAACAACCAAGAGACTCTTACCTTTATCAGATGACTGCTGCACCTCGTAAT\nAACAACCAAGTGACTCTGACCTTTATCAGATGACAGCTCCACTTCCTAAT\n[(0, 3176021, 50)]\ntime to align read: 0.9774200916290283\n"
     ]
    },
    {
     "name": "stdout",
     "output_type": "stream",
     "text": [
      "\nUnaligned\nTTGAACCAGCCTTCCGGATGACTCTGAAGCATGCTCCATACTGACAACTG\n[]\ntime to align read: 2.465773105621338\n"
     ]
    },
    {
     "name": "stdout",
     "output_type": "stream",
     "text": [
      "\nUnaligned\nGTGGGTTGTATGGATTAGAGATACACCCTGGGAGTTAACTGTACAACGTT\n[]\ntime to align read: 1.1586189270019531\n"
     ]
    },
    {
     "name": "stdout",
     "output_type": "stream",
     "text": [
      "\nAligned to transcriptome\nTCTCCACAAGAATTCAAACAAGGAGAAGATGCAGAATTGGTTTGCCGAAT\nTCTCCACAAGAATTCAAACAAGGAGAAGATGCAGAAGTGGTTTGCCGAGT\n[(0, 10235294, 50)]\ntime to align read: 1.111872911453247\n"
     ]
    },
    {
     "name": "stdout",
     "output_type": "stream",
     "text": [
      "\nAligned to transcriptome\nATGCACTAGCATCAACAAACATTGGGACTAATTCAACCCGGATATCATGT\nATGCACTAGAATCAACAAACATGGGGACTAATTCAACTCGGATATCATGT\n[(0, 5589239, 50)]\ntime to align read: 1.171523094177246\n"
     ]
    },
    {
     "name": "stdout",
     "output_type": "stream",
     "text": [
      "\nAligned to transcriptome\nGTTATTATGTATGATAAAATACAACGGGAATGTAAAAAACTTGAGATTAG\nGTTATTATGTATGAAAAAATACAACAGGAATGTAAAAAACTTGAGGCTAA\n[(0, 2603155, 50)]\ntime to align read: 0.9381387233734131\n"
     ]
    },
    {
     "name": "stdout",
     "output_type": "stream",
     "text": [
      "\nUnaligned\nGGGCCGCCGGGCGATCTGTAAGCAATCGTTCCCGACGTCCAAGAAAACGG\n[]\ntime to align read: 0.9114680290222168\n"
     ]
    },
    {
     "name": "stdout",
     "output_type": "stream",
     "text": [
      "\nAligned to transcriptome\nTGGTAATACTTAGGTGAGAAGGATGGTCGGGGGCGGTCGGCGTAACTCAG\nTGGTAATAATTAGGTGAGAAGGATGGTTGGGGGCGGTCGGCGTAACTCAG\n[(0, 2673221, 50)]\ntime to align read: 1.110799789428711\n"
     ]
    },
    {
     "name": "stdout",
     "output_type": "stream",
     "text": [
      "\nAligned to transcriptome\nGAAGAAGTAATATTAAATCTTAAAAAACGTATGGCAAGTACACGTTGGTG\nGAAGAAGTAATATTAAATCTTAAAAAACGTATGGAAAGTACACATTGGTG\n[(0, 2603215, 50)]\ntime to align read: 1.0426928997039795\n"
     ]
    },
    {
     "name": "stdout",
     "output_type": "stream",
     "text": [
      "\nAligned to genome\nGGTAAAGTCCCCAGAAAGGATCTCATCGTCATGCTCAGGGACACTGACAG\nGGTAAAGTCCCCAGAAAGGATCTCATCGTCATGCTCAGGGACACTGACAT\n[(0, 2559675, 50)]\ntime to align read: 2.1194889545440674\n"
     ]
    },
    {
     "name": "stdout",
     "output_type": "stream",
     "text": [
      "\nAligned to transcriptome\nCAGACTTTTCCTAGGCCGTGAGACCCTAACTTGTGAGGTATTTTAGTAAC\nCAGACTTTTCCTAGTCCCTGAGACCCTAACTTGTGAGGTATTTTAGTAAC\n[(0, 5539238, 50)]\ntime to align read: 0.9418470859527588\n"
     ]
    },
    {
     "name": "stdout",
     "output_type": "stream",
     "text": [
      "\nUnaligned\nGACGAACAGAAAAAAGAAAAACTCAAATTGAAAAAAAAGAAAAGGGTCTT\n[]\ntime to align read: 1.3340320587158203\n"
     ]
    },
    {
     "name": "stdout",
     "output_type": "stream",
     "text": [
      "\nAligned to transcriptome\nGATTTGAACAAGACGAGAATGGAATACACTATATGAAATCCATAAAAATT\nGATTTGAACAAGAAGAGAATGGAATACACAATATGACATCCATAAAAATT\n[(0, 5340650, 35), (35, 5436490, 15)]\ntime to align read: 1.0808608531951904\n"
     ]
    },
    {
     "name": "stdout",
     "output_type": "stream",
     "text": [
      "\nAligned to transcriptome\nATGTTGGTCCTTCAGGCTTCAAAAGAACAGGAGATATAGACCTTGAGCAA\nATGTTGGTCCTTCAGGCTTCAAAAGAACAGGAGATATAGACCTTGAGCAA\n[(0, 8569859, 50)]\ntime to align read: 0.967069149017334\n"
     ]
    },
    {
     "name": "stdout",
     "output_type": "stream",
     "text": [
      "\nUnaligned\nTCAAATGCAGTGTATTCTTACCATTGATCAGTGGATTGTCAGATCCTGAC\n[]\ntime to align read: 0.9345519542694092\n"
     ]
    },
    {
     "name": "stdout",
     "output_type": "stream",
     "text": [
      "\nAligned to transcriptome\nGAGCAAATCGCATCAAATTTGGTTGTGTAAACCCCAGAATTCTTACTATG\nGAGCAGATCGCATCAAATTTGGTTGTGTAAACACCAGAATTCTTACTATG\n[(0, 3910391, 50)]\ntime to align read: 0.9349429607391357\n"
     ]
    },
    {
     "name": "stdout",
     "output_type": "stream",
     "text": [
      "\nAligned to transcriptome\nTGTCACCTGAGTGTGACTCGCAACCAAGCACATGTGGGAATTAAGTGAAG\nTGTCACCTGAGTGTGACTTGCAACCAAGCACATGTGGGAATTCAGTGAAG\n[(0, 2720601, 50)]\ntime to align read: 1.2899389266967773\n"
     ]
    },
    {
     "name": "stdout",
     "output_type": "stream",
     "text": [
      "\nUnaligned\nACGCGACTATAAAACTGCAATGTAAAGGGTCAGCTTCTCCTCACACCTTT\n[]\ntime to align read: 0.9939932823181152\n"
     ]
    },
    {
     "name": "stdout",
     "output_type": "stream",
     "text": [
      "\nAligned to transcriptome\nACCAACTCCAGGAACACTGTGGACTTCAAGCACTCACTTCCCTCGCTCCC\nACCAACTGCAGGAACACTGTGGACTTCAAGCACTCACTACCTTCACTCCT\n[(0, 2958647, 26), (26, 2959243, 24)]\ntime to align read: 3.200054168701172\n"
     ]
    },
    {
     "name": "stdout",
     "output_type": "stream",
     "text": [
      "\nAligned to genome\nCTGCCAGAAGCTACATCAGCCGTAATCATACATCCCTGGGGTCCATGTCT\nCTGCCAGAAGCTACATCGGCAGTAATCATTCATCCCTGGGGTCCATGTCT\n[(0, 6514462, 50)]\ntime to align read: 0.9236490726470947\n"
     ]
    },
    {
     "name": "stdout",
     "output_type": "stream",
     "text": [
      "\nAligned to transcriptome\nGCGCATGAAAGAATGTGCCAGATAAAATGAGACACATCAATGAGGCTGTG\nGCGCATGAAAGAATGTGCCACAGAAAATGAGACACATCAATGAGGTTGTG\n[(0, 5580444, 45), (45, 5589230, 5)]\ntime to align read: 0.9850296974182129\n"
     ]
    },
    {
     "name": "stdout",
     "output_type": "stream",
     "text": [
      "\nUnaligned\nGTCGCTGATTTGACCAGAAGTTTCAGTATCACTACCCCTGAGCAGATCAT\n[]\ntime to align read: 1.7381420135498047\n"
     ]
    },
    {
     "name": "stdout",
     "output_type": "stream",
     "text": [
      "\nAligned to transcriptome\nTGTTGATGGATCAGAAGAAATTGGAAGTGACTTTAAACTAAAATGTGAAC\nTGTTGATGGATCAGAAGAAATTGGAAGTGACTTTAAACTAAAATGTGAAC\n[(0, 2625457, 50)]\ntime to align read: 1.2104978561401367\n"
     ]
    },
    {
     "name": "stdout",
     "output_type": "stream",
     "text": [
      "\nAligned to transcriptome\nATCAACAACTTTTGGAATATAAACAAAAGATATCTAAAAATTCTCAAAAT\nATCAACAACTTTTGGAATATAAACAAAAGATATCTAAAAATTCTCAAAAT\n[(0, 1997969, 50)]\ntime to align read: 1.1867132186889648\n"
     ]
    },
    {
     "name": "stdout",
     "output_type": "stream",
     "text": [
      "\nAligned to transcriptome\nGCCAACGCTTAGAGAAGGCAAAGGACTCACCGTGCCTTTCACATGGAAAC\nGCCAACGCTTAGAGAAGGCAAAGGACTCAGCGTGCCTTTCACATGCAAAC\n[(0, 3999762, 50)]\ntime to align read: 1.3036291599273682\n"
     ]
    },
    {
     "name": "stdout",
     "output_type": "stream",
     "text": [
      "\nUnaligned\nATGCTGTGGCGCGGCCCCGGCTCACTGCAAGCTCTGCCTCCCACGTTCAC\n[]\ntime to align read: 3.5273549556732178\n"
     ]
    },
    {
     "name": "stdout",
     "output_type": "stream",
     "text": [
      "\nAligned to transcriptome\nGGCCAACCTGGAGGTGGCCAACCGGCTCGGCGACATGTGGCTCATGATCT\nGGCCAACCTGGAGGTGGCCAACCGGCACGGCCACATGTGCCTCATGATCT\n[(0, 2711744, 50)]\ntime to align read: 1.0059549808502197\n"
     ]
    },
    {
     "name": "stdout",
     "output_type": "stream",
     "text": [
      "\nUnaligned\nCAGTCGTTCCAGCTCAGTTTGATCACATGAAATAATCCCTTCTGGAGAAA\n[]\ntime to align read: 1.096707820892334\n"
     ]
    },
    {
     "name": "stdout",
     "output_type": "stream",
     "text": [
      "\nAligned to genome\nTCCTGTAAGGAAACAAAATGAAGCAAGGACGAAAACATCCCACTTTGTTC\nTCCTGTAAGGAAAAAAAATGAAGAAAGAACAAAAACAGCCCACTTTGTTC\n[(0, 2299581, 50)]\ntime to align read: 1.1561501026153564\n"
     ]
    },
    {
     "name": "stdout",
     "output_type": "stream",
     "text": [
      "\nAligned to transcriptome\nCGGCCTCGCAGGATTTTATAACTTTTGGACTTTTCCCTCCCTTGTAACGA\nCGGCCTCGCAGGAGTTTATAACTTTTGTACTTTTCCCTCCCTTGTAACGA\n[(0, 6560813, 50)]\ntime to align read: 2.0661211013793945\n"
     ]
    },
    {
     "name": "stdout",
     "output_type": "stream",
     "text": [
      "\nAligned to transcriptome\nGAAGCTGCATAGGCAGTAATCATTCATCCCTGGGATCTATGTGTCCTTCC\nGAAGCTGCATAGGCAGTAATCATTCATCCCTGGGATCCATGTCTCCTTCC\n[(0, 2625892, 50)]\ntime to align read: 1.0459730625152588\n"
     ]
    },
    {
     "name": "stdout",
     "output_type": "stream",
     "text": [
      "\nAligned to transcriptome\nAAATATGTTGTTTCTGAGCCATATTCTTCTTGAGGTTTAGTGTATAAAGT\nAAATATGTTGTTTCTGAGCCATATTCTTCTTCAGGTTTATTTTATAAAGT\n[(0, 3176789, 50)]\ntime to align read: 0.9334239959716797\n"
     ]
    },
    {
     "name": "stdout",
     "output_type": "stream",
     "text": [
      "\nAligned to genome\nTAGATCCGATCGTGTGGTGAAGCGGACCGCACAAGATCGCTTCTATGGGA\nTAGATCCGATCTTGTGGTGAAGTGGACCGCACAAGCTCGCTTCTATGGGT\n[(0, 5488106, 50)]\ntime to align read: 2.708003044128418\n"
     ]
    },
    {
     "name": "stdout",
     "output_type": "stream",
     "text": [
      "\nAligned to transcriptome\nATCTGTATGGTTCTCCTGGGTAAGGACCAGCAACAAGACTGTCTTGTGTG\nATCTGCATGGTTCTTCTGGGTAAGGACCAGCAACAAGACTGTCTTGTGTG\n[(0, 6759725, 50)]\ntime to align read: 0.9060583114624023\n"
     ]
    },
    {
     "name": "stdout",
     "output_type": "stream",
     "text": [
      "\nAligned to transcriptome\nTCTTCCTAACGAGTTCATGGCTGACAAACTTAGATTAATTCCCCCCATGA\nTCTTCATGATGAGTTCATGGCTCACAAACTTAGATTAATTCCCCTCATTA\n[(0, 3706709, 50)]\ntime to align read: 0.9115908145904541\n"
     ]
    },
    {
     "name": "stdout",
     "output_type": "stream",
     "text": [
      "\nUnaligned\nATTGGTAGTTTATACTTCCTAATTGTGACAAGAGCACCTCAAACGCAGCA\n[]\ntime to align read: 0.8946449756622314\n"
     ]
    },
    {
     "name": "stdout",
     "output_type": "stream",
     "text": [
      "\nAligned to transcriptome\nGTTCCAGGAGAAAGACGAGGGACTTGGTAACATAATTGTCCCATCCACTG\nGTTCCAGGAGAAAGACGAGGGACTTGGAAACTGAATTGTCCCATCCACTG\n[(0, 10564046, 50)]\ntime to align read: 0.9983561038970947\n"
     ]
    },
    {
     "name": "stdout",
     "output_type": "stream",
     "text": [
      "\nUnaligned\nGAGGGCATTGCCGGCAGTTACTGGAACAGGTTACCCTCGTGTTACCCTTA\n[]\ntime to align read: 0.9241211414337158\n"
     ]
    },
    {
     "name": "stdout",
     "output_type": "stream",
     "text": [
      "\nAligned to transcriptome\nCTGTTCCCGTTCCAGTTTTCTCTACAGCAAGTAGCTATCAATGTGTAGTC\nCTGTCCCCATTCCAGTTTTCTCTACAGCAAGTAGCTCTCAATGTGTAGTC\n[(0, 2718991, 50)]\ntime to align read: 0.9710149765014648\n"
     ]
    },
    {
     "name": "stdout",
     "output_type": "stream",
     "text": [
      "\nAligned to transcriptome\nAACGTGAGGCTGGGGCAGGTGTCTCTTCTCGCCCTGGCAAGGAAGGCCAA\nAACGTGAGGCAGGTGCAGGTGTCTCTTCTCGCCCTGGCAAGGAAGGCCAA\n[(0, 2776042, 50)]\ntime to align read: 0.9117941856384277\n"
     ]
    },
    {
     "name": "stdout",
     "output_type": "stream",
     "text": [
      "\nAligned to transcriptome\nGGATCATACCTAAAGTACAAATTCTGTTCTCGAACCAAAAACAAGGCTAA\nGGATCATTCCTAAAGTACAAATTCTGTTCTCGAACCACAAACAAGGCTAA\n[(0, 5538453, 50)]\ntime to align read: 0.981752872467041\n"
     ]
    },
    {
     "name": "stdout",
     "output_type": "stream",
     "text": [
      "\nAligned to transcriptome\nTAGGTGCTTTCCTACTGCACCCTGTCAGATAACAAAATGGTAATCGCAGT\nTAGGTGCTTTCCTACTGCACCCTGTCAGAGCACAAAATGGTAATCGCAGT\n[(0, 3895990, 50)]\ntime to align read: 1.032278060913086\n"
     ]
    },
    {
     "name": "stdout",
     "output_type": "stream",
     "text": [
      "\nUnaligned\nTATCTTACCAATTCTGTCTGAGTGAGTTTTGTGGTTTATAGCATATTGAT\n[]\ntime to align read: 1.0212538242340088\n"
     ]
    },
    {
     "name": "stdout",
     "output_type": "stream",
     "text": [
      "\nUnaligned\nCGGGAGGAAAACCAGTGTCTAACTTCCGTGTTGCCCACCTGCTCTGTATT\n[]\ntime to align read: 1.082676887512207\n"
     ]
    },
    {
     "name": "stdout",
     "output_type": "stream",
     "text": [
      "\nAligned to transcriptome\nCCCATGGGCAAGCCAGGAAGGTTTTACTACGACATGAATTCCTAAGGCTC\nCCCATGGGCAAGCCAGAAAGGTTTTACTACAACATGAATTCCTAAGGCTC\n[(0, 3707188, 50)]\ntime to align read: 1.0032832622528076\n"
     ]
    },
    {
     "name": "stdout",
     "output_type": "stream",
     "text": [
      "\nUnaligned\nACAGACGATCCCCGGCACATCCGGAAAGAGTCCGGGTGTCTCACAACCTC\n[]\ntime to align read: 1.0055930614471436\n"
     ]
    },
    {
     "name": "stdout",
     "output_type": "stream",
     "text": [
      "\nUnaligned\nTCGCTTTTATCTTTTCTTTCTCAACAGCTTTCCATTCAGTCGGGATCCTT\n[]\ntime to align read: 0.9173908233642578\n"
     ]
    },
    {
     "name": "stdout",
     "output_type": "stream",
     "text": [
      "\nAligned to transcriptome\nGTTGGTACGTGAGGCTTCAAAAGAACAGGAGATATAGACCTTGAGCAAAA\nGTTGGTCCTTCAGGCTTCAAAAGAACAGGAGATATAGACCTTGAGCAAAA\n[(0, 8569861, 50)]\ntime to align read: 0.9218947887420654\n"
     ]
    },
    {
     "name": "stdout",
     "output_type": "stream",
     "text": [
      "\nUnaligned\nGAAGAGTCCTAAGAATGTTAGATATCTGGTAATGTCTTCACCGGTTTCAG\n[]\ntime to align read: 1.0206332206726074\n"
     ]
    },
    {
     "name": "stdout",
     "output_type": "stream",
     "text": [
      "\nUnaligned\nGGATGATGATGATGTGTTCATTAAGAGACTGTTCTTCTGTTTAGGGTATA\n[]\ntime to align read: 0.910017728805542\n"
     ]
    },
    {
     "name": "stdout",
     "output_type": "stream",
     "text": [
      "\nAligned to transcriptome\nCAGGCGTAGGTTTGGATGCCATCAGTGATGCTATGGTTCTGGAATCATTT\nCAGGCGTAGGTTTGGATGCCATCAGTGATGCTATCCTTCTGGAAGCATAT\n[(0, 9337693, 50)]\ntime to align read: 0.9116108417510986\n"
     ]
    },
    {
     "name": "stdout",
     "output_type": "stream",
     "text": [
      "\nUnaligned\nTAGAAGTCCCTGATTTACCTGAAAAAGTATTCAGGAGGTTAGTTGTTAAG\n[]\ntime to align read: 0.9384219646453857\n"
     ]
    },
    {
     "name": "stdout",
     "output_type": "stream",
     "text": [
      "\nAligned to transcriptome\nGCATGGCTTCTGCATAAGGAGGCAGCACAACTCTTTGAGGCTTTCCATAT\nGCATGGCTTCTGCATAAGGAGGCAGCACAACTCTTTGAGGCATTCCATAT\n[(0, 2570629, 50)]\ntime to align read: 1.053515911102295\n"
     ]
    },
    {
     "name": "stdout",
     "output_type": "stream",
     "text": [
      "\nAligned to transcriptome\nCATGGAGCTGGCTCACCAGGGGGGTGAGTACCTCCCCAAACTGGAGGCCC\nCATGGAGCTGCGTCACCAGGGGGGTGAGTACCTGCCCAAACTGGAGCCCC\n[(0, 2712296, 50)]\ntime to align read: 0.9463422298431396\n"
     ]
    },
    {
     "name": "stdout",
     "output_type": "stream",
     "text": [
      "\nAligned to transcriptome\nCTCTTGTCGCCAAACCAGTGCTAATGCTATTTCCATGTCTGATGTTCCAA\nCTCTTGTCTCCAAACCATTGCTAATGCTATTTCCATGTCTGATGTTCCAA\n[(0, 3895893, 50)]\ntime to align read: 0.9367890357971191\n"
     ]
    },
    {
     "name": "stdout",
     "output_type": "stream",
     "text": [
      "\nUnaligned\nCTCACATTCTTGGATTTCACGTACCTGCATTTAACGGAGGTTGTTTGAAA\n[]\ntime to align read: 1.1797130107879639\n"
     ]
    },
    {
     "name": "stdout",
     "output_type": "stream",
     "text": [
      "\nAligned to genome\nCTGAAGACGCATGCCCTCCAGTAGTCAGTGAAGCTACGCAGGGTGGGGCT\nCTGAAGACGCCTGCTCTCCTCTGGTCTGTGAAGCTACGCAGGGTGGGGCT\n[(0, 3019888, 50)]\ntime to align read: 1.0477969646453857\n"
     ]
    },
    {
     "name": "stdout",
     "output_type": "stream",
     "text": [
      "\nAligned to transcriptome\nGATAATCAGAAGAGAGATCACGCGATGATTTTATATTCTGGAAACAAAGT\nGATAATCAGAAGATGGATCAAGTGATGATTTTATATTCTGGAAACAAAAT\n[(0, 2625206, 50)]\ntime to align read: 0.9104139804840088\n"
     ]
    },
    {
     "name": "stdout",
     "output_type": "stream",
     "text": [
      "\nAligned to transcriptome\nCCTGACTTAACAACGAAACCCTGGCGGACACCATCTACACCATCGGGCGG\nCCTGACTTAACAACGAAACCTACGTGGACACCATCTGCACCATCGGGCTG\n[(0, 8195118, 50)]\ntime to align read: 0.8809871673583984\n"
     ]
    },
    {
     "name": "stdout",
     "output_type": "stream",
     "text": [
      "\nAligned to transcriptome\nAAAAAGTTATGAAAGTGACACTGCACTCCAGCTTGGGGGACAGAGCGAGA\nAAAAAGTTATGAGAGTGACACTGCACTCCAGCTTGGGTGACAGAGCGAGA\n[(0, 2263845, 50)]\ntime to align read: 0.9398288726806641\n"
     ]
    },
    {
     "name": "stdout",
     "output_type": "stream",
     "text": [
      "\nAligned to transcriptome\nCTGGCCCGCGCCGTCCGCCTCCCGGTGGCCCTGGGCGCGTTCTGTGTCGC\nCTGGCCCGCGCCGACCGCCTCCCGGTGGCCCTGGGCGCGTTCTGTGTCGC\n[(0, 2654047, 50)]\ntime to align read: 0.8997697830200195\n"
     ]
    },
    {
     "name": "stdout",
     "output_type": "stream",
     "text": [
      "\nAligned to transcriptome\nTGGCTGCCACCTGAGTCACCCTATTGATTGCCTGGTTGGCCTGGTTGATC\nTGGCTGCCACCTGGGTCACCCCATTGATTGCCAGGTTGACCTGGTTGATC\n[(0, 9305668, 50)]\ntime to align read: 0.9284932613372803\n"
     ]
    },
    {
     "name": "stdout",
     "output_type": "stream",
     "text": [
      "\nAligned to transcriptome\nAATTTCAGACTTCTAGGCTGCAGAACCATTAAAGAATAAATTTCCTTTGT\nAATTTCAGACTTCTAGGCTGCAGAACCATTAAAGAATAAATTTCCTTTGT\n[(0, 10746360, 50)]\ntime to align read: 0.9433789253234863\n"
     ]
    },
    {
     "name": "stdout",
     "output_type": "stream",
     "text": [
      "\nAligned to transcriptome\nGCCCAGGTGCAGCTCTCCGATGGACACAAAACACCGGCAGGCTGAGGCAG\nGCCCAGGTGCAGCTCTCTGATGGACACAAAACACAGCCAGGCTGAGGCAG\n[(0, 2962772, 50)]\ntime to align read: 0.9837777614593506\n"
     ]
    },
    {
     "name": "stdout",
     "output_type": "stream",
     "text": [
      "\nUnaligned\nGAACTTCACACGTAACATTGTCATGCCATCTTTCTTCTTTTTCTTTGTTT\n[]\ntime to align read: 3.1375999450683594\n"
     ]
    },
    {
     "name": "stdout",
     "output_type": "stream",
     "text": [
      "\nUnaligned\nAAGCTTCTACATCAGCAAAATGTTGATGTATCTTCTCAAGATCTATCTGG\n[]\ntime to align read: 0.9885978698730469\n"
     ]
    },
    {
     "name": "stdout",
     "output_type": "stream",
     "text": [
      "\nUnaligned\nGGGATAATAAAATAGTGGAGGAAATTGAAAGTGTGAAAGAAAAGACTGAT\n[]\ntime to align read: 1.0236988067626953\n"
     ]
    },
    {
     "name": "stdout",
     "output_type": "stream",
     "text": [
      "\nAligned to transcriptome\nTGGGGAAGAGCCAGAGAGTGCGGTCTGAGGGCAAGGCCGAGGGAAAACCT\nTGGGGAAGAGCCAGAGAGCGCGGTCTGAGGACAAGGCCGAGGGAAAACCT\n[(0, 8193606, 50)]\ntime to align read: 1.0513551235198975\n"
     ]
    },
    {
     "name": "stdout",
     "output_type": "stream",
     "text": [
      "\nAligned to transcriptome\nTTCGTATTCTATATTCTTTCTAGGTGTTAGGGATGCTCCCAGGAGGTACA\nTTCCTATTCTATATTCTTTCTAGGTGTTAGGAATGCTCCCAGGAGGTACA\n[(0, 4016115, 50)]\ntime to align read: 1.177253246307373\n"
     ]
    },
    {
     "name": "stdout",
     "output_type": "stream",
     "text": [
      "\nAligned to transcriptome\nTGCAAAGTTCAATGTATTTAGTATTTTGTCATGTAAGAAAATGTTCATTC\nTGCAAAGTTCAAAGTATTTACTATTTTGTCATGTAAGAAAAAGTTCACTG\n[(0, 7598972, 50)]\ntime to align read: 0.9967498779296875\n"
     ]
    },
    {
     "name": "stdout",
     "output_type": "stream",
     "text": [
      "\nUnaligned\nCCGGATGTCATGGAAATGCATGCTGCAAGGTGTGCTGTCCACTCTCACCA\n[]\ntime to align read: 1.1273610591888428\n"
     ]
    },
    {
     "name": "stdout",
     "output_type": "stream",
     "text": [
      "\nAligned to transcriptome\nCGCAGTTCAACTAAGGCGCCTCCTATAGGCTCGTGGCGGACGTCCAGAAC\nCGCAGTTCAACAAAGGCCCCTCCTACAGGCTCTTGGCGGACGTCCAGAAC\n[(0, 2775706, 50)]\ntime to align read: 1.3750271797180176\n"
     ]
    },
    {
     "name": "stdout",
     "output_type": "stream",
     "text": [
      "\nAligned to transcriptome\nAATCCCACGTTCACCGTCAAGTCCAACGCTCGCTGCAGACATCTAGTGGA\nAATCCCAAGTTGACCGTCAAGTCCAACGCTCGCTGCAGACATCTAGTGGA\n[(0, 3032950, 50)]\ntime to align read: 1.555185079574585\n"
     ]
    },
    {
     "name": "stdout",
     "output_type": "stream",
     "text": [
      "\nUnaligned\nTGTTGAAGATTTCAGTGATGAAAGTGCCACAGTCAGACTGGCAGACTGTG\n[]\ntime to align read: 1.5808908939361572\n"
     ]
    },
    {
     "name": "stdout",
     "output_type": "stream",
     "text": [
      "\nAligned to transcriptome\nTCACTGATTCCTTGCCTACAATGCTCACCAAGAAAGCATTGTTTATATTG\nTCACTGATTCCTTGCCTACAATGCTCACCAGGAAAGCATTGTTTATATTG\n[(0, 7599016, 50)]\ntime to align read: 1.7290499210357666\n"
     ]
    },
    {
     "name": "stdout",
     "output_type": "stream",
     "text": [
      "\nAligned to transcriptome\nATATTATTAGATTTTTCGTGTATATTGGTGGTTGTTTTTGTTATCTATTA\nATATTATTAGATTTTTCCTTTATATTGGTGGGTGTATTTGTTATCTATTA\n[(0, 5593359, 50)]\ntime to align read: 1.70041823387146\n"
     ]
    },
    {
     "name": "stdout",
     "output_type": "stream",
     "text": [
      "\nUnaligned\nAGCTGCTGCGGGAGCCTAGAGACTGGGCCCAGTGGAACAAGGCGCTGGCC\n[]\ntime to align read: 1.6636910438537598\n"
     ]
    },
    {
     "name": "stdout",
     "output_type": "stream",
     "text": [
      "\nAligned to transcriptome\nGGGCTCTGGGGTGATGGGGATCTTCTTCTGCTTGTTCCTTTTTTACTTAA\nGGGCTTTGGGGTGATGGGGATCTTCTTCTGCTTGTTTCTTTTTTACTTAA\n[(0, 7866292, 50)]\ntime to align read: 1.8081107139587402\n"
     ]
    },
    {
     "name": "stdout",
     "output_type": "stream",
     "text": [
      "\nAligned to transcriptome\nGGTTGTCTCCCCATATCTCCAGTTTCACATTCTGGGATTTCAGTTACCAG\nGGTTGTCTCCCCATATCTACAGTTTCACATTCTGGGATTTCAGTTACCTG\n[(0, 10564333, 50)]\ntime to align read: 1.425076961517334\n"
     ]
    },
    {
     "name": "stdout",
     "output_type": "stream",
     "text": [
      "\nUnaligned\nCGTGTGGGCCACACATTAAAGCGCCAAGACAGGAACGGATAGACGAAGAT\n[]\ntime to align read: 1.6117498874664307\n"
     ]
    },
    {
     "name": "stdout",
     "output_type": "stream",
     "text": [
      "\nUnaligned\nGAATTGGGCATTTCGATTCGGAGTGTCTTCTTCTCTGAGGTGCCCATAAT\n[]\ntime to align read: 1.6134440898895264\n"
     ]
    },
    {
     "name": "stdout",
     "output_type": "stream",
     "text": [
      "\nUnaligned\nAGTAAGTATAACTGGAGTGCCAAGGCTAAAAGAGAAAATACCACTGAGAC\n[]\ntime to align read: 1.9101641178131104\n"
     ]
    },
    {
     "name": "stdout",
     "output_type": "stream",
     "text": [
      "\nUnaligned\nAAAAGACACATTGGCCTTTGTGCAAGGCAATACCTACATTTGATCTATGT\n[]\ntime to align read: 1.593498945236206\n"
     ]
    },
    {
     "name": "stdout",
     "output_type": "stream",
     "text": [
      "\nAligned to transcriptome\nGGTAGCTGCCCCTAATGTAAGTCGAATGGGTGCGATGCCTGTGATGATTC\nGGTAGCTGCCCCTAATCTAAGTCGAATGGGCGTGATTCCTGTGATGATTC\n[(0, 2626034, 50)]\ntime to align read: 1.6772501468658447\n"
     ]
    },
    {
     "name": "stdout",
     "output_type": "stream",
     "text": [
      "\nUnaligned\nGTAAGCCCTCACAACAACCAAGTTTCAGTCTACCTGGTGCAGAATTCACA\n[]\ntime to align read: 1.6822268962860107\n"
     ]
    },
    {
     "name": "stdout",
     "output_type": "stream",
     "text": [
      "\nUnaligned\nAGTTTTGTTTTTCTCAAACATTCTCTCTCTGCCTAGCCCAGAAGAATCAA\n[]\ntime to align read: 4.621546983718872\n"
     ]
    },
    {
     "name": "stdout",
     "output_type": "stream",
     "text": [
      "\nAligned to transcriptome\nCCATAATGGCACTGGTGGCAAGTCCATCTTCCGGGAAAAATTTGACGATG\nCCATAATGGCACTGGTGGCAAGTCCATCTATGGGGAGAAATTTGAAGATG\n[(0, 7806984, 50)]\ntime to align read: 1.5082151889801025\n"
     ]
    },
    {
     "name": "stdout",
     "output_type": "stream",
     "text": [
      "\nUnaligned\nTTTTTCATTGATGAGACCATGAGATTCCCCAATAAATTTTATTAAATCCA\n[]\ntime to align read: 1.540694236755371\n"
     ]
    },
    {
     "name": "stdout",
     "output_type": "stream",
     "text": [
      "\nAligned to transcriptome\nAACAACACTGTGTTGTGTGTGTCCTTTTTCTTGCTAGCTCCTCCCACCTC\nAACAAGACTGTCTTGTGTGTGTCCTTTTTCTTCCTAGCTCCTCCCATCTC\n[(0, 6759756, 50)]\ntime to align read: 1.5527002811431885\n"
     ]
    },
    {
     "name": "stdout",
     "output_type": "stream",
     "text": [
      "\nAligned to genome\nAAAAAGTCCCTAAATTAGGCAATACATTTCTTCCAAAAAGGTTATTAATT\nAAAAAGTCCCTAAATTTGGCAATACATTTCTTCCAAAAATGTTATTCAAT\n[(0, 3941724, 50)]\ntime to align read: 1.715116024017334\n"
     ]
    },
    {
     "name": "stdout",
     "output_type": "stream",
     "text": [
      "\nAligned to transcriptome\nGAAAACGGGACTGCATAATTTGTGGTAGCGTGGGACTGTATTAATACCTT\nGAAAACTGGACTGCATAATTTGTGGTAGCGGGGGACTGCATTAATACCTT\n[(0, 8294256, 50)]\ntime to align read: 1.6494989395141602\n"
     ]
    },
    {
     "name": "stdout",
     "output_type": "stream",
     "text": [
      "\nAligned to transcriptome\nTTAAAGGTATCTGAAAGAAAAATTCAGATTACATATAATATTAGCCAAGC\nTTAAAGGTATCTGAAAGAAAAATTCAGATTACATATAATATTAGCCAAGT\n[(0, 2069539, 50)]\ntime to align read: 1.7308170795440674\n"
     ]
    },
    {
     "name": "stdout",
     "output_type": "stream",
     "text": [
      "\nAligned to transcriptome\nACAAAGAGTCATCATCAATGACTCCTTCATTGTATAAACAACATGGTGTA\nACAAAGAGTCATCATCAATGACTCCTTCATTGTATAAACAACATGGTGTA\n[(0, 3723371, 50)]\ntime to align read: 1.9006822109222412\n"
     ]
    },
    {
     "name": "stdout",
     "output_type": "stream",
     "text": [
      "\nUnaligned\nCAGGAAAATGAGGAGTATCATGAGGAGGGATTCCAGGCAAGGAAAGTTGT\n[]\ntime to align read: 1.6594018936157227\n"
     ]
    },
    {
     "name": "stdout",
     "output_type": "stream",
     "text": [
      "\nUnaligned\nTCTGAAAGGCAATTTATTCAGTTAAGTTATTTTAGTATACGTTTATTTGC\n[]\ntime to align read: 1.5422039031982422\n"
     ]
    },
    {
     "name": "stdout",
     "output_type": "stream",
     "text": [
      "\nUnaligned\nTCTGTGCGGACGCACATGAGCGAGCTCATCTGATGCTCCCCGTGGATTGC\n[]\ntime to align read: 1.3997838497161865\n"
     ]
    },
    {
     "name": "stdout",
     "output_type": "stream",
     "text": [
      "\nAligned to transcriptome\nGGAGGTATGGTTTTTACTGGAAGATTCTGGCAGGCAAAAATCTCTCCTTT\nGGAGGTGTGGTTTTTACTGGAATATTCTGGCAGGCAAAAATCTCTCCTTT\n[(0, 10734014, 39), (39, 10735299, 11)]\ntime to align read: 1.2407557964324951\n"
     ]
    },
    {
     "name": "stdout",
     "output_type": "stream",
     "text": [
      "\nUnaligned\nCCCCTGGAAAGAACAAAGCCCCTTCTCTGGAGGGTAACTCAGAAGCACCA\n[]\ntime to align read: 1.402367115020752\n"
     ]
    },
    {
     "name": "stdout",
     "output_type": "stream",
     "text": [
      "\nAligned to transcriptome\nCTAACAACTAAAATATGAGTATTGATTTTATATGCAATAGCGTTTAAAAT\nCTAACAACTAAAATATGAGTATTGATTTTATATGCAATAGCGTTTAAAAT\n[(0, 7599212, 50)]\ntime to align read: 2.503605842590332\n"
     ]
    },
    {
     "name": "stdout",
     "output_type": "stream",
     "text": [
      "\nAligned to transcriptome\nTGAGGATGATATGTTAATTAAAAGACTGTTCTTCTGTTTAGGGTATAAAT\nTGAGGATGATGTGTTCATTAAAAGACTGTTCTTCTGTTTAGGGTATAAAT\n[(0, 9305780, 50)]\ntime to align read: 1.8003101348876953\n"
     ]
    },
    {
     "name": "stdout",
     "output_type": "stream",
     "text": [
      "\nAligned to transcriptome\nGTCACACCGTCATGTCCCTCGCTCCCTGAAAACCAGACACATTTGCCTTT\nGTCACACTGTCATGTCCCTCTCTCCCTGAAAAAGAGACACATTTGCCTTT\n[(0, 2263509, 50)]\ntime to align read: 1.3636820316314697\n"
     ]
    },
    {
     "name": "stdout",
     "output_type": "stream",
     "text": [
      "\nUnaligned\nATTGTCCCAGCATCAGCTATTGAGGCTGATGAGCAAAAGGGAGCTGCTAT\n[]\ntime to align read: 2.0997440814971924\n"
     ]
    },
    {
     "name": "stdout",
     "output_type": "stream",
     "text": [
      "\nAligned to transcriptome\nACTTTACTAGAAGTGAGCATTGGCGAACAGAATCTTTCTAAAAGTTTGAA\nACTTTACTAGAAGTGAGGATTGGAGAACAGAATCTTTCCAAAAGGTTTGA\n[(0, 8079647, 46), (46, 8083125, 4)]\ntime to align read: 1.5906987190246582\n"
     ]
    },
    {
     "name": "stdout",
     "output_type": "stream",
     "text": [
      "\nAligned to transcriptome\nGGAGGAAAATCATTGTCTTACTTCCGTATTGCCCACCTGCTCTGTATTTT\nGGAGGAAAAACATTGTCTTACTTCCGTGTTGCCCACCTGCTCTGTATTTT\n[(0, 7866368, 50)]\ntime to align read: 1.285923957824707\n"
     ]
    },
    {
     "name": "stdout",
     "output_type": "stream",
     "text": [
      "\nUnaligned\nGAAATTTGTGATATACTGACAAACCATGACTGGTGACTATAAAACTGCAA\n[]\ntime to align read: 1.1506578922271729\n"
     ]
    },
    {
     "name": "stdout",
     "output_type": "stream",
     "text": [
      "\nAligned to transcriptome\nAACCTGCTCTCAGCTGCCTCCTACTTCTATGAGATGCTGCAGGACTTCGC\nAACCTGCTCTCAGCTGCCTCCTACTTCTATGGGATGCTGCAGGACTTCGC\n[(0, 6245386, 50)]\ntime to align read: 2.5264928340911865\n"
     ]
    },
    {
     "name": "stdout",
     "output_type": "stream",
     "text": [
      "\nAligned to transcriptome\nGTTTCTTTGTGAAGTTATCTTCTAAATCAGATTAGGGAATAAATTATTCA\nGTTTCTTTGTGAAGTTATCTTCTAAATCAGATTAGGGAAGAAATTATTCA\n[(0, 2505481, 30), (30, 2507317, 20)]\ntime to align read: 1.196540117263794\n"
     ]
    },
    {
     "name": "stdout",
     "output_type": "stream",
     "text": [
      "\nAligned to transcriptome\nACCCCTAAGCAGTCCAGAAGGCCCAGTTGTCATCCAGAACCTTCATACCA\nACCCCTAAGCAGTCCAGATGGCCCAGTTGTCATCCAGAACCTTCATATCA\n[(0, 2476163, 50)]\ntime to align read: 1.5474328994750977\n"
     ]
    },
    {
     "name": "stdout",
     "output_type": "stream",
     "text": [
      "\nAligned to transcriptome\nTAGACTCCTAGAAATACAATTATCAGCTCGTGAGTACGGACATGATCTGA\nTAGACTCCTAGAAATACAATTATCAGCTCGTGAGTACGGACATAATTTGA\n[(0, 2507340, 50)]\ntime to align read: 1.3378727436065674\n"
     ]
    },
    {
     "name": "stdout",
     "output_type": "stream",
     "text": [
      "\nUnaligned\nATAGCGAGTTATCTCCGTTAAATGTTCACAATTACAGGTCAAGCTCTCTG\n[]\ntime to align read: 1.5652310848236084\n"
     ]
    },
    {
     "name": "stdout",
     "output_type": "stream",
     "text": [
      "\nAligned to transcriptome\nGGGTATTGTTATTAAATTGCTTTTTGTTTGAAACACTGTGCTGGAATTCC\nGGGTATTGTTATTAAATTGCTTTTTGTTTGAAAGACTGTGCTGGAATTCC\n[(0, 8570071, 50)]\ntime to align read: 1.2111179828643799\n"
     ]
    },
    {
     "name": "stdout",
     "output_type": "stream",
     "text": [
      "\nUnaligned\nTGAAGCAAGTACTTACATCAACTGGGAACATATCGCTGTCATTTTCCTAC\n[]\ntime to align read: 1.2088658809661865\n"
     ]
    },
    {
     "name": "stdout",
     "output_type": "stream",
     "text": [
      "\nAligned to transcriptome\nTCTGGGACATACAGCTGTACATCAGAATCGGAGTGGGCTCTGATCAGTGC\nTCTGGGACATACAGCTGTACATCAGAAACGGAGTGGGCTCTGATCAGTGC\n[(0, 2625637, 50)]\ntime to align read: 1.3201401233673096\n"
     ]
    },
    {
     "name": "stdout",
     "output_type": "stream",
     "text": [
      "\nAligned to transcriptome\nAGTTTTCCCAGGGCTAGCCTTATCCGCCGCATTCCACATGTGCTCACCTC\nAGTTTTCCCAGGGCAAGCCTTATCCACTGCATTCCAGATGTGCTCACCTC\n[(0, 8294187, 50)]\ntime to align read: 1.291985034942627\n"
     ]
    },
    {
     "name": "stdout",
     "output_type": "stream",
     "text": [
      "\nAligned to transcriptome\nTGCTTCATCTTCTCACATCCATTCAAAGACACATGATAATCCATATTAGA\nTGCTTCATTTTCTCACATCCATTCAAAGACACATGATAATGCATATTAGA\n[(0, 9547092, 50)]\ntime to align read: 1.2346911430358887\n"
     ]
    },
    {
     "name": "stdout",
     "output_type": "stream",
     "text": [
      "\nAligned to transcriptome\nAGGCGGCTGTCAAGGGCGACGCCATGGAGGTGGAGCGCTGTCTGGCGCGC\nAGGCGGCTGTCAAGGGCGACGCCACGGAGGTGGAGCGCTGTCTGGCGCGC\n[(0, 3013439, 50)]\ntime to align read: 1.2714638710021973\n"
     ]
    },
    {
     "name": "stdout",
     "output_type": "stream",
     "text": [
      "\nUnaligned\nTCACCGGCAGAAGTGGCTTGTGGCAACTGTGGCTAATCTGCCAAGCACAG\n[]\ntime to align read: 1.8362891674041748\n"
     ]
    },
    {
     "name": "stdout",
     "output_type": "stream",
     "text": [
      "\nAligned to transcriptome\nCCCTGAGACCCGATCTTGTGAGGTATTTTAGTAACATCACAAGTTACGCT\nCCCTGAGACCCTAACTTGTGAGGTATTTTAGTAACATCACAAGTCAGGCT\n[(0, 5539253, 50)]\ntime to align read: 2.507153034210205\n"
     ]
    },
    {
     "name": "stdout",
     "output_type": "stream",
     "text": [
      "\nUnaligned\nCGAAAAGGATCCTGGAAGATGAAATATTAAATCTTAAAAAACGTATGGAA\n[]\ntime to align read: 1.5933871269226074\n"
     ]
    },
    {
     "name": "stdout",
     "output_type": "stream",
     "text": [
      "\nAligned to transcriptome\nCGAAGGACTCTAGACTGCTATGACTTATTTTGGACCATGGAGATTGCCCA\nCGAAGGACTCTAGGATGCTATGACTTATTTTGGACCATGGAGATTGCCCA\n[(0, 4016185, 27), (27, 4016535, 23)]\ntime to align read: 1.5821077823638916\n"
     ]
    },
    {
     "name": "stdout",
     "output_type": "stream",
     "text": [
      "\nAligned to transcriptome\nCTGCAGAAGATGCACAACGCGGCTGTCAAGGGCGTCGCCACGGAGGTGGA\nCTGCAGAAGATCCACAAGGCGGCTGTCAAGGGCGACGCCACGGAGGTGGA\n[(0, 3013423, 50)]\ntime to align read: 2.025062084197998\n"
     ]
    },
    {
     "name": "stdout",
     "output_type": "stream",
     "text": [
      "\nAligned to transcriptome\nTATGGTCTATTCTGGAGAATGTTTCTTGTGCTGATGAAAGAATGTGTTTT\nTATGGTCTATTCTGGAGAATGTTTCTTGTGCTGATGAAAGAATGTGTTTT\n[(0, 3037957, 50)]\ntime to align read: 1.2904691696166992\n"
     ]
    },
    {
     "name": "stdout",
     "output_type": "stream",
     "text": [
      "\nAligned to transcriptome\nTCTCGCTTTGTGAAAAAGGCATTCACTTAATGTGGAGAAAGGTATTATAT\nTCTCCCTTTGTGAAAAAGGCTTTCACTTAATGTGGAGAAAGGTATTATAT\n[(0, 3534412, 50)]\ntime to align read: 1.616706132888794\n"
     ]
    },
    {
     "name": "stdout",
     "output_type": "stream",
     "text": [
      "\nUnaligned\nAGGCTTCTGTGCAAGGATGACACTCAAATTTGTGATGTGTTCCATACTTT\n[]\ntime to align read: 2.0519001483917236\n"
     ]
    },
    {
     "name": "stdout",
     "output_type": "stream",
     "text": [
      "\nUnaligned\nCTGGAATCAGCCCTGATGAATTGGGGTTCAACTTAAAAGGAACATGACAA\n[]\ntime to align read: 1.5005640983581543\n"
     ]
    },
    {
     "name": "stdout",
     "output_type": "stream",
     "text": [
      "\nAligned to transcriptome\nAAGTGTTTGTCGGTTGGTGCGAGACCAGGTTAATATGGTGGATAAGGCAA\nAAGTGGTAGTCGGTTGGTGAGAGGTCAGGTGAATATGGTGGATAAGGCAA\n[(0, 5475281, 50)]\ntime to align read: 1.6457538604736328\n"
     ]
    },
    {
     "name": "stdout",
     "output_type": "stream",
     "text": [
      "\nUnaligned\nATATCATGGGGAACTAGGATAGTGGGAAAACCTCTCATTGTGAGGTCGTA\n[]\ntime to align read: 1.2979300022125244\n"
     ]
    },
    {
     "name": "stdout",
     "output_type": "stream",
     "text": [
      "\nAligned to transcriptome\nAAAGATAGTGAGTTATCTCCATTAAATGTTCACAGTTACAGGACAAGCTC\nAAAGATAGTGAGTTATCTCCATTAAATGTTCACAGTTACAGGTCAAGCTC\n[(0, 6525806, 50)]\ntime to align read: 1.165226936340332\n"
     ]
    },
    {
     "name": "stdout",
     "output_type": "stream",
     "text": [
      "\nAligned to transcriptome\nCTCAGGCTCTCCAGAACCCGCCATCACCTGGTTCAGAATGGCAAGCTCAT\nCTCAGGCTCTCCAGAACCCGCCATCTCCTGGTTCAGAATGGCAAGCTCAT\n[(0, 10273464, 36), (36, 10284505, 14)]\ntime to align read: 1.19610595703125\n"
     ]
    },
    {
     "name": "stdout",
     "output_type": "stream",
     "text": [
      "\nAligned to transcriptome\nTTGAAGAAGCTTCCATGTTGTGAGATCGCGTATGGAGGCGGCCACGTGGC\nTTGAAGAAGCTTCCATGTTGTGAGAGAGCATATGGAGGGGGCCACGTGGC\n[(0, 8083125, 50)]\ntime to align read: 1.4174330234527588\n"
     ]
    },
    {
     "name": "stdout",
     "output_type": "stream",
     "text": [
      "\nUnaligned\nCCGTTACAGGTCAAGATCTTTGTTCTGCCCTTTTGCCCCTTCCCACTTGT\n[]\ntime to align read: 1.9429810047149658\n"
     ]
    },
    {
     "name": "stdout",
     "output_type": "stream",
     "text": [
      "\nAligned to transcriptome\nAATCCTCAGGGACAGAAGATAATGGCAACACCGAGGGTAGTAGTGCAAAA\nAATCCTCAAGGAGAGAAGATAATTTCAACACAGAGGGTAGTAGTGCAAAA\n[(0, 10233225, 50)]\ntime to align read: 3.071920871734619\n"
     ]
    },
    {
     "name": "stdout",
     "output_type": "stream",
     "text": [
      "\nAligned to transcriptome\nCTCTAGGCTTTTTAGTAGAGTTTAACAAGTGGAGCTTGAAGTCTGTTTTA\nCTCTAGGCTTTTTAGAAGAGTTTAACAAGTGGAGCTTGAAGTCTGTTTTT\n[(0, 2496087, 41), (41, 2505393, 9)]\ntime to align read: 2.267967939376831\n"
     ]
    },
    {
     "name": "stdout",
     "output_type": "stream",
     "text": [
      "\nAligned to genome\nGACAGCTCATCAACAGGTGCATGGACGAACCTGGAAATATTTATAAATAT\nGACAGCTCATCAACAGGTTCATGGATGAACCTGGAAATATTTATAAATAT\n[(0, 3923251, 50)]\ntime to align read: 2.374845027923584\n"
     ]
    },
    {
     "name": "stdout",
     "output_type": "stream",
     "text": [
      "\nAligned to transcriptome\nGGACAGAAATCTGGGCCTTGAATTCCACCTCAAAACTAGCAATCATTAAC\nGGACAGAAATCTGGGCCTTGAATTACACCTCAAAACTAGCAATCATTAAC\n[(0, 7599150, 50)]\ntime to align read: 1.9578938484191895\n"
     ]
    },
    {
     "name": "stdout",
     "output_type": "stream",
     "text": [
      "\nAligned to transcriptome\nTTATGAATTTTTGGGATGGGGGAATGCTTCATTTTCTCACATCCATTCAC\nTTATGAATTTTTGGGATGTGGGAATGCTTCATTTTCTCACATCCATTCAA\n[(0, 9547068, 50)]\ntime to align read: 1.3880667686462402\n"
     ]
    },
    {
     "name": "stdout",
     "output_type": "stream",
     "text": [
      "\nAligned to genome\nGTGAAAGAAAGAAGATTCTTTCAATATGCTAAAAACTTCTACAGTGCACT\nGTGAAAGAAAGAATATTCTTTCAATATGCTAAAAACATCTACAGTGCACT\n[(0, 3941671, 50)]\ntime to align read: 1.4419431686401367\n"
     ]
    },
    {
     "name": "stdout",
     "output_type": "stream",
     "text": [
      "\nAligned to transcriptome\nAAGACAACGTTGAGAAGATCAGCATGGTCCCCGCACAAGGATGACATACG\nAAGACAACGTTGAGAAGATCAGCATGGTCCCCGCACAAGGATGACATAGA\n[(0, 1996614, 50)]\ntime to align read: 1.5687909126281738\n"
     ]
    },
    {
     "name": "stdout",
     "output_type": "stream",
     "text": [
      "\nUnaligned\nTTAGGACTCTAGTAAAGACTTAAATGTTCTTTAAAAAAAGCCCAAGGCAC\n[]\ntime to align read: 1.412329912185669\n"
     ]
    },
    {
     "name": "stdout",
     "output_type": "stream",
     "text": [
      "\nAligned to transcriptome\nCAGGCAGGACTGTGTACGGCAGAGCAGGAGGAGTCATCTCTACGACCCCA\nCAGGCACGACTGTGTACGGCAGAGCACGAGGAGGCATCTCTACGACCCCA\n[(0, 2776229, 50)]\ntime to align read: 1.471240758895874\n"
     ]
    },
    {
     "name": "stdout",
     "output_type": "stream",
     "text": [
      "\nUnaligned\nTCACGTTTATGATCCAGAACACCAATGCGGCAGTGGCCATTTCGATTCGG\n[]\ntime to align read: 1.8588049411773682\n"
     ]
    },
    {
     "name": "stdout",
     "output_type": "stream",
     "text": [
      "\nAligned to transcriptome\nATGTGCTAAGTGAAAAGTCTTCAACCTTTCTAATGAAGGCAGCAGCAAAA\nATGTGCTAAGTGAAAAATCATCAACCTTTCTAATGAAGGCAGCAGCAAAA\n[(0, 2725764, 50)]\ntime to align read: 1.8731989860534668\n"
     ]
    },
    {
     "name": "stdout",
     "output_type": "stream",
     "text": [
      "\nAligned to transcriptome\nGACTTCGCAGGGGAGATAGCATGATCACAAAGGTGGTTTTCCCAAGGCAT\nGACTTGGCAGGGGAGATAGCATGATCACGAAGGTGGTTTTCCCAAGGCAA\n[(0, 5667998, 50)]\ntime to align read: 2.2401480674743652\n"
     ]
    },
    {
     "name": "stdout",
     "output_type": "stream",
     "text": [
      "\nAligned to transcriptome\nAAAATGTGATTCAATTCAGTTCTTCTTTTAACATACGATAACTGTTTGCC\nAAAATGTGATTCAATTCAGTTATTCATTCAACATACGATAACTGTGTGCC\n[(0, 4295685, 50)]\ntime to align read: 1.557063102722168\n"
     ]
    },
    {
     "name": "stdout",
     "output_type": "stream",
     "text": [
      "\nUnaligned\nAAAGTTCTAAGTGTGACAGCCCAACTCACTCAGGAACACCATGAGACACT\n[]\ntime to align read: 1.2016370296478271\n"
     ]
    },
    {
     "name": "stdout",
     "output_type": "stream",
     "text": [
      "\nAligned to transcriptome\nATAATATTTTATTAAGGTATGATATGTGATACTTATTGTCTAAATCAAGT\nATAATATTTTATTAATGTATGATATGTAATACTTATTGTCTAAATCAAGT\n[(0, 3177072, 50)]\ntime to align read: 1.2143681049346924\n"
     ]
    },
    {
     "name": "stdout",
     "output_type": "stream",
     "text": [
      "\nAligned to transcriptome\nTGGCATGCCAGGGTGAGGCTGCCCAGCACATCCTCTCTGTGTCTCCTGAA\nTGGCATGACAGGGTGGGGCTGCCCAGCACATCATCTCTGTGTCTCCTGAA\n[(0, 3723870, 50)]\ntime to align read: 1.364691972732544\n"
     ]
    },
    {
     "name": "stdout",
     "output_type": "stream",
     "text": [
      "\nUnaligned\nGTTGCCATATGCTGCATAAAAGAAAGGAAGAACGAAAACTAGATCAAAGC\n[]\ntime to align read: 1.3290979862213135\n"
     ]
    },
    {
     "name": "stdout",
     "output_type": "stream",
     "text": [
      "\nAligned to transcriptome\nATAAACCCGTAGAGCCGATCTTGTGGTGAAGTGGACCGCACAAACTCGCT\nATAAACCCGTAGATCCGATCTTGTGGTGAAGTGGACCGCACAAGCTCGCT\n[(0, 5488097, 50)]\ntime to align read: 1.4983680248260498\n"
     ]
    },
    {
     "name": "stdout",
     "output_type": "stream",
     "text": [
      "\nAligned to transcriptome\nAAGGAAAGAACAAGGAGAGAAAAAAAAAAGCGTTCTTCTACCCCTAAAAG\nAAGGAAAGAACAAGGAGAGAAAAAAAAAAGCATTCTTCTACCCCTAAAAG\n[(0, 8689078, 50)]\ntime to align read: 1.2102329730987549\n"
     ]
    },
    {
     "name": "stdout",
     "output_type": "stream",
     "text": [
      "\nAligned to transcriptome\nGTGTTGTCAATGGATATATGGATTCGTCTACAGCAATCATGTACATCTAT\nGTGTTGTCAATGGAAATATGGATTCTTCTACAGCAAACATGTACATCTAT\n[(0, 3092757, 50)]\ntime to align read: 1.1915311813354492\n"
     ]
    },
    {
     "name": "stdout",
     "output_type": "stream",
     "text": [
      "\nAligned to transcriptome\nTCTTACACCTGAGCTGGAAGCTGTATCTTCGAAATATGTCTGTTTGACTC\nTCTTACAGCAGAGCTGGAAGCTGTATCTTCAAAATATGTCTGTTTGACTC\n[(0, 2603080, 50)]\ntime to align read: 2.2370800971984863\n"
     ]
    },
    {
     "name": "stdout",
     "output_type": "stream",
     "text": [
      "\nAligned to transcriptome\nATTCTGGTGAAAAACTTCATGAATTTTTGGGATGTGGGAATGCTTCACTT\nATTCTGGAGAAAAACTTTATGAATTTTTGGGATGTGGGAATGCTTCATTT\n[(0, 9547052, 50)]\ntime to align read: 5.037704944610596\n"
     ]
    },
    {
     "name": "stdout",
     "output_type": "stream",
     "text": [
      "\nAligned to transcriptome\nAGATCCGATATTGTGGTGAAATGGACCGCACAAGCTCTCTTCTATGGGTC\nAGATCCGATCTTGTGGTGAAGTGGACCGCACAAGCTCGCTTCTATGGGTC\n[(0, 5488107, 50)]\ntime to align read: 1.7538716793060303\n"
     ]
    },
    {
     "name": "stdout",
     "output_type": "stream",
     "text": [
      "\nAligned to transcriptome\nTGTAGTCCAAGCTACTCAGGAGGCTGACACAGAAGAATTGCTTGAACCCG\nTGTAGTCCAAGCTACTCAGGAGGCTGACACAGAAGAATTGCTTGAACCCG\n[(0, 3895714, 50)]\ntime to align read: 1.8866441249847412\n"
     ]
    },
    {
     "name": "stdout",
     "output_type": "stream",
     "text": [
      "\nAligned to transcriptome\nTTGGCAAAGTGAAAGAAGGCATGTAGATTGTGGAGGCCATGGAGCGCTTT\nTTGGCAAAGTGAAAGAAGGCATGAATATTGTGGAGGCCATGGAGCGCTTT\n[(0, 7807163, 50)]\ntime to align read: 2.068311929702759\n"
     ]
    },
    {
     "name": "stdout",
     "output_type": "stream",
     "text": [
      "\nAligned to transcriptome\nGGTTGAGCTAGTAGGTTGTATTATTTAGAGTTACCCCCTGGGAGTTAACT\nGGTTGAGGTAGTAGGTTGTATGGTTTAGAGTTACACCCTGGGAGTTAACT\n[(0, 5488834, 50)]\ntime to align read: 2.718825101852417\n"
     ]
    },
    {
     "name": "stdout",
     "output_type": "stream",
     "text": [
      "\nUnaligned\nCTAACTGCAAGACTGTCTATCAGCTGAGTGTGTCTTGCAACCAAGCACAT\n[]\ntime to align read: 2.174772024154663\n"
     ]
    },
    {
     "name": "stdout",
     "output_type": "stream",
     "text": [
      "\nUnaligned\nCACAAATAGGCTGGGAGTCAACGTGGAGTGGTGGATTTCCTGAAAGAAAG\n[]\ntime to align read: 3.0083072185516357\n"
     ]
    },
    {
     "name": "stdout",
     "output_type": "stream",
     "text": [
      "\nUnaligned\nGTTCCTGTGGGTTAGAAATCTCGGCATGGTTTATGTGAGTTCTTTGATTT\n[]\ntime to align read: 1.4147629737854004\n"
     ]
    },
    {
     "name": "stdout",
     "output_type": "stream",
     "text": [
      "\nUnaligned\nCTGTGAGAACAGAGTTGAATGGTGAATGTATAAATGAGGATTACTGGCAA\n[]\ntime to align read: 1.7696588039398193\n"
     ]
    },
    {
     "name": "stdout",
     "output_type": "stream",
     "text": [
      "\nUnaligned\nCCGGCCATGCTTCTAAGCCCTCCCCAAACATGTGGAGCTGTGATGCAGAG\n[]\ntime to align read: 3.1408092975616455\n"
     ]
    },
    {
     "name": "stdout",
     "output_type": "stream",
     "text": [
      "\nAligned to genome\nTTACAGGTGTGAGCCGCAGCATCCAGCCAGTTTGGTACTTTGAATATTGA\nTTACAGGTGTGAGCCGCAGCATCCAGCCAGTTCTGTACTTTGAATATGGA\n[(0, 6517662, 50)]\ntime to align read: 1.4163219928741455\n"
     ]
    },
    {
     "name": "stdout",
     "output_type": "stream",
     "text": [
      "\nAligned to transcriptome\nAGCATGTCTTCTGCATAAGGAGGGAGCACAACTCTTTGAGGCATTCCATA\nAGCATGGCTTCTGCATAAGGAGGCAGCACAACTCTTTGAGGCATTCCATA\n[(0, 2570628, 50)]\ntime to align read: 1.148465871810913\n"
     ]
    },
    {
     "name": "stdout",
     "output_type": "stream",
     "text": [
      "\nAligned to transcriptome\nTTGCTTAAACCCGGGAGGCGGAAGTTTCCGTGAGCCGAGATCGCGCCACT\nTTGCTTGAACCCGGGAGGCGGAAGTTTCAGTGAGCCGAGATCGCGCCACT\n[(0, 3895751, 50)]\ntime to align read: 1.610541820526123\n"
     ]
    },
    {
     "name": "stdout",
     "output_type": "stream",
     "text": [
      "\nAligned to transcriptome\nGGCCAGATGGTCGTGGCCTCCATAGACCACGTCTACACGGCTTCCGGGTA\nGGCCAGATGGTCCTGGACTCCATAGACCACGTCTACACGGCTTCCGGGTA\n[(0, 3013354, 50)]\ntime to align read: 2.0166187286376953\n"
     ]
    },
    {
     "name": "stdout",
     "output_type": "stream",
     "text": [
      "\nAligned to transcriptome\nGATCTGATCACCTCCCACCTGGTCTCTTCCTCAACACCTGGGGGTTACAA\nGATCTGATCACCTCCCACCAGGTCTCTTCCTCAACACCTGGGGGTTACAA\n[(0, 4825655, 50)]\ntime to align read: 1.17759108543396\n"
     ]
    },
    {
     "name": "stdout",
     "output_type": "stream",
     "text": [
      "\nUnaligned\nCGCCAGCTGCAGTTCATACCCGATTTACCAGATCCAACTTTACTACTGTC\n[]\ntime to align read: 2.0115671157836914\n"
     ]
    },
    {
     "name": "stdout",
     "output_type": "stream",
     "text": [
      "\nAligned to transcriptome\nCACATTGATAAAGCGTCATGTTACCTTTGATTATCCCCTATAACCAACAG\nCACATTGATAAAGCATCATGTTCCCTTTGATTATCCCCTATAACCAACAC\n[(0, 3176602, 50)]\ntime to align read: 1.6998629570007324\n"
     ]
    },
    {
     "name": "stdout",
     "output_type": "stream",
     "text": [
      "\nUnaligned\nCCTTATCCAGGGGAGTCTTCATTATAGGAATTATACTGGATTCAATTGCA\n[]\ntime to align read: 2.263939142227173\n"
     ]
    },
    {
     "name": "stdout",
     "output_type": "stream",
     "text": [
      "\nAligned to transcriptome\nTGGACAGTCTATGGAAAGCTCTTGCTGGCCCCGGAGGATCTCGGCAGCTG\nTGGACAGTCTATGGAAAGCTCTTGCTGGCCACGGAGGAAGTAGGCAGCTG\n[(0, 2949936, 50)]\ntime to align read: 2.270893096923828\n"
     ]
    },
    {
     "name": "stdout",
     "output_type": "stream",
     "text": [
      "\nAligned to transcriptome\nTTAAGATTTGTCTTCCATCTCTGCTGCGCTCACACCTGCTGGCCATTGGA\nTTAAGATTTTTCTTCCATCTCTGCTGCTCTCTCATCTGCTGGCCATTGGA\n[(0, 2069706, 50)]\ntime to align read: 2.0869948863983154\n"
     ]
    },
    {
     "name": "stdout",
     "output_type": "stream",
     "text": [
      "\nAligned to transcriptome\nATTAGCCAAGTCGACCAGCAAATACTCCCCTGAGACAGTTTCTCTCTAAA\nATTAGCCAAGTCGACCAGAAAATACTCCCCTGAGACAGTTTCTCTCTAAA\n[(0, 2069578, 50)]\ntime to align read: 2.1119887828826904\n"
     ]
    },
    {
     "name": "stdout",
     "output_type": "stream",
     "text": [
      "\nAligned to transcriptome\nGGTGAAGGCCAGAGCCAGTTTGGAGCCCCCCATGCTTCAGAAAGCTGCTC\nGGTGAAGGCCAGAGCCAGTTTGGAGCCCCCCATGCTTCAGAAAGCTGCTC\n[(0, 2960792, 18), (18, 2961120, 32)]\ntime to align read: 2.043511152267456\n"
     ]
    },
    {
     "name": "stdout",
     "output_type": "stream",
     "text": [
      "\nUnaligned\nGCAGATAGCGACGGTAATGATGAGGATGATACCGGTTAACGAGGCCGGCC\n[]\ntime to align read: 2.2524070739746094\n"
     ]
    },
    {
     "name": "stdout",
     "output_type": "stream",
     "text": [
      "\nAligned to transcriptome\nAATTCACACTAGAAAGAAATCTTAGGCTTATGACAAAAGTGGCAAAGGTT\nAATTCACACTAGAAAGAAATCTTATGAATATGACAAAAGTGGCAAAGGCT\n[(0, 2788185, 50)]\ntime to align read: 2.1063039302825928\n"
     ]
    },
    {
     "name": "stdout",
     "output_type": "stream",
     "text": [
      "\nAligned to transcriptome\nGGGTGTTGTCAATGGAAATATGGATTCTTCTACAGCAAGCATGTAGATCT\nGGGTGTTGTCAATGGAAATATGGATTCTTCTACAGCAAACATGTACATCT\n[(0, 3092755, 50)]\ntime to align read: 2.4749202728271484\n"
     ]
    },
    {
     "name": "stdout",
     "output_type": "stream",
     "text": [
      "\nAligned to transcriptome\nGGTATTTTAGTAACATCACAAGTCACGCTCTTGGGACCTAGGCGGAGGGG\nGGTATTTTAGTAACATCACAAGTCAGGCTCTTGGGACCTAGGCGGAGGGG\n[(0, 5539274, 50)]\ntime to align read: 2.066525936126709\n"
     ]
    },
    {
     "name": "stdout",
     "output_type": "stream",
     "text": [
      "\nAligned to transcriptome\nTGATGATACCGAATTGCTGCTTTAAACCCATCAGCTTTGTGGTAGTTACA\nTGATGATACCGAATTGCTGCTTTAAACCCCTCAGCTTTGTGGTAGTTACA\n[(0, 10564195, 50)]\ntime to align read: 1.4937899112701416\n"
     ]
    },
    {
     "name": "stdout",
     "output_type": "stream",
     "text": [
      "\nAligned to transcriptome\nAGTTTTTCATCTGGACTGCCAAGACTGAGTGGTTGGGTGGCAAGCATGTG\nAGTTTTTCATCTGCACTGCCAAGACTGAGTGGTTGGATGGCAAGCATGTG\n[(0, 7807109, 50)]\ntime to align read: 1.1612322330474854\n"
     ]
    },
    {
     "name": "stdout",
     "output_type": "stream",
     "text": [
      "\nAligned to transcriptome\nTCAAGGGCGACGCCCCGGGGGTGGAGCGCTGTCCGGCGTGCACGAGCGGA\nTCAAGGGCGACGCCACGGAGGTGGAGCGCTGTCTGGCGCGCAGGAGCGGA\n[(0, 3013448, 50)]\ntime to align read: 1.3186559677124023\n"
     ]
    },
    {
     "name": "stdout",
     "output_type": "stream",
     "text": [
      "\nUnaligned\nGCCTGTAAGGCAGAAAAATGAAGAAAGAACAAAAACAGCCCACTTTGTTC\n[]\ntime to align read: 2.144637107849121\n"
     ]
    },
    {
     "name": "stdout",
     "output_type": "stream",
     "text": [
      "\nUnaligned\nAAAGGCGTGTAGGTCGCAAATGACTTACGGCGTTACGGGTCACATCGTTT\n[]\ntime to align read: 3.0901358127593994\n"
     ]
    },
    {
     "name": "stdout",
     "output_type": "stream",
     "text": [
      "\nAligned to transcriptome\nGGGCAGCAGTAGCTGGGAAACTGCTAGGAATGCTCATTCTCAGGCCTCAC\nGGGCAGCATCCACTGGAAAACTGCTAGGAATGCACATTCTCAGGCCTCAC\n[(0, 2719048, 50)]\ntime to align read: 1.884455919265747\n"
     ]
    },
    {
     "name": "stdout",
     "output_type": "stream",
     "text": [
      "\nUnaligned\nGGTAGGAAGTCCAGGCTGAGGTTCTCATCCAGTAAAATTTCGCCAACATT\n[]\ntime to align read: 1.7428348064422607\n"
     ]
    },
    {
     "name": "stdout",
     "output_type": "stream",
     "text": [
      "\nAligned to transcriptome\nCAAGGTGTGCTGTCCACCCTCACCAACACCAGCTCATTCCTCTGGACTGT\nCAAGGTGTGCTGTCCACCCTCACCAACACCAGCTCATTCTTCTGGACTGT\n[(0, 6245460, 50)]\ntime to align read: 1.686248779296875\n"
     ]
    },
    {
     "name": "stdout",
     "output_type": "stream",
     "text": [
      "\nAligned to transcriptome\nGGGATGCCCTGCCTGAGCTACTGGGGCTTGAGGGTGGCAGCCGGCGCCAG\nGGGATGCCCTGCCTGAGCTACTGGGGCTTGAGGCTGGCAGCCGGCGCCAG\n[(0, 2741890, 50)]\ntime to align read: 1.4777519702911377\n"
     ]
    },
    {
     "name": "stdout",
     "output_type": "stream",
     "text": [
      "\nUnaligned\nACAAGGGGATACCTGTAAGGAAAAAAAATGAAGACAGAACAAAAGCAGCC\n[]\ntime to align read: 1.9336771965026855\n"
     ]
    },
    {
     "name": "stdout",
     "output_type": "stream",
     "text": [
      "\nUnaligned\nCCATAGATCCAGCACCCTGCCCATCCGCTGGCCCTGAACAGCCCTCAGTG\n[]\ntime to align read: 1.5868620872497559\n"
     ]
    },
    {
     "name": "stdout",
     "output_type": "stream",
     "text": [
      "\nAligned to transcriptome\nACATCTAGTGTACCCGGCGCTCGCGGACGGAAGCGGACAGACCTCGTTGG\nACATCTAGTGGACCCGGCGCTCGCGGACGGAAGCGGACAGACCTAGTTGG\n[(0, 3032988, 50)]\ntime to align read: 1.3654372692108154\n"
     ]
    },
    {
     "name": "stdout",
     "output_type": "stream",
     "text": [
      "\nAligned to transcriptome\nGATTTGTTACAGATCAAGAGAAAACATATGCTGTATATATTATTAGATTT\nGATTTGTTACACATCAAGAGAAAACATATGCTGTATATATTATTAGATTT\n[(0, 5593323, 50)]\ntime to align read: 1.816849946975708\n"
     ]
    },
    {
     "name": "stdout",
     "output_type": "stream",
     "text": [
      "\nAligned to transcriptome\nTTGATCCAGCTGGCTAGGGCAGTATACCCTGCCTCCTTCATGGCTCTGAG\nTTGATCCAGCTGGCTAGGCCAGTGTCCCCTGCCTCCTTCATGGCTCTGCG\n[(0, 9305712, 50)]\ntime to align read: 2.3808770179748535\n"
     ]
    },
    {
     "name": "stdout",
     "output_type": "stream",
     "text": [
      "\nUnaligned\nTGTTGTAAAACCTGACTAAACCCGGGACAGGGCTTTCTCATGGTGATTTC\n[]\ntime to align read: 4.194077014923096\n"
     ]
    },
    {
     "name": "stdout",
     "output_type": "stream",
     "text": [
      "\nUnaligned\nGAGTTCAATGCTTGAGATAAGGAATTCTGTCCTTTGAAAGGTCTCTAGAA\n[]\ntime to align read: 1.7179508209228516\n"
     ]
    },
    {
     "name": "stdout",
     "output_type": "stream",
     "text": [
      "\nUnaligned\nGAGGACCTAGTCCGCAGTTGTTACATCATCAACTTGTCAGCACGTCTTTC\n[]\ntime to align read: 1.5100219249725342\n"
     ]
    },
    {
     "name": "stdout",
     "output_type": "stream",
     "text": [
      "\nAligned to transcriptome\nTTTTGCTCGTAAGGTTTGAGATGCTATTTTAGCATTTAAATGATGAAAAT\nTTTTGCTAGCAAGGTTTGAGATGCTATATTAACATTTAAATCATGAAAAT\n[(0, 3177007, 50)]\ntime to align read: 1.3660333156585693\n"
     ]
    },
    {
     "name": "stdout",
     "output_type": "stream",
     "text": [
      "\nAligned to transcriptome\nTGCGTGTTTCTTTTTTACTTAAACCACATTGGACGGTAAGATTGTTCAGG\nTGCTTGTTTCTTTTTTACTTAAACCACATTGGAAGGTAAGAATTTTCAGG\n[(0, 7866320, 50)]\ntime to align read: 1.2812011241912842\n"
     ]
    },
    {
     "name": "stdout",
     "output_type": "stream",
     "text": [
      "\nAligned to transcriptome\nTAACTAGTTCTCTTCCTCTACTTAAAGAGGGACGAAATACGCCTGCTGAT\nTAACTAGTTCTCTTCTTCTACTTAAAGAGTGACGAAATATGCCTGCTGAT\n[(0, 8570253, 50)]\ntime to align read: 1.3436033725738525\n"
     ]
    },
    {
     "name": "stdout",
     "output_type": "stream",
     "text": [
      "\nAligned to transcriptome\nCTTCTTCTTACACTGTGTGAAACAGCCTGAAAAGACTCTAAAGATGGAGA\nCTTCTTCTGACACTGTGTGAAACAGACTGAAAAGACTCTAAAGATGGAGA\n[(0, 6390737, 50)]\ntime to align read: 1.352334976196289\n"
     ]
    },
    {
     "name": "stdout",
     "output_type": "stream",
     "text": [
      "\nUnaligned\nGTAAGCCCTCACAACAACCAAGTATAAGTCTGCCTGGTGCAGAATTCACA\n[]\ntime to align read: 1.4199588298797607\n"
     ]
    },
    {
     "name": "stdout",
     "output_type": "stream",
     "text": [
      "\nAligned to transcriptome\nTGCTTTGGCGGCACATATCCAAAGATTGGAACAATACAGAGAAAGTTAGC\nTGCTTTGGCGGCACATATCCTAAAATTGGAACAATACAGAGAAAGTTAGC\n[(0, 2570581, 50)]\ntime to align read: 1.3995251655578613\n"
     ]
    },
    {
     "name": "stdout",
     "output_type": "stream",
     "text": [
      "\nUnaligned\nGTGGCACATTCGCCCCTGTCGTGAGTTAGCGATGATTAGAGGGGGAAAAT\n[]\ntime to align read: 1.602074146270752\n"
     ]
    },
    {
     "name": "stdout",
     "output_type": "stream",
     "text": [
      "\nAligned to transcriptome\nGATGGATACAGACATTCCATGCACATGGACACCAAAAGTGAGCAAGAGTA\nGATGGAAAAAGACATTCCATGCAAATGGACACCAAAAGTGAGCAAGAGTA\n[(0, 6655906, 50)]\ntime to align read: 2.966048002243042\n"
     ]
    },
    {
     "name": "stdout",
     "output_type": "stream",
     "text": [
      "\nUnaligned\nAAGGCTGGGCTGCAGTGTCTCTGGATTTGCTTCGAGTCCACTCCTCCTGG\n[]\ntime to align read: 2.1389992237091064\n"
     ]
    },
    {
     "name": "stdout",
     "output_type": "stream",
     "text": [
      "\nUnaligned\nAGCGTATGCATACACTTTCCTACACGTATGCATTGCGGCTAATTAAGTAT\n[]\ntime to align read: 1.7399439811706543\n"
     ]
    },
    {
     "name": "stdout",
     "output_type": "stream",
     "text": [
      "\nAligned to transcriptome\nCCAAGCACATGTGGGAATTCAGTGAAGGCCCCTGCCTTGACATCATAATC\nCCAAGCACATGTGGGAATTCAGTGAAGGCCCCTGCCTTGACCTCATTATC\n[(0, 2720624, 50)]\ntime to align read: 2.6023659706115723\n"
     ]
    },
    {
     "name": "stdout",
     "output_type": "stream",
     "text": [
      "\nAligned to transcriptome\nTTGAAGAGGATAAATCCATGTCATCATGTCCCCAATTTCATAGCACCAAG\nTTGAAGAGGATCAATCCATGTCATCATGTCCCCAATTTCATAGCACCAAG\n[(0, 5579830, 50)]\ntime to align read: 2.4386420249938965\n"
     ]
    },
    {
     "name": "stdout",
     "output_type": "stream",
     "text": [
      "\nAligned to transcriptome\nAAGTTTAAGTCTGCCTGGTGCAGAATTCACATTCTACATTTCACTGTGTG\nAAGTTTAAGTCTGCCTGGTGCAGAATTCACATTCTACATTTCACTATGTG\n[(0, 2950653, 9), (9, 2950910, 41)]\ntime to align read: 2.880584955215454\n"
     ]
    },
    {
     "name": "stdout",
     "output_type": "stream",
     "text": [
      "\nAligned to transcriptome\nCTTCTGCGTTCATCTCCTTCCTCAAGGCCATTATCCATTACATCTGTCTC\nCTTCTGTGTTCATCTGCTTCCTCAAGGCCATTATCCATTACATCTGTCTC\n[(0, 8252426, 50)]\ntime to align read: 2.4322900772094727\n"
     ]
    },
    {
     "name": "stdout",
     "output_type": "stream",
     "text": [
      "\nAligned to transcriptome\nAAACATGCTAGTCTGCCTTACTTGGATGGTGGAAGAACAGAGAGCAGTGT\nAAACTATATTATGTTGGCATATTATTGTTTGTTTAGATTACAATCTATAT\n[(0, 6759839, 50)]\ntime to align read: 4.978961944580078\n"
     ]
    },
    {
     "name": "stdout",
     "output_type": "stream",
     "text": [
      "\nUnaligned\nTGGGGTATTTTGGTAACACCACAAGTCAGGCTCTTGGGAACTAGGCGGAG\n[]\ntime to align read: 3.4424030780792236\n"
     ]
    },
    {
     "name": "stdout",
     "output_type": "stream",
     "text": [
      "\nAligned to transcriptome\nAGCTGTCAGATATTGGCACAGATCAATGCAAAGTCAAAAAAGCTCCTGGT\nAGCTGTCAGATATTGGCACAGATCAGTGCAAAGTGAAAAAAGCTCCTGGT\n[(0, 2625351, 50)]\ntime to align read: 1.691965103149414\n"
     ]
    },
    {
     "name": "stdout",
     "output_type": "stream",
     "text": [
      "\nUnaligned\nTGCGTGTCCCTTCTCAAGACAGATACCGAAAGCATTGAAGAGAAAAACAG\n[]\ntime to align read: 1.9969518184661865\n"
     ]
    },
    {
     "name": "stdout",
     "output_type": "stream",
     "text": [
      "\nAligned to transcriptome\nGCACCCTGTGGCCCGACCTGTGAAGCCAGGCAAAGTGCCTGGTGCTCTTC\nGCACCCTGTGGCCCGACCTGTGAAGCCAGGCACAGTGCCTGCTGCTCTTC\n[(0, 6245324, 50)]\ntime to align read: 2.2774908542633057\n"
     ]
    },
    {
     "name": "stdout",
     "output_type": "stream",
     "text": [
      "\nUnaligned\nCGCTTTCCTCCGCTTCTCTATTTGCCGAGCTTTCCGCGACGGCCGCTAGG\n[]\ntime to align read: 1.9344639778137207\n"
     ]
    },
    {
     "name": "stdout",
     "output_type": "stream",
     "text": [
      "\nAligned to transcriptome\nTCCATGGTGGTTTATCTTACGACCTGCTTTTTAATCTACGTAGGCCATTC\nTCCATGGTGGTTGATCTTACGACCTGCTTTTTAATCCAAGTAAGCCATTC\n[(0, 2950079, 21), (21, 2950542, 29)]\ntime to align read: 1.3559091091156006\n"
     ]
    },
    {
     "name": "stdout",
     "output_type": "stream",
     "text": [
      "\nAligned to transcriptome\nCATGGGAATAGCTAGTACACATAAGTGGTGCCGACCCCGGACACAGAGCT\nCATGGGAATAGCTAATACAAATAAGTGGTGCAGACCCCGGACACAGAGCT\n[(0, 10564243, 50)]\ntime to align read: 1.3290717601776123\n"
     ]
    },
    {
     "name": "stdout",
     "output_type": "stream",
     "text": [
      "\nUnaligned\nTGAGAACTCTTCCACGACCCTGAAGATGGGCTACACGCTGGGCACCAACC\n[]\ntime to align read: 1.6213841438293457\n"
     ]
    },
    {
     "name": "stdout",
     "output_type": "stream",
     "text": [
      "\nAligned to transcriptome\nTGTATTTGTACAATTTCAAAATTTCAACTTGTTGTTGACTTCTAGTTTTA\nTGTATTTGTACAATTTCAAAAGTTCACCTTGTTGTTGACTTCTAGTTTTA\n[(0, 3037829, 50)]\ntime to align read: 1.7233741283416748\n"
     ]
    },
    {
     "name": "stdout",
     "output_type": "stream",
     "text": [
      "\nAligned to transcriptome\nTCCCTGTTGTTTTTGTACCGGCTTCTCCCAAAGGGAGACATTTATTCTTA\nTCCCTGTTGTTTTTGTACCGGCTTCTCCCAAAGGGAGACATTTAGTCTTA\n[(0, 5589400, 50)]\ntime to align read: 1.3695297241210938\n"
     ]
    },
    {
     "name": "stdout",
     "output_type": "stream",
     "text": [
      "\nUnaligned\nTGGATGGGTTCAAATTGATGCCAATTCGTCAGTTCTTCATGATGAGTTCA\n[]\ntime to align read: 4.845135927200317\n"
     ]
    },
    {
     "name": "stdout",
     "output_type": "stream",
     "text": [
      "\nAligned to transcriptome\nGCTCTCCTCTGGTCTGTGCAGCTACGCACGGTGGGGATTGTTTCAGTTTG\nGCTCTCCTCTGGTCTGTGAAGCTACGCAGGGTGGGGCTTGTTTCAGTTTG\n[(0, 3019900, 50)]\ntime to align read: 1.3940000534057617\n"
     ]
    },
    {
     "name": "stdout",
     "output_type": "stream",
     "text": [
      "\nUnaligned\nCCCGGCTACCGGGGAGGCTTAGTCAGGAGAATCGCTTGAACCCTGGAGGT\n[]\ntime to align read: 1.2913789749145508\n"
     ]
    },
    {
     "name": "stdout",
     "output_type": "stream",
     "text": [
      "\nAligned to transcriptome\nAAGCCGAGAATATTCCAGCCCTACAACATTGTTGTTAACAAGTCCACTGC\nAAGCCGAGAATATTCCAGCCCTCCAACATTGTTGTTAAAAAGTCCACTGC\n[(0, 4016560, 50)]\ntime to align read: 1.3197472095489502\n"
     ]
    },
    {
     "name": "stdout",
     "output_type": "stream",
     "text": [
      "\nAligned to transcriptome\nAAAAACTTTATGAATAGTTGGAATGTGGGAATGCTTCATTTTCTCACATC\nAAAAACTTTATGAATTTTTGGGATGTGGGAATGCTTCATTTTCTCACATC\n[(0, 9547061, 50)]\ntime to align read: 1.1957859992980957\n"
     ]
    },
    {
     "name": "stdout",
     "output_type": "stream",
     "text": [
      "\nAligned to transcriptome\nACAGCTCACTGCAGCCTCGATCTCCTGGACTCAACTAATCCTCTTGCCTC\nACAGCTCACTGCAGCCTCGATCTCCTGGACTCAACTAATCCTCCTGCCTC\n[(0, 6393124, 50)]\ntime to align read: 1.2056629657745361\n"
     ]
    },
    {
     "name": "stdout",
     "output_type": "stream",
     "text": [
      "\nUnaligned\nTGACAGATAGCATACTAGTGTAAAGGAGCACATCTTGGGGCAAAAAGAAG\n[]\ntime to align read: 1.1554300785064697\n"
     ]
    },
    {
     "name": "stdout",
     "output_type": "stream",
     "text": [
      "\nUnaligned\nTCAGCTAGAAAGCATCTCCAAACTGCTCAAGGCCATGGTCTGCTAAAGCA\n[]\ntime to align read: 1.176513910293579\n"
     ]
    },
    {
     "name": "stdout",
     "output_type": "stream",
     "text": [
      "\nUnaligned\nACTCACAACAGCGAGGTCATCAGAGGCTCCCTGTGGATTGCCATGTCTGC\n[]\ntime to align read: 1.1817400455474854\n"
     ]
    },
    {
     "name": "stdout",
     "output_type": "stream",
     "text": [
      "\nAligned to transcriptome\nCAAAGTTTTGAGAGTTGAGTTAAGATAAATTCACACAACTACAGGTTATT\nCAAAGTTTTGAGAGCTGTGTTAAGATAAATTCACACAACTACAGGTAATT\n[(0, 3170125, 50)]\ntime to align read: 1.2744011878967285\n"
     ]
    },
    {
     "name": "stdout",
     "output_type": "stream",
     "text": [
      "\nAligned to transcriptome\nCCTGCGGGCTCACGGTATTCATGCGCTGCGTGGAGCCGGGGCCGAGCAGC\nCCTGCGGGCTCACGGTCTGCAAGCGCTGCGTGGAGCCGGGGCCGAGCGGC\n[(0, 2654312, 50)]\ntime to align read: 1.1316871643066406\n"
     ]
    },
    {
     "name": "stdout",
     "output_type": "stream",
     "text": [
      "\nUnaligned\nGTAGTAATCCCAGGGCAAACCTTATCCACTGCATACCACATGAGCTCACC\n[]\ntime to align read: 1.239393949508667\n"
     ]
    },
    {
     "name": "stdout",
     "output_type": "stream",
     "text": [
      "\nAligned to transcriptome\nAAACTCTATGCAAAGCAGAGTGCAATGAAGATTGTAACCTCAAATGACTA\nAAACTCTATGCAAAGAAGAATGCAATGAAGATTGTAACTTCAAAGGACTA\n[(0, 2298353, 15), (15, 2299457, 35)]\ntime to align read: 1.1684248447418213\n"
     ]
    },
    {
     "name": "stdout",
     "output_type": "stream",
     "text": [
      "\nAligned to transcriptome\nCCAGGACTTTTACATTATGGCTGGCCCGATTGTTTTAACCCGCGTTCGAT\nCCAGGACTTTTACATTATGGCTGGTCCGATTGTTTTACCCTGCGTTCTAT\n[(0, 5538390, 50)]\ntime to align read: 1.1596989631652832\n"
     ]
    },
    {
     "name": "stdout",
     "output_type": "stream",
     "text": [
      "\nAligned to transcriptome\nTCCTGTGTATGTAGAACCTTGTGGGTGATGTATACGCCACTGTTGTTCCA\nTCCTGAGTATGCAGAACCTTGTGGGCGATGTCTACGCCACTGTTGTTCCA\n[(0, 2426154, 50)]\ntime to align read: 1.3357160091400146\n"
     ]
    },
    {
     "name": "stdout",
     "output_type": "stream",
     "text": [
      "\nUnaligned\nCACGGTAGAGGAGATATCATAATCACAAAGGTAGTTTTCCCAGGGCAAGC\n[]\ntime to align read: 1.141638994216919\n"
     ]
    },
    {
     "name": "stdout",
     "output_type": "stream",
     "text": [
      "\nAligned to transcriptome\nCAGGACATCCTCCTGACCTGGTAACATTTATGTGAGAAGGATGGTTGGGG\nCAGGACATCTTCCTGACCTGGTAATAATTAGGTGAGAAGGATGGTTGGGG\n[(0, 2673203, 50)]\ntime to align read: 1.2002861499786377\n"
     ]
    },
    {
     "name": "stdout",
     "output_type": "stream",
     "text": [
      "\nAligned to transcriptome\nTGCTGGTCGCCATTTGCACCCTGTGGCCCGACCTGTGAAGCCAGGCACAG\nTGCTGGTGGCCATGTGCACCCTGTGGCCCGACCTGTGAAGCCAGGCACAG\n[(0, 6245309, 50)]\ntime to align read: 1.172123908996582\n"
     ]
    },
    {
     "name": "stdout",
     "output_type": "stream",
     "text": [
      "\nAligned to transcriptome\nCACTGCCAAGACTCAGTGGTTGGATGGCAAGCATGTGGTGTTTGGCAAAG\nCACTGCCAAGACTGAGTGGTTGGATGGCAAGCATGTGGTGTTTGGCAAAG\n[(0, 7807122, 50)]\ntime to align read: 1.2479002475738525\n"
     ]
    },
    {
     "name": "stdout",
     "output_type": "stream",
     "text": [
      "\nUnaligned\nTTGGTGAACAGAATCTTTCCAAAAGTTTGAAGAAGCTTTCATGTTGTGAG\n[]\ntime to align read: 1.1509981155395508\n"
     ]
    },
    {
     "name": "stdout",
     "output_type": "stream",
     "text": [
      "\nUnaligned\nCTTTCATTCTCAGCAAACTAACACAGGAAGAGAAAATCAAACACTGCAAA\n[]\ntime to align read: 1.827364206314087\n"
     ]
    },
    {
     "name": "stdout",
     "output_type": "stream",
     "text": [
      "\nAligned to transcriptome\nGGCTGCCACCTGGGTCACCCCTTTGATTGCCAGGTTGACCTGGTTGATCT\nGGCTGCCACCTGGGTCACCCCATTGATTGCCAGGTTGACCTGGTTGATCC\n[(0, 9305669, 50)]\ntime to align read: 1.1478278636932373\n"
     ]
    },
    {
     "name": "stdout",
     "output_type": "stream",
     "text": [
      "\nAligned to transcriptome\nCACAAAGGTAGTTTTCCCAGGGCAAGCCTTATCCATTGCATTCCTTATGT\nCACAAAGGTAGTTTTCCCAGGGCAAGCCTTATCCACTGCATTCCAGATGT\n[(0, 8294178, 50)]\ntime to align read: 1.1758949756622314\n"
     ]
    },
    {
     "name": "stdout",
     "output_type": "stream",
     "text": [
      "\nUnaligned\nCTGGAGGACTTTGCGGGCTGTCATGGAACTGCATGCTGCAAGGTGTGCTG\n[]\ntime to align read: 1.200139045715332\n"
     ]
    },
    {
     "name": "stdout",
     "output_type": "stream",
     "text": [
      "\nAligned to transcriptome\nTCAAACTTCAAGCATCTGAAATGGACAATGCAGATAACGTTGATATCAAA\nTCAAACTTCAAGCAAATGAAATGGACAATGCAGATAAAGTTGTTATCAAC\n[(0, 7215272, 50)]\ntime to align read: 1.177706003189087\n"
     ]
    },
    {
     "name": "stdout",
     "output_type": "stream",
     "text": [
      "\nAligned to transcriptome\nCTCACCTCTGTGGTTTCCCCAAATGTGGAAAACAGGAGTGCATAATTTGT\nCTCACCTCTGTGGTTTCCCCAAATGTGGAAAACTGGACTGCATAATTTGT\n[(0, 8294229, 50)]\ntime to align read: 1.1897499561309814\n"
     ]
    },
    {
     "name": "stdout",
     "output_type": "stream",
     "text": [
      "\nUnaligned\nGAAACTGGACTGCATAATTTGTGGTAGCGGCGGACTTCACTAATACCTTC\n[]\ntime to align read: 2.1824567317962646\n"
     ]
    },
    {
     "name": "stdout",
     "output_type": "stream",
     "text": [
      "\nAligned to transcriptome\nCAAACTTCAAGAAGAAATACAGAATTAAATTAAGATTCGGGCCATAGCTG\nCAAACTTCAAGAAGAAATACAGAATTTAATTAAAATTCAGGCTATAGCTG\n[(0, 2725528, 50)]\ntime to align read: 1.1917691230773926\n"
     ]
    },
    {
     "name": "stdout",
     "output_type": "stream",
     "text": [
      "\nAligned to transcriptome\nTGCCAGACCGAGGGACTGTTTTTCGTGAGAGTCAAGTAACTGCTGACCCT\nTGCCAGACCGAGGGACTGTTTCTCGTGAGAGTCAAGTAACTGCTGACCCT\n[(0, 8195228, 50)]\ntime to align read: 1.1885449886322021\n"
     ]
    },
    {
     "name": "stdout",
     "output_type": "stream",
     "text": [
      "\nAligned to transcriptome\nGTGATATAAACCTCCTGAAACATTTTGCTTAGAGGCAAGGATTGTCTAAT\nGTGATATAAACCTCCTCAAACATTTTACTTAGAGGCAAGGATTGTCTAAT\n[(0, 7215682, 50)]\ntime to align read: 1.198505163192749\n"
     ]
    },
    {
     "name": "stdout",
     "output_type": "stream",
     "text": [
      "\nUnaligned\nTGAAGTCTGTTTTTACCCGTTCTCCGGGCTGTTATTGCCAAACAAATTAC\n[]\ntime to align read: 2.1099119186401367\n"
     ]
    },
    {
     "name": "stdout",
     "output_type": "stream",
     "text": [
      "\nAligned to transcriptome\nATTTTCTCACATCCATTCAAAGACACATGATAACGCATATTAGAGATGGA\nATTTTCTCACATCCATTCAAAGACACATGATAATGCATATTAGAGATGGA\n[(0, 9547098, 50)]\ntime to align read: 1.213827133178711\n"
     ]
    },
    {
     "name": "stdout",
     "output_type": "stream",
     "text": [
      "\nAligned to transcriptome\nATATAATAAAATTAAGACACCGTTGAGAAGATCAGCATGGTCCCCGCATA\nATATAGTAAAATTAAGACAACGTTGAGAAGATCAGCATGGTCCCCGCACA\n[(0, 1996601, 50)]\ntime to align read: 1.1830739974975586\n"
     ]
    },
    {
     "name": "stdout",
     "output_type": "stream",
     "text": [
      "\nUnaligned\nGAAATGCAGATTGTAACTTCAAAAGACTAATTCTGGAAAATCATTACAAG\n[]\ntime to align read: 1.1754770278930664\n"
     ]
    },
    {
     "name": "stdout",
     "output_type": "stream",
     "text": [
      "\nUnaligned\nCATCATCAGGTATTTGTAAATTACTTTCTGACTATAAGGAAAAACAGATG\n[]\ntime to align read: 2.2365550994873047\n"
     ]
    },
    {
     "name": "stdout",
     "output_type": "stream",
     "text": [
      "\nUnaligned\nAATAAAGAAGCCTGGAAGTAATCCTGGGGGATTTCCAGAAAACCTGGCTA\n[]\ntime to align read: 1.137765884399414\n"
     ]
    },
    {
     "name": "stdout",
     "output_type": "stream",
     "text": [
      "\nUnaligned\nATAATACAACCATTTTGGAAGACCATGGCACGAGGATTGCTTGAGTTCAG\n[]\ntime to align read: 1.213465690612793\n"
     ]
    },
    {
     "name": "stdout",
     "output_type": "stream",
     "text": [
      "\nAligned to transcriptome\nCAGGCAAAAATCTCTCCCTTTGGCTTTCTCCCAGCTTCTGAAACACATCC\nCAGGCAAAAATCTCTCCTTTTGGCTTTCTCCCTGCTTCTGAAACACATCC\n[(0, 10734044, 9), (9, 10735299, 41)]\ntime to align read: 1.4418292045593262\n"
     ]
    },
    {
     "name": "stdout",
     "output_type": "stream",
     "text": [
      "\nAligned to transcriptome\nGCTTGTGCTGTTATTCTTCTGGAACATAGCGCCAATCCAAACCTTAAGGA\nGCTTGTGCTGTTATTCTGCTGGAACATAGCGCCAATCCAAACCTTAAGGA\n[(0, 3017934, 50)]\ntime to align read: 1.132554054260254\n"
     ]
    },
    {
     "name": "stdout",
     "output_type": "stream",
     "text": [
      "\nAligned to genome\nGAGATCGCGCCACTGCACTCCAGCCTGAGTGACAGAGCGAGACTCTATTT\nGAGATCGCGCCACTGCACTCCAGCCTGGGTGACAGAGCGAGACTCCATCT\n[(0, 6468907, 50)]\ntime to align read: 3.0427167415618896\n"
     ]
    },
    {
     "name": "stdout",
     "output_type": "stream",
     "text": [
      "\nAligned to genome\nGGTCAAGCTCTTTCTTCTACACTTTTGCCCATTCTCACTTTGGCACTTGA\nGGTCAAGCTCTTTGTTCTACTCTTTTGCCCCTTCTCACTTTTGCACTTGA\n[(0, 6525846, 50)]\ntime to align read: 1.297191858291626\n"
     ]
    },
    {
     "name": "stdout",
     "output_type": "stream",
     "text": [
      "\nAligned to transcriptome\nGGGAGTGACACAGAGAAATTTAGCAGGGCCTTTGCACAAGGATGCCATGC\nGGGAGTGACACAGAGAAAATTAGCAGGGCCTTTGCACAAGGATGACATGC\n[(0, 4563313, 50)]\ntime to align read: 1.1865301132202148\n"
     ]
    },
    {
     "name": "stdout",
     "output_type": "stream",
     "text": [
      "\nAligned to transcriptome\nGGAGAGGGAATTATACATTCAAGAACCGGACAAGTGTCATGTAAAAAGAC\nGGAGAGGGAATTATAAATTCAACAACCGGACAAGTGTCATGTTAAAAGAC\n[(0, 2726162, 50)]\ntime to align read: 1.17578125\n"
     ]
    },
    {
     "name": "stdout",
     "output_type": "stream",
     "text": [
      "\nAligned to transcriptome\nGTCTACACAGCTTCCGGGTACCGAATCCGGCACCCCGAACTGCAGAAGAT\nGTCTACACGGCTTCCGGGTACCGAATCCGGCACTCCGAACTGCAGAAGAT\n[(0, 3013384, 50)]\ntime to align read: 1.1773631572723389\n"
     ]
    },
    {
     "name": "stdout",
     "output_type": "stream",
     "text": [
      "\nUnaligned\nGTTTTGCATCGAACGCCCTTTCGACCATAGAAGTTTTACAGGCTTTGATA\n[]\ntime to align read: 1.1562039852142334\n"
     ]
    },
    {
     "name": "stdout",
     "output_type": "stream",
     "text": [
      "\nUnaligned\nCAACCTCAGACCATGTGACTCAAAATGTGATTCAATTCGGATATTCATTC\n[]\ntime to align read: 1.1889326572418213\n"
     ]
    },
    {
     "name": "stdout",
     "output_type": "stream",
     "text": [
      "\nUnaligned\nCGAGTTACACCCTGGGAGTTAACTGTAAAACATTGTAGCTGTCCTTGGAG\n[]\ntime to align read: 1.1660490036010742\n"
     ]
    },
    {
     "name": "stdout",
     "output_type": "stream",
     "text": [
      "\nAligned to transcriptome\nGGCTAGGCCAGTGTCACCTGCCTCCTTCATGGCTCTGCGTTGCAAGCTGA\nGGCTAGGCCAGTGTCCCCTGCCTCCTTCATGGCTCTGCGTTGCAAGCTCA\n[(0, 9305723, 50)]\ntime to align read: 1.2097041606903076\n"
     ]
    },
    {
     "name": "stdout",
     "output_type": "stream",
     "text": [
      "\nAligned to transcriptome\nAAACATTTAAGAAAGAACATTCTGGACAAGCCCTAGGAATGCTAGGCATG\nAAACATTTAAGAAAGAACATTCTGGACAAGCCCTATGAATGCAAGGAATG\n[(0, 2788258, 50)]\ntime to align read: 1.1758108139038086\n"
     ]
    },
    {
     "name": "stdout",
     "output_type": "stream",
     "text": [
      "\nUnaligned\nCCTGGATGCCCTGGACCAGCAGCAAACACTGCTCTACAATTGCACTGTGC\n[]\ntime to align read: 1.19734787940979\n"
     ]
    },
    {
     "name": "stdout",
     "output_type": "stream",
     "text": [
      "\nAligned to transcriptome\nGTGAAGGCAGGCACAGTGCCTGCTGCTCTGCCTGTCACTGGCCAACCTGC\nGTGAAGCCAGGCACAGTGCCTGCTGCTCTTCCTGTCACTGGCCAACCTGC\n[(0, 6245343, 50)]\ntime to align read: 1.1553058624267578\n"
     ]
    },
    {
     "name": "stdout",
     "output_type": "stream",
     "text": [
      "\nUnaligned\nCTGATATATCTGTAAAAAAAATGCTTCTTCTGAGTACTCTTGTACATACA\n[]\ntime to align read: 1.5876920223236084\n"
     ]
    },
    {
     "name": "stdout",
     "output_type": "stream",
     "text": [
      "\nAligned to transcriptome\nGATTGTTGACTGAGAGTATACTGGTGTAAAGGAGCACATATTGGGACAAA\nGATTGTTGACAGATAGCATACTGGTGTAAAGGAGCACATCTTGGGACAAA\n[(0, 7589815, 24), (24, 7598768, 26)]\ntime to align read: 1.5062940120697021\n"
     ]
    },
    {
     "name": "stdout",
     "output_type": "stream",
     "text": [
      "\nUnaligned\nCGCTGACGGGCCGTCCGTGCCTCCACTGTTCGCTGGTTGACTCGGGCAGC\n[]\ntime to align read: 1.5947966575622559\n"
     ]
    },
    {
     "name": "stdout",
     "output_type": "stream",
     "text": [
      "\nAligned to transcriptome\nTGCTGTGGATAGTGAGAGGACTTCACTGGAAGAAAAACTGCTTTTCAATG\nTGCTGTGTATAGTGAGAGCACCTCACTGGCAGAAAAACTGCTTTTCAATG\n[(0, 3018011, 50)]\ntime to align read: 1.206022024154663\n"
     ]
    },
    {
     "name": "stdout",
     "output_type": "stream",
     "text": [
      "\nAligned to transcriptome\nCAACGTTGAGAAGATCAGCATGGTCCCCGCACACGAATGACATAGAATTC\nCAACGTTGAGAAGATCAGCATGGTCCCCGCACAAGGATGACATAGAAATC\n[(0, 1996618, 50)]\ntime to align read: 1.3621759414672852\n"
     ]
    },
    {
     "name": "stdout",
     "output_type": "stream",
     "text": [
      "\nUnaligned\nTATATACTCAGCTGGCGCCGGATTGCCGCTAACCTCTACCGGAGCGCTGT\n[]\ntime to align read: 1.4952938556671143\n"
     ]
    },
    {
     "name": "stdout",
     "output_type": "stream",
     "text": [
      "\nAligned to transcriptome\nCGCAGCTAGCGGTGGATGCCTTTTATGGGCGGCGTTCTTTGACTGTATAG\nCGCAGCTAGCGGTGTATGCCTTTTAGGGGCTGCGTTCTTTGACTGTATAG\n[(0, 8194914, 50)]\ntime to align read: 1.683924913406372\n"
     ]
    },
    {
     "name": "stdout",
     "output_type": "stream",
     "text": [
      "\nUnaligned\nTGGAATGTGAATTCTAGGTTGCAATGAATGAGCAAGGAAAACTCTATGGT\n[]\ntime to align read: 1.5441780090332031\n"
     ]
    },
    {
     "name": "stdout",
     "output_type": "stream",
     "text": [
      "\nAligned to transcriptome\nGGGGATTCGTGTAAGGAAAAAGAATGAAGAACGATCAAAAACAGCCCACT\nGGGGATTCCTGTAAGGAAAAAAAATGAAGAAAGAACAAAAACAGCCCACT\n[(0, 2299575, 50)]\ntime to align read: 2.1759119033813477\n"
     ]
    },
    {
     "name": "stdout",
     "output_type": "stream",
     "text": [
      "\nAligned to transcriptome\nCAGCTCATTCTTCTGGACTGTGGCGATCATACTATGTCTGTATCTCAGGA\nCAGCTCATTCTTCTGGACTGTGGCCATCATACTATACCTGTACCTCAGGA\n[(0, 6245489, 50)]\ntime to align read: 1.227128028869629\n"
     ]
    },
    {
     "name": "stdout",
     "output_type": "stream",
     "text": [
      "\nUnaligned\nAGTGGTGAAGATAAAGATGAAGAGAATGAACAGCTGACTAAATTGCAAGC\n[]\ntime to align read: 3.8364508152008057\n"
     ]
    },
    {
     "name": "stdout",
     "output_type": "stream",
     "text": [
      "\nUnaligned\nAAACTGTTACTGATTCTTTAAACGGTCCGCATTCCAGTTTTCTCTACAGC\n[]\ntime to align read: 1.1415810585021973\n"
     ]
    },
    {
     "name": "stdout",
     "output_type": "stream",
     "text": [
      "\nAligned to transcriptome\nGTCTATGGATCCCTCTTGCTGGCCACGGAGGAAGTAGGCAGCTGACACAA\nGTCTATGGAAAGCTCTTGCTGGCCACGGAGGAAGTAGGCAGCTGACACAA\n[(0, 2949942, 50)]\ntime to align read: 1.8994009494781494\n"
     ]
    },
    {
     "name": "stdout",
     "output_type": "stream",
     "text": [
      "\nUnaligned\nGTGGAGGCGGGCGCCTGTAACCCCAGCGGCAGGGGAGGCTTAGTCAGGAG\n[]\ntime to align read: 3.5176939964294434\n"
     ]
    },
    {
     "name": "stdout",
     "output_type": "stream",
     "text": [
      "\nAligned to transcriptome\nTTATTCTGTAAGAAAAAATACAACAGGAATGTAAAAAACTTGAGCCTAAA\nTTATTATGTATGAAAAAATACAACAGGAATGTAAAAAACTTGAGGCTAAA\n[(0, 2603156, 50)]\ntime to align read: 2.3296737670898438\n"
     ]
    },
    {
     "name": "stdout",
     "output_type": "stream",
     "text": [
      "\nAligned to transcriptome\nTTCAGAGAACTTTCTCCTGCCCTGATCTCACTGTAGAATTAAGTATTCTT\nTTCAGAGAAGTTTCTCCTGCCCTCCTCTCCCTGTAGAATTAAGTATTCTT\n[(0, 5589290, 50)]\ntime to align read: 3.0281941890716553\n"
     ]
    },
    {
     "name": "stdout",
     "output_type": "stream",
     "text": [
      "\nUnaligned\nCACTCAAGGTATTCTACAGCAGTTATTATGTATGAAAAAATACAACAGGA\n[]\ntime to align read: 1.8461110591888428\n"
     ]
    },
    {
     "name": "stdout",
     "output_type": "stream",
     "text": [
      "\nAligned to transcriptome\nTTAAAAAGTCCCCTGCTGTATGTTAGGTGACTTCCCAAATCTGCTCACAA\nTTAAAAAGTCCACTGCTGTATGTTAGGTGACTTCCCAAAGCTGCTCACTA\n[(0, 4016594, 50)]\ntime to align read: 2.1055760383605957\n"
     ]
    },
    {
     "name": "stdout",
     "output_type": "stream",
     "text": [
      "\nUnaligned\nCATCTGGTTATGTTGCTGTCCCCCTCACCGCAAGCCACTTCAGGACTGCA\n[]\ntime to align read: 1.562715768814087\n"
     ]
    },
    {
     "name": "stdout",
     "output_type": "stream",
     "text": [
      "\nAligned to genome\nGAAAAGAAAAAGAAAATTTGAGACGGAGTCTGACTCTGTCGCCCACGCTG\nGAAAAGAAAAAGAAAATTTGAGACGGAGTCTGGCTCTGTCGCCCAGGCTG\n[(0, 6455609, 50)]\ntime to align read: 2.3789241313934326\n"
     ]
    },
    {
     "name": "stdout",
     "output_type": "stream",
     "text": [
      "\nAligned to genome\nAGAGTTACACCCTTGGAGTTAACTGTACAACATTCTAGCATTCTTTGGAG\nAGAGTTACACCCTGGGAGTTAACTGTACAACCTTCTAGCTTTCCTTGGAG\n[(0, 5488860, 50)]\ntime to align read: 2.755258083343506\n"
     ]
    },
    {
     "name": "stdout",
     "output_type": "stream",
     "text": [
      "\nAligned to transcriptome\nAGAAGATCAGGACGGTCCCCGCACAAGGAGGACATAGAATTCTGTAAGGT\nAGAAGATCAGCATGGTCCCCGCACAAGGATGACATAGAAATCTGTAAGGT\n[(0, 1996626, 50)]\ntime to align read: 1.4587693214416504\n"
     ]
    },
    {
     "name": "stdout",
     "output_type": "stream",
     "text": [
      "\nUnaligned\nTTAATAAACAGATTGCAGTCCTGAGAAAAGTGCCTCATTTTTCAGTAAAG\n[]\ntime to align read: 1.8355839252471924\n"
     ]
    },
    {
     "name": "stdout",
     "output_type": "stream",
     "text": [
      "\nAligned to genome\nAGAAAATTAGCAGGGCCTATGCACAAGGTTGTCATGCAAATTCATAGAAC\nAGAAAATTAGCAGGGCCTTTGCACAAGGATGACATGCAAATTCATAAAGC\n[(0, 4563326, 50)]\ntime to align read: 2.1383860111236572\n"
     ]
    },
    {
     "name": "stdout",
     "output_type": "stream",
     "text": [
      "\nAligned to transcriptome\nCTGAATCAGAAGCTCTGGGGTGTAAACCAACAACCTGCATTAACACAAGC\nCTGAATCAGAAGCTCTGGGGTGGAACCCAACAACCTGCATTTTAACAAGC\n[(0, 2719108, 50)]\ntime to align read: 1.9843289852142334\n"
     ]
    },
    {
     "name": "stdout",
     "output_type": "stream",
     "text": [
      "\nUnaligned\nCTCATCCTGTCACTGGCCAACCTGCTCTCAGCTGCCTCCTACTTCTATCG\n[]\ntime to align read: 1.5194921493530273\n"
     ]
    },
    {
     "name": "stdout",
     "output_type": "stream",
     "text": [
      "\nAligned to transcriptome\nAGGCCAAGATCGTTTTGCCCAAGGAGAAAATGAAGCTGAGGCGTTAGCAA\nAGGCCAAGACCGTTTTGCCCAAGGAGAAAATGAAGCTGAGGCGTGAGCAA\n[(0, 2741740, 50)]\ntime to align read: 1.5719459056854248\n"
     ]
    },
    {
     "name": "stdout",
     "output_type": "stream",
     "text": [
      "\nAligned to transcriptome\nTGGTAGGGACACATTGGTGAAGTACAAAAATATAAATTGGATCAAGAATA\nTGGTGAAGACACATTGGTGAAGTACAAAAATATAAATTGGATCTAGAAGA\n[(0, 2603260, 50)]\ntime to align read: 1.9532899856567383\n"
     ]
    },
    {
     "name": "stdout",
     "output_type": "stream",
     "text": [
      "\nUnaligned\nTCTTTTTACAACCTTGACGACAGTTAAGATAATTTTCACAGACACCGACC\n[]\ntime to align read: 1.5854649543762207\n"
     ]
    },
    {
     "name": "stdout",
     "output_type": "stream",
     "text": [
      "\nAligned to transcriptome\nAAGGCCCCTCCTACAGGCTCTTGGCGGACGTGTAGAACCGGTTCCTGTCC\nAAGGCCCCTCCTACAGGCTCTTGGCGGACGTCCAGAACCGGTTCCTGTCC\n[(0, 2775718, 50)]\ntime to align read: 1.2631192207336426\n"
     ]
    },
    {
     "name": "stdout",
     "output_type": "stream",
     "text": [
      "\nAligned to transcriptome\nTTGCTATCGTAAAAAGCGCAGAGAAGAAAAATACGAAAAGGAAGTTCATC\nTTGCTGTCGTAAAAAGCGCAGAGAAGAAAAATACGAAAAGTAAGTTCATC\n[(0, 2625791, 50)]\ntime to align read: 1.1740171909332275\n"
     ]
    },
    {
     "name": "stdout",
     "output_type": "stream",
     "text": [
      "\nUnaligned\nAAAAAGGTAACTTTCCCAGGGCAAGCCTTATCCCCTGCATTCCAGATGTG\n[]\ntime to align read: 1.2552530765533447\n"
     ]
    },
    {
     "name": "stdout",
     "output_type": "stream",
     "text": [
      "\nAligned to transcriptome\nGGAAATGGAACTTTGTATAAATTATTTTCCCCCAATAGGAACTAAAGCAT\nGGAAATGGAACTTTGTATAAATGATTTTCCCCCAAGAGGAACTAAAGCAT\n[(0, 3534467, 50)]\ntime to align read: 1.6300549507141113\n"
     ]
    },
    {
     "name": "stdout",
     "output_type": "stream",
     "text": [
      "\nAligned to transcriptome\nACCTACACTGATGTTAGTTCTCTTATGAACAAAATAAGATGTTATCCCAT\nACCTACACTGATCTTAGTTCTCTTATGAAAAAAATAAGATGTTATCCCAT\n[(0, 3176314, 50)]\ntime to align read: 3.241446018218994\n"
     ]
    },
    {
     "name": "stdout",
     "output_type": "stream",
     "text": [
      "\nAligned to transcriptome\nCCTTACTTTTGAATGCCGCAATTTTCTCTGAGTAGACCCTAAAAGGGACA\nCCTTACTTTTGAATGCCGCAATTTTCTCTGAGTAGACCCTAAAAGGGACA\n[(0, 8688776, 50)]\ntime to align read: 1.2362089157104492\n"
     ]
    },
    {
     "name": "stdout",
     "output_type": "stream",
     "text": [
      "\nUnaligned\nTTCTGTCCCTGGGGGTCCCTACCTTTACCAGTGGAATGGTGACAGGTGTA\n[]\ntime to align read: 1.190094232559204\n"
     ]
    },
    {
     "name": "stdout",
     "output_type": "stream",
     "text": [
      "\nAligned to transcriptome\nAGAAACACAGTGTTGTGAAGAAAGGGGGCATATTCTCAGCAGAATTTCTT\nAGAAACACAGTGTTATGAAGAAAGGGGGCATATTCTCAGCAGAATTTCTT\n[(0, 2069658, 50)]\ntime to align read: 1.171457052230835\n"
     ]
    },
    {
     "name": "stdout",
     "output_type": "stream",
     "text": [
      "\nAligned to transcriptome\nTGATGAGGGTTTGCTAGAGATAGAAAATGGTGTCTCCTTTCTGTCTGGTC\nTGATGAGGGTTTGCTTGAGATAGAAAATGGTGGCTCCTTTCTGTCTTATC\n[(0, 7216204, 50)]\ntime to align read: 1.1591873168945312\n"
     ]
    },
    {
     "name": "stdout",
     "output_type": "stream",
     "text": [
      "\nAligned to transcriptome\nCTTTTGTACATTTCCCTCCCTTGTAACGAAAAGCTAATCGCAAACGTTTC\nCTTTTGTACTTTTCCCTCCCTTGTAACGAAAAGCTAATCGCAAACGTTTC\n[(0, 6560834, 50)]\ntime to align read: 1.252748966217041\n"
     ]
    },
    {
     "name": "stdout",
     "output_type": "stream",
     "text": [
      "\nAligned to transcriptome\nACTCAAAATGTGATTTAATTCAGTTACTCATTCAACATACGATAACTCTG\nACTCAAAATGTGATTCAATTCAGTTATTCATTCAACATACGATAACTGTG\n[(0, 4295681, 50)]\ntime to align read: 1.2509880065917969\n"
     ]
    },
    {
     "name": "stdout",
     "output_type": "stream",
     "text": [
      "\nAligned to transcriptome\nATTTCCGCCCAATGGGGAAGCTTGACTGCTTAGTTTGTTATGGCAGGGGA\nATTTCCGCCCAATGGGGAAGCTTGACTGCTTAGTTTGTTGTGGCAGGGGA\n[(0, 5668086, 50)]\ntime to align read: 1.2102532386779785\n"
     ]
    },
    {
     "name": "stdout",
     "output_type": "stream",
     "text": [
      "\nAligned to transcriptome\nGCTATCCTACTGGAAGCATATATCTACCACCTGCTGAAGCACTGTTGCCC\nGCTATCCTTCTGGAAGCATATATCTACCGCCTGCTGAAGCGCTATTGCCG\n[(0, 9337722, 50)]\ntime to align read: 1.5590078830718994\n"
     ]
    },
    {
     "name": "stdout",
     "output_type": "stream",
     "text": [
      "\nAligned to transcriptome\nATGACTTATTTTGGACTATGGAGATTGCCCAGCAAGCCGAGAATATTCGA\nATGACTTATTTTGGACCATGGAGATTGCCCAGCAAGCCGAGAATATTCCA\n[(0, 4016204, 8), (8, 4016535, 42)]\ntime to align read: 1.493056058883667\n"
     ]
    },
    {
     "name": "stdout",
     "output_type": "stream",
     "text": [
      "\nAligned to transcriptome\nTGGTGACCAGACAGTCAGGATTGTGTTACATTTTAATAGGAATGGGGATA\nTGGTGCCCAGACAGTCAGGATTGTGTTACATTTTAATAGGAATGGGGATA\n[(0, 3092921, 50)]\ntime to align read: 1.173677682876587\n"
     ]
    },
    {
     "name": "stdout",
     "output_type": "stream",
     "text": [
      "\nAligned to transcriptome\nCCTGGTAAGAATTCGGTGATAAGGATGGTTGGGGGCGGTCGGCGTAACTC\nCCTGGTAATAATTAGGTGAGAAGGATGGTTGGGGGCGGTCGGCGTAACTC\n[(0, 2673219, 50)]\ntime to align read: 1.1788899898529053\n"
     ]
    },
    {
     "name": "stdout",
     "output_type": "stream",
     "text": [
      "\nAligned to transcriptome\nTTTCCTAGTCCCTGAGACCCTAACTTGTGAGGTATTTTAGTAACATCACG\nTTTCCTAGTCCCTGAGACCCTAACTTGTGAGGTATTTTAGTAACATCACA\n[(0, 5539244, 50)]\ntime to align read: 1.2076621055603027\n"
     ]
    },
    {
     "name": "stdout",
     "output_type": "stream",
     "text": [
      "\nUnaligned\nCAACCTTTGCTAATGCTATTTCCATGTCTGATGTTCCAAGGAAAATATTA\n[]\ntime to align read: 1.204746961593628\n"
     ]
    },
    {
     "name": "stdout",
     "output_type": "stream",
     "text": [
      "\nAligned to transcriptome\nGGAAGAAGTAAAATAAAATCTTAAAAAACGTATGGAAAGTACACATTGGT\nGGAAGAAGTAATATTAAATCTTAAAAAACGTATGGAAAGTACACATTGGT\n[(0, 2603214, 50)]\ntime to align read: 1.2194247245788574\n"
     ]
    },
    {
     "name": "stdout",
     "output_type": "stream",
     "text": [
      "\nAligned to transcriptome\nGCGCGAACGCCCACTGTTCACGGGGAATCCGGGCGGCGAGCATGAGGCGC\nGCGCGAACGGCCACTGTTCACGGGGAAGCCGGGCGGCGAGCTTGAGGCGC\n[(0, 2654175, 50)]\ntime to align read: 1.1709020137786865\n"
     ]
    },
    {
     "name": "stdout",
     "output_type": "stream",
     "text": [
      "\nUnaligned\nGGACACAGATGAACCTTTCTGCGGAAGTGAAAAGTGTGTTGTGATGTATC\n[]\ntime to align read: 1.2097506523132324\n"
     ]
    },
    {
     "name": "stdout",
     "output_type": "stream",
     "text": [
      "\nAligned to transcriptome\nTGAGTGTTCCCTGTTTCCACCACCAATCTGCTCCATACTCCAGCTGCATT\nTGAGTGTTCCCTGTTCCCACCTCCAATCTGCTCCATCCTCCAGCTGCATT\n[(0, 6387929, 50)]\ntime to align read: 1.4540119171142578\n"
     ]
    },
    {
     "name": "stdout",
     "output_type": "stream",
     "text": [
      "\nAligned to transcriptome\nGCTTTAAAACTTCAATATTGAGTCATCAACAATAACTCCTTAATTGTATA\nGCTTTAAAACTTCAACAAAGAGTCATCATCAATGACTCCTTCATTGTATA\n[(0, 3723357, 50)]\ntime to align read: 1.3819520473480225\n"
     ]
    },
    {
     "name": "stdout",
     "output_type": "stream",
     "text": [
      "\nAligned to transcriptome\nAACTCAGAACTTGCTGAAATGCAGAAGTGAAAGAGCAGTATCACACCATC\nAACTCAGAACTTGCTGAAATGCAGAAGTGAAAGAGCAGTATCACTCCATC\n[(0, 8079562, 50)]\ntime to align read: 1.1931450366973877\n"
     ]
    },
    {
     "name": "stdout",
     "output_type": "stream",
     "text": [
      "\nAligned to transcriptome\nTTGACTCAAAACAATCTAGGTATTCAACAGGAGTTATTATGTATGAAAAA\nTTGACTCAAAACAATCAAGGTATTCAACAGGAGTTATTATGTATGAAAAA\n[(0, 2603123, 50)]\ntime to align read: 1.2097008228302002\n"
     ]
    },
    {
     "name": "stdout",
     "output_type": "stream",
     "text": [
      "\nAligned to transcriptome\nCCAGGAGCAACCCGGCCAGGAGCAGCTCATAGGGGTAGAGGCCCAGCTTA\nCCAGGAGCAGCCCGGCCAGGAGCAGCTCATAGGGGTAGAGGCTCAGCTTA\n[(0, 2712029, 50)]\ntime to align read: 1.3144440650939941\n"
     ]
    },
    {
     "name": "stdout",
     "output_type": "stream",
     "text": [
      "\nAligned to transcriptome\nTGAAACACATCCCTTTCCAGGAATGCATGCTTTCTGAGGCAGACAAAAGA\nTGAAACACATCCCTTTCCAGGAATGCATGCTTTCTGAGGCAGACAAAAGA\n[(0, 10735328, 50)]\ntime to align read: 1.8830389976501465\n"
     ]
    },
    {
     "name": "stdout",
     "output_type": "stream",
     "text": [
      "\nUnaligned\nGGGGAAGAGTACTACGTCCAGGGAACACTCCATGGGAGACAACAATTTGA\n[]\ntime to align read: 1.4757328033447266\n"
     ]
    },
    {
     "name": "stdout",
     "output_type": "stream",
     "text": [
      "\nAligned to transcriptome\nAACTTTTGTACTTTTCCCTATCTTGTAACGAAAAGCTAATCGCAACCGTT\nAACTTTTGTACTTTTCCCTCCCTTGTAACGAAAAGCTAATCGCAAACGTT\n[(0, 6560832, 50)]\ntime to align read: 1.593083143234253\n"
     ]
    },
    {
     "name": "stdout",
     "output_type": "stream",
     "text": [
      "\nAligned to transcriptome\nGATGATTTTATATCCTGGAAACAAAATTTATGATGATTACTATCCAGAAC\nGATGATTTTATATTCTGGAAACAAAATTTATGATGATTACTATCCAGAAC\n[(0, 2625229, 50)]\ntime to align read: 1.2104179859161377\n"
     ]
    },
    {
     "name": "stdout",
     "output_type": "stream",
     "text": [
      "\nAligned to genome\nTGGAATATCACAAGATGAGATTCTGACTAATAAAGAAAAGCAGATAGAAG\nTGGAATATCACAAGATGAGATTCTGACTAATAAACAAAAGCAGATAGAAG\n[(0, 2588562, 50)]\ntime to align read: 1.2220079898834229\n"
     ]
    },
    {
     "name": "stdout",
     "output_type": "stream",
     "text": [
      "\nUnaligned\nCATATCCAGATGACTGAGGAATGTTGAAGATTCCGGTGAAGGAAGTGCCC\n[]\ntime to align read: 1.1916589736938477\n"
     ]
    },
    {
     "name": "stdout",
     "output_type": "stream",
     "text": [
      "\nUnaligned\nACACACATGCAGATTGACAGATGTCCAACTTATAATAGAGCTTTTTAATC\n[]\ntime to align read: 2.6266770362854004\n"
     ]
    },
    {
     "name": "stdout",
     "output_type": "stream",
     "text": [
      "\nUnaligned\nAGTCACCTGGCTGCTGAACGGCCACGGATAACGTTCCAGATAACAAGTCG\n[]\ntime to align read: 2.560225009918213\n"
     ]
    },
    {
     "name": "stdout",
     "output_type": "stream",
     "text": [
      "\nAligned to transcriptome\nGTTGATCCAGCTGGCTAGGCGAGTGTCCCCTGCCTCCTTCATGGATCTGC\nGTTGATCCAGCTGGCTAGGCCAGTGTCCCCTGCCTCCTTCATGGCTCTGC\n[(0, 9305711, 50)]\ntime to align read: 1.2231149673461914\n"
     ]
    },
    {
     "name": "stdout",
     "output_type": "stream",
     "text": [
      "\nAligned to transcriptome\nTCCTACATGCTAGAAGACATTGGGCACCTATCCTCGGCCTCCTCAAACAA\nTCCTACAAGCTAGAAGACATTGGGGACCTATCTTCAGCCTCCTCAAACAA\n[(0, 6655407, 50)]\ntime to align read: 1.2621958255767822\n"
     ]
    },
    {
     "name": "stdout",
     "output_type": "stream",
     "text": [
      "\nAligned to transcriptome\nCTCTACCTGACCTATACACCCAGGAGCCATTATTCCCCTGCCTGGTATCT\nCTCTACCTGACCCATACACCCAGGAGGCAATATTCCCCTGCCTGGTATCT\n[(0, 3999835, 50)]\ntime to align read: 1.4854931831359863\n"
     ]
    },
    {
     "name": "stdout",
     "output_type": "stream",
     "text": [
      "\nAligned to transcriptome\nTGTGCTGACCCCTACGATTTCAGCCCAATGGGGAAGGTTGACTGCTTAGT\nTGTGCTGACCCCTACGATTTCCGCCCAATGGGGAAGCTTGACTGCTTAGT\n[(0, 5668070, 50)]\ntime to align read: 2.23786997795105\n"
     ]
    },
    {
     "name": "stdout",
     "output_type": "stream",
     "text": [
      "\nAligned to transcriptome\nGTTGCTCAAGTTTGATGTTTGTTGAACCCTTTGTTATCACTGTGACTTTG\nGTTGATCAAGTTTGATGTTTGTTGAAACCTTTGTGGTCACTGTGACTTTG\n[(0, 8569925, 50)]\ntime to align read: 1.1760261058807373\n"
     ]
    },
    {
     "name": "stdout",
     "output_type": "stream",
     "text": [
      "\nAligned to genome\nTTTGTACCGACTTCTTCCAAAGGGGGACATTTAGTCTTATTTTTCGTGGT\nTTTGTACCGGCTTCTCCCAAAGGGAGACATTTAGTCTTATTCTTCTTGGT\n[(0, 5589411, 50)]\ntime to align read: 1.1876752376556396\n"
     ]
    },
    {
     "name": "stdout",
     "output_type": "stream",
     "text": [
      "\nUnaligned\nTTTATGTGCCAGGGTGGTAACTTCACAAGCCATAATGGCAGTTGTGGCAA\n[]\ntime to align read: 1.1368658542633057\n"
     ]
    },
    {
     "name": "stdout",
     "output_type": "stream",
     "text": [
      "\nAligned to transcriptome\nTGAGGGCTTTGGGGTGATGGGGATCTTCTTCTGTTGGTTTCTATTTTACT\nTGAGGGCTTTGGGGTGATGGGGATCTTCTTCTGCTTGTTTCTTTTTTACT\n[(0, 7866289, 50)]\ntime to align read: 1.2142140865325928\n"
     ]
    },
    {
     "name": "stdout",
     "output_type": "stream",
     "text": [
      "\nUnaligned\nGTAGCTTGTGGACCCGTGCGGCGCGAGCGTGGAGGCGGGTGGCTCGGTGC\n[]\ntime to align read: 1.210151195526123\n"
     ]
    },
    {
     "name": "stdout",
     "output_type": "stream",
     "text": [
      "\nAligned to transcriptome\nACTAAGGTGACAGCTGACTCTGCCGGGGCGGAGTCCGTGGCCTCCCAACG\nACTAAGGTGACAGCTGACTCTGCCGGGGCGGAGTGCGTGTCCTCCCACCG\n[(0, 3222955, 50)]\ntime to align read: 1.1924560070037842\n"
     ]
    },
    {
     "name": "stdout",
     "output_type": "stream",
     "text": [
      "\nAligned to transcriptome\nATCCTCAAGGAGAGAAGATGATTTAAACACAGAGGGTAGTAGTGCAAAAG\nATCCTCAAGGAGAGAAGATAATTTCAACACAGAGGGTAGTAGTGCAAAAG\n[(0, 10233226, 50)]\ntime to align read: 1.1746790409088135\n"
     ]
    },
    {
     "name": "stdout",
     "output_type": "stream",
     "text": [
      "\nUnaligned\nATCAAGATTGCCAGCAATGCCTCCAGTATCACCAATTGGCTTCGCCCTCT\n[]\ntime to align read: 1.1736159324645996\n"
     ]
    },
    {
     "name": "stdout",
     "output_type": "stream",
     "text": [
      "\nUnaligned\nACAGACAACTAATGCAATGCATTATACTTCAAGCGACCAGCACCACCAAC\n[]\ntime to align read: 3.6792051792144775\n"
     ]
    },
    {
     "name": "stdout",
     "output_type": "stream",
     "text": [
      "\nUnaligned\nTATTTTTCAATAAACATTAATGAAGTACTTATCATGTATTAGCCACTATG\n[]\ntime to align read: 1.9658429622650146\n"
     ]
    },
    {
     "name": "stdout",
     "output_type": "stream",
     "text": [
      "\nAligned to transcriptome\nTCAGAAGCACCATATGGATGACAGTGTTTGATAAGCCAGCAAACTCGACG\nTCAGAAGCACCATATGGATGACAGTGTTTGATAAGCCAGCAAACTCGACG\n[(0, 2961275, 7), (7, 2962503, 43)]\ntime to align read: 1.1942400932312012\n"
     ]
    },
    {
     "name": "stdout",
     "output_type": "stream",
     "text": [
      "\nUnaligned\nGGATAGAACAAGGAGAGAAAAAAAAAAGCATTCTTCTACCCCTAAACGTT\n[]\ntime to align read: 1.2062811851501465\n"
     ]
    },
    {
     "name": "stdout",
     "output_type": "stream",
     "text": [
      "\nUnaligned\nCTATTGCCCACTTAGCAAAGATGGTTGTTCGCGGTTTGGGATTGACACTG\n[]\ntime to align read: 1.216292142868042\n"
     ]
    },
    {
     "name": "stdout",
     "output_type": "stream",
     "text": [
      "\nAligned to transcriptome\nCAGTATGGGGAACGTCATCGGCTATCGGGCCGGCCCCTGGATGAAGTACA\nCAGTATTGAGAACGTGATCGGCTATCGGGCCGGGCCCTGGATGAAGTACA\n[(0, 8195001, 50)]\ntime to align read: 1.1650078296661377\n"
     ]
    },
    {
     "name": "stdout",
     "output_type": "stream",
     "text": [
      "\nAligned to transcriptome\nGAAATGCAGAAGTAAAATAGCAGTATCACTCCAACCTGCTGAACTACGGG\nGAAATGCAGAAGTGAAAGAGCAGTATCACTCCATCCTGCTGAACTACGGG\n[(0, 8079577, 50)]\ntime to align read: 1.3249642848968506\n"
     ]
    },
    {
     "name": "stdout",
     "output_type": "stream",
     "text": [
      "\nUnaligned\nGCTGCAATGACTGTTCACTTTCTCCCATGAAGTCCTCCATGGGAAAAGTA\n[]\ntime to align read: 1.2755179405212402\n"
     ]
    },
    {
     "name": "stdout",
     "output_type": "stream",
     "text": [
      "\nAligned to transcriptome\nTCGCATTTTGTCTGTCCCCCTCATTAGGCTTTAAGCGAATTAGACTTTAA\nTCGCAGTTTGTCTGTCCCCCTTATTAGTCTTTAAGCGAATTAGACTTTAA\n[(0, 3896033, 50)]\ntime to align read: 1.2089900970458984\n"
     ]
    },
    {
     "name": "stdout",
     "output_type": "stream",
     "text": [
      "\nUnaligned\nATTTAGCAAAACTAACTTGGAGAGAAGTGGTATCTCCACAAGAATTCAAA\n[]\ntime to align read: 1.411454200744629\n"
     ]
    },
    {
     "name": "stdout",
     "output_type": "stream",
     "text": [
      "\nUnaligned\nGCAGTCCTGTGCATTCTTTGTGCTCACCTCAAGCCTGCTGGTGGCCATGT\n[]\ntime to align read: 1.575230360031128\n"
     ]
    },
    {
     "name": "stdout",
     "output_type": "stream",
     "text": [
      "\nAligned to transcriptome\nCCTGTGCAAAACTTCTCGAACATGGCTGGACTGTAGGCTTATTCGCAGTG\nCCTGTGCAAAACTTCTTGAACATGACTGTACTGTAGGCTTATTAGCAGTT\n[(0, 5475958, 50)]\ntime to align read: 1.3087141513824463\n"
     ]
    },
    {
     "name": "stdout",
     "output_type": "stream",
     "text": [
      "\nAligned to transcriptome\nGAACTTCATCCTAAAGCATACAGGTCCTGGCATTTTGTCCATGGCAAATG\nGAACTTCATCCTAAAGCATACAGGTCCTGGCATCTTGTCCATGGCAAATG\n[(0, 7807035, 50)]\ntime to align read: 1.212580919265747\n"
     ]
    },
    {
     "name": "stdout",
     "output_type": "stream",
     "text": [
      "\nAligned to transcriptome\nTGGCTATCTTGTCTTTTGAAGTATGTAGTAATAAGTCTTATCTCTGGTTT\nTGGCTATCTTGTCTTTTGAAATATGTAGTAATAAGACTTATCTCTGGTTT\n[(0, 3176380, 50)]\ntime to align read: 1.2221949100494385\n"
     ]
    },
    {
     "name": "stdout",
     "output_type": "stream",
     "text": [
      "\nAligned to genome\nCCAAAGTGCTGGGATTATCGGTGTGAGCGACCAACCCCTCCAGAGTCTTC\nCCAAAGTGCTGGGATTATCGGTGTGAGCCACCAACCCCTGCAGAGTCTAC\n[(0, 3941305, 50)]\ntime to align read: 1.304915189743042\n"
     ]
    },
    {
     "name": "stdout",
     "output_type": "stream",
     "text": [
      "\nAligned to transcriptome\nAATGGATTATGCTCTATTCCAGGCTCTGATCACGACAGCCCCAGCCAACA\nAATGGATTATTCTCTAGTCCAGGCTCTGATCACCACAGCCCCAGCCAACA\n[(0, 8083284, 50)]\ntime to align read: 1.8302419185638428\n"
     ]
    },
    {
     "name": "stdout",
     "output_type": "stream",
     "text": [
      "\nAligned to genome\nATATGGAAATTGGAACAGTTCAGAGACTAGCGTGGCTTCTGTGCAAGCAT\nATATGGAAATTGGAACAGTGCAGAGATTAGCGTGGCTCCTGTGCAAGGAT\n[(0, 6380564, 50)]\ntime to align read: 1.6783580780029297\n"
     ]
    },
    {
     "name": "stdout",
     "output_type": "stream",
     "text": [
      "\nUnaligned\nTGGCGTGGTGGAGGGCGCCTGTAATCCCAGCTACAAGGGAGGCTGAGTCA\n[]\ntime to align read: 1.4959979057312012\n"
     ]
    },
    {
     "name": "stdout",
     "output_type": "stream",
     "text": [
      "\nAligned to transcriptome\nACCAAGAAAGTATCATCCTCTATAACTGTCCTTTACTGCGTTGGCCTTGG\nACCAAGAAAGTATAATACTCTATAACTGACATTTACTGCATTGGCCTTGG\n[(0, 4000651, 50)]\ntime to align read: 2.3483259677886963\n"
     ]
    },
    {
     "name": "stdout",
     "output_type": "stream",
     "text": [
      "\nAligned to genome\nCTGTCACTGGCCAACCAGCTTTCAGCTGGCTCCTACTTCTTTGCGTTGCT\nCTGTCACTGGCCAACCTGCTCTCAGCTGCCTCCTACTTCTATGGGATGCT\n[(0, 6245374, 50)]\ntime to align read: 2.8796589374542236\n"
     ]
    },
    {
     "name": "stdout",
     "output_type": "stream",
     "text": [
      "\nAligned to genome\nCGATCTTGTGGTGACGAGGACCGCACAAGATCGCTTTAATGAGTCTGTGT\nCGATCTTGTGGTGAAGTGGACCGCACAAGCTCGCTTCTATGGGTCTGTGT\n[(0, 5488112, 50)]\ntime to align read: 1.3050081729888916\n"
     ]
    },
    {
     "name": "stdout",
     "output_type": "stream",
     "text": [
      "\nAligned to transcriptome\nGGTCTTATCCAGTTCCACTGAAGAGGACACTTCAATACAAAAGAAACGAA\nGGTCTTATCCAGTTCCACTGAAGAGGACACTTCAAAACAAAAGAAACGAA\n[(0, 8688971, 50)]\ntime to align read: 1.3092961311340332\n"
     ]
    },
    {
     "name": "stdout",
     "output_type": "stream",
     "text": [
      "\nAligned to transcriptome\nTTACTCAAAATGTGATTCAATTCAGTAATTCTTTCATCATACGATAACTG\nTTACTCAAAATGTGATTCAATTCAGTTATTCATTCAACATACGATAACTG\n[(0, 4295679, 50)]\ntime to align read: 1.2344319820404053\n"
     ]
    },
    {
     "name": "stdout",
     "output_type": "stream",
     "text": [
      "\nUnaligned\nAGGCATACCTCTGTCACCAAGCACGTCCTTACTTGTTCTTTCTCCAGCAT\n[]\ntime to align read: 1.4223220348358154\n"
     ]
    },
    {
     "name": "stdout",
     "output_type": "stream",
     "text": [
      "\nAligned to transcriptome\nCTATGGAAAGCTCTTGCTGGACACGGAGGAAGTAGGCAGCTGACACAAAG\nCTATGGAAAGCTCTTGCTGGCCACGGAGGAAGTAGGCAGCTGACACAAAG\n[(0, 2949944, 50)]\ntime to align read: 2.1864829063415527\n"
     ]
    },
    {
     "name": "stdout",
     "output_type": "stream",
     "text": [
      "\nAligned to transcriptome\nGCTGGAACCAACACAAATGGATCCCAGTTTTTCATCTGCACTGCCAAGAC\nGCTGGACCCAACACAAATGGATCCCAGTTTTTCATCTGCACTGCCAAGAC\n[(0, 7807084, 50)]\ntime to align read: 1.7723100185394287\n"
     ]
    },
    {
     "name": "stdout",
     "output_type": "stream",
     "text": [
      "\nUnaligned\nGCACACTGGTTCCTTTCAATTAATCCCAGAAATTAATATTTTTGGACCAC\n[]\ntime to align read: 2.710330009460449\n"
     ]
    },
    {
     "name": "stdout",
     "output_type": "stream",
     "text": [
      "\nAligned to transcriptome\nGATGCCACATCAAAGCTTAATTGCTACACTGAAACACTGGCAACAAAAAT\nGATGCCACATCAAAGCTTAATTGCTCCACTGAAACACTGGCAACAAAAAT\n[(0, 3531281, 10), (10, 3534362, 40)]\ntime to align read: 2.376167058944702\n"
     ]
    },
    {
     "name": "stdout",
     "output_type": "stream",
     "text": [
      "\nAligned to transcriptome\nCTGAAGACGCCTGCGCTCCTCTGGTCTGTGGAGCTACGCAGGGTGGGGCT\nCTGAAGACGCCTGCTCTCCTCTGGTCTGTGAAGCTACGCAGGGTGGGGCT\n[(0, 3019888, 50)]\ntime to align read: 2.3448610305786133\n"
     ]
    },
    {
     "name": "stdout",
     "output_type": "stream",
     "text": [
      "\nAligned to transcriptome\nCAAGTCGACCAGAAAATACTCCCCTGAGACAGTTGCTCTCTCAACACCAA\nCAAGTCGACCAGAAAATACTCCCCTGAGACAGTTTCTCTCTAAACACCCA\n[(0, 2069584, 50)]\ntime to align read: 3.023397922515869\n"
     ]
    },
    {
     "name": "stdout",
     "output_type": "stream",
     "text": [
      "\nAligned to transcriptome\nACGTCATGTCCAGAAATGGAATACTGTCATGTTAGGATGAACATCTGATC\nACGTCATGTCCAGAAATGGAATACTGTCATGTTAGGATGAACATCTGATC\n[(0, 3910630, 50)]\ntime to align read: 1.5809211730957031\n"
     ]
    },
    {
     "name": "stdout",
     "output_type": "stream",
     "text": [
      "\nAligned to transcriptome\nTTCCTCTTCAAAGATGTTAGGCTGTAACCATCCTTTAAAATTCAAGAGGG\nTTCCTCTTCAAAGATTTTAGCCTGTAAACATCCTTTAAAATTCAAGAGGG\n[(0, 2000904, 50)]\ntime to align read: 1.9714040756225586\n"
     ]
    },
    {
     "name": "stdout",
     "output_type": "stream",
     "text": [
      "\nUnaligned\nGGACTCCTCGACTCAACTAATCCTCCTGCCTCAGCCTTCCGGATTGTTGA\n[]\ntime to align read: 3.381646156311035\n"
     ]
    },
    {
     "name": "stdout",
     "output_type": "stream",
     "text": [
      "\nUnaligned\nCGTTTCCAGGAATGCATGCTTTCTGAGGCAGACATAAGCAGAGTTGTTCA\n[]\ntime to align read: 1.5931499004364014\n"
     ]
    },
    {
     "name": "stdout",
     "output_type": "stream",
     "text": [
      "\nAligned to genome\nCAAAAATGTTATTCAGTACCATAAACATTATGAAGTAGAACTGGCTGTCC\nCAAAAATGTTATTCAATAACATAAACATTATGAAGTAGAACTGGCTGTCC\n[(0, 3941757, 50)]\ntime to align read: 1.3487591743469238\n"
     ]
    },
    {
     "name": "stdout",
     "output_type": "stream",
     "text": [
      "\nAligned to transcriptome\nACTCTTCCACGACCCTGAAGATGGGCTACACGCTGGGCACCAACCAGAGC\nACTCTTCCACGACCCTGAAGATGGGCTACACGCTGGGCACCAACCAGAGC\n[(0, 2776422, 50)]\ntime to align read: 1.3034381866455078\n"
     ]
    },
    {
     "name": "stdout",
     "output_type": "stream",
     "text": [
      "\nAligned to transcriptome\nACTAGTTCACGTCTTCTACTTAAAGAGTGACGAAATATGCCAGCTGATTG\nACTAGTTCTCTTCTTCTACTTAAAGAGTGACGAAATATGCCTGCTGATTG\n[(0, 8570255, 50)]\ntime to align read: 1.2603919506072998\n"
     ]
    },
    {
     "name": "stdout",
     "output_type": "stream",
     "text": [
      "\nAligned to transcriptome\nCTCACTTAAATGGCGGAGCCGAAGGGGTCATCACATCTGTTCCTTCTACT\nCTCACTTAAATGGTGGAGCCAAAGGGGTCATCACATCTGTCCCTTCTACT\n[(0, 3723593, 50)]\ntime to align read: 1.2201011180877686\n"
     ]
    },
    {
     "name": "stdout",
     "output_type": "stream",
     "text": [
      "\nUnaligned\nAGTTCAAAGGAAAAGGAAGCTTATTCTTACTAAGCCCACATATAGCTGTA\n[]\ntime to align read: 1.2150967121124268\n"
     ]
    },
    {
     "name": "stdout",
     "output_type": "stream",
     "text": [
      "\nAligned to transcriptome\nCTTTAAACTAAAATGTGAACCAAAACAAGGTTCACATCCATTACAGTATG\nCTTTAAACTAAAATGTGAACCAAAAGAAGGTTCACTTCCATTACAGTATG\n[(0, 2625487, 50)]\ntime to align read: 1.2493698596954346\n"
     ]
    },
    {
     "name": "stdout",
     "output_type": "stream",
     "text": [
      "\nAligned to transcriptome\nTATCCTAAAATTGGAACAATACAGAGATAGTTAGCATGGCTTGTACATAT\nTATCCTAAAATTGGAACAATACAGAGAAAGTTAGCATGGCTTCTGCATAA\n[(0, 2570596, 50)]\ntime to align read: 1.2387492656707764\n"
     ]
    },
    {
     "name": "stdout",
     "output_type": "stream",
     "text": [
      "\nAligned to transcriptome\nGCCACCACTTTGGTCTAAGATCTATCATCTGCAGAAGTGACCTGTGGCAA\nGCCACCACTGTGGTCTAAGATCTATCACCTGCAGAAGTGACCTGTGGCAA\n[(0, 8542892, 50)]\ntime to align read: 2.53292179107666\naverage time to align each read: 1.3239955625079927\n"
     ]
    }
   ],
   "source": [
    "total_t = -time()\n",
    "for read_sequence in reads:\n",
    "    t = -time()\n",
    "    print(aligner.align(read_sequence))\n",
    "    t += time()\n",
    "    print(\"time to align read: \" + str(t))\n",
    "total_t += time()\n",
    "print(\"average time to align each read: \" + str(total_t / len(reads)))"
   ]
  },
  {
   "cell_type": "code",
   "execution_count": null,
   "metadata": {},
   "outputs": [],
   "source": [
    ""
   ]
  }
 ],
 "metadata": {
  "kernelspec": {
   "display_name": "Python 2",
   "language": "python",
   "name": "python2"
  },
  "language_info": {
   "codemirror_mode": {
    "name": "ipython",
    "version": 2
   },
   "file_extension": ".py",
   "mimetype": "text/x-python",
   "name": "python",
   "nbconvert_exporter": "python",
   "pygments_lexer": "ipython2",
   "version": "2.7.6"
  }
 },
 "nbformat": 4,
 "nbformat_minor": 0
}

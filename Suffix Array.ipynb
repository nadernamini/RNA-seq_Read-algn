{
 "cells": [
  {
   "cell_type": "code",
   "execution_count": 7,
   "metadata": {},
   "outputs": [],
   "source": [
    "from project_nader import *\n",
    "from project_tiffany import get_suffix_array as gsa"
   ]
  },
  {
   "cell_type": "code",
   "execution_count": 2,
   "metadata": {},
   "outputs": [],
   "source": [
    "from Bio import SeqIO\n",
    "import numpy as np\n",
    "import csv\n",
    "from shared import *\n",
    "from time import time\n",
    "import numpy as np"
   ]
  },
  {
   "cell_type": "code",
   "execution_count": 3,
   "metadata": {},
   "outputs": [],
   "source": [
    "def read_reads():\n",
    "    \"\"\"\n",
    "    Reads all the RNA reads from reads.fa and returns a list of sequences as strings.\n",
    "\n",
    "    :return: a list of RNA sequence reads as strings\n",
    "    \"\"\"\n",
    "    max_id_len = 600\n",
    "    reads = np.zeros((1575, 2), dtype='U{:d}'.format(max_id_len))\n",
    "    i = 0\n",
    "    for seq_record in SeqIO.parse(\"reads.fa\", \"fasta\"):\n",
    "        reads[i, 0] = seq_record.id\n",
    "        reads[i, 1] = str(seq_record.seq)\n",
    "        i += 1\n",
    "    return reads"
   ]
  },
  {
   "cell_type": "code",
   "execution_count": 4,
   "metadata": {},
   "outputs": [],
   "source": [
    "def read_genome():\n",
    "    \"\"\"\n",
    "    Reads the genome sequence from genome.fa and return the genome sequence as a string.\n",
    "\n",
    "    :return: a string of the genome sequence\n",
    "    \"\"\"\n",
    "    genome = None\n",
    "    for seq_record in SeqIO.parse(\"genome.fa\", \"fasta\"):\n",
    "        genome = str(seq_record.seq)\n",
    "    return genome"
   ]
  },
  {
   "cell_type": "code",
   "execution_count": 5,
   "metadata": {},
   "outputs": [],
   "source": [
    "def read_known_genes():\n",
    "    \"\"\"\n",
    "    Reads the un/known genes, isoforms, and exons from genes.tab and constructs objects for each\n",
    "    and return the list of constructed genes.\n",
    "\n",
    "    :return: known_genes (a list of known Gene objects), unknown_genes (a list of unknown Gene objects)\n",
    "    \"\"\"\n",
    "    known_genes, known_isoforms, known_exons = {}, {}, {}\n",
    "    unknown_genes, unknown_isoforms, unknown_exons = {}, {}, {}\n",
    "    with open(\"genes.tab\") as tsv:\n",
    "        for line in csv.reader(tsv, dialect=\"excel-tab\"):\n",
    "            name = line[0]\n",
    "            if name == 'gene':\n",
    "                known_genes[line[1]] = line[2].split(';')\n",
    "            elif name == 'isoform':\n",
    "                known_isoforms[line[1]] = line[2].split(';')\n",
    "            elif name == 'exon':\n",
    "                known_exons[line[1]] = Exon(line[1], int(line[2]), int(line[3]))\n",
    "            elif name == 'unknown_gene':\n",
    "                unknown_genes[line[1]] = line[2].split(';')\n",
    "            elif name == 'unknown_isoform':\n",
    "                unknown_isoforms[line[1]] = line[2].split(';')\n",
    "            elif name == 'unknown_exon':\n",
    "                unknown_exons[line[1]] = Exon(line[1], int(line[2]), int(line[3]))\n",
    "    # Create the known Isoform objects\n",
    "    for k in known_isoforms:\n",
    "        known_isoforms[k] = Isoform(k, [known_exons[key] for key in known_isoforms[k]])\n",
    "        \n",
    "    # Create the UNknown Isoform objects\n",
    "    for k in unknown_isoforms:\n",
    "        unknown_isoforms[k] = Isoform(k, [unknown_exons[key] for key in unknown_isoforms[k]])\n",
    "\n",
    "    # Create the known Genes objects\n",
    "    for k in known_genes:\n",
    "        known_genes[k] = Gene(k, [known_isoforms[key] for key in known_genes[k]])\n",
    "        \n",
    "    # Create the UNknown Genes objects\n",
    "    for k in unknown_genes:\n",
    "        unknown_genes[k] = Gene(k, [unknown_isoforms[key] for key in unknown_genes[k]])\n",
    "    return known_genes, unknown_genes"
   ]
  },
  {
   "cell_type": "code",
   "execution_count": 6,
   "metadata": {},
   "outputs": [],
   "source": [
    "# Main\n",
    "reads = read_reads()\n",
    "genome_sequence = read_genome()\n",
    "known_genes, unknown_genes = read_known_genes()"
   ]
  },
  {
   "cell_type": "code",
   "execution_count": 8,
   "metadata": {},
   "outputs": [],
   "source": [
    "genome = genome_sequence\n",
    "genes = known_genes\n",
    "s = genome_sequence[::-1] + TERMINATOR\n",
    "sa = get_suffix_array(s)\n",
    "L = get_bwt(s, sa)\n",
    "F = get_F(L)\n",
    "M = get_M(F)\n",
    "occ = get_occ(L)"
   ]
  },
  {
   "cell_type": "code",
   "execution_count": 9,
   "metadata": {},
   "outputs": [],
   "source": [
    "def replace_base_at_index(read_sequence, idx, base):\n",
    "    length = len(read_sequence)\n",
    "    return read_sequence[:idx] + base + read_sequence[idx + 1:]"
   ]
  },
  {
   "cell_type": "code",
   "execution_count": null,
   "metadata": {},
   "outputs": [],
   "source": [
    "def replace_bases_at_indices(read_sequence, _range, bases):\n",
    "    length = len(read_sequence)\n",
    "    return read_sequence[:_range[0]] + bases + read_sequence[range[1] + 1:]"
   ]
  },
  {
   "cell_type": "code",
   "execution_count": 14,
   "metadata": {},
   "outputs": [],
   "source": [
    "def check_seeds(_range, length, high_bound=None):\n",
    "    valid_seeds = []\n",
    "    for i in range(_range[0], _range[1]):\n",
    "        location = sa[i] + length\n",
    "        if not high_bound or location < high_bound and MIN_INTRON_SIZE <= high_bound - location <= MAX_INTRON_SIZE:\n",
    "            valid_seeds.append(len(genome_sequence) + 1 - location)\n",
    "    return valid_seeds"
   ]
  },
  {
   "cell_type": "code",
   "execution_count": 11,
   "metadata": {},
   "outputs": [],
   "source": [
    "def find_max_so_far(max_so_far, len_read, mismatches):\n",
    "    if max_so_far[3] < mismatches and max_so_far[1] < len_read:\n",
    "        updated = False\n",
    "        old_max_so_far = max_so_far\n",
    "        possible_changes = [b for b in BASES if b != max_so_far[2][len_read - max_so_far[1] - 1]]\n",
    "        old_misses = misses = max_so_far[3]\n",
    "        for change in possible_changes:\n",
    "            new_read = replace_base_at_index(max_so_far[2], len_read - max_so_far[1] - 1, change)\n",
    "            new_range, new_length = exact_suffix_matches(new_read, M, occ)\n",
    "            if new_length > max_so_far[1]:\n",
    "                max_so_far = (new_range, new_length, new_read, misses + 1)\n",
    "                updated = True\n",
    "                if max_so_far[1] >= len_read:\n",
    "                    return True, max_so_far\n",
    "        if updated:\n",
    "            maxes = []\n",
    "            for change in possible_changes:\n",
    "                new_read = replace_base_at_index(old_max_so_far[2], len_read - old_max_so_far[1] - 1, change)\n",
    "                new_range, new_length = exact_suffix_matches(new_read, M, occ)\n",
    "                if new_length == max_so_far[1]:\n",
    "                    maxes.append((new_range, new_length, new_read, old_misses + 1))\n",
    "            print('      ' + 'new')\n",
    "            for mx_so_far in maxes:\n",
    "                print('      ' + str(mx_so_far))\n",
    "                test, maxi = find_max_so_far(mx_so_far, len_read, mismatches)\n",
    "                if test:\n",
    "                    return test, maxi\n",
    "        else:\n",
    "            if max_so_far[1] != read_len:\n",
    "                return False, ()\n",
    "            else:\n",
    "                return True, max_so_far\n",
    "    elif max_so_far[3] > mismatches:\n",
    "        return False, ()\n",
    "    else:\n",
    "        return True, max_so_far"
   ]
  },
  {
   "cell_type": "code",
   "execution_count": 12,
   "metadata": {},
   "outputs": [],
   "source": [
    "def seed_finder(read_sequence, high_bound=None, mismatches=6, k=3):\n",
    "    len_read, seeds_len, seeds = len(read_sequence), 0, []\n",
    "    if k == 1:\n",
    "        _range, length = exact_suffix_matches(read_sequence, M, occ)\n",
    "        max_so_far, updated = (_range, length, read_sequence, 0), True\n",
    "        \n",
    "        test, max_so_far = find_max_so_far(max_so_far, len_read, mismatches)\n",
    "        \n",
    "        if max_so_far[1] == len_read:\n",
    "            seeds = check_seeds(max_so_far[0], max_so_far[1], high_bound)\n",
    "            if seeds:\n",
    "                return True, (seeds, max_so_far[1])\n",
    "            else:\n",
    "                return False, ()\n",
    "        return False, ()\n",
    "#     else:\n",
    "#         for i in range(len(read_sequence) - 1, -1, -1):\n",
    "#             test_read = read_sequence[i:]\n",
    "#             _range, length = exact_suffix_matches(test_read, M, occ)\n",
    "#             if length == len(test_read):\n",
    "                "
   ]
  },
  {
   "cell_type": "code",
   "execution_count": 15,
   "metadata": {},
   "outputs": [
    {
     "name": "stdout",
     "output_type": "stream",
     "text": [
      "      new\n",
      "      ((1071416, 1071417), 42, 'CTATCGGCAATCTTCAAATAGTCAGAAAAGAAAGTGTGAAAGTTAAAGGA', 1)\n",
      "      new\n",
      "      ((8301542, 8301543), 49, 'CTATCGGGAATCTTCAAATAGTCAGAAAAGAAAGTGTGAAAGTTAAAGGA', 2)\n",
      "        253: (True, ([2590478], 50))\n"
     ]
    }
   ],
   "source": [
    "reverse_read = reads[91][1][::-1]\n",
    "# print('        ' + str(len(reverse_read)))\n",
    "seedds = seed_finder(reverse_read, k=1)\n",
    "print('        ' + str(253) + \": \" + str(seedds))\n",
    "# print('        ' + str(seedds[0] > seedds[1]))"
   ]
  },
  {
   "cell_type": "code",
   "execution_count": 16,
   "metadata": {},
   "outputs": [],
   "source": [
    "sa_T = gsa(s)"
   ]
  },
  {
   "cell_type": "code",
   "execution_count": 52,
   "metadata": {},
   "outputs": [],
   "source": [
    "num_misses, misses = 0, []\n",
    "while num_misses < 2:\n",
    "    for i in range(len(sa)):\n",
    "        if sa[i] != sa_T[i]:\n",
    "            num_misses += 1\n",
    "            misses.append(i)\n",
    "        if num_misses > 2:\n",
    "            break"
   ]
  },
  {
   "cell_type": "code",
   "execution_count": 59,
   "metadata": {},
   "outputs": [
    {
     "data": {
      "text/plain": [
       "9041832"
      ]
     },
     "execution_count": 59,
     "metadata": {},
     "output_type": "execute_result"
    }
   ],
   "source": [
    "misses\n",
    "sa[282117]"
   ]
  },
  {
   "cell_type": "code",
   "execution_count": 40,
   "metadata": {},
   "outputs": [],
   "source": [
    "a = [s[i:i+200] for i in sa[282117:282120]]"
   ]
  },
  {
   "cell_type": "code",
   "execution_count": 41,
   "metadata": {},
   "outputs": [],
   "source": [
    "b = [s[i:i+200] for i in sa_T[282117:282120]]"
   ]
  },
  {
   "cell_type": "code",
   "execution_count": 50,
   "metadata": {},
   "outputs": [
    {
     "data": {
      "text/plain": [
       "'CACACAAAGGTTTGATGACG'"
      ]
     },
     "execution_count": 50,
     "metadata": {},
     "output_type": "execute_result"
    }
   ],
   "source": [
    "a[0][100:120]"
   ]
  },
  {
   "cell_type": "code",
   "execution_count": 51,
   "metadata": {},
   "outputs": [
    {
     "data": {
      "text/plain": [
       "'CTCACAAAGGTTTGACGACG'"
      ]
     },
     "execution_count": 51,
     "metadata": {},
     "output_type": "execute_result"
    }
   ],
   "source": [
    "b[0][100:120]"
   ]
  },
  {
   "cell_type": "code",
   "execution_count": 39,
   "metadata": {},
   "outputs": [
    {
     "name": "stdout",
     "output_type": "stream",
     "text": [
      "        101\n"
     ]
    }
   ],
   "source": [
    "for i in range(len(a[0])):\n",
    "    if a[0][i] != b[0][i]:\n",
    "        print('        '+ str(i))\n",
    "        print('        '+ str(a[i]) + )\n",
    "        break"
   ]
  },
  {
   "cell_type": "code",
   "execution_count": null,
   "metadata": {},
   "outputs": [],
   "source": []
  }
 ],
 "metadata": {
  "kernelspec": {
   "display_name": "Python 3",
   "language": "python",
   "name": "python3"
  },
  "language_info": {
   "codemirror_mode": {
    "name": "ipython",
    "version": 3
   },
   "file_extension": ".py",
   "mimetype": "text/x-python",
   "name": "python",
   "nbconvert_exporter": "python",
   "pygments_lexer": "ipython3",
   "version": "3.7.1"
  }
 },
 "nbformat": 4,
 "nbformat_minor": 2
}

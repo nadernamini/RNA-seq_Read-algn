{
 "cells": [
  {
   "cell_type": "markdown",
   "metadata": {},
   "source": [
    "# Reading the Data"
   ]
  },
  {
   "cell_type": "code",
   "execution_count": 1,
   "metadata": {},
   "outputs": [],
   "source": [
    "from Bio import SeqIO\n",
    "import numpy as np\n",
    "import csv\n",
    "from shared import *\n",
    "from project_nader import *\n",
    "from time import time"
   ]
  },
  {
   "cell_type": "code",
   "execution_count": 2,
   "metadata": {},
   "outputs": [],
   "source": [
    "def read_reads():\n",
    "    \"\"\"\n",
    "    Reads all the RNA reads from reads.fa and returns a list of sequences as strings.\n",
    "\n",
    "    :return: a list of RNA sequence reads as strings\n",
    "    \"\"\"\n",
    "    max_id_len = 600\n",
    "    reads = np.zeros((1575, 2), dtype='U{:d}'.format(max_id_len))\n",
    "    i = 0\n",
    "    for seq_record in SeqIO.parse(\"reads.fa\", \"fasta\"):\n",
    "        reads[i, 0] = seq_record.id\n",
    "        reads[i, 1] = str(seq_record.seq)\n",
    "        i += 1\n",
    "    return reads"
   ]
  },
  {
   "cell_type": "code",
   "execution_count": 3,
   "metadata": {},
   "outputs": [],
   "source": [
    "def read_genome():\n",
    "    \"\"\"\n",
    "    Reads the genome sequence from genome.fa and return the genome sequence as a string.\n",
    "\n",
    "    :return: a string of the genome sequence\n",
    "    \"\"\"\n",
    "    genome = None\n",
    "    for seq_record in SeqIO.parse(\"genome.fa\", \"fasta\"):\n",
    "        genome = str(seq_record.seq)\n",
    "    return genome"
   ]
  },
  {
   "cell_type": "code",
   "execution_count": 4,
   "metadata": {},
   "outputs": [],
   "source": [
    "def read_known_genes():\n",
    "    \"\"\"\n",
    "    Reads the un/known genes, isoforms, and exons from genes.tab and constructs objects for each\n",
    "    and return the list of constructed genes.\n",
    "\n",
    "    :return: known_genes (a list of known Gene objects), unknown_genes (a list of unknown Gene objects)\n",
    "    \"\"\"\n",
    "    known_genes, known_isoforms, known_exons = {}, {}, {}\n",
    "    unknown_genes, unknown_isoforms, unknown_exons = {}, {}, {}\n",
    "    with open(\"genes.tab\") as tsv:\n",
    "        for line in csv.reader(tsv, dialect=\"excel-tab\"):\n",
    "            name = line[0]\n",
    "            if name == 'gene':\n",
    "                known_genes[line[1]] = line[2].split(';')\n",
    "            elif name == 'isoform':\n",
    "                known_isoforms[line[1]] = line[2].split(';')\n",
    "            elif name == 'exon':\n",
    "                known_exons[line[1]] = Exon(line[1], int(line[2]), int(line[3]))\n",
    "            elif name == 'unknown_gene':\n",
    "                unknown_genes[line[1]] = line[2].split(';')\n",
    "            elif name == 'unknown_isoform':\n",
    "                unknown_isoforms[line[1]] = line[2].split(';')\n",
    "            elif name == 'unknown_exon':\n",
    "                unknown_exons[line[1]] = Exon(line[1], int(line[2]), int(line[3]))\n",
    "    # Create the known Isoform objects\n",
    "    for k in known_isoforms:\n",
    "        known_isoforms[k] = Isoform(k, [known_exons[key] for key in known_isoforms[k]])\n",
    "        \n",
    "    # Create the UNknown Isoform objects\n",
    "    for k in unknown_isoforms:\n",
    "        unknown_isoforms[k] = Isoform(k, [unknown_exons[key] for key in unknown_isoforms[k]])\n",
    "\n",
    "    # Create the known Genes objects\n",
    "    for k in known_genes:\n",
    "        known_genes[k] = Gene(k, [known_isoforms[key] for key in known_genes[k]])\n",
    "        \n",
    "    # Create the UNknown Genes objects\n",
    "    for k in unknown_genes:\n",
    "        unknown_genes[k] = Gene(k, [unknown_isoforms[key] for key in unknown_genes[k]])\n",
    "    return known_genes, unknown_genes"
   ]
  },
  {
   "cell_type": "markdown",
   "metadata": {},
   "source": [
    "# Alignment Algorithm Class"
   ]
  },
  {
   "cell_type": "code",
   "execution_count": 5,
   "metadata": {},
   "outputs": [],
   "source": [
    "MIN_INTRON_SIZE = 20\n",
    "MAX_INTRON_SIZE = 10000\n",
    "\n",
    "\n",
    "class Aligner:\n",
    "    def __init__(self, genome_sequence, known_genes):\n",
    "        \"\"\"\n",
    "        Initializes the aligner. Do all time intensive set up here. i.e. build suffix array.\n",
    "\n",
    "        genome_sequence: a string (NOT TERMINATED BY '$') representing the bases of the of the genome\n",
    "        known_genes: a python set of Gene objects (see shared.py) that represent known genes. You can get the isoforms\n",
    "                     and exons from a Gene object\n",
    "\n",
    "        Time limit: 500 seconds maximum on the provided data. Note that our server is probably faster than your machine,\n",
    "                    so don't stress if you are close. Server is 1.25 times faster than the i7 CPU on my computer\n",
    "        \"\"\"\n",
    "        self.sa = get_suffix_array(genome_sequence)\n",
    "        L = get_bwt(genome_sequence, self.sa)\n",
    "        self.occ, self.M = get_occ(L), get_M(get_F(L))\n",
    "        self.known_genes = known_genes\n",
    "\n",
    "    def align(self, read_sequence):\n",
    "        \"\"\"\n",
    "        Returns an alignment to the genome sequence. An alignment is a list of pieces.\n",
    "        Each piece consists of a start index in the read, a start index in the genome, and a length\n",
    "        indicating how many bases are aligned in this piece. Note that mismatches are count as \"aligned\".\n",
    "\n",
    "        Note that <read_start_2> >= <read_start_1> + <length_1>. If your algorithm produces an alignment that\n",
    "        violates this, we will remove pieces from your alignment arbitrarily until consecutive pieces\n",
    "        satisfy <read_start_2> >= <read_start_1> + <length_1>\n",
    "\n",
    "        Return value must be in the form (also see the project pdf):\n",
    "        [(<read_start_1>, <reference_start_1, length_1), (<read_start_2>, <reference_start_2, length_2), ...]\n",
    "\n",
    "        If no good matches are found: return the best match you can find or return []\n",
    "\n",
    "        Time limit: 0.5 seconds per read on average on the provided data.\n",
    "        \"\"\"\n",
    "        # for gene in self.known_genes:\n",
    "\n",
    "        pass"
   ]
  },
  {
   "cell_type": "markdown",
   "metadata": {},
   "source": [
    "# Testing"
   ]
  },
  {
   "cell_type": "code",
   "execution_count": 6,
   "metadata": {},
   "outputs": [],
   "source": [
    "# Main\n",
    "reads = read_reads()\n",
    "genome_sequence = read_genome()\n",
    "known_genes, unknown_genes = read_known_genes()"
   ]
  },
  {
   "cell_type": "code",
   "execution_count": 7,
   "metadata": {},
   "outputs": [
    {
     "name": "stdout",
     "output_type": "stream",
     "text": [
      "length of the genome sequence: 10949001\n",
      "time to run Aligner.__init__: 854.515557050705\n"
     ]
    }
   ],
   "source": [
    "print(\"length of the genome sequence: \" + str(len(genome_sequence) + 1))\n",
    "\n",
    "t = -time()\n",
    "\"\"\"\n",
    "aligner = Aligner(genome_sequence, known_genes)\n",
    "t += time()\n",
    "\"\"\"\n",
    "# Initialization\n",
    "sa = get_suffix_array(genome_sequence + '$')\n",
    "L = get_bwt(genome_sequence, sa)\n",
    "occ, M = get_occ(L), get_M(get_F(L))\n",
    "# self.known_genes = known_genes\n",
    "\n",
    "print(\"time to run Aligner.__init__: \" + str(t + time()))"
   ]
  },
  {
   "cell_type": "code",
   "execution_count": 8,
   "metadata": {},
   "outputs": [
    {
     "name": "stdout",
     "output_type": "stream",
     "text": [
      "time to find the known transcriptome: 2.007504940032959\n"
     ]
    }
   ],
   "source": [
    "t = -time()\n",
    "known_transcriptome = {}\n",
    "for gene in known_genes:\n",
    "    known_transcriptome[gene] = {}\n",
    "    for iso in known_genes[gene].isoforms:\n",
    "        isoform, exons, total_len = '', [], 0\n",
    "        for ex in iso.exons:\n",
    "            isoform += genome_sequence[ex.start: ex.end]\n",
    "            exons.append((total_len, ex.start, ex.end - ex.start))\n",
    "            total_len += ex.end - ex.start\n",
    "        known_transcriptome[gene][iso] = [isoform, exons]\n",
    "print(\"time to find the known transcriptome: \" + str(t + time()))"
   ]
  },
  {
   "cell_type": "code",
   "execution_count": 9,
   "metadata": {},
   "outputs": [
    {
     "name": "stdout",
     "output_type": "stream",
     "text": [
      "time to find the UNknown transcriptome: 0.0005719661712646484\n"
     ]
    }
   ],
   "source": [
    "t = -time()\n",
    "unknown_transcriptome = {}\n",
    "for gene in unknown_genes:\n",
    "    unknown_transcriptome[gene] = {}\n",
    "    for iso in unknown_genes[gene].isoforms:\n",
    "        isoform, exons, total_len = '', [], 0\n",
    "        for ex in iso.exons:\n",
    "            isoform += genome_sequence[ex.start: ex.end]\n",
    "            exons.append((total_len, ex.start, ex.end - ex.start))\n",
    "            total_len += ex.end - ex.start\n",
    "        unknown_transcriptome[gene][iso] = [isoform, exons]\n",
    "print(\"time to find the UNknown transcriptome: \" + str(t + time()))"
   ]
  },
  {
   "cell_type": "code",
   "execution_count": 10,
   "metadata": {},
   "outputs": [
    {
     "name": "stdout",
     "output_type": "stream",
     "text": [
      "number of known isoforms: 127\n"
     ]
    }
   ],
   "source": [
    "num_isoforms = 0\n",
    "for gene in known_transcriptome:\n",
    "    num_isoforms += len(known_transcriptome[gene])\n",
    "print('number of known isoforms:', num_isoforms)"
   ]
  },
  {
   "cell_type": "code",
   "execution_count": 11,
   "metadata": {},
   "outputs": [
    {
     "name": "stdout",
     "output_type": "stream",
     "text": [
      "number of UNknown isoforms: 9\n"
     ]
    }
   ],
   "source": [
    "num_isoforms = 0\n",
    "for gene in unknown_transcriptome:\n",
    "    num_isoforms += len(unknown_transcriptome[gene])\n",
    "print('number of UNknown isoforms:', num_isoforms)"
   ]
  },
  {
   "cell_type": "code",
   "execution_count": 12,
   "metadata": {},
   "outputs": [],
   "source": [
    "def find_alignment(read_len, align_start, exons):\n",
    "    def find_start_location(lo, hi):\n",
    "        mid = (lo + hi) // 2\n",
    "        if exons[mid][0] <= align_start < exons[mid][0] + exons[mid][2]:\n",
    "            return mid\n",
    "        elif exons[mid][0] + exons[mid][2] <= align_start:\n",
    "            return find_start_location(mid+1, hi)\n",
    "        else:\n",
    "            return find_start_location(lo, mid-1)\n",
    "    idx = find_start_location(0, len(exons))\n",
    "    algn = [(0, exons[idx][1] + (align_start - exons[idx][0]),\n",
    "             read_len if read_len + (align_start - exons[idx][0]) <= exons[idx][2]\n",
    "             else exons[idx][2] - (align_start - exons[idx][0]))]\n",
    "    read_len -= exons[idx][2] - (align_start - exons[idx][0])\n",
    "    while read_len > 0:\n",
    "        idx += 1\n",
    "        algn.append((0, exons[idx][1] + (align_start - exons[idx][0]),\n",
    "                     read_len if read_len + (align_start - exons[idx][0]) <= exons[idx][2]\n",
    "                     else exons[idx][2] - (align_start - exons[idx][0])))\n",
    "        read_len -= exons[idx][2] - (align_start - exons[idx][0])\n",
    "    return algn"
   ]
  },
  {
   "cell_type": "code",
   "execution_count": 13,
   "metadata": {},
   "outputs": [],
   "source": [
    "def align_to_isoform(read, isoform, exons):\n",
    "    match = (-1, float(\"inf\"))\n",
    "    for i in range(len(isoform) - len(read) + 1):\n",
    "        j, mismatches = 0, 0\n",
    "        while j < len(read):\n",
    "            if isoform[i+j] != read[j]:\n",
    "                mismatches += 1\n",
    "            if mismatches > 6:\n",
    "                break\n",
    "            j += 1\n",
    "        if j == len(read) and mismatches < match[1]:\n",
    "            match = (i, mismatches)\n",
    "    return match if match[0] == -1 else (find_alignment(len(read), match[0], exons), match[1])"
   ]
  },
  {
   "cell_type": "code",
   "execution_count": null,
   "metadata": {},
   "outputs": [],
   "source": [
    "def align_to_transcriptome(read, transcriptome):\n",
    "    match = (-1, float(\"inf\"))\n",
    "    for gene in transcriptome:\n",
    "        for iso in transcriptome[gene]:\n",
    "            alignment, mismatches = align_to_isoform(read, transcriptome[gene][iso][0], transcriptome[gene][iso][1])\n",
    "            if alignment != -1 and mismatches <= match[1]:\n",
    "                match = (alignment, mismatches)\n",
    "    return match"
   ]
  },
  {
   "cell_type": "code",
   "execution_count": 14,
   "metadata": {},
   "outputs": [
    {
     "data": {
      "text/plain": [
       "'ATTACTCTTGGGAATGAAATCCTATCTATATAAGCTGTGGTTTGAAATCC'"
      ]
     },
     "execution_count": 14,
     "metadata": {},
     "output_type": "execute_result"
    }
   ],
   "source": [
    "reads[0][1]"
   ]
  },
  {
   "cell_type": "code",
   "execution_count": null,
   "metadata": {},
   "outputs": [],
   "source": [
    "rand_iso"
   ]
  },
  {
   "cell_type": "code",
   "execution_count": null,
   "metadata": {},
   "outputs": [],
   "source": [
    "t = -time()\n",
    "# align_to_isoform(reads[166][1], reads[166][1])\n",
    "align_to_transcriptome(reads[150][1], known_transcriptome)"
   ]
  },
  {
   "cell_type": "code",
   "execution_count": null,
   "metadata": {},
   "outputs": [],
   "source": [
    "unable_to_match = []\n",
    "for i in range(len(reads)):\n",
    "    start, mismatches = align_to_transcriptome(reads[i][1], known_transcriptome)\n",
    "    if start == -1:\n",
    "        unable_to_match.append(i)\n",
    "        print(str(i) + ' not matched!')"
   ]
  },
  {
   "cell_type": "code",
   "execution_count": null,
   "metadata": {},
   "outputs": [],
   "source": [
    "still_unable_to_match = []\n",
    "for i in range(len(unable_to_match)):\n",
    "    start, mismatches = align_to_transcriptome(reads[i][1], unknown_transcriptome)\n",
    "    if start != -1:\n",
    "        print(str(i) + ' matched to an unknown gene!')\n",
    "    else:\n",
    "        still_unable_to_match.append(i)"
   ]
  },
  {
   "cell_type": "code",
   "execution_count": 22,
   "metadata": {},
   "outputs": [
    {
     "name": "stdout",
     "output_type": "stream",
     "text": [
      "         ((3152211, 3152212), 12)\n",
      "time to find the read in the genome: 0.0007557868957519531\n"
     ]
    }
   ],
   "source": [
    "t = -time()\n",
    "print('         ' + str(exact_suffix_matches(reads[0][1][:-38], M, occ)))\n",
    "print(\"time to find the read in the genome: \" + str(t + time()))"
   ]
  },
  {
   "cell_type": "code",
   "execution_count": null,
   "metadata": {},
   "outputs": [],
   "source": [
    "\"\"\"\n",
    "Use exact_suffix_matches but need to find consecutive matches with possible mismatches and restricted intron length\n",
    "\"\"\"\n",
    "def align_to_genome(read):\n",
    "    # TODO\n",
    "    pass"
   ]
  }
 ],
 "metadata": {
  "kernelspec": {
   "display_name": "Python 3",
   "language": "python",
   "name": "python3"
  },
  "language_info": {
   "codemirror_mode": {
    "name": "ipython",
    "version": 3
   },
   "file_extension": ".py",
   "mimetype": "text/x-python",
   "name": "python",
   "nbconvert_exporter": "python",
   "pygments_lexer": "ipython3",
   "version": "3.7.1"
  }
 },
 "nbformat": 4,
 "nbformat_minor": 2
}

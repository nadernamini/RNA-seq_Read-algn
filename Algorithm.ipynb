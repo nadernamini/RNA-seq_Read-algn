{
 "cells": [
  {
   "cell_type": "markdown",
   "metadata": {},
   "source": [
    "# Reading the Data"
   ]
  },
  {
   "cell_type": "code",
   "execution_count": 1,
   "metadata": {},
   "outputs": [],
   "source": [
    "from Bio import SeqIO\n",
    "import numpy as np\n",
    "import csv\n",
    "from shared import *\n",
    "from project_nader import *\n",
    "from time import time"
   ]
  },
  {
   "cell_type": "code",
   "execution_count": 2,
   "metadata": {},
   "outputs": [],
   "source": [
    "def read_reads():\n",
    "    \"\"\"\n",
    "    Reads all the RNA reads from reads.fa and returns a list of sequences as strings.\n",
    "\n",
    "    :return: a list of RNA sequence reads as strings\n",
    "    \"\"\"\n",
    "    max_id_len = 600\n",
    "    reads = np.zeros((1575, 2), dtype='U{:d}'.format(max_id_len))\n",
    "    i = 0\n",
    "    for seq_record in SeqIO.parse(\"reads.fa\", \"fasta\"):\n",
    "        reads[i, 0] = seq_record.id\n",
    "        reads[i, 1] = str(seq_record.seq)\n",
    "        i += 1\n",
    "    return reads"
   ]
  },
  {
   "cell_type": "code",
   "execution_count": 3,
   "metadata": {},
   "outputs": [],
   "source": [
    "def read_genome():\n",
    "    \"\"\"\n",
    "    Reads the genome sequence from genome.fa and return the genome sequence as a string.\n",
    "\n",
    "    :return: a string of the genome sequence\n",
    "    \"\"\"\n",
    "    genome = None\n",
    "    for seq_record in SeqIO.parse(\"genome.fa\", \"fasta\"):\n",
    "        genome = str(seq_record.seq)\n",
    "    return genome"
   ]
  },
  {
   "cell_type": "code",
   "execution_count": 4,
   "metadata": {},
   "outputs": [],
   "source": [
    "def read_known_genes():\n",
    "    \"\"\"\n",
    "    Reads the un/known genes, isoforms, and exons from genes.tab and constructs objects for each\n",
    "    and return the list of constructed genes.\n",
    "\n",
    "    :return: known_genes (a list of known Gene objects), unknown_genes (a list of unknown Gene objects)\n",
    "    \"\"\"\n",
    "    known_genes, known_isoforms, known_exons = {}, {}, {}\n",
    "    unknown_genes, unknown_isoforms, unknown_exons = {}, {}, {}\n",
    "    with open(\"genes.tab\") as tsv:\n",
    "        for line in csv.reader(tsv, dialect=\"excel-tab\"):\n",
    "            name = line[0]\n",
    "            if name == 'gene':\n",
    "                known_genes[line[1]] = line[2].split(';')\n",
    "            elif name == 'isoform':\n",
    "                known_isoforms[line[1]] = line[2].split(';')\n",
    "            elif name == 'exon':\n",
    "                known_exons[line[1]] = Exon(line[1], int(line[2]), int(line[3]))\n",
    "            elif name == 'unknown_gene':\n",
    "                unknown_genes[line[1]] = line[2].split(';')\n",
    "            elif name == 'unknown_isoform':\n",
    "                unknown_isoforms[line[1]] = line[2].split(';')\n",
    "            elif name == 'unknown_exon':\n",
    "                unknown_exons[line[1]] = Exon(line[1], int(line[2]), int(line[3]))\n",
    "    # Create the known Isoform objects\n",
    "    for k in known_isoforms:\n",
    "        known_isoforms[k] = Isoform(k, [known_exons[key] for key in known_isoforms[k]])\n",
    "        \n",
    "    # Create the UNknown Isoform objects\n",
    "    for k in unknown_isoforms:\n",
    "        unknown_isoforms[k] = Isoform(k, [unknown_exons[key] for key in unknown_isoforms[k]])\n",
    "\n",
    "    # Create the known Genes objects\n",
    "    for k in known_genes:\n",
    "        known_genes[k] = Gene(k, [known_isoforms[key] for key in known_genes[k]])\n",
    "        \n",
    "    # Create the UNknown Genes objects\n",
    "    for k in unknown_genes:\n",
    "        unknown_genes[k] = Gene(k, [unknown_isoforms[key] for key in unknown_genes[k]])\n",
    "    return known_genes, unknown_genes"
   ]
  },
  {
   "cell_type": "markdown",
   "metadata": {},
   "source": [
    "# Alignment Algorithm Class"
   ]
  },
  {
   "cell_type": "code",
   "execution_count": 5,
   "metadata": {},
   "outputs": [],
   "source": [
    "MIN_INTRON_SIZE = 20\n",
    "MAX_INTRON_SIZE = 10000\n",
    "\n",
    "\n",
    "class Aligner:\n",
    "    def __init__(self, genome_sequence, known_genes):\n",
    "        \"\"\"\n",
    "        Initializes the aligner. Do all time intensive set up here. i.e. build suffix array.\n",
    "\n",
    "        genome_sequence: a string (NOT TERMINATED BY '$') representing the bases of the of the genome\n",
    "        known_genes: a python set of Gene objects (see shared.py) that represent known genes. You can get the isoforms\n",
    "                     and exons from a Gene object\n",
    "\n",
    "        Time limit: 500 seconds maximum on the provided data. Note that our server is probably faster than your machine,\n",
    "                    so don't stress if you are close. Server is 1.25 times faster than the i7 CPU on my computer\n",
    "        \"\"\"\n",
    "        self.sa = get_suffix_array(genome_sequence)\n",
    "        L = get_bwt(genome_sequence, self.sa)\n",
    "        self.occ, self.M = get_occ(L), get_M(get_F(L))\n",
    "        self.known_genes = known_genes\n",
    "\n",
    "    def align(self, read_sequence):\n",
    "        \"\"\"\n",
    "        Returns an alignment to the genome sequence. An alignment is a list of pieces.\n",
    "        Each piece consists of a start index in the read, a start index in the genome, and a length\n",
    "        indicating how many bases are aligned in this piece. Note that mismatches are count as \"aligned\".\n",
    "\n",
    "        Note that <read_start_2> >= <read_start_1> + <length_1>. If your algorithm produces an alignment that\n",
    "        violates this, we will remove pieces from your alignment arbitrarily until consecutive pieces\n",
    "        satisfy <read_start_2> >= <read_start_1> + <length_1>\n",
    "\n",
    "        Return value must be in the form (also see the project pdf):\n",
    "        [(<read_start_1>, <reference_start_1, length_1), (<read_start_2>, <reference_start_2, length_2), ...]\n",
    "\n",
    "        If no good matches are found: return the best match you can find or return []\n",
    "\n",
    "        Time limit: 0.5 seconds per read on average on the provided data.\n",
    "        \"\"\"\n",
    "        # for gene in self.known_genes:\n",
    "\n",
    "        pass"
   ]
  },
  {
   "cell_type": "markdown",
   "metadata": {},
   "source": [
    "# Testing"
   ]
  },
  {
   "cell_type": "markdown",
   "metadata": {},
   "source": [
    "## Initializations"
   ]
  },
  {
   "cell_type": "code",
   "execution_count": 110,
   "metadata": {},
   "outputs": [],
   "source": [
    "from project_tiffany import exact_suffix_matches as em\n",
    "from project_tiffany import get_suffix_array as gs\n",
    "from project_tiffany import get_bwt as gbwt\n",
    "from project_tiffany import get_F as gF\n",
    "from project_tiffany import get_M as gM\n",
    "from project_tiffany import get_occ as gocc"
   ]
  },
  {
   "cell_type": "markdown",
   "metadata": {},
   "source": [
    "### Reading Data"
   ]
  },
  {
   "cell_type": "code",
   "execution_count": 115,
   "metadata": {},
   "outputs": [],
   "source": [
    "# Main\n",
    "reads = read_reads()\n",
    "genome_sequence = read_genome()\n",
    "known_genes, unknown_genes = read_known_genes()"
   ]
  },
  {
   "cell_type": "code",
   "execution_count": 117,
   "metadata": {},
   "outputs": [],
   "source": [
    "reverse_genome_sequence = genome_sequence[::-1]"
   ]
  },
  {
   "cell_type": "markdown",
   "metadata": {},
   "source": [
    "### Initializing using project_nader"
   ]
  },
  {
   "cell_type": "code",
   "execution_count": 128,
   "metadata": {},
   "outputs": [
    {
     "name": "stdout",
     "output_type": "stream",
     "text": [
      "        length of the genome sequence: 10949001\n",
      "        time to run Aligner.__init__: 475.045284986496\n"
     ]
    }
   ],
   "source": [
    "print(\"        length of the genome sequence: \" + str(len(genome_sequence) + 1))\n",
    "\n",
    "t = -time()\n",
    "\"\"\"\n",
    "aligner = Aligner(genome_sequence, known_genes)\n",
    "t += time()\n",
    "\"\"\"\n",
    "# Initialization\n",
    "reverse_sa = get_suffix_array(reverse_genome_sequence + '$')\n",
    "reverse_L = get_bwt(reverse_genome_sequence, reverse_sa)\n",
    "reverse_occ, reverse_M = get_occ(reverse_L), get_M(get_F(reverse_L))\n",
    "# self.known_genes = known_genes\n",
    "\n",
    "print(\"        time to run Aligner.__init__: \" + str(t + time()))"
   ]
  },
  {
   "cell_type": "code",
   "execution_count": 129,
   "metadata": {},
   "outputs": [
    {
     "name": "stdout",
     "output_type": "stream",
     "text": [
      "        length of the genome sequence: 10949001\n",
      "        time to run Aligner.__init__: 443.16036200523376\n"
     ]
    }
   ],
   "source": [
    "print(\"        length of the genome sequence: \" + str(len(genome_sequence) + 1))\n",
    "\n",
    "t = -time()\n",
    "\"\"\"\n",
    "aligner = Aligner(genome_sequence, known_genes)\n",
    "t += time()\n",
    "\"\"\"\n",
    "# Initialization\n",
    "sa = get_suffix_array(genome_sequence + '$')\n",
    "L = get_bwt(genome_sequence, sa)\n",
    "occ, M = get_occ(L), get_M(get_F(L))\n",
    "# self.known_genes = known_genes\n",
    "\n",
    "print(\"        time to run Aligner.__init__: \" + str(t + time()))"
   ]
  },
  {
   "cell_type": "markdown",
   "metadata": {},
   "source": [
    "### Initializing using project_tiffany"
   ]
  },
  {
   "cell_type": "code",
   "execution_count": 111,
   "metadata": {},
   "outputs": [
    {
     "name": "stdout",
     "output_type": "stream",
     "text": [
      "        time to run Aligner.__init__: 78.91130089759827\n"
     ]
    }
   ],
   "source": [
    "t = -time()\n",
    "\"\"\"\n",
    "aligner = Aligner(genome_sequence, known_genes)\n",
    "t += time()\n",
    "\"\"\"\n",
    "# Initialization\n",
    "sa_T = gs(reverse_genome_sequence + '$')\n",
    "L_T = gbwt(reverse_genome_sequence, sa_T)\n",
    "occ_T, M_T = gocc(L_T), gM(gF(L_T))\n",
    "# self.known_genes = known_genes\n",
    "\n",
    "print(\"        time to run Aligner.__init__: \" + str(t + time()))"
   ]
  },
  {
   "cell_type": "code",
   "execution_count": 8,
   "metadata": {},
   "outputs": [
    {
     "name": "stdout",
     "output_type": "stream",
     "text": [
      "time to find the known transcriptome: 0.9047422409057617\n"
     ]
    }
   ],
   "source": [
    "t = -time()\n",
    "known_transcriptome = {}\n",
    "for gene in known_genes:\n",
    "    known_transcriptome[gene] = {}\n",
    "    for iso in known_genes[gene].isoforms:\n",
    "        isoform, exons, total_len = '', [], 0\n",
    "        for ex in iso.exons:\n",
    "            isoform += genome_sequence[ex.start: ex.end]\n",
    "            exons.append((total_len, ex.start, ex.end - ex.start))\n",
    "            total_len += ex.end - ex.start\n",
    "        known_transcriptome[gene][iso] = [isoform, exons]\n",
    "print(\"time to find the known transcriptome: \" + str(t + time()))"
   ]
  },
  {
   "cell_type": "code",
   "execution_count": 9,
   "metadata": {},
   "outputs": [
    {
     "name": "stdout",
     "output_type": "stream",
     "text": [
      "time to find the UNknown transcriptome: 0.0004279613494873047\n"
     ]
    }
   ],
   "source": [
    "t = -time()\n",
    "unknown_transcriptome = {}\n",
    "for gene in unknown_genes:\n",
    "    unknown_transcriptome[gene] = {}\n",
    "    for iso in unknown_genes[gene].isoforms:\n",
    "        isoform, exons, total_len = '', [], 0\n",
    "        for ex in iso.exons:\n",
    "            isoform += genome_sequence[ex.start: ex.end]\n",
    "            exons.append((total_len, ex.start, ex.end - ex.start))\n",
    "            total_len += ex.end - ex.start\n",
    "        unknown_transcriptome[gene][iso] = [isoform, exons]\n",
    "print(\"time to find the UNknown transcriptome: \" + str(t + time()))"
   ]
  },
  {
   "cell_type": "code",
   "execution_count": 10,
   "metadata": {},
   "outputs": [
    {
     "name": "stdout",
     "output_type": "stream",
     "text": [
      "number of known isoforms: 127\n"
     ]
    }
   ],
   "source": [
    "num_isoforms = 0\n",
    "for gene in known_transcriptome:\n",
    "    num_isoforms += len(known_transcriptome[gene])\n",
    "print('number of known isoforms:', num_isoforms)"
   ]
  },
  {
   "cell_type": "code",
   "execution_count": 11,
   "metadata": {},
   "outputs": [
    {
     "name": "stdout",
     "output_type": "stream",
     "text": [
      "number of UNknown isoforms: 9\n"
     ]
    }
   ],
   "source": [
    "num_isoforms = 0\n",
    "for gene in unknown_transcriptome:\n",
    "    num_isoforms += len(unknown_transcriptome[gene])\n",
    "print('number of UNknown isoforms:', num_isoforms)"
   ]
  },
  {
   "cell_type": "markdown",
   "metadata": {},
   "source": [
    "## Alignment to the Transcriptome"
   ]
  },
  {
   "cell_type": "code",
   "execution_count": 12,
   "metadata": {},
   "outputs": [],
   "source": [
    "def find_alignment(read_len, align_start, exons):\n",
    "    def find_start_location(lo, hi):\n",
    "        mid = (lo + hi) // 2\n",
    "        if exons[mid][0] <= align_start < exons[mid][0] + exons[mid][2]:\n",
    "            return mid\n",
    "        elif exons[mid][0] + exons[mid][2] <= align_start:\n",
    "            return find_start_location(mid+1, hi)\n",
    "        else:\n",
    "            return find_start_location(lo, mid-1)\n",
    "    idx = find_start_location(0, len(exons))\n",
    "    algn = [(0, exons[idx][1] + (align_start - exons[idx][0]),\n",
    "             read_len if read_len + (align_start - exons[idx][0]) <= exons[idx][2]\n",
    "             else exons[idx][2] - (align_start - exons[idx][0]))]\n",
    "    read_len -= exons[idx][2] - (align_start - exons[idx][0])\n",
    "    while read_len > 0:\n",
    "        idx += 1\n",
    "        algn.append((algn[-1][0] + algn[-1][2], exons[idx][1],\n",
    "                     read_len if read_len <= exons[idx][2]\n",
    "                     else exons[idx][2]))\n",
    "        read_len -= exons[idx][2]\n",
    "    return algn"
   ]
  },
  {
   "cell_type": "code",
   "execution_count": 13,
   "metadata": {},
   "outputs": [],
   "source": [
    "def align_to_isoform(read, isoform, exons):\n",
    "    match = (-1, float(\"inf\"))\n",
    "    for i in range(len(isoform) - len(read) + 1):\n",
    "        j, mismatches = 0, 0\n",
    "        while j < len(read):\n",
    "            if isoform[i+j] != read[j]:\n",
    "                mismatches += 1\n",
    "            if mismatches > MAX_NUM_MISMATCHES:\n",
    "                break\n",
    "            j += 1\n",
    "        if j == len(read) and mismatches < match[1]:\n",
    "            match = (i, mismatches)\n",
    "    return match if match[0] == -1 else (find_alignment(len(read), match[0], exons), match[1])"
   ]
  },
  {
   "cell_type": "code",
   "execution_count": 14,
   "metadata": {},
   "outputs": [],
   "source": [
    "def align_to_transcriptome(read, transcriptome):\n",
    "    match = (-1, float(\"inf\"))\n",
    "    for gene in transcriptome:\n",
    "        for iso in transcriptome[gene]:\n",
    "            alignment, mismatches = align_to_isoform(read, transcriptome[gene][iso][0], transcriptome[gene][iso][1])\n",
    "            if alignment != -1 and mismatches <= match[1]:\n",
    "                match = (alignment, mismatches)\n",
    "    return match"
   ]
  },
  {
   "cell_type": "code",
   "execution_count": 15,
   "metadata": {},
   "outputs": [
    {
     "data": {
      "text/plain": [
       "'ATTACTCTTGGGAATGAAATCCTATCTATATAAGCTGTGGTTTGAAATCC'"
      ]
     },
     "execution_count": 15,
     "metadata": {},
     "output_type": "execute_result"
    }
   ],
   "source": [
    "reads[0][1]"
   ]
  },
  {
   "cell_type": "code",
   "execution_count": 16,
   "metadata": {},
   "outputs": [
    {
     "data": {
      "text/plain": [
       "([(0, 6759550, 50)], 2)"
      ]
     },
     "execution_count": 16,
     "metadata": {},
     "output_type": "execute_result"
    }
   ],
   "source": [
    "t = -time()\n",
    "# align_to_isoform(reads[166][1], reads[166][1])\n",
    "align_to_transcriptome(reads[150][1], known_transcriptome)"
   ]
  },
  {
   "cell_type": "code",
   "execution_count": 18,
   "metadata": {
    "collapsed": true
   },
   "outputs": [
    {
     "name": "stdout",
     "output_type": "stream",
     "text": [
      "      2 not matched!\n",
      "      3 not matched!\n",
      "      8 not matched!\n",
      "      29 not matched!\n",
      "      61 not matched!\n",
      "      84 not matched!\n",
      "      91 not matched!\n",
      "      104 not matched!\n",
      "      135 not matched!\n",
      "      154 not matched!\n",
      "      163 not matched!\n",
      "      167 not matched!\n",
      "      173 not matched!\n",
      "      179 not matched!\n",
      "      200 not matched!\n",
      "      201 not matched!\n",
      "      213 not matched!\n",
      "      218 not matched!\n",
      "      253 not matched!\n",
      "      268 not matched!\n",
      "      271 not matched!\n",
      "      276 not matched!\n",
      "      281 not matched!\n",
      "      293 not matched!\n",
      "      300 not matched!\n",
      "      322 not matched!\n",
      "      323 not matched!\n",
      "      358 not matched!\n",
      "      390 not matched!\n",
      "      392 not matched!\n",
      "      393 not matched!\n",
      "      413 not matched!\n",
      "      415 not matched!\n",
      "      430 not matched!\n",
      "      438 not matched!\n",
      "      444 not matched!\n",
      "      451 not matched!\n",
      "      454 not matched!\n",
      "      467 not matched!\n",
      "      475 not matched!\n",
      "      484 not matched!\n",
      "      499 not matched!\n",
      "      501 not matched!\n",
      "      506 not matched!\n",
      "      510 not matched!\n",
      "      528 not matched!\n",
      "      568 not matched!\n",
      "      570 not matched!\n",
      "      571 not matched!\n",
      "      576 not matched!\n",
      "      609 not matched!\n",
      "      618 not matched!\n",
      "      625 not matched!\n",
      "      641 not matched!\n",
      "      648 not matched!\n",
      "      650 not matched!\n",
      "      657 not matched!\n",
      "      659 not matched!\n",
      "      707 not matched!\n",
      "      710 not matched!\n",
      "      719 not matched!\n",
      "      729 not matched!\n",
      "      745 not matched!\n",
      "      753 not matched!\n",
      "      760 not matched!\n",
      "      779 not matched!\n",
      "      786 not matched!\n",
      "      827 not matched!\n",
      "      836 not matched!\n",
      "      856 not matched!\n",
      "      898 not matched!\n",
      "      905 not matched!\n",
      "      907 not matched!\n",
      "      920 not matched!\n",
      "      927 not matched!\n",
      "      936 not matched!\n",
      "      937 not matched!\n",
      "      956 not matched!\n",
      "      959 not matched!\n",
      "      967 not matched!\n",
      "      979 not matched!\n",
      "      985 not matched!\n",
      "      1014 not matched!\n",
      "      1015 not matched!\n",
      "      1035 not matched!\n",
      "      1050 not matched!\n",
      "      1062 not matched!\n",
      "      1080 not matched!\n",
      "      1083 not matched!\n",
      "      1085 not matched!\n",
      "      1086 not matched!\n",
      "      1094 not matched!\n",
      "      1100 not matched!\n",
      "      1107 not matched!\n",
      "      1119 not matched!\n",
      "      1134 not matched!\n",
      "      1142 not matched!\n",
      "      1150 not matched!\n",
      "      1153 not matched!\n",
      "      1161 not matched!\n",
      "      1181 not matched!\n",
      "      1193 not matched!\n",
      "      1196 not matched!\n",
      "      1212 not matched!\n",
      "      1224 not matched!\n",
      "      1229 not matched!\n",
      "      1232 not matched!\n",
      "      1252 not matched!\n",
      "      1253 not matched!\n",
      "      1266 not matched!\n",
      "      1276 not matched!\n",
      "      1281 not matched!\n",
      "      1320 not matched!\n",
      "      1323 not matched!\n",
      "      1325 not matched!\n",
      "      1347 not matched!\n",
      "      1349 not matched!\n",
      "      1361 not matched!\n",
      "      1369 not matched!\n",
      "      1381 not matched!\n",
      "      1388 not matched!\n",
      "      1391 not matched!\n",
      "      1409 not matched!\n",
      "      1427 not matched!\n",
      "      1441 not matched!\n",
      "      1442 not matched!\n",
      "      1446 not matched!\n",
      "      1451 not matched!\n",
      "      1463 not matched!\n",
      "      1471 not matched!\n",
      "      1477 not matched!\n",
      "      1486 not matched!\n",
      "      1517 not matched!\n",
      "      1520 not matched!\n",
      "      1547 not matched!\n",
      "      1550 not matched!\n",
      "      1556 not matched!\n",
      "      1567 not matched!\n",
      "      1571 not matched!\n"
     ]
    }
   ],
   "source": [
    "unable_to_match = []\n",
    "avg_t, num_matches = 0, 0\n",
    "for i in range(len(reads)):\n",
    "    t = -time()\n",
    "    start, mismatches = align_to_transcriptome(reads[i][1], known_transcriptome)\n",
    "    if start == -1:\n",
    "        unable_to_match.append(i)\n",
    "        print(\"      \" + str(i) + ' not matched!')\n",
    "    else:\n",
    "        tt = time() + t\n",
    "#         print(\"      \" + str(tt))\n",
    "        avg_t += tt\n",
    "        num_matches += 1"
   ]
  },
  {
   "cell_type": "code",
   "execution_count": 19,
   "metadata": {},
   "outputs": [
    {
     "name": "stdout",
     "output_type": "stream",
     "text": [
      "    Average time: 0.43652803950987157\n"
     ]
    }
   ],
   "source": [
    "print('    Average time: ' + str(avg_t / num_matches))"
   ]
  },
  {
   "cell_type": "code",
   "execution_count": 61,
   "metadata": {},
   "outputs": [
    {
     "name": "stdout",
     "output_type": "stream",
     "text": [
      "          8: [(0, 6496171, 22), (22, 6514428, 28)], 2\n",
      "          84: [(0, 6500926, 27), (27, 6514428, 23)], 3\n",
      "          91: [(0, 2590477, 50)], 3\n",
      "          104: [(0, 2559519, 50)], 2\n",
      "          167: [(0, 6455646, 50)], 5\n",
      "          173: [(0, 3920513, 50)], 2\n",
      "          213: [(0, 6462138, 34), (34, 6496027, 16)], 2\n",
      "          218: [(0, 6496167, 26), (26, 6500749, 24)], 4\n",
      "          253: [(0, 3941290, 50)], 5\n",
      "          271: [(0, 6455465, 50)], 4\n",
      "          276: [(0, 6455594, 50)], 0\n",
      "          322: [(0, 2573320, 50)], 4\n",
      "          323: [(0, 3941393, 50)], 1\n",
      "          390: [(0, 2574410, 50)], 3\n",
      "          392: [(0, 6514438, 50)], 2\n",
      "          415: [(0, 6461410, 50)], 2\n",
      "          430: [(0, 3941311, 50)], 5\n",
      "          499: [(0, 2564134, 50)], 1\n",
      "          510: [(0, 6496086, 50)], 4\n",
      "          528: [(0, 6455479, 50)], 1\n",
      "          568: [(0, 2580032, 50)], 5\n",
      "          625: [(0, 3941385, 50)], 2\n",
      "          657: [(0, 2588594, 44), (44, 2590345, 6)], 4\n",
      "          707: [(0, 6455505, 50)], 3\n",
      "          729: [(0, 3923272, 45), (45, 3941234, 5)], 4\n",
      "          745: [(0, 2558955, 50)], 1\n",
      "          779: [(0, 3941376, 50)], 2\n",
      "          786: [(0, 2590402, 50)], 4\n",
      "          836: [(0, 3941405, 50)], 2\n",
      "          856: [(0, 6455659, 50)], 1\n",
      "          927: [(0, 6455617, 50)], 0\n",
      "          1014: [(0, 6455495, 50)], 2\n",
      "          1015: [(0, 3920532, 37), (37, 3923215, 13)], 3\n",
      "          1035: [(0, 6496169, 24), (24, 6500749, 26)], 3\n",
      "          1083: [(0, 2571829, 46), (46, 2577382, 4)], 2\n",
      "          1085: [(0, 2564208, 29), (29, 2564397, 21)], 4\n",
      "          1094: [(0, 6496079, 50)], 2\n",
      "          1100: [(0, 2569264, 31), (31, 2571805, 19)], 1\n",
      "          1107: [(0, 3941684, 50)], 5\n",
      "          1119: [(0, 6455510, 50)], 2\n",
      "          1134: [(0, 2564214, 23), (23, 2564397, 27)], 1\n",
      "          1142: [(0, 2564522, 48), (48, 2567349, 2)], 5\n",
      "          1150: [(0, 6462151, 21), (21, 6496027, 29)], 3\n",
      "          1181: [(0, 2569223, 50)], 5\n",
      "          1196: [(0, 2559675, 50)], 1\n",
      "          1212: [(0, 6455661, 50)], 6\n",
      "          1229: [(0, 3941398, 50)], 4\n",
      "          1252: [(0, 2569203, 50)], 3\n",
      "          1253: [(0, 2590459, 50)], 3\n",
      "          1276: [(0, 3941724, 50)], 4\n",
      "          1320: [(0, 3923251, 50)], 2\n",
      "          1323: [(0, 3941671, 50)], 2\n",
      "          1325: [(0, 6542240, 50)], 3\n",
      "          1349: [(0, 6517662, 50)], 3\n",
      "          1409: [(0, 6455480, 50)], 3\n",
      "          1441: [(0, 2569284, 11), (11, 2571805, 39)], 3\n",
      "          1442: [(0, 2579951, 50)], 4\n",
      "          1446: [(0, 6455547, 50)], 2\n",
      "          1471: [(0, 6455459, 50)], 5\n",
      "          1477: [(0, 6455609, 50)], 2\n",
      "          1517: [(0, 2588562, 50)], 1\n",
      "          1547: [(0, 3941305, 50)], 3\n",
      "          1550: [(0, 6455455, 50)], 3\n",
      "          1567: [(0, 3941757, 50)], 2\n"
     ]
    }
   ],
   "source": [
    "still_unable_to_match = []\n",
    "for i in unable_to_match:\n",
    "    alignment, mismatches = align_to_transcriptome(reads[i][1], unknown_transcriptome)\n",
    "    if alignment != -1:\n",
    "        print('          ' + str(i) + ': ' + str(alignment) + \", \" + str(mismatches))\n",
    "    else:\n",
    "        still_unable_to_match.append(i)"
   ]
  },
  {
   "cell_type": "code",
   "execution_count": 26,
   "metadata": {},
   "outputs": [
    {
     "name": "stdout",
     "output_type": "stream",
     "text": [
      "          75\n"
     ]
    }
   ],
   "source": [
    "print('          ' + str(len(still_unable_to_match)))"
   ]
  },
  {
   "cell_type": "markdown",
   "metadata": {},
   "source": [
    "## Alignment to the Genome"
   ]
  },
  {
   "cell_type": "code",
   "execution_count": 95,
   "metadata": {},
   "outputs": [],
   "source": [
    "from itertools import product"
   ]
  },
  {
   "cell_type": "code",
   "execution_count": null,
   "metadata": {},
   "outputs": [],
   "source": []
  },
  {
   "cell_type": "code",
   "execution_count": 28,
   "metadata": {},
   "outputs": [],
   "source": [
    "def replace_base_at_index(read_sequence, idx, base):\n",
    "    length = len(read_sequence)\n",
    "    return read_sequence[:idx] + base + read_sequence[idx + 1:]"
   ]
  },
  {
   "cell_type": "code",
   "execution_count": 29,
   "metadata": {},
   "outputs": [
    {
     "data": {
      "text/plain": [
       "['A', 'C', 'G', 'T']"
      ]
     },
     "execution_count": 29,
     "metadata": {},
     "output_type": "execute_result"
    }
   ],
   "source": [
    "BASES"
   ]
  },
  {
   "cell_type": "code",
   "execution_count": 50,
   "metadata": {},
   "outputs": [],
   "source": [
    "def find_seeds(read_sequence, mismatches=6, k=3):\n",
    "    read_sequence = read_sequence[::-1]\n",
    "    len_read, seeds_len, seeds = len(read_sequence), 0, []\n",
    "    if not k:\n",
    "        return []\n",
    "    else:\n",
    "        _range, length = exact_suffix_matches(read_sequence, M, occ)\n",
    "        max_so_far, updated = (_range, length, read_sequence, 0), True\n",
    "        \n",
    "        while max_so_far[3] < mismatches and max_so_far[1] < len_read and updated:\n",
    "            updated = False\n",
    "            possible_changes = [b for b in BASES if b != max_so_far[2][len_read - max_so_far[1] - 1]]\n",
    "            misses = max_so_far[3]\n",
    "            for change in possible_changes:\n",
    "                new_read = replace_base_at_index(read_sequence, len_read - length - 1, change)\n",
    "                new_range, new_length = exact_suffix_matches(new_read, M, occ)\n",
    "                if new_length > max_so_far[1]:\n",
    "                    max_so_far = (new_range, new_length, new_read, misses + 1)\n",
    "                    updated = True\n",
    "            \n",
    "        seeds = [([sa[i] for i in max_so_far[0]], max_so_far[1], max_so_far[3], max_so_far[2][len_read - max_so_far[1]:])]\n",
    "        if len_read == max_so_far[1]:\n",
    "            return seeds\n",
    "        else:\n",
    "            return seeds + find_seeds(max_so_far[2][:len(max_so_far[2]) - max_so_far[1]],\n",
    "                                      mismatches=mismatches - max_so_far[3], k=k-1)"
   ]
  },
  {
   "cell_type": "code",
   "execution_count": 82,
   "metadata": {},
   "outputs": [
    {
     "name": "stdout",
     "output_type": "stream",
     "text": [
      "          TAATCAGAAGGTGGATCAACTGGAAGATGTGCCTCCTCCAAAGAGCCGTA\n",
      "          TAATCAGAAGGTGGATCAAGTG&GAAGATGTGCCACCTCCAAAGAGCCGTA\n"
     ]
    }
   ],
   "source": [
    "print('          ' + reads[8][1])\n",
    "print('          ' + genome_sequence[6496171:6496171+22] + \"&\" +  genome_sequence[6514428:6514428+28])"
   ]
  },
  {
   "cell_type": "code",
   "execution_count": 125,
   "metadata": {},
   "outputs": [],
   "source": [
    "reverse_read = reads[8][1][::-1]\n",
    "_range, length = exact_suffix_matches(reverse_read, M, occ)"
   ]
  },
  {
   "cell_type": "code",
   "execution_count": 126,
   "metadata": {},
   "outputs": [
    {
     "name": "stdout",
     "output_type": "stream",
     "text": [
      "          TGGAAGACTAAT\n",
      "          TGGAAGACTAAG\n"
     ]
    }
   ],
   "source": [
    "print('          ' + reverse_read[-length:])\n",
    "print('          ' + reverse_genome_sequence[sa[_range[0]]:sa[_range[0]]+length])"
   ]
  },
  {
   "cell_type": "code",
   "execution_count": 127,
   "metadata": {},
   "outputs": [
    {
     "name": "stdout",
     "output_type": "stream",
     "text": [
      "          ATGCCGAGAAACCTCCTCCGTGTAGAAGGTCAACTAGGTGGAAGACTAAT\n",
      "          ATGCCGAGAAACCTCCACCGTGTAGAAG&GTGAACTAGGTGGAAGACTAAT\n"
     ]
    }
   ],
   "source": [
    "a = reverse_genome_sequence[len(reverse_genome_sequence) - 6496171 - 19:len(reverse_genome_sequence) - 6496171]\n",
    "a\n",
    "print('          ' + reverse_read)\n",
    "print('          ' + reverse_genome_sequence[len(reverse_genome_sequence) - 6514428 - 28:len(reverse_genome_sequence) - 6514428]\n",
    "      + \"&\" +  reverse_genome_sequence[len(reverse_genome_sequence) - 6496171 - 22:len(reverse_genome_sequence) - 6496171])"
   ]
  },
  {
   "cell_type": "code",
   "execution_count": 114,
   "metadata": {},
   "outputs": [
    {
     "data": {
      "text/plain": [
       "((2366925, 2366926), 15)"
      ]
     },
     "execution_count": 114,
     "metadata": {},
     "output_type": "execute_result"
    }
   ],
   "source": [
    "em(b, M_T, occ_T)"
   ]
  },
  {
   "cell_type": "code",
   "execution_count": 91,
   "metadata": {},
   "outputs": [
    {
     "data": {
      "text/plain": [
       "'TGGAAGACTAAT'"
      ]
     },
     "execution_count": 91,
     "metadata": {},
     "output_type": "execute_result"
    }
   ],
   "source": [
    "b[-12:]"
   ]
  },
  {
   "cell_type": "code",
   "execution_count": null,
   "metadata": {},
   "outputs": [],
   "source": []
  },
  {
   "cell_type": "code",
   "execution_count": 64,
   "metadata": {},
   "outputs": [
    {
     "name": "stdout",
     "output_type": "stream",
     "text": [
      "          ATGCCGAGAAACCTCCTCCGTGTAGAAGGTCAACTAGGTGGAAGACTAAT\n"
     ]
    },
    {
     "data": {
      "text/plain": [
       "[([8992522, 2058582], 13, 1, 'CTGGAAGACTAAT'),\n",
       " ([10949000, 8353711], 1, 0, 'A'),\n",
       " ([4908239, 4622709], 15, 1, 'AAGAAGGTCAACTAG')]"
      ]
     },
     "execution_count": 64,
     "metadata": {},
     "output_type": "execute_result"
    }
   ],
   "source": [
    "print('          ' + reads[8][1][::-1])\n",
    "find_seeds(reads[8][1])"
   ]
  },
  {
   "cell_type": "code",
   "execution_count": null,
   "metadata": {},
   "outputs": [],
   "source": [
    "for i in unable_to_match:\n",
    "    seeds = find_seeds(reads[i][1])\n",
    "    p"
   ]
  },
  {
   "cell_type": "code",
   "execution_count": null,
   "metadata": {},
   "outputs": [],
   "source": [
    "t = -time()\n",
    "read_sequence = reads[0][1].copy()\n",
    "rnge1, length1 = exact_suffix_matches(read_sequence, M, occ)\n",
    "print('       ', length1)\n",
    "lens = {}\n",
    "for base in ALPHABET:\n",
    "    read_sequence = replace_base_at_index(read_sequence, length1, base)\n",
    "    lens[base] = exact_suffix_matches(read_sequence, M, occ)\n",
    "    print('        ', base, lens[base])\n",
    "\n",
    "best_letter = max(lens, key=lambda x: lens.get(x)[1])\n",
    "length1 = lens[best_letter][1]\n",
    "for base in ALPHABET:\n",
    "    read_sequence = replace_base_at_index(read_sequence, length1, base)\n",
    "    lens[base] = exact_suffix_matches(read_sequence, M, occ)\n",
    "    print('        ', base, lens[base])\n",
    "\n",
    "best_letter = max(lens, key=lambda x: lens.get(x)[1])"
   ]
  },
  {
   "cell_type": "code",
   "execution_count": null,
   "metadata": {},
   "outputs": [],
   "source": [
    "print('         ' + str([sa[i] for i in rnge1]) + \" \" + str(length1))\n",
    "rnge2, length2 = exact_suffix_matches(reads[0][1][:len(reads[0][1]) - length1 - 0], M, occ)\n",
    "print('         ' + str([sa[i] for i in rnge2]) + \" \" + str(length2))\n",
    "rnge3, length3 = exact_suffix_matches(reads[0][1][:len(reads[0][1]) - length1 - length2 - 0], M, occ)\n",
    "print('         ' + str([sa[i] for i in rnge3]) + \" \" + str(length))\n",
    "print(\"time to find the read in the genome: \" + str(t + time()))\n"
   ]
  },
  {
   "cell_type": "code",
   "execution_count": null,
   "metadata": {},
   "outputs": [],
   "source": [
    "\"\"\"\n",
    "Use exact_suffix_matches but need to find consecutive matches with possible mismatches and restricted intron length\n",
    "\"\"\"\n",
    "def align_to_genome(read):\n",
    "    # TODO\n",
    "    pass"
   ]
  },
  {
   "cell_type": "markdown",
   "metadata": {},
   "source": [
    "# Evaluation"
   ]
  },
  {
   "cell_type": "code",
   "execution_count": null,
   "metadata": {},
   "outputs": [],
   "source": [
    "from evaluation import *"
   ]
  },
  {
   "cell_type": "code",
   "execution_count": null,
   "metadata": {},
   "outputs": [],
   "source": [
    "known_isoforms = []\n",
    "for gene in known_genes:\n",
    "    known_isoforms.extend(known_genes[gene].isoforms)"
   ]
  },
  {
   "cell_type": "code",
   "execution_count": null,
   "metadata": {},
   "outputs": [],
   "source": [
    "unknown_isoforms = []\n",
    "for gene in unknown_genes:\n",
    "    unknown_isoforms.extend(unknown_genes[gene].isoforms)"
   ]
  },
  {
   "cell_type": "code",
   "execution_count": null,
   "metadata": {},
   "outputs": [],
   "source": [
    "genome_isoform_offsets = index_isoform_locations(known_isoforms, unknown_isoforms)"
   ]
  },
  {
   "cell_type": "code",
   "execution_count": null,
   "metadata": {},
   "outputs": [],
   "source": [
    "read_sequence = reads[150][1]\n",
    "alignment = align_to_transcriptome(reads[150][1], known_transcriptome)[0]\n",
    "alignment"
   ]
  },
  {
   "cell_type": "code",
   "execution_count": null,
   "metadata": {},
   "outputs": [],
   "source": [
    "CASE_GENE"
   ]
  },
  {
   "cell_type": "code",
   "execution_count": null,
   "metadata": {},
   "outputs": [],
   "source": [
    "unable_to_match = []\n",
    "for i in range(len(reads)):\n",
    "    read_sequence = reads[i][1]\n",
    "    alignment, mismatches = align_to_transcriptome(read_sequence, known_transcriptome)\n",
    "    if alignment == -1:\n",
    "        unable_to_match.append(i)\n",
    "        print('      ', str(i) + ' not matched!')\n",
    "    else:\n",
    "        case, _ = evaluate_alignment(genome_sequence, read_sequence, alignment, unknown_isoforms, genome_isoform_offsets)\n",
    "        if case != CASE_GENE:\n",
    "            print('      ', i)\n",
    "            print('      ', case, 'alignment')\n",
    "            print('      ', alignment, read_sequence)"
   ]
  },
  {
   "cell_type": "code",
   "execution_count": null,
   "metadata": {},
   "outputs": [],
   "source": [
    "print('size of unmatched: ', len(unable_to_match))\n",
    "print('unmatched read indices:', unable_to_match)"
   ]
  },
  {
   "cell_type": "code",
   "execution_count": null,
   "metadata": {},
   "outputs": [],
   "source": []
  }
 ],
 "metadata": {
  "kernelspec": {
   "display_name": "Python 3",
   "language": "python",
   "name": "python3"
  },
  "language_info": {
   "codemirror_mode": {
    "name": "ipython",
    "version": 3
   },
   "file_extension": ".py",
   "mimetype": "text/x-python",
   "name": "python",
   "nbconvert_exporter": "python",
   "pygments_lexer": "ipython3",
   "version": "3.7.1"
  }
 },
 "nbformat": 4,
 "nbformat_minor": 2
}

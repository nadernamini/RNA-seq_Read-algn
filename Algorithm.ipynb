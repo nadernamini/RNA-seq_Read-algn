{
 "cells": [
  {
   "cell_type": "code",
   "execution_count": 1,
   "metadata": {},
   "outputs": [],
   "source": [
    "from Bio import SeqIO\n",
    "import numpy as np\n",
    "import csv\n",
    "from shared import *\n",
    "from project import Aligner\n",
    "from time import time"
   ]
  },
  {
   "cell_type": "code",
   "execution_count": 2,
   "metadata": {},
   "outputs": [],
   "source": [
    "max_id_len = 60\n",
    "reads = np.zeros((1575, 2), dtype='S{:d}'.format(max_id_len))\n",
    "i = 0\n",
    "for seq_record in SeqIO.parse(\"reads.fa\", \"fasta\"):\n",
    "    reads[i, 0] = seq_record.id\n",
    "    reads[i, 1] = str(seq_record.seq)\n",
    "    i += 1"
   ]
  },
  {
   "cell_type": "code",
   "execution_count": 3,
   "metadata": {},
   "outputs": [],
   "source": [
    "genome = None\n",
    "for seq_record in SeqIO.parse(\"genome.fa\", \"fasta\"):\n",
    "    genome = str(seq_record.seq)"
   ]
  },
  {
   "cell_type": "code",
   "execution_count": 4,
   "metadata": {},
   "outputs": [
    {
     "data": {
      "text/plain": [
       "10949000"
      ]
     },
     "execution_count": 4,
     "metadata": {},
     "output_type": "execute_result"
    }
   ],
   "source": [
    "len(genome)"
   ]
  },
  {
   "cell_type": "code",
   "execution_count": 5,
   "metadata": {},
   "outputs": [],
   "source": [
    "genes, isoforms, exons = {}, {}, {}\n",
    "with open(\"genes.tab\") as tsv:\n",
    "    for line in csv.reader(tsv, dialect=\"excel-tab\"):\n",
    "        name = line[0].split('_')[-1]\n",
    "        if name == 'gene':\n",
    "            genes[line[1]] = line[2].split(';')\n",
    "        elif name == 'isoform':\n",
    "            isoforms[line[1]] = line[2].split(';')\n",
    "        elif name == 'exon':\n",
    "            exons[line[1]] = Exon(line[1], int(line[2]), int(line[3]))\n",
    "# Create the Isoform objects\n",
    "for k in isoforms:\n",
    "    isoforms[k] = Isoform(k, [exons[key] for key in isoforms[k]])\n",
    "\n",
    "# Create the Genes objects\n",
    "for k in genes:\n",
    "    genes[k] = Gene(k, [isoforms[key] for key in genes[k]])\n"
   ]
  },
  {
   "cell_type": "code",
   "execution_count": null,
   "metadata": {},
   "outputs": [
    {
     "name": "stdout",
     "output_type": "stream",
     "text": [
      "updated\n"
     ]
    }
   ],
   "source": [
    "t = time()\n",
    "a = Aligner(genome, genes)\n",
    "t = time() - t\n",
    "print(\"time to run Aligner.__init__: \" + str(t))"
   ]
  },
  {
   "cell_type": "code",
   "execution_count": 2,
   "metadata": {},
   "outputs": [],
   "source": []
  },
  {
   "cell_type": "code",
   "execution_count": null,
   "metadata": {},
   "outputs": [],
   "source": []
  }
 ],
 "metadata": {
  "kernelspec": {
   "display_name": "Python 3",
   "language": "python",
   "name": "python3"
  },
  "language_info": {
   "codemirror_mode": {
    "name": "ipython",
    "version": 3
   },
   "file_extension": ".py",
   "mimetype": "text/x-python",
   "name": "python",
   "nbconvert_exporter": "python",
   "pygments_lexer": "ipython3",
   "version": "3.7.0"
  }
 },
 "nbformat": 4,
 "nbformat_minor": 2
}

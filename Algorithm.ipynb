{
 "cells": [
  {
   "cell_type": "markdown",
   "metadata": {},
   "source": [
    "# Reading the Data"
   ]
  },
  {
   "cell_type": "code",
   "execution_count": 14,
   "metadata": {},
   "outputs": [],
   "source": [
    "from Bio import SeqIO\n",
    "import numpy as np\n",
    "import csv\n",
    "from shared import *\n",
    "from project_nader import *\n",
    "from time import time"
   ]
  },
  {
   "cell_type": "code",
   "execution_count": 2,
   "metadata": {},
   "outputs": [],
   "source": [
    "def read_reads():\n",
    "    \"\"\"\n",
    "    Reads all the RNA reads from reads.fa and returns a list of sequences as strings.\n",
    "\n",
    "    :return: a list of RNA sequence reads as strings\n",
    "    \"\"\"\n",
    "    max_id_len = 60\n",
    "    reads = np.zeros((1575, 2), dtype='S{:d}'.format(max_id_len))\n",
    "    i = 0\n",
    "    for seq_record in SeqIO.parse(\"reads.fa\", \"fasta\"):\n",
    "        reads[i, 0] = seq_record.id\n",
    "        reads[i, 1] = str(seq_record.seq)\n",
    "        i += 1\n",
    "    return reads"
   ]
  },
  {
   "cell_type": "code",
   "execution_count": 3,
   "metadata": {},
   "outputs": [],
   "source": [
    "def read_genome():\n",
    "    \"\"\"\n",
    "    Reads the genome sequence from genome.fa and return the genome sequence as a string.\n",
    "\n",
    "    :return: a string of the genome sequence\n",
    "    \"\"\"\n",
    "    genome = None\n",
    "    for seq_record in SeqIO.parse(\"genome.fa\", \"fasta\"):\n",
    "        genome = str(seq_record.seq)\n",
    "    return genome"
   ]
  },
  {
   "cell_type": "code",
   "execution_count": 4,
   "metadata": {},
   "outputs": [],
   "source": [
    "def read_known_genes():\n",
    "    \"\"\"\n",
    "    Reads the un/known genes, isoforms, and exons from genes.tab and constructs objects for each\n",
    "    and return the list of constructed genes.\n",
    "\n",
    "    :return: a list of known Gene objects\n",
    "    \"\"\"\n",
    "    genes, isoforms, exons = {}, {}, {}\n",
    "    with open(\"genes.tab\") as tsv:\n",
    "        for line in csv.reader(tsv, dialect=\"excel-tab\"):\n",
    "            name = line[0].split('_')[-1]\n",
    "            if name == 'gene':\n",
    "                genes[line[1]] = line[2].split(';')\n",
    "            elif name == 'isoform':\n",
    "                isoforms[line[1]] = line[2].split(';')\n",
    "            elif name == 'exon':\n",
    "                exons[line[1]] = Exon(line[1], int(line[2]), int(line[3]))\n",
    "    # Create the Isoform objects\n",
    "    for k in isoforms:\n",
    "        isoforms[k] = Isoform(k, [exons[key] for key in isoforms[k]])\n",
    "\n",
    "    # Create the Genes objects\n",
    "    for k in genes:\n",
    "        genes[k] = Gene(k, [isoforms[key] for key in genes[k]])\n",
    "    return genes"
   ]
  },
  {
   "cell_type": "markdown",
   "metadata": {},
   "source": [
    "# Alignment Algorithm Class"
   ]
  },
  {
   "cell_type": "code",
   "execution_count": 5,
   "metadata": {},
   "outputs": [],
   "source": [
    "MIN_INTRON_SIZE = 20\n",
    "MAX_INTRON_SIZE = 10000\n",
    "\n",
    "\n",
    "class Aligner:\n",
    "    def __init__(self, genome_sequence, known_genes):\n",
    "        \"\"\"\n",
    "        Initializes the aligner. Do all time intensive set up here. i.e. build suffix array.\n",
    "\n",
    "        genome_sequence: a string (NOT TERMINATED BY '$') representing the bases of the of the genome\n",
    "        known_genes: a python set of Gene objects (see shared.py) that represent known genes. You can get the isoforms\n",
    "                     and exons from a Gene object\n",
    "\n",
    "        Time limit: 500 seconds maximum on the provided data. Note that our server is probably faster than your machine,\n",
    "                    so don't stress if you are close. Server is 1.25 times faster than the i7 CPU on my computer\n",
    "        \"\"\"\n",
    "        self.sa = get_suffix_array(genome_sequence)\n",
    "        L = get_bwt(genome_sequence, self.sa)\n",
    "        self.occ, self.M = get_occ(L), get_M(get_F(L))\n",
    "        self.known_genes = known_genes\n",
    "\n",
    "    def align(self, read_sequence):\n",
    "        \"\"\"\n",
    "        Returns an alignment to the genome sequence. An alignment is a list of pieces.\n",
    "        Each piece consists of a start index in the read, a start index in the genome, and a length\n",
    "        indicating how many bases are aligned in this piece. Note that mismatches are count as \"aligned\".\n",
    "\n",
    "        Note that <read_start_2> >= <read_start_1> + <length_1>. If your algorithm produces an alignment that\n",
    "        violates this, we will remove pieces from your alignment arbitrarily until consecutive pieces\n",
    "        satisfy <read_start_2> >= <read_start_1> + <length_1>\n",
    "\n",
    "        Return value must be in the form (also see the project pdf):\n",
    "        [(<read_start_1>, <reference_start_1, length_1), (<read_start_2>, <reference_start_2, length_2), ...]\n",
    "\n",
    "        If no good matches are found: return the best match you can find or return []\n",
    "\n",
    "        Time limit: 0.5 seconds per read on average on the provided data.\n",
    "        \"\"\"\n",
    "        # for gene in self.known_genes:\n",
    "\n",
    "        pass"
   ]
  },
  {
   "cell_type": "markdown",
   "metadata": {},
   "source": [
    "# Testing"
   ]
  },
  {
   "cell_type": "code",
   "execution_count": 15,
   "metadata": {},
   "outputs": [],
   "source": [
    "# Main\n",
    "reads = read_reads()\n",
    "genome_sequence = read_genome()\n",
    "known_genes = read_known_genes()"
   ]
  },
  {
   "cell_type": "code",
   "execution_count": 16,
   "metadata": {},
   "outputs": [
    {
     "name": "stdout",
     "output_type": "stream",
     "text": [
      "length of the genome sequence: 10949000\n",
      "time to run Aligner.__init__: 356.30846524238586\n"
     ]
    }
   ],
   "source": [
    "print(\"length of the genome sequence: \" + str(len(genome_sequence) + 1))\n",
    "\"\"\"\n",
    "t = -time()\n",
    "aligner = Aligner(genome_sequence, known_genes)\n",
    "t += time()\n",
    "\"\"\"\n",
    "# Initialization\n",
    "sa = get_suffix_array(genome_sequence + '$')\n",
    "L = get_bwt(genome_sequence, sa)\n",
    "occ, M = get_occ(L), get_M(get_F(L))\n",
    "# self.known_genes = known_genes\n",
    "\n",
    "print(\"time to run Aligner.__init__: \" + str(t))"
   ]
  },
  {
   "cell_type": "code",
   "execution_count": 29,
   "metadata": {},
   "outputs": [
    {
     "name": "stdout",
     "output_type": "stream",
     "text": [
      "time to find the transcriptome: 0.0005118846893310547\n"
     ]
    }
   ],
   "source": [
    "t = -time()\n",
    "transcriptome = {key: [''.join([genome_sequence[ex.start: ex.end] for ex in iso.exons]) for iso in known_genes[key].isoforms]\n",
    "                 for key in known_genes}\n",
    "print(\"time to find the transcriptome: \" + str(t + time()))"
   ]
  },
  {
   "cell_type": "code",
   "execution_count": 46,
   "metadata": {},
   "outputs": [
    {
     "name": "stdout",
     "output_type": "stream",
     "text": [
      "ENSG00000233997 2\n",
      "ENSG00000155313 10\n",
      "ENSG00000154654 5\n",
      "ENSG00000185272 6\n",
      "ENSG00000228798 2\n",
      "ENSG00000232560 2\n",
      "ENSG00000224905 3\n",
      "ENSG00000243064 6\n",
      "ENSG00000215386 20\n",
      "ENSG00000244676 2\n",
      "ENSG00000224309 4\n",
      "ENSG00000154645 7\n",
      "ENSG00000280594 2\n",
      "ENSG00000154639 5\n",
      "ENSG00000166351 2\n"
     ]
    }
   ],
   "source": [
    "for key in transcriptome:\n",
    "    if len(transcriptome[key]) > 1:\n",
    "        print(key, len(transcriptome[key]))"
   ]
  },
  {
   "cell_type": "code",
   "execution_count": 47,
   "metadata": {},
   "outputs": [
    {
     "data": {
      "text/plain": [
       "10"
      ]
     },
     "execution_count": 47,
     "metadata": {},
     "output_type": "execute_result"
    }
   ],
   "source": [
    "len(known_genes['ENSG00000155313'].isoforms)"
   ]
  },
  {
   "cell_type": "code",
   "execution_count": null,
   "metadata": {},
   "outputs": [],
   "source": []
  }
 ],
 "metadata": {
  "kernelspec": {
   "display_name": "Python 3",
   "language": "python",
   "name": "python3"
  },
  "language_info": {
   "codemirror_mode": {
    "name": "ipython",
    "version": 3
   },
   "file_extension": ".py",
   "mimetype": "text/x-python",
   "name": "python",
   "nbconvert_exporter": "python",
   "pygments_lexer": "ipython3",
   "version": "3.7.1"
  }
 },
 "nbformat": 4,
 "nbformat_minor": 2
}
